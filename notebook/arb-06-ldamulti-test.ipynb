{
 "cells": [
  {
   "cell_type": "markdown",
   "metadata": {},
   "source": [
    "# load tmodel"
   ]
  },
  {
   "cell_type": "code",
   "execution_count": 1,
   "metadata": {},
   "outputs": [
    {
     "name": "stderr",
     "output_type": "stream",
     "text": [
      "/Users/abuonomo/code/DataSquad/astro2020/venv/lib/python3.7/site-packages/_pytest/mark/structures.py:380: DeprecationWarning: The usage of `cmp` is deprecated and will be removed on or after 2021-06-01.  Please use `eq` and `order` instead.\n",
      "  @attr.s(cmp=False, hash=False)\n",
      "unable to import 'smart_open.gcs', disabling that module\n",
      "/Users/abuonomo/code/DataSquad/astro2020/venv/lib/python3.7/site-packages/gensim/corpora/dictionary.py:11: DeprecationWarning: Using or importing the ABCs from 'collections' instead of from 'collections.abc' is deprecated since Python 3.3,and in 3.9 it will stop working\n",
      "  from collections import Mapping, defaultdict\n",
      "/Users/abuonomo/code/DataSquad/astro2020/venv/lib/python3.7/site-packages/scipy/sparse/sparsetools.py:21: DeprecationWarning: `scipy.sparse.sparsetools` is deprecated!\n",
      "scipy.sparse.sparsetools is a private module for scipy.sparse, and should not be used.\n",
      "  _deprecated()\n",
      "/Users/abuonomo/code/DataSquad/astro2020/venv/lib/python3.7/site-packages/gensim/models/doc2vec.py:73: DeprecationWarning: Using or importing the ABCs from 'collections' instead of from 'collections.abc' is deprecated since Python 3.3,and in 3.9 it will stop working\n",
      "  from collections import namedtuple, defaultdict, Iterable\n"
     ]
    }
   ],
   "source": [
    "import numpy as np\n",
    "import pyLDAvis\n",
    "from gensim.test.utils import common_corpus, common_dictionary\n",
    "from gensim.models import LdaMulticore, LdaModel\n",
    "from gensim.models.coherencemodel import CoherenceModel\n",
    "from gensim.corpora.mmcorpus import MmCorpus\n",
    "from gensim.corpora import Dictionary\n",
    "import pandas as pd\n",
    "from pathlib import Path\n",
    "import joblib\n",
    "import logging\n",
    "from tqdm.notebook import tqdm"
   ]
  },
  {
   "cell_type": "code",
   "execution_count": 5,
   "metadata": {},
   "outputs": [],
   "source": [
    "logging.basicConfig(level=logging.INFO)\n",
    "LOG = logging.getLogger(__name__)\n",
    "LOG.setLevel(logging.INFO)"
   ]
  },
  {
   "cell_type": "code",
   "execution_count": 3,
   "metadata": {},
   "outputs": [],
   "source": [
    "def __num_dist_rows__(array, ndigits=2):\n",
    "    return array.shape[0] - int((pd.DataFrame(array).sum(axis=1) < 0.99).sum())"
   ]
  },
  {
   "cell_type": "code",
   "execution_count": 4,
   "metadata": {},
   "outputs": [],
   "source": [
    "corpus = MmCorpus('../models/full_04_01_2020/gensim_corpus.mm')\n",
    "dct = Dictionary.load('../models/full_04_01_2020/gensim_dct.mm')\n",
    "lda = LdaModel.load('../models/full_04_01_2020/topic_models/gensim_topic_model250')\n",
    "\n",
    "tc = lda.get_document_topics(corpus, minimum_probability=0)\n",
    "tmp = [[v for t, v in r] for r in tqdm(tc)]\n",
    "tmp_a = np.vstack(tmp)\n",
    "\n",
    "term_freqs = np.array([dct.cfs[i] for i in range(lda.num_terms)])\n",
    "np_terms = np.array([lda.id2word[i] for i in range(lda.num_terms)])\n",
    "doc_lens = [len(i) for i in tqdm(corpus)]\n",
    "\n",
    "# term_freq = np.array(model.training_data_.sum(axis=0))[0]\n",
    "vocab = np.array([lda.id2word[i] for i in range(lda.num_terms)])\n",
    "data = {\n",
    "    \"topic_term_dists\": lda.get_topics(),\n",
    "    \"doc_topic_dists\": tmp_a,\n",
    "    \"vocab\": vocab,\n",
    "    \"term_frequency\": term_freqs,\n",
    "    \"doc_lengths\": doc_lens,\n",
    "}\n",
    "pyLDAvis._prepare.__num_dist_rows__ = __num_dist_rows__"
   ]
  },
  {
   "cell_type": "code",
   "execution_count": 6,
   "metadata": {},
   "outputs": [],
   "source": [
    "LOG.info(\"Preparing data for pyLDAvis\")\n",
    "viz_data = pyLDAvis.prepare(**data, sort_topics=False)"
   ]
  },
  {
   "cell_type": "code",
   "execution_count": 7,
   "metadata": {},
   "outputs": [
    {
     "name": "stderr",
     "output_type": "stream",
     "text": [
      "INFO:__main__:Writing visualization to vis250.html\n"
     ]
    }
   ],
   "source": [
    "viz_loc = 'vis250.html'\n",
    "LOG.info(f\"Writing visualization to {viz_loc}\")\n",
    "pyLDAvis.save_html(viz_data, str(viz_loc))"
   ]
  },
  {
   "cell_type": "code",
   "execution_count": 10,
   "metadata": {},
   "outputs": [],
   "source": [
    "import sys\n",
    "sys.path.append('../src/')"
   ]
  },
  {
   "cell_type": "code",
   "execution_count": 11,
   "metadata": {},
   "outputs": [],
   "source": [
    "from topic_modeling import get_bibcodes_with_embedding"
   ]
  },
  {
   "cell_type": "code",
   "execution_count": 8,
   "metadata": {},
   "outputs": [],
   "source": [
    "embedding = tmp_a"
   ]
  },
  {
   "cell_type": "code",
   "execution_count": 13,
   "metadata": {},
   "outputs": [],
   "source": [
    "infile = Path('../data/full_04_01_2020/kwds.jsonl')"
   ]
  },
  {
   "cell_type": "code",
   "execution_count": 15,
   "metadata": {},
   "outputs": [],
   "source": [
    "map_loc = Path('../models/full_04_01_2020/mat_doc_mapping.csv')"
   ]
  },
  {
   "cell_type": "code",
   "execution_count": 16,
   "metadata": {},
   "outputs": [
    {
     "name": "stderr",
     "output_type": "stream",
     "text": [
      "/Users/abuonomo/code/DataSquad/astro2020/venv/lib/python3.7/site-packages/numpy/lib/arraysetops.py:568: FutureWarning: elementwise comparison failed; returning scalar instead, but in the future will perform elementwise comparison\n",
      "  mask |= (ar1 == a)\n"
     ]
    }
   ],
   "source": [
    "mat_id_to_doc_id = pd.read_csv(map_loc, index_col=0)"
   ]
  },
  {
   "cell_type": "code",
   "execution_count": 17,
   "metadata": {},
   "outputs": [
    {
     "name": "stderr",
     "output_type": "stream",
     "text": [
      "INFO:topic_modeling:Getting document bibcodes from ../data/full_04_01_2020/kwds.jsonl.\n",
      "1161517it [00:29, 39569.34it/s]\n",
      "INFO:topic_modeling:Reorder by descending topic scores where given topic is max\n",
      "100%|██████████| 250/250 [01:36<00:00,  2.60it/s]\n"
     ]
    }
   ],
   "source": [
    "new_df = get_bibcodes_with_embedding(infile, embedding, mat_id_to_doc_id)"
   ]
  },
  {
   "cell_type": "code",
   "execution_count": 19,
   "metadata": {},
   "outputs": [],
   "source": [
    "out_distrib = Path('topic_distribs_to_bibcodes.csv')"
   ]
  },
  {
   "cell_type": "code",
   "execution_count": 20,
   "metadata": {},
   "outputs": [],
   "source": [
    "new_df.to_csv(out_distrib)"
   ]
  },
  {
   "cell_type": "code",
   "execution_count": 22,
   "metadata": {},
   "outputs": [
    {
     "data": {
      "text/plain": [
       "(1159580, 252)"
      ]
     },
     "execution_count": 22,
     "metadata": {},
     "output_type": "execute_result"
    }
   ],
   "source": [
    "new_df.shape"
   ]
  },
  {
   "cell_type": "code",
   "execution_count": 21,
   "metadata": {},
   "outputs": [
    {
     "data": {
      "text/plain": [
       "4"
      ]
     },
     "execution_count": 21,
     "metadata": {},
     "output_type": "execute_result"
    }
   ],
   "source": [
    "2 + 2"
   ]
  },
  {
   "cell_type": "code",
   "execution_count": 24,
   "metadata": {},
   "outputs": [
    {
     "name": "stdout",
     "output_type": "stream",
     "text": [
      "3.7G\ttopic_distribs_to_bibcodes.csv\n"
     ]
    }
   ],
   "source": [
    "!du -sh topic_distribs_to_bibcodes.csv"
   ]
  },
  {
   "cell_type": "code",
   "execution_count": null,
   "metadata": {},
   "outputs": [],
   "source": []
  }
 ],
 "metadata": {
  "kernelspec": {
   "display_name": "astro202",
   "language": "python",
   "name": "astro2020"
  },
  "language_info": {
   "codemirror_mode": {
    "name": "ipython",
    "version": 3
   },
   "file_extension": ".py",
   "mimetype": "text/x-python",
   "name": "python",
   "nbconvert_exporter": "python",
   "pygments_lexer": "ipython3",
   "version": "3.7.6"
  }
 },
 "nbformat": 4,
 "nbformat_minor": 4
}
