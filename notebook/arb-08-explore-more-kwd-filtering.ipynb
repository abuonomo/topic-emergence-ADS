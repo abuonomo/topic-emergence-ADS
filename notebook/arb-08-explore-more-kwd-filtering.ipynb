{
 "cells": [
  {
   "cell_type": "code",
   "execution_count": 2,
   "metadata": {},
   "outputs": [],
   "source": [
    "import pandas as pd\n",
    "from pathlib import Path"
   ]
  },
  {
   "cell_type": "code",
   "execution_count": 3,
   "metadata": {},
   "outputs": [],
   "source": [
    "in_kwds = '../data/full_04_01_2020/all_keywords_threshold_300_1.5_10000.jsonl'"
   ]
  },
  {
   "cell_type": "code",
   "execution_count": 5,
   "metadata": {},
   "outputs": [],
   "source": [
    "df = pd.read_json(in_kwds, orient='records', lines=True)"
   ]
  },
  {
   "cell_type": "code",
   "execution_count": 8,
   "metadata": {
    "collapsed": true,
    "jupyter": {
     "outputs_hidden": true
    }
   },
   "outputs": [
    {
     "data": {
      "text/html": [
       "<div>\n",
       "<style scoped>\n",
       "    .dataframe tbody tr th:only-of-type {\n",
       "        vertical-align: middle;\n",
       "    }\n",
       "\n",
       "    .dataframe tbody tr th {\n",
       "        vertical-align: top;\n",
       "    }\n",
       "\n",
       "    .dataframe thead th {\n",
       "        text-align: right;\n",
       "    }\n",
       "</style>\n",
       "<table border=\"1\" class=\"dataframe\">\n",
       "  <thead>\n",
       "    <tr style=\"text-align: right;\">\n",
       "      <th></th>\n",
       "      <th>stem</th>\n",
       "      <th>rake_score_mean</th>\n",
       "      <th>doc_id_count</th>\n",
       "      <th>doc_id_list</th>\n",
       "      <th>keyword_list</th>\n",
       "      <th>nasa_afil</th>\n",
       "      <th>1986_sum</th>\n",
       "      <th>1987_sum</th>\n",
       "      <th>1988_sum</th>\n",
       "      <th>1989_sum</th>\n",
       "      <th>...</th>\n",
       "      <th>2001_sum</th>\n",
       "      <th>2002_sum</th>\n",
       "      <th>2003_sum</th>\n",
       "      <th>2004_sum</th>\n",
       "      <th>2005_sum</th>\n",
       "      <th>2006_sum</th>\n",
       "      <th>2007_sum</th>\n",
       "      <th>2008_sum</th>\n",
       "      <th>2009_sum</th>\n",
       "      <th>2010_sum</th>\n",
       "    </tr>\n",
       "  </thead>\n",
       "  <tbody>\n",
       "    <tr>\n",
       "      <th>5039</th>\n",
       "      <td>ion</td>\n",
       "      <td>1.505022</td>\n",
       "      <td>1603531</td>\n",
       "      <td>[0, 0, 1, 1, 2, 2, 3, 3, 4, 4, 5, 5, 6, 7, 7, ...</td>\n",
       "      <td>[ions, ion]</td>\n",
       "      <td>0.012737</td>\n",
       "      <td>37004</td>\n",
       "      <td>37594</td>\n",
       "      <td>38457</td>\n",
       "      <td>38201</td>\n",
       "      <td>...</td>\n",
       "      <td>72388</td>\n",
       "      <td>77155</td>\n",
       "      <td>82139</td>\n",
       "      <td>90058</td>\n",
       "      <td>86372</td>\n",
       "      <td>97494</td>\n",
       "      <td>88061</td>\n",
       "      <td>100586</td>\n",
       "      <td>93162</td>\n",
       "      <td>105202</td>\n",
       "    </tr>\n",
       "    <tr>\n",
       "      <th>5010</th>\n",
       "      <td>lat</td>\n",
       "      <td>1.523537</td>\n",
       "      <td>494335</td>\n",
       "      <td>[0, 2, 3, 4, 5, 6, 7, 8, 9, 10, 11, 12, 13, 14...</td>\n",
       "      <td>[lat]</td>\n",
       "      <td>0.016145</td>\n",
       "      <td>9941</td>\n",
       "      <td>9844</td>\n",
       "      <td>10211</td>\n",
       "      <td>10214</td>\n",
       "      <td>...</td>\n",
       "      <td>23337</td>\n",
       "      <td>25658</td>\n",
       "      <td>25943</td>\n",
       "      <td>28817</td>\n",
       "      <td>26983</td>\n",
       "      <td>31564</td>\n",
       "      <td>27865</td>\n",
       "      <td>32394</td>\n",
       "      <td>29309</td>\n",
       "      <td>34210</td>\n",
       "    </tr>\n",
       "    <tr>\n",
       "      <th>4377</th>\n",
       "      <td>available &lt;p /&gt;</td>\n",
       "      <td>4.003793</td>\n",
       "      <td>345835</td>\n",
       "      <td>[101, 127, 195, 234, 251, 340, 426, 441, 483, ...</td>\n",
       "      <td>[available &lt;p /&gt;]</td>\n",
       "      <td>0.000090</td>\n",
       "      <td>12876</td>\n",
       "      <td>14302</td>\n",
       "      <td>14541</td>\n",
       "      <td>15830</td>\n",
       "      <td>...</td>\n",
       "      <td>13125</td>\n",
       "      <td>10714</td>\n",
       "      <td>12288</td>\n",
       "      <td>10557</td>\n",
       "      <td>15297</td>\n",
       "      <td>13484</td>\n",
       "      <td>12302</td>\n",
       "      <td>14065</td>\n",
       "      <td>15296</td>\n",
       "      <td>12437</td>\n",
       "    </tr>\n",
       "    <tr>\n",
       "      <th>4859</th>\n",
       "      <td>star</td>\n",
       "      <td>1.658931</td>\n",
       "      <td>307170</td>\n",
       "      <td>[1, 1, 3, 4, 5, 5, 6, 6, 7, 7, 8, 8, 11, 11, 1...</td>\n",
       "      <td>[starred, star e, stars, star s, star, star fu...</td>\n",
       "      <td>0.015887</td>\n",
       "      <td>6895</td>\n",
       "      <td>7116</td>\n",
       "      <td>6796</td>\n",
       "      <td>6220</td>\n",
       "      <td>...</td>\n",
       "      <td>13862</td>\n",
       "      <td>13637</td>\n",
       "      <td>16546</td>\n",
       "      <td>16875</td>\n",
       "      <td>16850</td>\n",
       "      <td>18306</td>\n",
       "      <td>18074</td>\n",
       "      <td>18002</td>\n",
       "      <td>17401</td>\n",
       "      <td>20108</td>\n",
       "    </tr>\n",
       "    <tr>\n",
       "      <th>4972</th>\n",
       "      <td>mode</td>\n",
       "      <td>1.547764</td>\n",
       "      <td>306794</td>\n",
       "      <td>[0, 3, 8, 11, 12, 12, 13, 14, 16, 18, 19, 19, ...</td>\n",
       "      <td>[modeli, moded, mode, moding, mode e, modes]</td>\n",
       "      <td>0.019463</td>\n",
       "      <td>5485</td>\n",
       "      <td>5520</td>\n",
       "      <td>5690</td>\n",
       "      <td>5716</td>\n",
       "      <td>...</td>\n",
       "      <td>14782</td>\n",
       "      <td>15772</td>\n",
       "      <td>16447</td>\n",
       "      <td>18461</td>\n",
       "      <td>17136</td>\n",
       "      <td>19949</td>\n",
       "      <td>17789</td>\n",
       "      <td>20608</td>\n",
       "      <td>18917</td>\n",
       "      <td>22166</td>\n",
       "    </tr>\n",
       "    <tr>\n",
       "      <th>...</th>\n",
       "      <td>...</td>\n",
       "      <td>...</td>\n",
       "      <td>...</td>\n",
       "      <td>...</td>\n",
       "      <td>...</td>\n",
       "      <td>...</td>\n",
       "      <td>...</td>\n",
       "      <td>...</td>\n",
       "      <td>...</td>\n",
       "      <td>...</td>\n",
       "      <td>...</td>\n",
       "      <td>...</td>\n",
       "      <td>...</td>\n",
       "      <td>...</td>\n",
       "      <td>...</td>\n",
       "      <td>...</td>\n",
       "      <td>...</td>\n",
       "      <td>...</td>\n",
       "      <td>...</td>\n",
       "      <td>...</td>\n",
       "      <td>...</td>\n",
       "    </tr>\n",
       "    <tr>\n",
       "      <th>2794</th>\n",
       "      <td>geometric albedo</td>\n",
       "      <td>4.236874</td>\n",
       "      <td>301</td>\n",
       "      <td>[4294, 8724, 9602, 9711, 19469, 22681, 23945, ...</td>\n",
       "      <td>[geometric albedoes, geometric albedos, geomet...</td>\n",
       "      <td>0.009967</td>\n",
       "      <td>8</td>\n",
       "      <td>10</td>\n",
       "      <td>5</td>\n",
       "      <td>8</td>\n",
       "      <td>...</td>\n",
       "      <td>9</td>\n",
       "      <td>13</td>\n",
       "      <td>21</td>\n",
       "      <td>20</td>\n",
       "      <td>14</td>\n",
       "      <td>17</td>\n",
       "      <td>16</td>\n",
       "      <td>19</td>\n",
       "      <td>17</td>\n",
       "      <td>15</td>\n",
       "    </tr>\n",
       "    <tr>\n",
       "      <th>1121</th>\n",
       "      <td>cygnus loop</td>\n",
       "      <td>4.622487</td>\n",
       "      <td>301</td>\n",
       "      <td>[1983, 4839, 9308, 10223, 18943, 23731, 25408,...</td>\n",
       "      <td>[cygnus loop]</td>\n",
       "      <td>0.023256</td>\n",
       "      <td>12</td>\n",
       "      <td>5</td>\n",
       "      <td>12</td>\n",
       "      <td>5</td>\n",
       "      <td>...</td>\n",
       "      <td>15</td>\n",
       "      <td>13</td>\n",
       "      <td>14</td>\n",
       "      <td>13</td>\n",
       "      <td>12</td>\n",
       "      <td>13</td>\n",
       "      <td>6</td>\n",
       "      <td>12</td>\n",
       "      <td>12</td>\n",
       "      <td>15</td>\n",
       "    </tr>\n",
       "    <tr>\n",
       "      <th>944</th>\n",
       "      <td>imaging system</td>\n",
       "      <td>4.734689</td>\n",
       "      <td>301</td>\n",
       "      <td>[4999, 7365, 16436, 21217, 21757, 24432, 24638...</td>\n",
       "      <td>[imaging system, imaging systems]</td>\n",
       "      <td>0.000000</td>\n",
       "      <td>2</td>\n",
       "      <td>4</td>\n",
       "      <td>4</td>\n",
       "      <td>6</td>\n",
       "      <td>...</td>\n",
       "      <td>11</td>\n",
       "      <td>12</td>\n",
       "      <td>11</td>\n",
       "      <td>21</td>\n",
       "      <td>21</td>\n",
       "      <td>23</td>\n",
       "      <td>16</td>\n",
       "      <td>20</td>\n",
       "      <td>20</td>\n",
       "      <td>15</td>\n",
       "    </tr>\n",
       "    <tr>\n",
       "      <th>3275</th>\n",
       "      <td>localized region</td>\n",
       "      <td>4.161024</td>\n",
       "      <td>301</td>\n",
       "      <td>[2831, 2895, 3806, 4076, 15865, 18736, 19160, ...</td>\n",
       "      <td>[localized regions, localized region]</td>\n",
       "      <td>0.033223</td>\n",
       "      <td>10</td>\n",
       "      <td>9</td>\n",
       "      <td>8</td>\n",
       "      <td>3</td>\n",
       "      <td>...</td>\n",
       "      <td>18</td>\n",
       "      <td>21</td>\n",
       "      <td>21</td>\n",
       "      <td>15</td>\n",
       "      <td>11</td>\n",
       "      <td>16</td>\n",
       "      <td>11</td>\n",
       "      <td>15</td>\n",
       "      <td>13</td>\n",
       "      <td>19</td>\n",
       "    </tr>\n",
       "    <tr>\n",
       "      <th>3798</th>\n",
       "      <td>subsolar point</td>\n",
       "      <td>4.080483</td>\n",
       "      <td>301</td>\n",
       "      <td>[5317, 5480, 8006, 8253, 11059, 13768, 16532, ...</td>\n",
       "      <td>[subsolar point, subsolar points]</td>\n",
       "      <td>0.029900</td>\n",
       "      <td>10</td>\n",
       "      <td>3</td>\n",
       "      <td>10</td>\n",
       "      <td>4</td>\n",
       "      <td>...</td>\n",
       "      <td>12</td>\n",
       "      <td>18</td>\n",
       "      <td>14</td>\n",
       "      <td>21</td>\n",
       "      <td>14</td>\n",
       "      <td>12</td>\n",
       "      <td>13</td>\n",
       "      <td>26</td>\n",
       "      <td>22</td>\n",
       "      <td>18</td>\n",
       "    </tr>\n",
       "  </tbody>\n",
       "</table>\n",
       "<p>5052 rows × 31 columns</p>\n",
       "</div>"
      ],
      "text/plain": [
       "                  stem  rake_score_mean  doc_id_count  \\\n",
       "5039               ion         1.505022       1603531   \n",
       "5010               lat         1.523537        494335   \n",
       "4377   available <p />         4.003793        345835   \n",
       "4859              star         1.658931        307170   \n",
       "4972              mode         1.547764        306794   \n",
       "...                ...              ...           ...   \n",
       "2794  geometric albedo         4.236874           301   \n",
       "1121       cygnus loop         4.622487           301   \n",
       "944     imaging system         4.734689           301   \n",
       "3275  localized region         4.161024           301   \n",
       "3798    subsolar point         4.080483           301   \n",
       "\n",
       "                                            doc_id_list  \\\n",
       "5039  [0, 0, 1, 1, 2, 2, 3, 3, 4, 4, 5, 5, 6, 7, 7, ...   \n",
       "5010  [0, 2, 3, 4, 5, 6, 7, 8, 9, 10, 11, 12, 13, 14...   \n",
       "4377  [101, 127, 195, 234, 251, 340, 426, 441, 483, ...   \n",
       "4859  [1, 1, 3, 4, 5, 5, 6, 6, 7, 7, 8, 8, 11, 11, 1...   \n",
       "4972  [0, 3, 8, 11, 12, 12, 13, 14, 16, 18, 19, 19, ...   \n",
       "...                                                 ...   \n",
       "2794  [4294, 8724, 9602, 9711, 19469, 22681, 23945, ...   \n",
       "1121  [1983, 4839, 9308, 10223, 18943, 23731, 25408,...   \n",
       "944   [4999, 7365, 16436, 21217, 21757, 24432, 24638...   \n",
       "3275  [2831, 2895, 3806, 4076, 15865, 18736, 19160, ...   \n",
       "3798  [5317, 5480, 8006, 8253, 11059, 13768, 16532, ...   \n",
       "\n",
       "                                           keyword_list  nasa_afil  1986_sum  \\\n",
       "5039                                        [ions, ion]   0.012737     37004   \n",
       "5010                                              [lat]   0.016145      9941   \n",
       "4377                                  [available <p />]   0.000090     12876   \n",
       "4859  [starred, star e, stars, star s, star, star fu...   0.015887      6895   \n",
       "4972       [modeli, moded, mode, moding, mode e, modes]   0.019463      5485   \n",
       "...                                                 ...        ...       ...   \n",
       "2794  [geometric albedoes, geometric albedos, geomet...   0.009967         8   \n",
       "1121                                      [cygnus loop]   0.023256        12   \n",
       "944                   [imaging system, imaging systems]   0.000000         2   \n",
       "3275              [localized regions, localized region]   0.033223        10   \n",
       "3798                  [subsolar point, subsolar points]   0.029900        10   \n",
       "\n",
       "      1987_sum  1988_sum  1989_sum  ...  2001_sum  2002_sum  2003_sum  \\\n",
       "5039     37594     38457     38201  ...     72388     77155     82139   \n",
       "5010      9844     10211     10214  ...     23337     25658     25943   \n",
       "4377     14302     14541     15830  ...     13125     10714     12288   \n",
       "4859      7116      6796      6220  ...     13862     13637     16546   \n",
       "4972      5520      5690      5716  ...     14782     15772     16447   \n",
       "...        ...       ...       ...  ...       ...       ...       ...   \n",
       "2794        10         5         8  ...         9        13        21   \n",
       "1121         5        12         5  ...        15        13        14   \n",
       "944          4         4         6  ...        11        12        11   \n",
       "3275         9         8         3  ...        18        21        21   \n",
       "3798         3        10         4  ...        12        18        14   \n",
       "\n",
       "      2004_sum  2005_sum  2006_sum  2007_sum  2008_sum  2009_sum  2010_sum  \n",
       "5039     90058     86372     97494     88061    100586     93162    105202  \n",
       "5010     28817     26983     31564     27865     32394     29309     34210  \n",
       "4377     10557     15297     13484     12302     14065     15296     12437  \n",
       "4859     16875     16850     18306     18074     18002     17401     20108  \n",
       "4972     18461     17136     19949     17789     20608     18917     22166  \n",
       "...        ...       ...       ...       ...       ...       ...       ...  \n",
       "2794        20        14        17        16        19        17        15  \n",
       "1121        13        12        13         6        12        12        15  \n",
       "944         21        21        23        16        20        20        15  \n",
       "3275        15        11        16        11        15        13        19  \n",
       "3798        21        14        12        13        26        22        18  \n",
       "\n",
       "[5052 rows x 31 columns]"
      ]
     },
     "execution_count": 8,
     "metadata": {},
     "output_type": "execute_result"
    }
   ],
   "source": [
    "df.sort_values(by='doc_id_count', ascending=False)"
   ]
  },
  {
   "cell_type": "markdown",
   "metadata": {},
   "source": [
    "# Available"
   ]
  },
  {
   "cell_type": "code",
   "execution_count": 15,
   "metadata": {},
   "outputs": [],
   "source": [
    "s = \"available <p />\""
   ]
  },
  {
   "cell_type": "code",
   "execution_count": 28,
   "metadata": {},
   "outputs": [],
   "source": [
    "avail_docs = df.query(f'stem == \"{s}\"').doc_id_list.iloc[0]"
   ]
  },
  {
   "cell_type": "code",
   "execution_count": 54,
   "metadata": {},
   "outputs": [
    {
     "data": {
      "text/plain": [
       "[101, 127, 195, 234, 251, 340, 426, 441, 483, 500]"
      ]
     },
     "execution_count": 54,
     "metadata": {},
     "output_type": "execute_result"
    }
   ],
   "source": [
    "avail_docs[0:10]"
   ]
  },
  {
   "cell_type": "code",
   "execution_count": 152,
   "metadata": {},
   "outputs": [],
   "source": [
    "av = np.array(avail_docs)"
   ]
  },
  {
   "cell_type": "code",
   "execution_count": 136,
   "metadata": {},
   "outputs": [
    {
     "data": {
      "text/plain": [
       "345835"
      ]
     },
     "execution_count": 136,
     "metadata": {},
     "output_type": "execute_result"
    }
   ],
   "source": [
    "len(avail_docs)"
   ]
  },
  {
   "cell_type": "code",
   "execution_count": 52,
   "metadata": {},
   "outputs": [],
   "source": [
    "# Increment by 1 when working with sed since file is 1 index and dataframe index starts with 0"
   ]
  },
  {
   "cell_type": "code",
   "execution_count": 55,
   "metadata": {},
   "outputs": [
    {
     "name": "stdout",
     "output_type": "stream",
     "text": [
      "\u001b[1;39m[\n",
      "  \u001b[0;32m\"Not Available <P />\"\u001b[0m\u001b[1;39m\n",
      "\u001b[1;39m]\u001b[0m\n"
     ]
    }
   ],
   "source": [
    "! sed -n 102p ../data/full_04_01_2020/kwds.jsonl | jq [\".abstract\"]"
   ]
  },
  {
   "cell_type": "code",
   "execution_count": 56,
   "metadata": {},
   "outputs": [
    {
     "name": "stdout",
     "output_type": "stream",
     "text": [
      "\u001b[1;39m[\n",
      "  \u001b[0;32m\"Not Available <P />\"\u001b[0m\u001b[1;39m\n",
      "\u001b[1;39m]\u001b[0m\n"
     ]
    }
   ],
   "source": [
    "! sed -n 128p ../data/full_04_01_2020/kwds.jsonl | jq [\".abstract\"]"
   ]
  },
  {
   "cell_type": "code",
   "execution_count": 53,
   "metadata": {},
   "outputs": [],
   "source": [
    "# \"available <p />\" token indicates that the abstract is not available. These shoudl be excluded from the datasets at the onset."
   ]
  },
  {
   "cell_type": "markdown",
   "metadata": {},
   "source": [
    "# <> tags and other HTML"
   ]
  },
  {
   "cell_type": "code",
   "execution_count": 91,
   "metadata": {
    "collapsed": true,
    "jupyter": {
     "outputs_hidden": true
    }
   },
   "outputs": [
    {
     "data": {
      "text/plain": [
       "['c<sub>2</sub>h<sub>2</sub>',\n",
       " 'h <sub>2</sub>o',\n",
       " 'b<sub>z</sub>',\n",
       " 'h<sub>2</sub>co',\n",
       " 'ch<sub>3</sub>oh',\n",
       " 'h<sub>2</sub>o',\n",
       " 'c<sup>18</sup>o',\n",
       " 'ω<sub>m</sub>',\n",
       " 't<sub>eff</sub>',\n",
       " 'km s<sup>-1</sup>',\n",
       " '5 km s<sup>-1</sup>',\n",
       " 'h <sub>2</sub>',\n",
       " 'h<sub>2</sub>',\n",
       " 'ch <sub>4</sub>',\n",
       " 'co <sub>2</sub>',\n",
       " 'ch<sub>4</sub>',\n",
       " '<sup>13</sup>c',\n",
       " 'o<sub>2</sub>',\n",
       " 'n<sub>2</sub>',\n",
       " 'nh<sub>3</sub>',\n",
       " '<sup>13</sup>co',\n",
       " 'co<sub>2</sub>',\n",
       " 'hco<sup>+</sup>',\n",
       " 'o<sup>+</sup>',\n",
       " 'h<sub>0</sub>',\n",
       " 'o<sub>3</sub>',\n",
       " '<sup>12</sup>co',\n",
       " 'h<sup>+</sup>',\n",
       " '<sup>26</sup>',\n",
       " 'c<sub>2</sub>',\n",
       " '<sup>12</sup>c',\n",
       " '<sup>16</sup>o',\n",
       " '<sup>7</sup>li',\n",
       " '<p /><p /><p />',\n",
       " '<p />e-mail',\n",
       " '<sup>1</sup>',\n",
       " '<sub>4</sub>',\n",
       " '<sup>-1</sup>',\n",
       " '<sub>2</sub>',\n",
       " '<sup>2</sup>',\n",
       " 'm<sub>',\n",
       " '<sup>+</sup>',\n",
       " '<sub>0</sub>',\n",
       " '10<sup>4</sup>',\n",
       " '<sup>4</sup>',\n",
       " '10<sup>-4</sup>',\n",
       " '<sup>10</sup>',\n",
       " '<sup>3</sup>',\n",
       " '<sup>7</sup>',\n",
       " '<p /><p />',\n",
       " '<p />base',\n",
       " '<br />method',\n",
       " '<br />conclus',\n",
       " 'available <p />',\n",
       " '<br /> conclus',\n",
       " '<br />aim',\n",
       " '>abstract available</',\n",
       " '<br /> aim',\n",
       " '<br />result',\n",
       " '<br /> method',\n",
       " '<br /> result',\n",
       " '</sub>',\n",
       " '<p />support',\n",
       " '<p />final',\n",
       " '3</sup>',\n",
       " '5</sup>',\n",
       " '</sup>',\n",
       " '2</sup>',\n",
       " '<br />']"
      ]
     },
     "execution_count": 91,
     "metadata": {},
     "output_type": "execute_result"
    }
   ],
   "source": [
    "df[df['stem'].str.contains('<')].stem.tolist() #.apply(strip_tags).tolist()"
   ]
  },
  {
   "cell_type": "code",
   "execution_count": 65,
   "metadata": {},
   "outputs": [],
   "source": [
    "s = \"<br />\"\n",
    "s_docs = df.query(f'stem == \"{s}\"').doc_id_list.iloc[0]"
   ]
  },
  {
   "cell_type": "code",
   "execution_count": 66,
   "metadata": {},
   "outputs": [
    {
     "data": {
      "text/plain": [
       "[43047, 50550, 53768, 69217, 70791, 71549, 148676, 179001, 367318, 476680]"
      ]
     },
     "execution_count": 66,
     "metadata": {},
     "output_type": "execute_result"
    }
   ],
   "source": [
    "s_docs[0:10]"
   ]
  },
  {
   "cell_type": "code",
   "execution_count": 67,
   "metadata": {},
   "outputs": [
    {
     "name": "stdout",
     "output_type": "stream",
     "text": [
      "\u001b[1;39m[\n",
      "  \u001b[0;32m\"The Ulysses observations have charted the heliosphere around the minimum in the 11 year cycle of solar activity, revealing the large scale properties of the heliospheric medium and its micro-scale characteristics. This book presents for the first time, a comprehensive review of the results of the Ulysses mission.<BR />The first chapter provides an overview of the region, introducing the heliosphere prior to the Ulysses mission, and the objectives and characteristics of the mission itself. Subsequent chapters discuss in detail specific areas of the heliosphere, including the solar wind, large and small scale features, cosmic rays and energetic particles, and the observations of interstellar gas and cosmic dust. Each of these chapters is written by members of the Ulysses science team, concentrating on their own areas of expertise, and is written in a clear and accessible way.<BR />In this book, the authors aim to summarise our understanding of the heliosphere near solar minimum and to provide the basis for understanding the more complex state of the heliosphere around solar maximum, which will be observed during the next phase of the Ulysses mission. <P />\"\u001b[0m\u001b[1;39m\n",
      "\u001b[1;39m]\u001b[0m\n"
     ]
    }
   ],
   "source": [
    "! sed -n 50551p ../data/full_04_01_2020/kwds.jsonl | jq [\".abstract\"]"
   ]
  },
  {
   "cell_type": "code",
   "execution_count": 68,
   "metadata": {},
   "outputs": [],
   "source": [
    "from html.parser import HTMLParser"
   ]
  },
  {
   "cell_type": "code",
   "execution_count": 70,
   "metadata": {},
   "outputs": [],
   "source": [
    "class MLStripper(HTMLParser):\n",
    "    def __init__(self):\n",
    "        super().__init__()\n",
    "        self.reset()\n",
    "        self.fed = []\n",
    "        \n",
    "    def handle_data(self, d):\n",
    "        self.fed.append(d)\n",
    "        \n",
    "    def get_data(self):\n",
    "        return ''.join(self.fed)\n",
    "\n",
    "def strip_tags(html):\n",
    "    s = MLStripper()\n",
    "    s.feed(html)\n",
    "    return s.get_data()"
   ]
  },
  {
   "cell_type": "code",
   "execution_count": 73,
   "metadata": {},
   "outputs": [],
   "source": [
    "txt = \"The Ulysses observations have charted the heliosphere around the minimum in the 11 year cycle of solar activity, revealing the large scale properties of the heliospheric medium and its micro-scale characteristics. This book presents for the first time, a comprehensive review of the results of the Ulysses mission.<BR />The first chapter provides an overview of the region, introducing the heliosphere prior to the Ulysses mission, and the objectives and characteristics of the mission itself. Subsequent chapters discuss in detail specific areas of the heliosphere, including the solar wind, large and small scale features, cosmic rays and energetic particles, and the observations of interstellar gas and cosmic dust. Each of these chapters is written by members of the Ulysses science team, concentrating on their own areas of expertise, and is written in a clear and accessible way.<BR />In this book, the authors aim to summarise our understanding of the heliosphere near solar minimum and to provide the basis for understanding the more complex state of the heliosphere around solar maximum, which will be observed during the next phase of the Ulysses mission. <P />\""
   ]
  },
  {
   "cell_type": "code",
   "execution_count": 75,
   "metadata": {},
   "outputs": [
    {
     "name": "stdout",
     "output_type": "stream",
     "text": [
      "22.9 µs ± 131 ns per loop (mean ± std. dev. of 7 runs, 10000 loops each)\n"
     ]
    }
   ],
   "source": [
    "%%timeit\n",
    "strip_tags(txt)"
   ]
  },
  {
   "cell_type": "code",
   "execution_count": 78,
   "metadata": {},
   "outputs": [
    {
     "data": {
      "text/plain": [
       "0.1310229"
      ]
     },
     "execution_count": 78,
     "metadata": {},
     "output_type": "execute_result"
    }
   ],
   "source": [
    "22.9e-6  + (131e-9 * 1e6)"
   ]
  },
  {
   "cell_type": "code",
   "execution_count": 79,
   "metadata": {},
   "outputs": [],
   "source": [
    "# Could use this method is very quickly remove all html tags"
   ]
  },
  {
   "cell_type": "markdown",
   "metadata": {},
   "source": [
    "# Short Abstracts"
   ]
  },
  {
   "cell_type": "code",
   "execution_count": 122,
   "metadata": {},
   "outputs": [],
   "source": [
    "from tqdm.notebook import tqdm\n",
    "import numpy as np"
   ]
  },
  {
   "cell_type": "code",
   "execution_count": 94,
   "metadata": {},
   "outputs": [],
   "source": [
    "in_corp = Path('../data/full_04_01_2020/kwds.jsonl')"
   ]
  },
  {
   "cell_type": "code",
   "execution_count": 98,
   "metadata": {
    "collapsed": true,
    "jupyter": {
     "outputs_hidden": true
    }
   },
   "outputs": [
    {
     "name": "stdout",
     "output_type": "stream",
     "text": [
      "\u001b[1;39m{\n",
      "  \u001b[0m\u001b[34;1m\"arxiv_class\"\u001b[0m\u001b[1;39m: \u001b[0m\u001b[1;39m[\n",
      "    \u001b[0;32m\"astro-ph\"\u001b[0m\u001b[1;39m\n",
      "  \u001b[1;39m]\u001b[0m\u001b[1;39m,\n",
      "  \u001b[0m\u001b[34;1m\"alternate_bibcode\"\u001b[0m\u001b[1;39m: \u001b[0m\u001b[1;39m[\n",
      "    \u001b[0;32m\"1996astro.ph.11107N\"\u001b[0m\u001b[1;39m\n",
      "  \u001b[1;39m]\u001b[0m\u001b[1;39m,\n",
      "  \u001b[0m\u001b[34;1m\"bibcode\"\u001b[0m\u001b[1;39m: \u001b[0m\u001b[0;32m\"1997ApJ...490..493N\"\u001b[0m\u001b[1;39m,\n",
      "  \u001b[0m\u001b[34;1m\"keyword\"\u001b[0m\u001b[1;39m: \u001b[0m\u001b[1;39m[\n",
      "    \u001b[0;32m\"Cosmology: Theory\"\u001b[0m\u001b[1;39m,\n",
      "    \u001b[0;32m\"Cosmology: Dark Matter\"\u001b[0m\u001b[1;39m,\n",
      "    \u001b[0;32m\"Galaxies: Halos\"\u001b[0m\u001b[1;39m,\n",
      "    \u001b[0;32m\"Methods: Numerical\"\u001b[0m\u001b[1;39m,\n",
      "    \u001b[0;32m\"Astrophysics\"\u001b[0m\u001b[1;39m\n",
      "  \u001b[1;39m]\u001b[0m\u001b[1;39m,\n",
      "  \u001b[0m\u001b[34;1m\"database\"\u001b[0m\u001b[1;39m: \u001b[0m\u001b[1;39m[\n",
      "    \u001b[0;32m\"astronomy\"\u001b[0m\u001b[1;39m\n",
      "  \u001b[1;39m]\u001b[0m\u001b[1;39m,\n",
      "  \u001b[0m\u001b[34;1m\"ack\"\u001b[0m\u001b[1;39m: \u001b[0m\u001b[0;32m\"We are grateful for the hospitality of the Institute for Theoretical Physics of the University of California at Santa Barbara, where some of the work presented here was carried out. J. F. N. is also grateful for the hospitality of the Max‐Planck‐Institut für Astrophysik in Garching, Germany, where this project was started. In addition, he would like to acknowledge useful discussions with Cedric Lacey. Special thanks are due to Shaun Cole for making the data shown in Figure 9 available in electronic form. This work was supported in part by the PPARC and by the NSF under grant PHY94‐07194 to the Institute for Theoretical Physics of the University of California at Santa Barbara.\"\u001b[0m\u001b[1;39m,\n",
      "  \u001b[0m\u001b[34;1m\"aff\"\u001b[0m\u001b[1;39m: \u001b[0m\u001b[1;39m[\n",
      "    \u001b[0;32m\"Steward Observatory, 933 North Cherry Avenue, University of Arizona, Tucson, AZ 85721-0065\"\u001b[0m\u001b[1;39m,\n",
      "    \u001b[0;32m\"Department of Physics, University of Durham, South Road, Durham DH1 3LE, England;\"\u001b[0m\u001b[1;39m,\n",
      "    \u001b[0;32m\"Max-Planck-Institut für Astrophysik, Karl-Schwarzschild-Strasse 1, 85740, Garching bei München, Germany;\"\u001b[0m\u001b[1;39m\n",
      "  \u001b[1;39m]\u001b[0m\u001b[1;39m,\n",
      "  \u001b[0m\u001b[34;1m\"bibstem\"\u001b[0m\u001b[1;39m: \u001b[0m\u001b[1;39m[\n",
      "    \u001b[0;32m\"ApJ\"\u001b[0m\u001b[1;39m,\n",
      "    \u001b[0;32m\"ApJ...490\"\u001b[0m\u001b[1;39m\n",
      "  \u001b[1;39m]\u001b[0m\u001b[1;39m,\n",
      "  \u001b[0m\u001b[34;1m\"aff_id\"\u001b[0m\u001b[1;39m: \u001b[0m\u001b[1;39m[\n",
      "    \u001b[0;32m\"A01347\"\u001b[0m\u001b[1;39m,\n",
      "    \u001b[0;32m\"A00500\"\u001b[0m\u001b[1;39m,\n",
      "    \u001b[0;32m\"A01561\"\u001b[0m\u001b[1;39m\n",
      "  \u001b[1;39m]\u001b[0m\u001b[1;39m,\n",
      "  \u001b[0m\u001b[34;1m\"citation_count\"\u001b[0m\u001b[1;39m: \u001b[0m\u001b[0;39m6885\u001b[0m\u001b[1;39m,\n",
      "  \u001b[0m\u001b[34;1m\"title\"\u001b[0m\u001b[1;39m: \u001b[0m\u001b[0;32m\"A Universal Density Profile from Hierarchical Clustering\"\u001b[0m\u001b[1;39m,\n",
      "  \u001b[0m\u001b[34;1m\"abstract\"\u001b[0m\u001b[1;39m: \u001b[0m\u001b[0;32m\"We use high-resolution N-body simulations to study the equilibrium density profiles of dark matter halos in hierarchically clustering universes. We find that all such profiles have the same shape, independent of the halo mass, the initial density fluctuation spectrum, and the values of the cosmological parameters. Spherically averaged equilibrium profiles are well fitted over two decades in radius by a simple formula originally proposed to describe the structure of galaxy clusters in a cold dark matter universe. In any particular cosmology, the two scale parameters of the fit, the halo mass and its characteristic density, are strongly correlated. Low-mass halos are significantly denser than more massive systems, a correlation that reflects the higher collapse redshift of small halos. The characteristic density of an equilibrium halo is proportional to the density of the universe at the time it was assembled. A suitable definition of this assembly time allows the same proportionality constant to be used for all the cosmologies that we have tested. We compare our results with previous work on halo density profiles and show that there is good agreement. We also provide a step-by-step analytic procedure, based on the Press-Schechter formalism, that allows accurate equilibrium profiles to be calculated as a function of mass in any hierarchical model.\"\u001b[0m\u001b[1;39m,\n",
      "  \u001b[0m\u001b[34;1m\"nasa_afil\"\u001b[0m\u001b[1;39m: \u001b[0m\u001b[0;32m\"NO\"\u001b[0m\u001b[1;39m,\n",
      "  \u001b[0m\u001b[34;1m\"year\"\u001b[0m\u001b[1;39m: \u001b[0m\u001b[0;39m1997\u001b[0m\u001b[1;39m,\n",
      "  \u001b[0m\u001b[34;1m\"rake_kwds\"\u001b[0m\u001b[1;39m: \u001b[0m\u001b[1;39m[\n",
      "    \u001b[1;39m[\n",
      "      \u001b[0;32m\"use high-resolution n-body simulations\"\u001b[0m\u001b[1;39m,\n",
      "      \u001b[0;39m36\u001b[0m\u001b[1;39m\n",
      "    \u001b[1;39m]\u001b[0m\u001b[1;39m,\n",
      "    \u001b[1;39m[\n",
      "      \u001b[0;32m\"step-by-step analytic procedure\"\u001b[0m\u001b[1;39m,\n",
      "      \u001b[0;39m25\u001b[0m\u001b[1;39m\n",
      "    \u001b[1;39m]\u001b[0m\u001b[1;39m,\n",
      "    \u001b[1;39m[\n",
      "      \u001b[0;32m\"simple formula originally proposed\"\u001b[0m\u001b[1;39m,\n",
      "      \u001b[0;39m16\u001b[0m\u001b[1;39m\n",
      "    \u001b[1;39m]\u001b[0m\u001b[1;39m,\n",
      "    \u001b[1;39m[\n",
      "      \u001b[0;32m\"initial density fluctuation spectrum\"\u001b[0m\u001b[1;39m,\n",
      "      \u001b[0;39m14.5714285714\u001b[0m\u001b[1;39m\n",
      "    \u001b[1;39m]\u001b[0m\u001b[1;39m,\n",
      "    \u001b[1;39m[\n",
      "      \u001b[0;32m\"spherically averaged equilibrium profiles\"\u001b[0m\u001b[1;39m,\n",
      "      \u001b[0;39m14.25\u001b[0m\u001b[1;39m\n",
      "    \u001b[1;39m]\u001b[0m\u001b[1;39m,\n",
      "    \u001b[1;39m[\n",
      "      \u001b[0;32m\"allows accurate equilibrium profiles\"\u001b[0m\u001b[1;39m,\n",
      "      \u001b[0;39m13.75\u001b[0m\u001b[1;39m\n",
      "    \u001b[1;39m]\u001b[0m\u001b[1;39m,\n",
      "    \u001b[1;39m[\n",
      "      \u001b[0;32m\"cold dark matter universe\"\u001b[0m\u001b[1;39m,\n",
      "      \u001b[0;39m13.5\u001b[0m\u001b[1;39m\n",
      "    \u001b[1;39m]\u001b[0m\u001b[1;39m,\n",
      "    \u001b[1;39m[\n",
      "      \u001b[0;32m\"dark matter halos\"\u001b[0m\u001b[1;39m,\n",
      "      \u001b[0;39m9.6666666667\u001b[0m\u001b[1;39m\n",
      "    \u001b[1;39m]\u001b[0m\u001b[1;39m,\n",
      "    \u001b[1;39m[\n",
      "      \u001b[0;32m\"higher collapse redshift\"\u001b[0m\u001b[1;39m,\n",
      "      \u001b[0;39m9\u001b[0m\u001b[1;39m\n",
      "    \u001b[1;39m]\u001b[0m\u001b[1;39m,\n",
      "    \u001b[1;39m[\n",
      "      \u001b[0;32m\"press-schechter formalism\"\u001b[0m\u001b[1;39m,\n",
      "      \u001b[0;39m9\u001b[0m\u001b[1;39m\n",
      "    \u001b[1;39m]\u001b[0m\u001b[1;39m,\n",
      "    \u001b[1;39m[\n",
      "      \u001b[0;32m\"equilibrium density profiles\"\u001b[0m\u001b[1;39m,\n",
      "      \u001b[0;39m8.8214285714\u001b[0m\u001b[1;39m\n",
      "    \u001b[1;39m]\u001b[0m\u001b[1;39m,\n",
      "    \u001b[1;39m[\n",
      "      \u001b[0;32m\"universal density profile\"\u001b[0m\u001b[1;39m,\n",
      "      \u001b[0;39m8.5714285714\u001b[0m\u001b[1;39m\n",
      "    \u001b[1;39m]\u001b[0m\u001b[1;39m,\n",
      "    \u001b[1;39m[\n",
      "      \u001b[0;32m\"hierarchically clustering universes\"\u001b[0m\u001b[1;39m,\n",
      "      \u001b[0;39m8.5\u001b[0m\u001b[1;39m\n",
      "    \u001b[1;39m]\u001b[0m\u001b[1;39m,\n",
      "    \u001b[1;39m[\n",
      "      \u001b[0;32m\"assembly time allows\"\u001b[0m\u001b[1;39m,\n",
      "      \u001b[0;39m8.5\u001b[0m\u001b[1;39m\n",
      "    \u001b[1;39m]\u001b[0m\u001b[1;39m,\n",
      "    \u001b[1;39m[\n",
      "      \u001b[0;32m\"halo density profiles\"\u001b[0m\u001b[1;39m,\n",
      "      \u001b[0;39m7.8214285714\u001b[0m\u001b[1;39m\n",
      "    \u001b[1;39m]\u001b[0m\u001b[1;39m,\n",
      "    \u001b[1;39m[\n",
      "      \u001b[0;32m\"low-mass halos\"\u001b[0m\u001b[1;39m,\n",
      "      \u001b[0;39m7.6666666667\u001b[0m\u001b[1;39m\n",
      "    \u001b[1;39m]\u001b[0m\u001b[1;39m,\n",
      "    \u001b[1;39m[\n",
      "      \u001b[0;32m\"equilibrium halo\"\u001b[0m\u001b[1;39m,\n",
      "      \u001b[0;39m5.5\u001b[0m\u001b[1;39m\n",
      "    \u001b[1;39m]\u001b[0m\u001b[1;39m,\n",
      "    \u001b[1;39m[\n",
      "      \u001b[0;32m\"small halos\"\u001b[0m\u001b[1;39m,\n",
      "      \u001b[0;39m4.6666666667\u001b[0m\u001b[1;39m\n",
      "    \u001b[1;39m]\u001b[0m\u001b[1;39m,\n",
      "    \u001b[1;39m[\n",
      "      \u001b[0;32m\"characteristic density\"\u001b[0m\u001b[1;39m,\n",
      "      \u001b[0;39m4.5714285714\u001b[0m\u001b[1;39m\n",
      "    \u001b[1;39m]\u001b[0m\u001b[1;39m,\n",
      "    \u001b[1;39m[\n",
      "      \u001b[0;32m\"hierarchical clustering\"\u001b[0m\u001b[1;39m,\n",
      "      \u001b[0;39m4.5\u001b[0m\u001b[1;39m\n",
      "    \u001b[1;39m]\u001b[0m\u001b[1;39m,\n",
      "    \u001b[1;39m[\n",
      "      \u001b[0;32m\"halo mass\"\u001b[0m\u001b[1;39m,\n",
      "      \u001b[0;39m4.25\u001b[0m\u001b[1;39m\n",
      "    \u001b[1;39m]\u001b[0m\u001b[1;39m,\n",
      "    \u001b[1;39m[\n",
      "      \u001b[0;32m\"cosmological parameters\"\u001b[0m\u001b[1;39m,\n",
      "      \u001b[0;39m4\u001b[0m\u001b[1;39m\n",
      "    \u001b[1;39m]\u001b[0m\u001b[1;39m,\n",
      "    \u001b[1;39m[\n",
      "      \u001b[0;32m\"galaxy clusters\"\u001b[0m\u001b[1;39m,\n",
      "      \u001b[0;39m4\u001b[0m\u001b[1;39m\n",
      "    \u001b[1;39m]\u001b[0m\u001b[1;39m,\n",
      "    \u001b[1;39m[\n",
      "      \u001b[0;32m\"particular cosmology\"\u001b[0m\u001b[1;39m,\n",
      "      \u001b[0;39m4\u001b[0m\u001b[1;39m\n",
      "    \u001b[1;39m]\u001b[0m\u001b[1;39m,\n",
      "    \u001b[1;39m[\n",
      "      \u001b[0;32m\"scale parameters\"\u001b[0m\u001b[1;39m,\n",
      "      \u001b[0;39m4\u001b[0m\u001b[1;39m\n",
      "    \u001b[1;39m]\u001b[0m\u001b[1;39m,\n",
      "    \u001b[1;39m[\n",
      "      \u001b[0;32m\"strongly correlated\"\u001b[0m\u001b[1;39m,\n",
      "      \u001b[0;39m4\u001b[0m\u001b[1;39m\n",
      "    \u001b[1;39m]\u001b[0m\u001b[1;39m,\n",
      "    \u001b[1;39m[\n",
      "      \u001b[0;32m\"significantly denser\"\u001b[0m\u001b[1;39m,\n",
      "      \u001b[0;39m4\u001b[0m\u001b[1;39m\n",
      "    \u001b[1;39m]\u001b[0m\u001b[1;39m,\n",
      "    \u001b[1;39m[\n",
      "      \u001b[0;32m\"massive systems\"\u001b[0m\u001b[1;39m,\n",
      "      \u001b[0;39m4\u001b[0m\u001b[1;39m\n",
      "    \u001b[1;39m]\u001b[0m\u001b[1;39m,\n",
      "    \u001b[1;39m[\n",
      "      \u001b[0;32m\"suitable definition\"\u001b[0m\u001b[1;39m,\n",
      "      \u001b[0;39m4\u001b[0m\u001b[1;39m\n",
      "    \u001b[1;39m]\u001b[0m\u001b[1;39m,\n",
      "    \u001b[1;39m[\n",
      "      \u001b[0;32m\"proportionality constant\"\u001b[0m\u001b[1;39m,\n",
      "      \u001b[0;39m4\u001b[0m\u001b[1;39m\n",
      "    \u001b[1;39m]\u001b[0m\u001b[1;39m,\n",
      "    \u001b[1;39m[\n",
      "      \u001b[0;32m\"previous work\"\u001b[0m\u001b[1;39m,\n",
      "      \u001b[0;39m4\u001b[0m\u001b[1;39m\n",
      "    \u001b[1;39m]\u001b[0m\u001b[1;39m,\n",
      "    \u001b[1;39m[\n",
      "      \u001b[0;32m\"good agreement\"\u001b[0m\u001b[1;39m,\n",
      "      \u001b[0;39m4\u001b[0m\u001b[1;39m\n",
      "    \u001b[1;39m]\u001b[0m\u001b[1;39m,\n",
      "    \u001b[1;39m[\n",
      "      \u001b[0;32m\"hierarchical model\"\u001b[0m\u001b[1;39m,\n",
      "      \u001b[0;39m4\u001b[0m\u001b[1;39m\n",
      "    \u001b[1;39m]\u001b[0m\u001b[1;39m,\n",
      "    \u001b[1;39m[\n",
      "      \u001b[0;32m\"profiles\"\u001b[0m\u001b[1;39m,\n",
      "      \u001b[0;39m3\u001b[0m\u001b[1;39m\n",
      "    \u001b[1;39m]\u001b[0m\u001b[1;39m,\n",
      "    \u001b[1;39m[\n",
      "      \u001b[0;32m\"density\"\u001b[0m\u001b[1;39m,\n",
      "      \u001b[0;39m2.5714285714\u001b[0m\u001b[1;39m\n",
      "    \u001b[1;39m]\u001b[0m\u001b[1;39m,\n",
      "    \u001b[1;39m[\n",
      "      \u001b[0;32m\"universe\"\u001b[0m\u001b[1;39m,\n",
      "      \u001b[0;39m2.5\u001b[0m\u001b[1;39m\n",
      "    \u001b[1;39m]\u001b[0m\u001b[1;39m,\n",
      "    \u001b[1;39m[\n",
      "      \u001b[0;32m\"time\"\u001b[0m\u001b[1;39m,\n",
      "      \u001b[0;39m2\u001b[0m\u001b[1;39m\n",
      "    \u001b[1;39m]\u001b[0m\u001b[1;39m,\n",
      "    \u001b[1;39m[\n",
      "      \u001b[0;32m\"mass\"\u001b[0m\u001b[1;39m,\n",
      "      \u001b[0;39m2\u001b[0m\u001b[1;39m\n",
      "    \u001b[1;39m]\u001b[0m\u001b[1;39m,\n",
      "    \u001b[1;39m[\n",
      "      \u001b[0;32m\"study\"\u001b[0m\u001b[1;39m,\n",
      "      \u001b[0;39m1\u001b[0m\u001b[1;39m\n",
      "    \u001b[1;39m]\u001b[0m\u001b[1;39m,\n",
      "    \u001b[1;39m[\n",
      "      \u001b[0;32m\"find\"\u001b[0m\u001b[1;39m,\n",
      "      \u001b[0;39m1\u001b[0m\u001b[1;39m\n",
      "    \u001b[1;39m]\u001b[0m\u001b[1;39m,\n",
      "    \u001b[1;39m[\n",
      "      \u001b[0;32m\"shape\"\u001b[0m\u001b[1;39m,\n",
      "      \u001b[0;39m1\u001b[0m\u001b[1;39m\n",
      "    \u001b[1;39m]\u001b[0m\u001b[1;39m,\n",
      "    \u001b[1;39m[\n",
      "      \u001b[0;32m\"independent\"\u001b[0m\u001b[1;39m,\n",
      "      \u001b[0;39m1\u001b[0m\u001b[1;39m\n",
      "    \u001b[1;39m]\u001b[0m\u001b[1;39m,\n",
      "    \u001b[1;39m[\n",
      "      \u001b[0;32m\"values\"\u001b[0m\u001b[1;39m,\n",
      "      \u001b[0;39m1\u001b[0m\u001b[1;39m\n",
      "    \u001b[1;39m]\u001b[0m\u001b[1;39m,\n",
      "    \u001b[1;39m[\n",
      "      \u001b[0;32m\"fitted\"\u001b[0m\u001b[1;39m,\n",
      "      \u001b[0;39m1\u001b[0m\u001b[1;39m\n",
      "    \u001b[1;39m]\u001b[0m\u001b[1;39m,\n",
      "    \u001b[1;39m[\n",
      "      \u001b[0;32m\"decades\"\u001b[0m\u001b[1;39m,\n",
      "      \u001b[0;39m1\u001b[0m\u001b[1;39m\n",
      "    \u001b[1;39m]\u001b[0m\u001b[1;39m,\n",
      "    \u001b[1;39m[\n",
      "      \u001b[0;32m\"radius\"\u001b[0m\u001b[1;39m,\n",
      "      \u001b[0;39m1\u001b[0m\u001b[1;39m\n",
      "    \u001b[1;39m]\u001b[0m\u001b[1;39m,\n",
      "    \u001b[1;39m[\n",
      "      \u001b[0;32m\"describe\"\u001b[0m\u001b[1;39m,\n",
      "      \u001b[0;39m1\u001b[0m\u001b[1;39m\n",
      "    \u001b[1;39m]\u001b[0m\u001b[1;39m,\n",
      "    \u001b[1;39m[\n",
      "      \u001b[0;32m\"structure\"\u001b[0m\u001b[1;39m,\n",
      "      \u001b[0;39m1\u001b[0m\u001b[1;39m\n",
      "    \u001b[1;39m]\u001b[0m\u001b[1;39m,\n",
      "    \u001b[1;39m[\n",
      "      \u001b[0;32m\"fit\"\u001b[0m\u001b[1;39m,\n",
      "      \u001b[0;39m1\u001b[0m\u001b[1;39m\n",
      "    \u001b[1;39m]\u001b[0m\u001b[1;39m,\n",
      "    \u001b[1;39m[\n",
      "      \u001b[0;32m\"correlation\"\u001b[0m\u001b[1;39m,\n",
      "      \u001b[0;39m1\u001b[0m\u001b[1;39m\n",
      "    \u001b[1;39m]\u001b[0m\u001b[1;39m,\n",
      "    \u001b[1;39m[\n",
      "      \u001b[0;32m\"reflects\"\u001b[0m\u001b[1;39m,\n",
      "      \u001b[0;39m1\u001b[0m\u001b[1;39m\n",
      "    \u001b[1;39m]\u001b[0m\u001b[1;39m,\n",
      "    \u001b[1;39m[\n",
      "      \u001b[0;32m\"proportional\"\u001b[0m\u001b[1;39m,\n",
      "      \u001b[0;39m1\u001b[0m\u001b[1;39m\n",
      "    \u001b[1;39m]\u001b[0m\u001b[1;39m,\n",
      "    \u001b[1;39m[\n",
      "      \u001b[0;32m\"assembled\"\u001b[0m\u001b[1;39m,\n",
      "      \u001b[0;39m1\u001b[0m\u001b[1;39m\n",
      "    \u001b[1;39m]\u001b[0m\u001b[1;39m,\n",
      "    \u001b[1;39m[\n",
      "      \u001b[0;32m\"cosmologies\"\u001b[0m\u001b[1;39m,\n",
      "      \u001b[0;39m1\u001b[0m\u001b[1;39m\n",
      "    \u001b[1;39m]\u001b[0m\u001b[1;39m,\n",
      "    \u001b[1;39m[\n",
      "      \u001b[0;32m\"tested\"\u001b[0m\u001b[1;39m,\n",
      "      \u001b[0;39m1\u001b[0m\u001b[1;39m\n",
      "    \u001b[1;39m]\u001b[0m\u001b[1;39m,\n",
      "    \u001b[1;39m[\n",
      "      \u001b[0;32m\"compare\"\u001b[0m\u001b[1;39m,\n",
      "      \u001b[0;39m1\u001b[0m\u001b[1;39m\n",
      "    \u001b[1;39m]\u001b[0m\u001b[1;39m,\n",
      "    \u001b[1;39m[\n",
      "      \u001b[0;32m\"results\"\u001b[0m\u001b[1;39m,\n",
      "      \u001b[0;39m1\u001b[0m\u001b[1;39m\n",
      "    \u001b[1;39m]\u001b[0m\u001b[1;39m,\n",
      "    \u001b[1;39m[\n",
      "      \u001b[0;32m\"provide\"\u001b[0m\u001b[1;39m,\n",
      "      \u001b[0;39m1\u001b[0m\u001b[1;39m\n",
      "    \u001b[1;39m]\u001b[0m\u001b[1;39m,\n",
      "    \u001b[1;39m[\n",
      "      \u001b[0;32m\"based\"\u001b[0m\u001b[1;39m,\n",
      "      \u001b[0;39m1\u001b[0m\u001b[1;39m\n",
      "    \u001b[1;39m]\u001b[0m\u001b[1;39m,\n",
      "    \u001b[1;39m[\n",
      "      \u001b[0;32m\"calculated\"\u001b[0m\u001b[1;39m,\n",
      "      \u001b[0;39m1\u001b[0m\u001b[1;39m\n",
      "    \u001b[1;39m]\u001b[0m\u001b[1;39m,\n",
      "    \u001b[1;39m[\n",
      "      \u001b[0;32m\"function\"\u001b[0m\u001b[1;39m,\n",
      "      \u001b[0;39m1\u001b[0m\u001b[1;39m\n",
      "    \u001b[1;39m]\u001b[0m\u001b[1;39m\n",
      "  \u001b[1;39m]\u001b[0m\u001b[1;39m\n",
      "\u001b[1;39m}\u001b[0m\n"
     ]
    }
   ],
   "source": [
    "!head -n1 '../data/full_04_01_2020/kwds.jsonl' | jq"
   ]
  },
  {
   "cell_type": "code",
   "execution_count": 196,
   "metadata": {},
   "outputs": [],
   "source": [
    "chunks = pd.read_json(in_corp, orient='records', lines=True, chunksize=10_000)"
   ]
  },
  {
   "cell_type": "code",
   "execution_count": 197,
   "metadata": {},
   "outputs": [
    {
     "data": {
      "application/vnd.jupyter.widget-view+json": {
       "model_id": "ba3e34ddfef249ee83d3d9f42d7fca6c",
       "version_major": 2,
       "version_minor": 0
      },
      "text/plain": [
       "HBox(children=(IntProgress(value=1, bar_style='info', max=1), HTML(value='')))"
      ]
     },
     "metadata": {},
     "output_type": "display_data"
    },
    {
     "name": "stdout",
     "output_type": "stream",
     "text": [
      "\n"
     ]
    }
   ],
   "source": [
    "all_short = []\n",
    "for c in tqdm(chunks):\n",
    "     all_short += c.index[c['abstract'].apply(lambda x: len(x) < 50)].tolist()"
   ]
  },
  {
   "cell_type": "code",
   "execution_count": 200,
   "metadata": {},
   "outputs": [
    {
     "data": {
      "text/plain": [
       "array([    101,     127,     195, ..., 1160534, 1160537, 1160774])"
      ]
     },
     "execution_count": 200,
     "metadata": {},
     "output_type": "execute_result"
    }
   ],
   "source": [
    "asa = np.array(all_short)\n",
    "asa"
   ]
  },
  {
   "cell_type": "code",
   "execution_count": 201,
   "metadata": {},
   "outputs": [
    {
     "data": {
      "text/plain": [
       "(347850,)"
      ]
     },
     "execution_count": 201,
     "metadata": {},
     "output_type": "execute_result"
    }
   ],
   "source": [
    "asa.shape"
   ]
  },
  {
   "cell_type": "code",
   "execution_count": 202,
   "metadata": {},
   "outputs": [
    {
     "name": "stdout",
     "output_type": "stream",
     "text": [
      "\u001b[1;39m[\n",
      "  \u001b[0;32m\"Not Available <P />\"\u001b[0m\u001b[1;39m\n",
      "\u001b[1;39m]\u001b[0m\n"
     ]
    }
   ],
   "source": [
    "! sed -n 128p ../data/full_04_01_2020/kwds.jsonl | jq [\".abstract\"]"
   ]
  },
  {
   "cell_type": "code",
   "execution_count": 203,
   "metadata": {},
   "outputs": [],
   "source": [
    "# c.index[c['abstract'].apply(lambda x: len(x) < 50)]"
   ]
  },
  {
   "cell_type": "code",
   "execution_count": 204,
   "metadata": {},
   "outputs": [],
   "source": [
    "is_av = np.array(df[df.stem.str.contains('>abstract available</')].doc_id_list.iloc[0])"
   ]
  },
  {
   "cell_type": "code",
   "execution_count": 205,
   "metadata": {},
   "outputs": [
    {
     "data": {
      "text/plain": [
       "array([ 56188,  65511,  68380,  93179, 137834, 141213, 151697, 153531,\n",
       "       164757, 222829])"
      ]
     },
     "execution_count": 205,
     "metadata": {},
     "output_type": "execute_result"
    }
   ],
   "source": [
    "is_av[0:10]"
   ]
  },
  {
   "cell_type": "code",
   "execution_count": 206,
   "metadata": {},
   "outputs": [
    {
     "name": "stdout",
     "output_type": "stream",
     "text": [
      "\u001b[1;39m[\n",
      "  \u001b[0;32m\"<A href=\\\"/journals/ja/ja0103/2000JA000303/0.html\\\">Abstract Available</A> from <A href=\\\"http://www.agu.org\\\">AGU</A> <P />\"\u001b[0m\u001b[1;39m\n",
      "\u001b[1;39m]\u001b[0m\n"
     ]
    }
   ],
   "source": [
    "! sed -n 65512p ../data/full_04_01_2020/kwds.jsonl | jq [\".abstract\"]"
   ]
  },
  {
   "cell_type": "code",
   "execution_count": 207,
   "metadata": {},
   "outputs": [],
   "source": [
    "txt = \"<A href=\\\"/journals/ja/ja0103/2000JA000303/0.html\\\">Abstract Available</A> from <A href=\\\"http://www.agu.org\\\">AGU</A> <P />\""
   ]
  },
  {
   "cell_type": "code",
   "execution_count": 208,
   "metadata": {},
   "outputs": [
    {
     "data": {
      "text/plain": [
       "'Abstract Available from AGU '"
      ]
     },
     "execution_count": 208,
     "metadata": {},
     "output_type": "execute_result"
    }
   ],
   "source": [
    "strip_tags(txt)"
   ]
  },
  {
   "cell_type": "code",
   "execution_count": 209,
   "metadata": {},
   "outputs": [
    {
     "data": {
      "text/plain": [
       "array([    101,     127,     195, ..., 1160531, 1160534, 1160537])"
      ]
     },
     "execution_count": 209,
     "metadata": {},
     "output_type": "execute_result"
    }
   ],
   "source": [
    "av"
   ]
  },
  {
   "cell_type": "code",
   "execution_count": 210,
   "metadata": {},
   "outputs": [
    {
     "data": {
      "text/plain": [
       "array([   9883,   14344,   14553, ..., 1158212, 1159259, 1160774])"
      ]
     },
     "execution_count": 210,
     "metadata": {},
     "output_type": "execute_result"
    }
   ],
   "source": [
    "np.setdiff1d(asa, av)"
   ]
  },
  {
   "cell_type": "code",
   "execution_count": 215,
   "metadata": {},
   "outputs": [
    {
     "name": "stdout",
     "output_type": "stream",
     "text": [
      "\u001b[1;39m[\n",
      "  \u001b[0;32m\"Image of Pickering's Triangle on 2010 Aug 8 <P />\"\u001b[0m\u001b[1;39m\n",
      "\u001b[1;39m]\u001b[0m\n"
     ]
    }
   ],
   "source": [
    "! sed -n 1158213p ../data/full_04_01_2020/kwds.jsonl | jq [\".abstract\"]"
   ]
  },
  {
   "cell_type": "code",
   "execution_count": 218,
   "metadata": {},
   "outputs": [],
   "source": [
    "# Remove papers with short abstracts. They are not useful."
   ]
  },
  {
   "cell_type": "markdown",
   "metadata": {},
   "source": [
    "# Other"
   ]
  },
  {
   "cell_type": "code",
   "execution_count": 221,
   "metadata": {},
   "outputs": [
    {
     "name": "stdout",
     "output_type": "stream",
     "text": [
      "\u001b[1;39m[\n",
      "  \u001b[0;32m\"By using the IMAGE magnetometer network data, we compare the geomagnetic variation field B and its time derivative dB/dt in and near the auroral region. We show that although the auroral electrojet is the main reason for large B's, it cannot alone produce large dB/dt's, so smaller-scale current systems are important. This is evidenced by the horizontal field: the geographic north component (X) is clearly larger than the eastward one (Y) in the auroral region, but dX/dt and dY/dt are nearly equal. This result is important when geomagnetic induction risks on man-made conductors are estimated. The key quantity is the horizontal geoelectric field, and contrary to what is often assumed, it can have large values in any direction, not just parallel to the electrojet. <P />\"\u001b[0m\u001b[1;39m\n",
      "\u001b[1;39m]\u001b[0m\n"
     ]
    }
   ],
   "source": [
    "! sed -n 5058p ../data/full_04_01_2020/kwds.jsonl | jq [\".abstract\"]"
   ]
  },
  {
   "cell_type": "code",
   "execution_count": null,
   "metadata": {},
   "outputs": [],
   "source": []
  }
 ],
 "metadata": {
  "kernelspec": {
   "display_name": "astro202",
   "language": "python",
   "name": "astro2020"
  },
  "language_info": {
   "codemirror_mode": {
    "name": "ipython",
    "version": 3
   },
   "file_extension": ".py",
   "mimetype": "text/x-python",
   "name": "python",
   "nbconvert_exporter": "python",
   "pygments_lexer": "ipython3",
   "version": "3.7.6"
  }
 },
 "nbformat": 4,
 "nbformat_minor": 4
}
