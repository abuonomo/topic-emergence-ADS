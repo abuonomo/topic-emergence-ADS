{
 "cells": [
  {
   "cell_type": "code",
   "execution_count": 2,
   "metadata": {
    "collapsed": true,
    "jupyter": {
     "outputs_hidden": true
    }
   },
   "outputs": [
    {
     "name": "stdout",
     "output_type": "stream",
     "text": [
      "Collecting git+https://github.com/LIAAD/yake\n",
      "  Cloning https://github.com/LIAAD/yake to /private/var/folders/m0/7sv6dmqx4xn0n5c2pgc297dw0000gp/T/pip-req-build-d9bx9iht\n",
      "  Running command git clone -q https://github.com/LIAAD/yake /private/var/folders/m0/7sv6dmqx4xn0n5c2pgc297dw0000gp/T/pip-req-build-d9bx9iht\n",
      "Collecting tabulate (from yake==0.4.3)\n",
      "  Downloading https://files.pythonhosted.org/packages/c4/f4/770ae9385990f5a19a91431163d262182d3203662ea2b5739d0fcfc080f1/tabulate-0.8.7-py3-none-any.whl\n",
      "Requirement already satisfied: click>=6.0 in /Users/abuonomo/code/DataSquad/astro2020/venv/lib/python3.7/site-packages (from yake==0.4.3) (7.0)\n",
      "Requirement already satisfied: numpy in /Users/abuonomo/code/DataSquad/astro2020/venv/lib/python3.7/site-packages (from yake==0.4.3) (1.17.4)\n",
      "Collecting segtok (from yake==0.4.3)\n",
      "  Downloading https://files.pythonhosted.org/packages/b6/11/2826bd2c3dc3b3ad20315620cecb27825d70b5a46ad186bf7c1493b46334/segtok-1.5.9.tar.gz\n",
      "Requirement already satisfied: networkx in /Users/abuonomo/code/DataSquad/astro2020/venv/lib/python3.7/site-packages (from yake==0.4.3) (2.4)\n",
      "Requirement already satisfied: jellyfish in /Users/abuonomo/code/DataSquad/astro2020/venv/lib/python3.7/site-packages (from yake==0.4.3) (0.7.2)\n",
      "Requirement already satisfied: regex in /Users/abuonomo/code/DataSquad/astro2020/venv/lib/python3.7/site-packages (from segtok->yake==0.4.3) (2020.4.4)\n",
      "Requirement already satisfied: decorator>=4.3.0 in /Users/abuonomo/code/DataSquad/astro2020/venv/lib/python3.7/site-packages (from networkx->yake==0.4.3) (4.4.1)\n",
      "Building wheels for collected packages: yake, segtok\n",
      "  Building wheel for yake (setup.py) ... \u001b[?25ldone\n",
      "\u001b[?25h  Created wheel for yake: filename=yake-0.4.3-py2.py3-none-any.whl size=67198 sha256=c3dbabf8d32eed75ab6fb164bdf897d61056b9323f64560203fc94a147efffcf\n",
      "  Stored in directory: /private/var/folders/m0/7sv6dmqx4xn0n5c2pgc297dw0000gp/T/pip-ephem-wheel-cache-ggi1zvnv/wheels/be/35/27/e4ebd54b78c1806ed8b0271ce247fcd91e2bedde35889fbc9b\n",
      "  Building wheel for segtok (setup.py) ... \u001b[?25ldone\n",
      "\u001b[?25h  Created wheel for segtok: filename=segtok-1.5.9-cp37-none-any.whl size=24852 sha256=a7870082515fef3e145f2f919120aae282bda15973703269e87c17e087d40dc0\n",
      "  Stored in directory: /Users/abuonomo/Library/Caches/pip/wheels/8b/a3/41/54616e3b92f9a3d1b99fc99955a4089f9e6b1d274e66da250c\n",
      "Successfully built yake segtok\n",
      "Installing collected packages: tabulate, segtok, yake\n",
      "Successfully installed segtok-1.5.9 tabulate-0.8.7 yake-0.4.3\n",
      "\u001b[33mWARNING: You are using pip version 19.2.3, however version 20.0.2 is available.\n",
      "You should consider upgrading via the 'pip install --upgrade pip' command.\u001b[0m\n"
     ]
    }
   ],
   "source": [
    "!pip install git+https://github.com/LIAAD/yake"
   ]
  },
  {
   "cell_type": "code",
   "execution_count": 109,
   "metadata": {},
   "outputs": [],
   "source": [
    "import yake\n",
    "import RAKE\n",
    "from spacy.lang.en.stop_words import STOP_WORDS\n",
    "from yake.highlight import TextHighlighter\n",
    "from IPython.core.display import HTML\n",
    "import numpy as np"
   ]
  },
  {
   "cell_type": "code",
   "execution_count": 33,
   "metadata": {},
   "outputs": [],
   "source": [
    "rake_extractor = RAKE.Rake(list(STOP_WORDS))\n",
    "yake_extractor = yake.KeywordExtractor()"
   ]
  },
  {
   "cell_type": "code",
   "execution_count": 215,
   "metadata": {},
   "outputs": [],
   "source": [
    "fl = '0.5'"
   ]
  },
  {
   "cell_type": "code",
   "execution_count": 216,
   "metadata": {},
   "outputs": [],
   "source": [
    "th = TextHighlighter(max_ngram_size=3, highlight_pre=f\"<span class='my_class' style='background-color:yellow; opacity:{fl}' >\", highlight_post=\"</span>\")"
   ]
  },
  {
   "cell_type": "code",
   "execution_count": 217,
   "metadata": {},
   "outputs": [],
   "source": [
    "text = \"\"\"The Ulysses observations have charted the heliosphere around the minimum in the 11 year cycle of solar activity, revealing the large scale properties of the heliospheric medium and its micro-scale characteristics. This book presents for the first time, a comprehensive review of the results of the Ulysses mission.<BR />The first chapter provides an overview of the region, introducing the heliosphere prior to the Ulysses mission, and the objectives and characteristics of the mission itself. Subsequent chapters discuss in detail specific areas of the heliosphere, including the solar wind, large and small scale features, cosmic rays and energetic particles, and the observations of interstellar gas and cosmic dust. Each of these chapters is written by members of the Ulysses science team, concentrating on their own areas of expertise, and is written in a clear and accessible way.<BR />In this book, the authors aim to summarise our understanding of the heliosphere near solar minimum and to provide the basis for understanding the more complex state of the heliosphere around solar maximum, which will be observed during the next phase of the Ulysses mission. <P />\"\"\""
   ]
  },
  {
   "cell_type": "code",
   "execution_count": 218,
   "metadata": {},
   "outputs": [],
   "source": [
    "text = \"\"\"By using the IMAGE magnetometer network data, we compare the geomagnetic variation field B and its time derivative dB/dt in and near the auroral region. We show that although the auroral electrojet is the main reason for large B's, it cannot alone produce large dB/dt's, so smaller-scale current systems are important. This is evidenced by the horizontal field: the geographic north component (X) is clearly larger than the eastward one (Y) in the auroral region, but dX/dt and dY/dt are nearly equal. This result is important when geomagnetic induction risks on man-made conductors are estimated. The key quantity is the horizontal geoelectric field, and contrary to what is often assumed, it can have large values in any direction, not just parallel to the electrojet. <P />\"\"\""
   ]
  },
  {
   "cell_type": "code",
   "execution_count": 219,
   "metadata": {},
   "outputs": [],
   "source": [
    "rake_kwds = rake.run(text, minFrequency=1, minCharacters=3)\n",
    "yake_kwds = kw_extractor.extract_keywords(text)"
   ]
  },
  {
   "cell_type": "code",
   "execution_count": 227,
   "metadata": {},
   "outputs": [],
   "source": [
    "rake_kwds_lim = [(k, v) for k, v in rake_kwds if v > -10]\n",
    "yake_kwds_lim = [(k, v) for k, v in yake_kwds if v < 99999]"
   ]
  },
  {
   "cell_type": "code",
   "execution_count": 228,
   "metadata": {},
   "outputs": [],
   "source": [
    "rake_ht = th.highlight(text, rake_kwds_lim)\n",
    "yake_ht = th.highlight(text, yake_kwds_lim)"
   ]
  },
  {
   "cell_type": "code",
   "execution_count": 229,
   "metadata": {},
   "outputs": [],
   "source": [
    "vals = np.array([v for k,v in rake_kwds_lim])"
   ]
  },
  {
   "cell_type": "code",
   "execution_count": 230,
   "metadata": {},
   "outputs": [],
   "source": [
    "tvals = (vals - vals.min()) / (vals.max() - vals.min())"
   ]
  },
  {
   "cell_type": "code",
   "execution_count": 231,
   "metadata": {},
   "outputs": [],
   "source": [
    "# i = 0\n",
    "# while True:\n",
    "#     try:\n",
    "#         s = rake_ht.index('FILL_VAL')\n",
    "#     except ValueError:\n",
    "#         break\n",
    "#     print(s)\n",
    "#     rake_ht = rake_ht[:s] + str(tvals[i].round(2)) + rake_ht[s + len(fl):]\n",
    "#     i += 1"
   ]
  },
  {
   "cell_type": "code",
   "execution_count": 232,
   "metadata": {},
   "outputs": [
    {
     "data": {
      "text/html": [
       "By using the IMAGE magnetometer network data, we <span class='my_class' style='background-color:yellow; opacity:0.5' >compare</span> the geomagnetic variation field B and its <span class='my_class' style='background-color:yellow; opacity:0.5' >time derivative db/dt</span> in and <span class='my_class' style='background-color:yellow; opacity:0.5' >near</span> the <span class='my_class' style='background-color:yellow; opacity:0.5' >auroral region</span>. We show that although the <span class='my_class' style='background-color:yellow; opacity:0.5' >auroral electrojet</span> is the <span class='my_class' style='background-color:yellow; opacity:0.5' >main reason</span> for large B's, it cannot alone produce large dB/dt's, so <span class='my_class' style='background-color:yellow; opacity:0.5' >smaller-scale current systems</span> are <span class='my_class' style='background-color:yellow; opacity:0.5' >important</span>. This is <span class='my_class' style='background-color:yellow; opacity:0.5' >evidenced</span> by the <span class='my_class' style='background-color:yellow; opacity:0.5' >horizontal field</span>: the <span class='my_class' style='background-color:yellow; opacity:0.5' >geographic north component</span> (X) is <span class='my_class' style='background-color:yellow; opacity:0.5' >clearly larger</span> than the <span class='my_class' style='background-color:yellow; opacity:0.5' >eastward</span> one (Y) in the <span class='my_class' style='background-color:yellow; opacity:0.5' >auroral region</span>, but <span class='my_class' style='background-color:yellow; opacity:0.5' >dx/dt</span> and <span class='my_class' style='background-color:yellow; opacity:0.5' >dy/dt</span> are <span class='my_class' style='background-color:yellow; opacity:0.5' >nearly equal</span>. This <span class='my_class' style='background-color:yellow; opacity:0.5' >result</span> is <span class='my_class' style='background-color:yellow; opacity:0.5' >important</span> when <span class='my_class' style='background-color:yellow; opacity:0.5' >geomagnetic induction risks</span> on man-made <span class='my_class' style='background-color:yellow; opacity:0.5' >conductors</span> are <span class='my_class' style='background-color:yellow; opacity:0.5' >estimated</span>. The <span class='my_class' style='background-color:yellow; opacity:0.5' >key quantity</span> is the <span class='my_class' style='background-color:yellow; opacity:0.5' >horizontal geoelectric field</span>, and <span class='my_class' style='background-color:yellow; opacity:0.5' >contrary</span> to what is often <span class='my_class' style='background-color:yellow; opacity:0.5' >assumed</span>, it can have <span class='my_class' style='background-color:yellow; opacity:0.5' >large values</span> in any <span class='my_class' style='background-color:yellow; opacity:0.5' >direction</span>, not just <span class='my_class' style='background-color:yellow; opacity:0.5' >parallel</span> to the <span class='my_class' style='background-color:yellow; opacity:0.5' >electrojet</span>. <span class='my_class' style='background-color:yellow; opacity:0.5' ><p /></span>"
      ],
      "text/plain": [
       "<IPython.core.display.HTML object>"
      ]
     },
     "execution_count": 232,
     "metadata": {},
     "output_type": "execute_result"
    }
   ],
   "source": [
    "HTML(rake_ht)"
   ]
  },
  {
   "cell_type": "code",
   "execution_count": 233,
   "metadata": {},
   "outputs": [
    {
     "data": {
      "text/html": [
       "By using the <span class='my_class' style='background-color:yellow; opacity:0.5' >image magnetometer network</span> <span class='my_class' style='background-color:yellow; opacity:0.5' >data</span>, we compare the <span class='my_class' style='background-color:yellow; opacity:0.5' >geomagnetic variation field</span> B and its <span class='my_class' style='background-color:yellow; opacity:0.5' >time derivative</span> dB/dt in and near the <span class='my_class' style='background-color:yellow; opacity:0.5' >auroral region</span>. We show that although the <span class='my_class' style='background-color:yellow; opacity:0.5' >auroral</span> electrojet is the main reason for <span class='my_class' style='background-color:yellow; opacity:0.5' >large</span> B's, it cannot alone produce <span class='my_class' style='background-color:yellow; opacity:0.5' >large</span> dB/dt's, so <span class='my_class' style='background-color:yellow; opacity:0.5' >smaller-scale current systems</span> are important. This is evidenced by the horizontal <span class='my_class' style='background-color:yellow; opacity:0.5' >field</span>: the geographic north component (X) is clearly larger than the eastward one (Y) in the <span class='my_class' style='background-color:yellow; opacity:0.5' >auroral region</span>, but dX/dt and dY/dt are nearly equal. This result is important when geomagnetic induction risks on man-made conductors are estimated. The key quantity is the horizontal geoelectric <span class='my_class' style='background-color:yellow; opacity:0.5' >field</span>, and contrary to what is often assumed, it can have <span class='my_class' style='background-color:yellow; opacity:0.5' >large</span> values in any direction, not just parallel to the electrojet. <P />"
      ],
      "text/plain": [
       "<IPython.core.display.HTML object>"
      ]
     },
     "execution_count": 233,
     "metadata": {},
     "output_type": "execute_result"
    }
   ],
   "source": [
    "HTML(yake_ht)"
   ]
  },
  {
   "cell_type": "code",
   "execution_count": null,
   "metadata": {},
   "outputs": [],
   "source": []
  }
 ],
 "metadata": {
  "kernelspec": {
   "display_name": "astro202",
   "language": "python",
   "name": "astro2020"
  },
  "language_info": {
   "codemirror_mode": {
    "name": "ipython",
    "version": 3
   },
   "file_extension": ".py",
   "mimetype": "text/x-python",
   "name": "python",
   "nbconvert_exporter": "python",
   "pygments_lexer": "ipython3",
   "version": "3.7.6"
  }
 },
 "nbformat": 4,
 "nbformat_minor": 4
}
