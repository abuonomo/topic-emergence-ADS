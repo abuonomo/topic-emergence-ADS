{
 "cells": [
  {
   "cell_type": "markdown",
   "metadata": {},
   "source": [
    "## Install dependencies"
   ]
  },
  {
   "cell_type": "code",
   "execution_count": 269,
   "metadata": {
    "collapsed": true,
    "jupyter": {
     "outputs_hidden": true
    }
   },
   "outputs": [],
   "source": [
    "!pip install git+https://github.com/LIAAD/yake\n",
    "!pip install mrakun\n",
    "!pip install textacy\n",
    "!pip install git+https://developer.nasa.gov/DataSquad/classifier_scripts.git@v1.0.2#egg=dsconcept\n",
    "!pip install sparqlwrapper"
   ]
  },
  {
   "cell_type": "code",
   "execution_count": 249,
   "metadata": {},
   "outputs": [
    {
     "name": "stderr",
     "output_type": "stream",
     "text": [
      "[nltk_data] Downloading package punkt to /Users/abuonomo/nltk_data...\n",
      "[nltk_data]   Unzipping tokenizers/punkt.zip.\n"
     ]
    },
    {
     "data": {
      "text/plain": [
       "True"
      ]
     },
     "execution_count": 249,
     "metadata": {},
     "output_type": "execute_result"
    }
   ],
   "source": [
    "import nltk\n",
    "nltk.download('punkt')"
   ]
  },
  {
   "cell_type": "code",
   "execution_count": 239,
   "metadata": {},
   "outputs": [],
   "source": [
    "from SPARQLWrapper import SPARQLWrapper, JSON\n",
    "\n",
    "queryString = \"SELECT * WHERE { ?s ?p ?o. } LIMIT 20\"\n",
    "sparql = SPARQLWrapper(\"http://vocabs.ands.org.au/repository/api/sparql/aas_the-unified-astronomy-thesaurus_3-1-0\")\n",
    "\n",
    "sparql.setQuery(queryString)\n",
    "sparql.setReturnFormat(JSON)\n",
    "results = sparql.query().convert()\n",
    "\n",
    "# try:\n",
    "#     ret = sparql.query()\n",
    "#    # ret is a stream with the results in XML, see <http://www.w3.org/TR/rdf-sparql-XMLres/>\n",
    "# except:\n",
    "#     deal_with_the_exception()"
   ]
  },
  {
   "cell_type": "code",
   "execution_count": 43,
   "metadata": {},
   "outputs": [
    {
     "data": {
      "text/plain": [
       "'CHIANTI - an atomic database for emission lines. A comprehensive set of accurate atomic data is required for analyses of astrophysical and solar spectra. CHIANTI provides a database of atomic energy levels, wavelengths, radiative data and electron excitation data for ions which are abundant in cosmic plasmas. The most recent electron excitation data have been assessed and stored following the method of \\\\cite[Burgess \\\\&amp; Tully (1992)]{bur92}. The current version is essentially complete for specifying the emission spectrum at wavelengths greater than 50 Angstroms. A list of observed lines in the spectral region between 50 and 1100 Angstroms has been compiled and compared with the lines predicted by the CHIANTI database. The CHIANTI database reproduces the vast majority of lines observed at these wavelengths. CHIANTI includes IDL (Interactive Data Language) routines to calculate optically thin synthetic spectra for equilibrium conditions. IDL routines to calculate theoretical line intensities required for electron density or temperature diagnostics and emission measure studies are also included. The CHIANTI atomic database and supporting IDL routines are available by anonymous FTP.'"
      ]
     },
     "execution_count": 43,
     "metadata": {},
     "output_type": "execute_result"
    }
   ],
   "source": [
    "df['text'].iloc[1]"
   ]
  },
  {
   "cell_type": "code",
   "execution_count": 240,
   "metadata": {
    "collapsed": true,
    "jupyter": {
     "outputs_hidden": true
    }
   },
   "outputs": [
    {
     "data": {
      "text/plain": [
       "{'head': {'vars': ['s', 'p', 'o']},\n",
       " 'results': {'bindings': [{'p': {'type': 'uri',\n",
       "     'value': 'http://www.w3.org/1999/02/22-rdf-syntax-ns#type'},\n",
       "    's': {'type': 'uri',\n",
       "     'value': 'http://www.w3.org/1999/02/22-rdf-syntax-ns#type'},\n",
       "    'o': {'type': 'uri',\n",
       "     'value': 'http://www.w3.org/1999/02/22-rdf-syntax-ns#Property'}},\n",
       "   {'p': {'type': 'uri',\n",
       "     'value': 'http://www.w3.org/1999/02/22-rdf-syntax-ns#type'},\n",
       "    's': {'type': 'uri',\n",
       "     'value': 'http://www.w3.org/1999/02/22-rdf-syntax-ns#type'},\n",
       "    'o': {'type': 'uri',\n",
       "     'value': 'http://www.w3.org/2000/01/rdf-schema#Resource'}},\n",
       "   {'p': {'type': 'uri',\n",
       "     'value': 'http://www.w3.org/2000/01/rdf-schema#domain'},\n",
       "    's': {'type': 'uri',\n",
       "     'value': 'http://www.w3.org/1999/02/22-rdf-syntax-ns#type'},\n",
       "    'o': {'type': 'uri',\n",
       "     'value': 'http://www.w3.org/2000/01/rdf-schema#Resource'}},\n",
       "   {'p': {'type': 'uri',\n",
       "     'value': 'http://www.w3.org/2000/01/rdf-schema#range'},\n",
       "    's': {'type': 'uri',\n",
       "     'value': 'http://www.w3.org/1999/02/22-rdf-syntax-ns#type'},\n",
       "    'o': {'type': 'uri',\n",
       "     'value': 'http://www.w3.org/2000/01/rdf-schema#Class'}},\n",
       "   {'p': {'type': 'uri',\n",
       "     'value': 'http://www.w3.org/2000/01/rdf-schema#subPropertyOf'},\n",
       "    's': {'type': 'uri',\n",
       "     'value': 'http://www.w3.org/1999/02/22-rdf-syntax-ns#type'},\n",
       "    'o': {'type': 'uri',\n",
       "     'value': 'http://www.w3.org/1999/02/22-rdf-syntax-ns#type'}},\n",
       "   {'p': {'type': 'uri',\n",
       "     'value': 'http://www.w3.org/1999/02/22-rdf-syntax-ns#type'},\n",
       "    's': {'type': 'uri',\n",
       "     'value': 'http://www.w3.org/1999/02/22-rdf-syntax-ns#Property'},\n",
       "    'o': {'type': 'uri',\n",
       "     'value': 'http://www.w3.org/2000/01/rdf-schema#Resource'}},\n",
       "   {'p': {'type': 'uri',\n",
       "     'value': 'http://www.w3.org/1999/02/22-rdf-syntax-ns#type'},\n",
       "    's': {'type': 'uri',\n",
       "     'value': 'http://www.w3.org/1999/02/22-rdf-syntax-ns#Property'},\n",
       "    'o': {'type': 'uri',\n",
       "     'value': 'http://www.w3.org/2000/01/rdf-schema#Class'}},\n",
       "   {'p': {'type': 'uri',\n",
       "     'value': 'http://www.w3.org/2000/01/rdf-schema#subClassOf'},\n",
       "    's': {'type': 'uri',\n",
       "     'value': 'http://www.w3.org/1999/02/22-rdf-syntax-ns#Property'},\n",
       "    'o': {'type': 'uri',\n",
       "     'value': 'http://www.w3.org/1999/02/22-rdf-syntax-ns#Property'}},\n",
       "   {'p': {'type': 'uri',\n",
       "     'value': 'http://www.w3.org/2000/01/rdf-schema#subClassOf'},\n",
       "    's': {'type': 'uri',\n",
       "     'value': 'http://www.w3.org/1999/02/22-rdf-syntax-ns#Property'},\n",
       "    'o': {'type': 'uri',\n",
       "     'value': 'http://www.w3.org/2000/01/rdf-schema#Resource'}},\n",
       "   {'p': {'type': 'uri',\n",
       "     'value': 'http://www.w3.org/1999/02/22-rdf-syntax-ns#type'},\n",
       "    's': {'type': 'uri',\n",
       "     'value': 'http://www.w3.org/1999/02/22-rdf-syntax-ns#subject'},\n",
       "    'o': {'type': 'uri',\n",
       "     'value': 'http://www.w3.org/1999/02/22-rdf-syntax-ns#Property'}},\n",
       "   {'p': {'type': 'uri',\n",
       "     'value': 'http://www.w3.org/1999/02/22-rdf-syntax-ns#type'},\n",
       "    's': {'type': 'uri',\n",
       "     'value': 'http://www.w3.org/1999/02/22-rdf-syntax-ns#subject'},\n",
       "    'o': {'type': 'uri',\n",
       "     'value': 'http://www.w3.org/2000/01/rdf-schema#Resource'}},\n",
       "   {'p': {'type': 'uri',\n",
       "     'value': 'http://www.w3.org/2000/01/rdf-schema#domain'},\n",
       "    's': {'type': 'uri',\n",
       "     'value': 'http://www.w3.org/1999/02/22-rdf-syntax-ns#subject'},\n",
       "    'o': {'type': 'uri',\n",
       "     'value': 'http://www.w3.org/1999/02/22-rdf-syntax-ns#Statement'}},\n",
       "   {'p': {'type': 'uri',\n",
       "     'value': 'http://www.w3.org/2000/01/rdf-schema#range'},\n",
       "    's': {'type': 'uri',\n",
       "     'value': 'http://www.w3.org/1999/02/22-rdf-syntax-ns#subject'},\n",
       "    'o': {'type': 'uri',\n",
       "     'value': 'http://www.w3.org/2000/01/rdf-schema#Resource'}},\n",
       "   {'p': {'type': 'uri',\n",
       "     'value': 'http://www.w3.org/2000/01/rdf-schema#subPropertyOf'},\n",
       "    's': {'type': 'uri',\n",
       "     'value': 'http://www.w3.org/1999/02/22-rdf-syntax-ns#subject'},\n",
       "    'o': {'type': 'uri',\n",
       "     'value': 'http://www.w3.org/1999/02/22-rdf-syntax-ns#subject'}},\n",
       "   {'p': {'type': 'uri',\n",
       "     'value': 'http://www.w3.org/1999/02/22-rdf-syntax-ns#type'},\n",
       "    's': {'type': 'uri',\n",
       "     'value': 'http://www.w3.org/1999/02/22-rdf-syntax-ns#predicate'},\n",
       "    'o': {'type': 'uri',\n",
       "     'value': 'http://www.w3.org/1999/02/22-rdf-syntax-ns#Property'}},\n",
       "   {'p': {'type': 'uri',\n",
       "     'value': 'http://www.w3.org/1999/02/22-rdf-syntax-ns#type'},\n",
       "    's': {'type': 'uri',\n",
       "     'value': 'http://www.w3.org/1999/02/22-rdf-syntax-ns#predicate'},\n",
       "    'o': {'type': 'uri',\n",
       "     'value': 'http://www.w3.org/2000/01/rdf-schema#Resource'}},\n",
       "   {'p': {'type': 'uri',\n",
       "     'value': 'http://www.w3.org/2000/01/rdf-schema#domain'},\n",
       "    's': {'type': 'uri',\n",
       "     'value': 'http://www.w3.org/1999/02/22-rdf-syntax-ns#predicate'},\n",
       "    'o': {'type': 'uri',\n",
       "     'value': 'http://www.w3.org/1999/02/22-rdf-syntax-ns#Statement'}},\n",
       "   {'p': {'type': 'uri',\n",
       "     'value': 'http://www.w3.org/2000/01/rdf-schema#range'},\n",
       "    's': {'type': 'uri',\n",
       "     'value': 'http://www.w3.org/1999/02/22-rdf-syntax-ns#predicate'},\n",
       "    'o': {'type': 'uri',\n",
       "     'value': 'http://www.w3.org/2000/01/rdf-schema#Resource'}},\n",
       "   {'p': {'type': 'uri',\n",
       "     'value': 'http://www.w3.org/2000/01/rdf-schema#subPropertyOf'},\n",
       "    's': {'type': 'uri',\n",
       "     'value': 'http://www.w3.org/1999/02/22-rdf-syntax-ns#predicate'},\n",
       "    'o': {'type': 'uri',\n",
       "     'value': 'http://www.w3.org/1999/02/22-rdf-syntax-ns#predicate'}},\n",
       "   {'p': {'type': 'uri',\n",
       "     'value': 'http://www.w3.org/1999/02/22-rdf-syntax-ns#type'},\n",
       "    's': {'type': 'uri',\n",
       "     'value': 'http://www.w3.org/1999/02/22-rdf-syntax-ns#object'},\n",
       "    'o': {'type': 'uri',\n",
       "     'value': 'http://www.w3.org/1999/02/22-rdf-syntax-ns#Property'}}]}}"
      ]
     },
     "execution_count": 240,
     "metadata": {},
     "output_type": "execute_result"
    }
   ],
   "source": [
    "results"
   ]
  },
  {
   "cell_type": "markdown",
   "metadata": {},
   "source": [
    "# New Main"
   ]
  },
  {
   "cell_type": "code",
   "execution_count": 1,
   "metadata": {},
   "outputs": [],
   "source": [
    "import sys\n",
    "sys.path.append('../src')"
   ]
  },
  {
   "cell_type": "code",
   "execution_count": 5,
   "metadata": {},
   "outputs": [],
   "source": [
    "import feature_topic_model_eval as fe\n",
    "from tqdm.notebook import tqdm\n",
    "import dsconcept.model as md\n",
    "from pathlib import Path\n",
    "from gensim.utils import tokenize\n",
    "fe.tqdm = tqdm"
   ]
  },
  {
   "cell_type": "code",
   "execution_count": 32,
   "metadata": {},
   "outputs": [
    {
     "data": {
      "text/plain": [
       "<module 'feature_topic_model_eval' from '../src/feature_topic_model_eval.py'>"
      ]
     },
     "execution_count": 32,
     "metadata": {},
     "output_type": "execute_result"
    }
   ],
   "source": [
    "import imp; imp.reload(fe)"
   ]
  },
  {
   "cell_type": "code",
   "execution_count": 7,
   "metadata": {},
   "outputs": [],
   "source": [
    "tqdm.pandas()"
   ]
  },
  {
   "cell_type": "code",
   "execution_count": 9,
   "metadata": {},
   "outputs": [
    {
     "name": "stderr",
     "output_type": "stream",
     "text": [
      "04-May-20 11:15:22 - Loading dataframe with shape: (3718, 5)\n",
      "04-May-20 11:15:22 - Getting textrank keywords\n"
     ]
    },
    {
     "data": {
      "application/vnd.jupyter.widget-view+json": {
       "model_id": "8271eea354674704bd9eb1f7d971b614",
       "version_major": 2,
       "version_minor": 0
      },
      "text/plain": [
       "HBox(children=(IntProgress(value=0, max=3718), HTML(value='')))"
      ]
     },
     "metadata": {},
     "output_type": "display_data"
    },
    {
     "name": "stderr",
     "output_type": "stream",
     "text": [
      "04-May-20 11:17:35 - Getting rake keywords\n"
     ]
    },
    {
     "name": "stdout",
     "output_type": "stream",
     "text": [
      "\n"
     ]
    },
    {
     "data": {
      "application/vnd.jupyter.widget-view+json": {
       "model_id": "75f7091de60444bd9185eecdedb39e61",
       "version_major": 2,
       "version_minor": 0
      },
      "text/plain": [
       "HBox(children=(IntProgress(value=0, max=3718), HTML(value='')))"
      ]
     },
     "metadata": {},
     "output_type": "display_data"
    },
    {
     "name": "stdout",
     "output_type": "stream",
     "text": [
      "\n"
     ]
    }
   ],
   "source": [
    "infile = Path(\"../data/full_04_01_2020/kwds.jsonl\")\n",
    "df = fe.load_data(infile, size=10_000)\n",
    "df = df.pipe(fe.get_textrank_kwds).pipe(fe.get_rake_kwds)"
   ]
  },
  {
   "cell_type": "code",
   "execution_count": 11,
   "metadata": {},
   "outputs": [
    {
     "name": "stderr",
     "output_type": "stream",
     "text": [
      "04-May-20 11:29:13 - Extracting features to tmp.jsonl\n",
      "3718it [01:30, 41.30it/s]\n",
      "04-May-20 11:30:43 - Extracted feature sets to tmp.jsonl\n"
     ]
    },
    {
     "data": {
      "text/plain": [
       "3718"
      ]
     },
     "execution_count": 11,
     "metadata": {},
     "output_type": "execute_result"
    }
   ],
   "source": [
    "md.extract_features_from_abstracts(df['text'], 'tmp.jsonl', 100, 12)"
   ]
  },
  {
   "cell_type": "code",
   "execution_count": 12,
   "metadata": {},
   "outputs": [],
   "source": [
    "fext = md.FeatureExtractor()\n",
    "features = fext.from_jsonlines('tmp.jsonl')\n",
    "base_kwds = [[k for k, v in fs.items()] for fs in fext.features]"
   ]
  },
  {
   "cell_type": "code",
   "execution_count": 13,
   "metadata": {},
   "outputs": [],
   "source": [
    "df['tokens'] = df['text'].apply(lambda x: list(tokenize(x, lowercase=True)))"
   ]
  },
  {
   "cell_type": "code",
   "execution_count": 15,
   "metadata": {},
   "outputs": [],
   "source": [
    "df['base'] = base_kwds"
   ]
  },
  {
   "cell_type": "code",
   "execution_count": 33,
   "metadata": {
    "collapsed": true,
    "jupyter": {
     "outputs_hidden": true
    }
   },
   "outputs": [
    {
     "name": "stderr",
     "output_type": "stream",
     "text": [
      "04-May-20 12:43:15 - Training LDA\n",
      "04-May-20 12:43:15 - adding document #0 to Dictionary(0 unique tokens: [])\n",
      "04-May-20 12:43:15 - built Dictionary(66221 unique tokens: ['Hierarchical Clustering', 'Press', 'Schechter formalism', 'Universal Density Profile', 'assembly time']...) from 3718 documents (total 160946 corpus positions)\n",
      "04-May-20 12:43:15 - using symmetric alpha at 0.3333333333333333\n",
      "04-May-20 12:43:15 - using symmetric eta at 0.3333333333333333\n",
      "04-May-20 12:43:15 - using serial LDA version on this node\n",
      "04-May-20 12:43:15 - running online LDA training, 3 topics, 5 passes over the supplied corpus of 3718 documents, updating every 22000 documents, evaluating every ~3718 documents, iterating 50x with a convergence threshold of 0.001000\n",
      "04-May-20 12:43:15 - too few updates, training might not converge; consider increasing the number of passes or iterations to improve accuracy\n",
      "04-May-20 12:43:15 - training LDA model using 11 processes\n",
      "04-May-20 12:43:15 - PROGRESS: pass 0, dispatched chunk #0 = documents up to #2000/3718, outstanding queue size 1\n",
      "04-May-20 12:43:15 - PROGRESS: pass 0, dispatched chunk #1 = documents up to #3718/3718, outstanding queue size 2\n",
      "04-May-20 12:43:19 - topic #0 (0.333): 0.004*\"result\" + 0.003*\"consistent\" + 0.002*\"high\" + 0.002*\"SUB\" + 0.002*\"observation\" + 0.002*\"low\" + 0.002*\"case\" + 0.002*\"order\" + 0.001*\"value\" + 0.001*\"datum\"\n",
      "04-May-20 12:43:19 - topic #1 (0.333): 0.003*\"result\" + 0.003*\"observation\" + 0.003*\"consistent\" + 0.002*\"high\" + 0.002*\"case\" + 0.002*\"SUB\" + 0.002*\"presence\" + 0.002*\"order\" + 0.002*\"datum\" + 0.002*\"time\"\n",
      "04-May-20 12:43:19 - topic #2 (0.333): 0.005*\"result\" + 0.003*\"observation\" + 0.003*\"evidence\" + 0.002*\"order\" + 0.002*\"presence\" + 0.002*\"consistent\" + 0.002*\"low\" + 0.002*\"object\" + 0.002*\"model\" + 0.002*\"time\"\n",
      "04-May-20 12:43:19 - topic diff=1.234888, rho=1.000000\n",
      "04-May-20 12:43:22 - -10.636 per-word bound, 1591.4 perplexity estimate based on a held-out corpus of 1718 documents with 65809 words\n",
      "04-May-20 12:43:22 - PROGRESS: pass 1, dispatched chunk #0 = documents up to #2000/3718, outstanding queue size 1\n",
      "04-May-20 12:43:22 - PROGRESS: pass 1, dispatched chunk #1 = documents up to #3718/3718, outstanding queue size 2\n",
      "04-May-20 12:43:24 - topic #0 (0.333): 0.004*\"result\" + 0.003*\"consistent\" + 0.002*\"high\" + 0.002*\"SUB\" + 0.002*\"low\" + 0.002*\"observation\" + 0.002*\"case\" + 0.002*\"order\" + 0.001*\"value\" + 0.001*\"datum\"\n",
      "04-May-20 12:43:24 - topic #1 (0.333): 0.003*\"result\" + 0.003*\"observation\" + 0.003*\"consistent\" + 0.002*\"high\" + 0.002*\"SUB\" + 0.002*\"case\" + 0.002*\"datum\" + 0.002*\"presence\" + 0.002*\"order\" + 0.002*\"evidence\"\n",
      "04-May-20 12:43:24 - topic #2 (0.333): 0.005*\"result\" + 0.003*\"observation\" + 0.003*\"evidence\" + 0.002*\"order\" + 0.002*\"consistent\" + 0.002*\"presence\" + 0.002*\"low\" + 0.002*\"object\" + 0.002*\"time\" + 0.002*\"model\"\n",
      "04-May-20 12:43:24 - topic diff=0.317157, rho=0.509053\n",
      "04-May-20 12:43:27 - -10.548 per-word bound, 1496.7 perplexity estimate based on a held-out corpus of 1718 documents with 65809 words\n",
      "04-May-20 12:43:27 - PROGRESS: pass 2, dispatched chunk #0 = documents up to #2000/3718, outstanding queue size 1\n",
      "04-May-20 12:43:27 - PROGRESS: pass 2, dispatched chunk #1 = documents up to #3718/3718, outstanding queue size 2\n",
      "04-May-20 12:43:28 - topic #0 (0.333): 0.004*\"result\" + 0.003*\"consistent\" + 0.002*\"high\" + 0.002*\"SUB\" + 0.002*\"low\" + 0.002*\"observation\" + 0.002*\"case\" + 0.002*\"order\" + 0.001*\"value\" + 0.001*\"evidence\"\n",
      "04-May-20 12:43:29 - topic #1 (0.333): 0.003*\"result\" + 0.003*\"observation\" + 0.003*\"consistent\" + 0.002*\"high\" + 0.002*\"SUB\" + 0.002*\"datum\" + 0.002*\"case\" + 0.002*\"presence\" + 0.002*\"order\" + 0.002*\"evidence\"\n",
      "04-May-20 12:43:29 - topic #2 (0.333): 0.005*\"result\" + 0.003*\"observation\" + 0.002*\"evidence\" + 0.002*\"order\" + 0.002*\"consistent\" + 0.002*\"presence\" + 0.002*\"low\" + 0.002*\"time\" + 0.002*\"object\" + 0.002*\"high\"\n",
      "04-May-20 12:43:29 - topic diff=0.193549, rho=0.453656\n",
      "04-May-20 12:43:31 - -10.516 per-word bound, 1464.4 perplexity estimate based on a held-out corpus of 1718 documents with 65809 words\n",
      "04-May-20 12:43:31 - PROGRESS: pass 3, dispatched chunk #0 = documents up to #2000/3718, outstanding queue size 1\n",
      "04-May-20 12:43:31 - PROGRESS: pass 3, dispatched chunk #1 = documents up to #3718/3718, outstanding queue size 2\n",
      "04-May-20 12:43:33 - topic #0 (0.333): 0.004*\"result\" + 0.003*\"consistent\" + 0.002*\"high\" + 0.002*\"SUB\" + 0.002*\"low\" + 0.002*\"observation\" + 0.002*\"case\" + 0.002*\"order\" + 0.001*\"value\" + 0.001*\"evidence\"\n",
      "04-May-20 12:43:33 - topic #1 (0.333): 0.003*\"result\" + 0.003*\"observation\" + 0.003*\"consistent\" + 0.002*\"high\" + 0.002*\"SUB\" + 0.002*\"datum\" + 0.002*\"presence\" + 0.002*\"case\" + 0.002*\"order\" + 0.002*\"evidence\"\n",
      "04-May-20 12:43:33 - topic #2 (0.333): 0.005*\"result\" + 0.003*\"observation\" + 0.002*\"evidence\" + 0.002*\"consistent\" + 0.002*\"order\" + 0.002*\"presence\" + 0.002*\"low\" + 0.002*\"time\" + 0.002*\"object\" + 0.002*\"high\"\n",
      "04-May-20 12:43:33 - topic diff=0.116740, rho=0.413131\n",
      "04-May-20 12:43:35 - -10.505 per-word bound, 1453.0 perplexity estimate based on a held-out corpus of 1718 documents with 65809 words\n",
      "04-May-20 12:43:35 - PROGRESS: pass 4, dispatched chunk #0 = documents up to #2000/3718, outstanding queue size 1\n",
      "04-May-20 12:43:35 - PROGRESS: pass 4, dispatched chunk #1 = documents up to #3718/3718, outstanding queue size 2\n",
      "04-May-20 12:43:36 - topic #0 (0.333): 0.004*\"result\" + 0.003*\"consistent\" + 0.002*\"high\" + 0.002*\"SUB\" + 0.002*\"low\" + 0.002*\"observation\" + 0.002*\"case\" + 0.002*\"order\" + 0.001*\"evidence\" + 0.001*\"value\"\n",
      "04-May-20 12:43:36 - topic #1 (0.333): 0.004*\"result\" + 0.003*\"observation\" + 0.003*\"consistent\" + 0.002*\"high\" + 0.002*\"SUB\" + 0.002*\"datum\" + 0.002*\"presence\" + 0.002*\"case\" + 0.002*\"order\" + 0.002*\"evidence\"\n",
      "04-May-20 12:43:36 - topic #2 (0.333): 0.005*\"result\" + 0.003*\"observation\" + 0.002*\"evidence\" + 0.002*\"consistent\" + 0.002*\"order\" + 0.002*\"presence\" + 0.002*\"low\" + 0.002*\"time\" + 0.002*\"object\" + 0.002*\"high\"\n",
      "04-May-20 12:43:36 - topic diff=0.072077, rho=0.381830\n",
      "04-May-20 12:43:39 - -10.501 per-word bound, 1448.7 perplexity estimate based on a held-out corpus of 1718 documents with 65809 words\n",
      "04-May-20 12:43:39 - CorpusAccumulator accumulated stats from 1000 documents\n",
      "04-May-20 12:43:39 - CorpusAccumulator accumulated stats from 2000 documents\n",
      "04-May-20 12:43:39 - CorpusAccumulator accumulated stats from 3000 documents\n",
      "04-May-20 12:43:39 - Coherence: -2.4197465199902792\n",
      "04-May-20 12:43:41 - Training LDA\n",
      "04-May-20 12:43:41 - adding document #0 to Dictionary(0 unique tokens: [])\n",
      "04-May-20 12:43:42 - built Dictionary(107828 unique tokens: ['allows accurate equilibrium profiles', 'assembled', 'assembly time allows', 'based', 'calculated']...) from 3718 documents (total 229780 corpus positions)\n",
      "04-May-20 12:43:42 - using symmetric alpha at 0.3333333333333333\n",
      "04-May-20 12:43:42 - using symmetric eta at 0.3333333333333333\n",
      "04-May-20 12:43:42 - using serial LDA version on this node\n",
      "04-May-20 12:43:42 - running online LDA training, 3 topics, 5 passes over the supplied corpus of 3718 documents, updating every 22000 documents, evaluating every ~3718 documents, iterating 50x with a convergence threshold of 0.001000\n",
      "04-May-20 12:43:42 - too few updates, training might not converge; consider increasing the number of passes or iterations to improve accuracy\n",
      "04-May-20 12:43:42 - training LDA model using 11 processes\n",
      "04-May-20 12:43:42 - PROGRESS: pass 0, dispatched chunk #0 = documents up to #2000/3718, outstanding queue size 1\n",
      "04-May-20 12:43:42 - PROGRESS: pass 0, dispatched chunk #1 = documents up to #3718/3718, outstanding queue size 2\n",
      "04-May-20 12:43:46 - topic #0 (0.333): 0.002*\"find\" + 0.002*\"observations\" + 0.002*\"<p />\" + 0.002*\"present\" + 0.002*\"obtained\" + 0.002*\"consistent\" + 0.002*\"results\" + 0.002*\"found\" + 0.001*\"detected\" + 0.001*\"observed\"\n",
      "04-May-20 12:43:46 - topic #1 (0.333): 0.003*\"found\" + 0.002*\"results\" + 0.002*\"find\" + 0.002*\"observations\" + 0.002*\"<p />\" + 0.002*\"present\" + 0.002*\"galaxies\" + 0.002*\"observed\" + 0.002*\"stars\" + 0.001*\"consistent\"\n",
      "04-May-20 12:43:46 - topic #2 (0.333): 0.003*\"find\" + 0.002*\"stars\" + 0.002*\"present\" + 0.002*\"found\" + 0.002*\"results\" + 0.002*\"galaxy\" + 0.002*\"observations\" + 0.001*\"consistent\" + 0.001*\"<p />\" + 0.001*\"galaxies\"\n",
      "04-May-20 12:43:46 - topic diff=1.107395, rho=1.000000\n",
      "04-May-20 12:43:49 - -11.189 per-word bound, 2334.7 perplexity estimate based on a held-out corpus of 1718 documents with 92794 words\n",
      "04-May-20 12:43:49 - PROGRESS: pass 1, dispatched chunk #0 = documents up to #2000/3718, outstanding queue size 1\n",
      "04-May-20 12:43:50 - PROGRESS: pass 1, dispatched chunk #1 = documents up to #3718/3718, outstanding queue size 2\n",
      "04-May-20 12:43:52 - topic #0 (0.333): 0.002*\"find\" + 0.002*\"observations\" + 0.002*\"present\" + 0.002*\"<p />\" + 0.002*\"obtained\" + 0.002*\"consistent\" + 0.002*\"results\" + 0.002*\"found\" + 0.001*\"observed\" + 0.001*\"detected\"\n",
      "04-May-20 12:43:52 - topic #1 (0.333): 0.003*\"found\" + 0.002*\"results\" + 0.002*\"find\" + 0.002*\"observations\" + 0.002*\"<p />\" + 0.002*\"present\" + 0.002*\"galaxies\" + 0.002*\"observed\" + 0.002*\"consistent\" + 0.002*\"stars\"\n",
      "04-May-20 12:43:52 - topic #2 (0.333): 0.003*\"find\" + 0.002*\"stars\" + 0.002*\"present\" + 0.002*\"found\" + 0.002*\"results\" + 0.002*\"<p />\" + 0.002*\"observations\" + 0.001*\"consistent\" + 0.001*\"galaxies\" + 0.001*\"galaxy\"\n",
      "04-May-20 12:43:52 - topic diff=0.372729, rho=0.509053\n",
      "04-May-20 12:43:55 - -11.062 per-word bound, 2138.3 perplexity estimate based on a held-out corpus of 1718 documents with 92794 words\n",
      "04-May-20 12:43:55 - PROGRESS: pass 2, dispatched chunk #0 = documents up to #2000/3718, outstanding queue size 1\n",
      "04-May-20 12:43:55 - PROGRESS: pass 2, dispatched chunk #1 = documents up to #3718/3718, outstanding queue size 2\n",
      "04-May-20 12:43:57 - topic #0 (0.333): 0.003*\"find\" + 0.002*\"observations\" + 0.002*\"present\" + 0.002*\"<p />\" + 0.002*\"results\" + 0.002*\"obtained\" + 0.002*\"consistent\" + 0.002*\"found\" + 0.001*\"observed\" + 0.001*\"detected\"\n",
      "04-May-20 12:43:57 - topic #1 (0.333): 0.003*\"found\" + 0.002*\"results\" + 0.002*\"find\" + 0.002*\"observations\" + 0.002*\"<p />\" + 0.002*\"present\" + 0.002*\"galaxies\" + 0.002*\"consistent\" + 0.002*\"observed\" + 0.002*\"stars\"\n",
      "04-May-20 12:43:57 - topic #2 (0.333): 0.003*\"find\" + 0.002*\"stars\" + 0.002*\"present\" + 0.002*\"found\" + 0.002*\"results\" + 0.002*\"<p />\" + 0.002*\"observations\" + 0.001*\"consistent\" + 0.001*\"galaxies\" + 0.001*\"galaxy\"\n",
      "04-May-20 12:43:57 - topic diff=0.226498, rho=0.453656\n",
      "04-May-20 12:44:00 - -11.021 per-word bound, 2077.8 perplexity estimate based on a held-out corpus of 1718 documents with 92794 words\n",
      "04-May-20 12:44:00 - PROGRESS: pass 3, dispatched chunk #0 = documents up to #2000/3718, outstanding queue size 1\n",
      "04-May-20 12:44:00 - PROGRESS: pass 3, dispatched chunk #1 = documents up to #3718/3718, outstanding queue size 2\n",
      "04-May-20 12:44:01 - topic #0 (0.333): 0.003*\"find\" + 0.002*\"observations\" + 0.002*\"present\" + 0.002*\"<p />\" + 0.002*\"results\" + 0.002*\"found\" + 0.002*\"consistent\" + 0.002*\"obtained\" + 0.001*\"observed\" + 0.001*\"detected\"\n",
      "04-May-20 12:44:01 - topic #1 (0.333): 0.003*\"found\" + 0.002*\"find\" + 0.002*\"results\" + 0.002*\"observations\" + 0.002*\"<p />\" + 0.002*\"present\" + 0.002*\"galaxies\" + 0.002*\"consistent\" + 0.002*\"observed\" + 0.002*\"stars\"\n",
      "04-May-20 12:44:01 - topic #2 (0.333): 0.003*\"find\" + 0.002*\"stars\" + 0.002*\"found\" + 0.002*\"present\" + 0.002*\"results\" + 0.002*\"<p />\" + 0.002*\"observations\" + 0.001*\"consistent\" + 0.001*\"galaxies\" + 0.001*\"galaxy\"\n",
      "04-May-20 12:44:01 - topic diff=0.135799, rho=0.413131\n",
      "04-May-20 12:44:04 - -11.007 per-word bound, 2057.4 perplexity estimate based on a held-out corpus of 1718 documents with 92794 words\n",
      "04-May-20 12:44:04 - PROGRESS: pass 4, dispatched chunk #0 = documents up to #2000/3718, outstanding queue size 1\n",
      "04-May-20 12:44:04 - PROGRESS: pass 4, dispatched chunk #1 = documents up to #3718/3718, outstanding queue size 2\n",
      "04-May-20 12:44:06 - topic #0 (0.333): 0.003*\"find\" + 0.002*\"observations\" + 0.002*\"present\" + 0.002*\"<p />\" + 0.002*\"results\" + 0.002*\"found\" + 0.002*\"consistent\" + 0.002*\"obtained\" + 0.001*\"observed\" + 0.001*\"detected\"\n",
      "04-May-20 12:44:06 - topic #1 (0.333): 0.003*\"found\" + 0.002*\"find\" + 0.002*\"results\" + 0.002*\"observations\" + 0.002*\"<p />\" + 0.002*\"present\" + 0.002*\"galaxies\" + 0.002*\"consistent\" + 0.002*\"observed\" + 0.002*\"stars\"\n",
      "04-May-20 12:44:06 - topic #2 (0.333): 0.003*\"find\" + 0.002*\"stars\" + 0.002*\"found\" + 0.002*\"present\" + 0.002*\"results\" + 0.002*\"<p />\" + 0.002*\"observations\" + 0.001*\"consistent\" + 0.001*\"galaxies\" + 0.001*\"galaxy\"\n",
      "04-May-20 12:44:06 - topic diff=0.082882, rho=0.381830\n",
      "04-May-20 12:44:09 - -11.002 per-word bound, 2050.6 perplexity estimate based on a held-out corpus of 1718 documents with 92794 words\n",
      "04-May-20 12:44:09 - CorpusAccumulator accumulated stats from 1000 documents\n",
      "04-May-20 12:44:09 - CorpusAccumulator accumulated stats from 2000 documents\n",
      "04-May-20 12:44:09 - CorpusAccumulator accumulated stats from 3000 documents\n",
      "04-May-20 12:44:09 - Coherence: -2.1438609397190382\n",
      "04-May-20 12:44:11 - Training LDA\n",
      "04-May-20 12:44:11 - adding document #0 to Dictionary(0 unique tokens: [])\n",
      "04-May-20 12:44:12 - built Dictionary(96807 unique tokens: ['Clustering', 'Density', 'Hierarchical', 'Hierarchical Clustering', 'Press']...) from 3718 documents (total 313594 corpus positions)\n",
      "04-May-20 12:44:12 - using symmetric alpha at 0.3333333333333333\n",
      "04-May-20 12:44:12 - using symmetric eta at 0.3333333333333333\n",
      "04-May-20 12:44:12 - using serial LDA version on this node\n",
      "04-May-20 12:44:12 - running online LDA training, 3 topics, 5 passes over the supplied corpus of 3718 documents, updating every 22000 documents, evaluating every ~3718 documents, iterating 50x with a convergence threshold of 0.001000\n",
      "04-May-20 12:44:12 - too few updates, training might not converge; consider increasing the number of passes or iterations to improve accuracy\n",
      "04-May-20 12:44:12 - training LDA model using 11 processes\n",
      "04-May-20 12:44:12 - PROGRESS: pass 0, dispatched chunk #0 = documents up to #2000/3718, outstanding queue size 1\n",
      "04-May-20 12:44:12 - PROGRESS: pass 0, dispatched chunk #1 = documents up to #3718/3718, outstanding queue size 2\n",
      "04-May-20 12:44:16 - topic #0 (0.333): 0.005*\"star\" + 0.004*\"observation\" + 0.003*\"model\" + 0.003*\"galaxy\" + 0.003*\"source\" + 0.003*\"result\" + 0.002*\"ray\" + 0.002*\"emission\" + 0.002*\"line\" + 0.002*\"distribution\"\n",
      "04-May-20 12:44:16 - topic #1 (0.333): 0.005*\"star\" + 0.004*\"observation\" + 0.003*\"model\" + 0.003*\"result\" + 0.003*\"system\" + 0.003*\"line\" + 0.003*\"region\" + 0.002*\"galaxy\" + 0.002*\"emission\" + 0.002*\"velocity\"\n",
      "04-May-20 12:44:16 - topic #2 (0.333): 0.004*\"model\" + 0.004*\"emission\" + 0.004*\"star\" + 0.004*\"result\" + 0.004*\"observation\" + 0.003*\"line\" + 0.003*\"galaxy\" + 0.003*\"region\" + 0.003*\"datum\" + 0.003*\"mass\"\n",
      "04-May-20 12:44:16 - topic diff=1.293329, rho=1.000000\n",
      "04-May-20 12:44:21 - -10.138 per-word bound, 1126.7 perplexity estimate based on a held-out corpus of 1718 documents with 127907 words\n",
      "04-May-20 12:44:21 - PROGRESS: pass 1, dispatched chunk #0 = documents up to #2000/3718, outstanding queue size 1\n",
      "04-May-20 12:44:21 - PROGRESS: pass 1, dispatched chunk #1 = documents up to #3718/3718, outstanding queue size 2\n",
      "04-May-20 12:44:24 - topic #0 (0.333): 0.005*\"star\" + 0.004*\"observation\" + 0.003*\"model\" + 0.003*\"source\" + 0.003*\"result\" + 0.003*\"galaxy\" + 0.003*\"emission\" + 0.002*\"line\" + 0.002*\"distribution\" + 0.002*\"ray\"\n",
      "04-May-20 12:44:24 - topic #1 (0.333): 0.005*\"star\" + 0.004*\"observation\" + 0.003*\"model\" + 0.003*\"result\" + 0.003*\"system\" + 0.003*\"line\" + 0.002*\"region\" + 0.002*\"emission\" + 0.002*\"velocity\" + 0.002*\"galaxy\"\n",
      "04-May-20 12:44:24 - topic #2 (0.333): 0.004*\"model\" + 0.004*\"star\" + 0.004*\"emission\" + 0.004*\"observation\" + 0.004*\"result\" + 0.004*\"galaxy\" + 0.003*\"line\" + 0.003*\"region\" + 0.003*\"datum\" + 0.003*\"-\"\n",
      "04-May-20 12:44:24 - topic diff=0.377189, rho=0.509053\n",
      "04-May-20 12:44:28 - -10.044 per-word bound, 1055.6 perplexity estimate based on a held-out corpus of 1718 documents with 127907 words\n",
      "04-May-20 12:44:28 - PROGRESS: pass 2, dispatched chunk #0 = documents up to #2000/3718, outstanding queue size 1\n",
      "04-May-20 12:44:29 - PROGRESS: pass 2, dispatched chunk #1 = documents up to #3718/3718, outstanding queue size 2\n",
      "04-May-20 12:44:31 - topic #0 (0.333): 0.005*\"star\" + 0.004*\"observation\" + 0.003*\"model\" + 0.003*\"source\" + 0.003*\"result\" + 0.003*\"emission\" + 0.003*\"galaxy\" + 0.002*\"line\" + 0.002*\"distribution\" + 0.002*\"mass\"\n",
      "04-May-20 12:44:31 - topic #1 (0.333): 0.005*\"star\" + 0.004*\"observation\" + 0.003*\"model\" + 0.003*\"result\" + 0.003*\"system\" + 0.003*\"line\" + 0.002*\"region\" + 0.002*\"emission\" + 0.002*\"velocity\" + 0.002*\"datum\"\n",
      "04-May-20 12:44:31 - topic #2 (0.333): 0.004*\"star\" + 0.004*\"model\" + 0.004*\"observation\" + 0.004*\"emission\" + 0.004*\"galaxy\" + 0.004*\"result\" + 0.003*\"line\" + 0.003*\"region\" + 0.003*\"datum\" + 0.003*\"-\"\n",
      "04-May-20 12:44:31 - topic diff=0.242574, rho=0.453656\n",
      "04-May-20 12:44:35 - -10.008 per-word bound, 1029.8 perplexity estimate based on a held-out corpus of 1718 documents with 127907 words\n",
      "04-May-20 12:44:35 - PROGRESS: pass 3, dispatched chunk #0 = documents up to #2000/3718, outstanding queue size 1\n",
      "04-May-20 12:44:35 - PROGRESS: pass 3, dispatched chunk #1 = documents up to #3718/3718, outstanding queue size 2\n",
      "04-May-20 12:44:37 - topic #0 (0.333): 0.005*\"star\" + 0.004*\"observation\" + 0.003*\"model\" + 0.003*\"source\" + 0.003*\"emission\" + 0.003*\"result\" + 0.003*\"galaxy\" + 0.002*\"line\" + 0.002*\"mass\" + 0.002*\"distribution\"\n",
      "04-May-20 12:44:37 - topic #1 (0.333): 0.005*\"star\" + 0.004*\"observation\" + 0.003*\"model\" + 0.003*\"result\" + 0.003*\"system\" + 0.003*\"line\" + 0.002*\"region\" + 0.002*\"emission\" + 0.002*\"velocity\" + 0.002*\"datum\"\n",
      "04-May-20 12:44:37 - topic #2 (0.333): 0.004*\"star\" + 0.004*\"model\" + 0.004*\"observation\" + 0.004*\"galaxy\" + 0.004*\"emission\" + 0.004*\"result\" + 0.003*\"line\" + 0.003*\"region\" + 0.003*\"datum\" + 0.003*\"-\"\n",
      "04-May-20 12:44:37 - topic diff=0.148748, rho=0.413131\n",
      "04-May-20 12:44:41 - -9.995 per-word bound, 1020.7 perplexity estimate based on a held-out corpus of 1718 documents with 127907 words\n",
      "04-May-20 12:44:41 - PROGRESS: pass 4, dispatched chunk #0 = documents up to #2000/3718, outstanding queue size 1\n",
      "04-May-20 12:44:41 - PROGRESS: pass 4, dispatched chunk #1 = documents up to #3718/3718, outstanding queue size 2\n",
      "04-May-20 12:44:43 - topic #0 (0.333): 0.005*\"star\" + 0.004*\"observation\" + 0.003*\"model\" + 0.003*\"emission\" + 0.003*\"source\" + 0.003*\"result\" + 0.002*\"galaxy\" + 0.002*\"line\" + 0.002*\"mass\" + 0.002*\"distribution\"\n",
      "04-May-20 12:44:43 - topic #1 (0.333): 0.005*\"star\" + 0.004*\"observation\" + 0.003*\"model\" + 0.003*\"result\" + 0.003*\"system\" + 0.003*\"line\" + 0.002*\"region\" + 0.002*\"emission\" + 0.002*\"datum\" + 0.002*\"velocity\"\n",
      "04-May-20 12:44:43 - topic #2 (0.333): 0.004*\"star\" + 0.004*\"model\" + 0.004*\"observation\" + 0.004*\"galaxy\" + 0.004*\"emission\" + 0.004*\"result\" + 0.003*\"line\" + 0.003*\"region\" + 0.003*\"datum\" + 0.003*\"-\"\n",
      "04-May-20 12:44:43 - topic diff=0.092634, rho=0.381830\n",
      "04-May-20 12:44:47 - -9.991 per-word bound, 1017.3 perplexity estimate based on a held-out corpus of 1718 documents with 127907 words\n",
      "04-May-20 12:44:47 - CorpusAccumulator accumulated stats from 1000 documents\n",
      "04-May-20 12:44:47 - CorpusAccumulator accumulated stats from 2000 documents\n",
      "04-May-20 12:44:47 - CorpusAccumulator accumulated stats from 3000 documents\n",
      "04-May-20 12:44:47 - Coherence: -1.371218775989185\n",
      "04-May-20 12:44:50 - Training LDA\n",
      "04-May-20 12:44:50 - adding document #0 to Dictionary(0 unique tokens: [])\n",
      "04-May-20 12:44:51 - built Dictionary(14515 unique tokens: ['a', 'accurate', 'agreement', 'all', 'allows']...) from 3718 documents (total 846615 corpus positions)\n",
      "04-May-20 12:44:52 - using symmetric alpha at 0.3333333333333333\n",
      "04-May-20 12:44:52 - using symmetric eta at 0.3333333333333333\n",
      "04-May-20 12:44:52 - using serial LDA version on this node\n",
      "04-May-20 12:44:52 - running online LDA training, 3 topics, 5 passes over the supplied corpus of 3718 documents, updating every 22000 documents, evaluating every ~3718 documents, iterating 50x with a convergence threshold of 0.001000\n",
      "04-May-20 12:44:52 - too few updates, training might not converge; consider increasing the number of passes or iterations to improve accuracy\n",
      "04-May-20 12:44:52 - training LDA model using 11 processes\n",
      "04-May-20 12:44:52 - PROGRESS: pass 0, dispatched chunk #0 = documents up to #2000/3718, outstanding queue size 1\n",
      "04-May-20 12:44:52 - PROGRESS: pass 0, dispatched chunk #1 = documents up to #3718/3718, outstanding queue size 2\n",
      "04-May-20 12:44:55 - topic #0 (0.333): 0.086*\"the\" + 0.049*\"of\" + 0.022*\"in\" + 0.019*\"and\" + 0.019*\"a\" + 0.013*\"to\" + 0.013*\"is\" + 0.011*\"we\" + 0.011*\"for\" + 0.010*\"that\"\n",
      "04-May-20 12:44:55 - topic #1 (0.333): 0.082*\"the\" + 0.043*\"of\" + 0.029*\"and\" + 0.024*\"a\" + 0.019*\"to\" + 0.018*\"in\" + 0.013*\"is\" + 0.011*\"with\" + 0.010*\"sub\" + 0.009*\"that\"\n",
      "04-May-20 12:44:55 - topic #2 (0.333): 0.072*\"the\" + 0.046*\"of\" + 0.027*\"in\" + 0.024*\"and\" + 0.020*\"a\" + 0.016*\"to\" + 0.015*\"with\" + 0.012*\"is\" + 0.010*\"sub\" + 0.010*\"for\"\n",
      "04-May-20 12:44:55 - topic diff=2.548645, rho=1.000000\n",
      "04-May-20 12:45:02 - -6.726 per-word bound, 105.9 perplexity estimate based on a held-out corpus of 1718 documents with 340896 words\n",
      "04-May-20 12:45:02 - PROGRESS: pass 1, dispatched chunk #0 = documents up to #2000/3718, outstanding queue size 1\n",
      "04-May-20 12:45:02 - PROGRESS: pass 1, dispatched chunk #1 = documents up to #3718/3718, outstanding queue size 2\n",
      "04-May-20 12:45:06 - topic #0 (0.333): 0.086*\"the\" + 0.049*\"of\" + 0.022*\"in\" + 0.019*\"and\" + 0.019*\"a\" + 0.014*\"to\" + 0.013*\"is\" + 0.011*\"sup\" + 0.011*\"we\" + 0.011*\"for\"\n",
      "04-May-20 12:45:06 - topic #1 (0.333): 0.082*\"the\" + 0.044*\"of\" + 0.029*\"and\" + 0.024*\"a\" + 0.019*\"to\" + 0.018*\"in\" + 0.013*\"is\" + 0.011*\"with\" + 0.009*\"sub\" + 0.009*\"we\"\n",
      "04-May-20 12:45:06 - topic #2 (0.333): 0.072*\"the\" + 0.045*\"of\" + 0.027*\"in\" + 0.025*\"and\" + 0.020*\"a\" + 0.015*\"to\" + 0.015*\"with\" + 0.012*\"is\" + 0.010*\"for\" + 0.009*\"sub\"\n",
      "04-May-20 12:45:06 - topic diff=0.229916, rho=0.509053\n",
      "04-May-20 12:45:13 - -6.705 per-word bound, 104.3 perplexity estimate based on a held-out corpus of 1718 documents with 340896 words\n",
      "04-May-20 12:45:13 - PROGRESS: pass 2, dispatched chunk #0 = documents up to #2000/3718, outstanding queue size 1\n",
      "04-May-20 12:45:13 - PROGRESS: pass 2, dispatched chunk #1 = documents up to #3718/3718, outstanding queue size 2\n",
      "04-May-20 12:45:16 - topic #0 (0.333): 0.085*\"the\" + 0.049*\"of\" + 0.022*\"in\" + 0.020*\"and\" + 0.020*\"a\" + 0.015*\"to\" + 0.014*\"is\" + 0.012*\"sup\" + 0.011*\"we\" + 0.011*\"sub\"\n",
      "04-May-20 12:45:16 - topic #1 (0.333): 0.082*\"the\" + 0.044*\"of\" + 0.028*\"and\" + 0.024*\"a\" + 0.018*\"to\" + 0.018*\"in\" + 0.013*\"is\" + 0.011*\"with\" + 0.009*\"we\" + 0.009*\"that\"\n",
      "04-May-20 12:45:16 - topic #2 (0.333): 0.073*\"the\" + 0.045*\"of\" + 0.026*\"in\" + 0.025*\"and\" + 0.019*\"a\" + 0.015*\"to\" + 0.014*\"with\" + 0.012*\"is\" + 0.010*\"for\" + 0.009*\"we\"\n",
      "04-May-20 12:45:16 - topic diff=0.211108, rho=0.453656\n",
      "04-May-20 12:45:23 - -6.686 per-word bound, 103.0 perplexity estimate based on a held-out corpus of 1718 documents with 340896 words\n",
      "04-May-20 12:45:23 - PROGRESS: pass 3, dispatched chunk #0 = documents up to #2000/3718, outstanding queue size 1\n",
      "04-May-20 12:45:23 - PROGRESS: pass 3, dispatched chunk #1 = documents up to #3718/3718, outstanding queue size 2\n",
      "04-May-20 12:45:27 - topic #0 (0.333): 0.085*\"the\" + 0.048*\"of\" + 0.022*\"in\" + 0.020*\"and\" + 0.020*\"a\" + 0.015*\"to\" + 0.014*\"is\" + 0.013*\"sup\" + 0.012*\"sub\" + 0.011*\"we\"\n",
      "04-May-20 12:45:27 - topic #1 (0.333): 0.082*\"the\" + 0.045*\"of\" + 0.027*\"and\" + 0.024*\"a\" + 0.018*\"in\" + 0.018*\"to\" + 0.013*\"is\" + 0.011*\"with\" + 0.010*\"we\" + 0.009*\"x\"\n",
      "04-May-20 12:45:27 - topic #2 (0.333): 0.073*\"the\" + 0.045*\"of\" + 0.026*\"in\" + 0.026*\"and\" + 0.019*\"a\" + 0.015*\"to\" + 0.014*\"with\" + 0.011*\"is\" + 0.010*\"for\" + 0.009*\"we\"\n",
      "04-May-20 12:45:27 - topic diff=0.174771, rho=0.413131\n",
      "04-May-20 12:45:34 - -6.672 per-word bound, 102.0 perplexity estimate based on a held-out corpus of 1718 documents with 340896 words\n",
      "04-May-20 12:45:34 - PROGRESS: pass 4, dispatched chunk #0 = documents up to #2000/3718, outstanding queue size 1\n",
      "04-May-20 12:45:34 - PROGRESS: pass 4, dispatched chunk #1 = documents up to #3718/3718, outstanding queue size 2\n",
      "04-May-20 12:45:37 - topic #0 (0.333): 0.085*\"the\" + 0.048*\"of\" + 0.022*\"in\" + 0.021*\"and\" + 0.020*\"a\" + 0.016*\"to\" + 0.014*\"is\" + 0.013*\"sup\" + 0.013*\"sub\" + 0.011*\"we\"\n",
      "04-May-20 12:45:37 - topic #1 (0.333): 0.082*\"the\" + 0.045*\"of\" + 0.027*\"and\" + 0.024*\"a\" + 0.018*\"in\" + 0.017*\"to\" + 0.013*\"is\" + 0.011*\"with\" + 0.010*\"x\" + 0.010*\"we\"\n",
      "04-May-20 12:45:37 - topic #2 (0.333): 0.074*\"the\" + 0.045*\"of\" + 0.026*\"and\" + 0.025*\"in\" + 0.019*\"a\" + 0.015*\"to\" + 0.014*\"with\" + 0.011*\"is\" + 0.010*\"for\" + 0.009*\"are\"\n",
      "04-May-20 12:45:37 - topic diff=0.142712, rho=0.381830\n",
      "04-May-20 12:45:44 - -6.661 per-word bound, 101.2 perplexity estimate based on a held-out corpus of 1718 documents with 340896 words\n",
      "04-May-20 12:45:45 - CorpusAccumulator accumulated stats from 1000 documents\n",
      "04-May-20 12:45:45 - CorpusAccumulator accumulated stats from 2000 documents\n",
      "04-May-20 12:45:45 - CorpusAccumulator accumulated stats from 3000 documents\n",
      "04-May-20 12:45:45 - Coherence: -0.49699634912841334\n",
      "04-May-20 12:45:51 - Training LDA\n",
      "04-May-20 12:45:51 - adding document #0 to Dictionary(0 unique tokens: [])\n",
      "04-May-20 12:45:51 - built Dictionary(4126 unique tokens: ['Astrophysics', 'Cosmology: Dark Matter', 'Cosmology: Theory', 'Galaxies: Halos', 'Methods: Numerical']...) from 3718 documents (total 21336 corpus positions)\n",
      "04-May-20 12:45:51 - using symmetric alpha at 0.3333333333333333\n",
      "04-May-20 12:45:51 - using symmetric eta at 0.3333333333333333\n",
      "04-May-20 12:45:51 - using serial LDA version on this node\n",
      "04-May-20 12:45:51 - running online LDA training, 3 topics, 5 passes over the supplied corpus of 3718 documents, updating every 22000 documents, evaluating every ~3718 documents, iterating 50x with a convergence threshold of 0.001000\n",
      "04-May-20 12:45:51 - too few updates, training might not converge; consider increasing the number of passes or iterations to improve accuracy\n",
      "04-May-20 12:45:51 - training LDA model using 11 processes\n",
      "04-May-20 12:45:52 - PROGRESS: pass 0, dispatched chunk #0 = documents up to #2000/3718, outstanding queue size 1\n",
      "04-May-20 12:45:52 - PROGRESS: pass 0, dispatched chunk #1 = documents up to #3718/3718, outstanding queue size 2\n",
      "04-May-20 12:45:54 - topic #0 (0.333): 0.079*\"Astrophysics\" + 0.012*\"GALAXIES: ACTIVE\" + 0.009*\"Accretion Disks\" + 0.008*\"X-RAYS: STARS\" + 0.008*\"Accretion\" + 0.008*\"STARS: ABUNDANCES\" + 0.008*\"Galaxies: Active\" + 0.007*\"ACCRETION\" + 0.007*\"Galaxies: ISM\" + 0.007*\"X-Rays: Galaxies\"\n",
      "04-May-20 12:45:54 - topic #1 (0.333): 0.030*\"Astrophysics\" + 0.013*\"X-RAYS: STARS\" + 0.008*\"X-Rays: Stars\" + 0.007*\"ACCRETION\" + 0.006*\"Stars: Circumstellar Matter\" + 0.006*\"ACCRETION DISCS\" + 0.006*\"Gamma Rays\" + 0.006*\"BINARIES: CLOSE\" + 0.006*\"Sun: X-Rays\" + 0.005*\"GALAXIES: EVOLUTION\"\n",
      "04-May-20 12:45:54 - topic #2 (0.333): 0.038*\"Astrophysics\" + 0.007*\"GALAXIES: EVOLUTION\" + 0.007*\"STARS: LATE-TYPE\" + 0.007*\"STARS: CIRCUMSTELLAR MATTER\" + 0.006*\"GALAXIES: KINEMATICS AND DYNAMICS\" + 0.006*\"GALAXIES: SPIRAL\" + 0.006*\"STARS: MAGNETIC FIELDS\" + 0.005*\"GALAXIES: FUNDAMENTAL PARAMETERS\" + 0.005*\"INFRARED: GALAXIES\" + 0.005*\"STARS: MASS-LOSS\"\n",
      "04-May-20 12:45:54 - topic diff=1.943829, rho=1.000000\n",
      "04-May-20 12:45:55 - -7.519 per-word bound, 183.4 perplexity estimate based on a held-out corpus of 1718 documents with 9485 words\n",
      "04-May-20 12:45:55 - PROGRESS: pass 1, dispatched chunk #0 = documents up to #2000/3718, outstanding queue size 1\n",
      "04-May-20 12:45:55 - PROGRESS: pass 1, dispatched chunk #1 = documents up to #3718/3718, outstanding queue size 2\n",
      "04-May-20 12:45:57 - topic #0 (0.333): 0.080*\"Astrophysics\" + 0.013*\"GALAXIES: ACTIVE\" + 0.009*\"Accretion Disks\" + 0.009*\"Accretion\" + 0.008*\"STARS: ABUNDANCES\" + 0.008*\"Galaxies: Active\" + 0.008*\"X-RAYS: STARS\" + 0.007*\"ACCRETION\" + 0.007*\"Galaxies: ISM\" + 0.007*\"X-Rays: Galaxies\"\n",
      "04-May-20 12:45:57 - topic #1 (0.333): 0.027*\"Astrophysics\" + 0.014*\"X-RAYS: STARS\" + 0.008*\"ACCRETION\" + 0.008*\"X-Rays: Stars\" + 0.007*\"Stars: Circumstellar Matter\" + 0.007*\"BINARIES: CLOSE\" + 0.007*\"Gamma Rays\" + 0.007*\"ACCRETION DISCS\" + 0.007*\"Sun: X-Rays\" + 0.007*\"Stars: Pre-Main-Sequence\"\n",
      "04-May-20 12:45:57 - topic #2 (0.333): 0.039*\"Astrophysics\" + 0.008*\"STARS: LATE-TYPE\" + 0.008*\"GALAXIES: EVOLUTION\" + 0.008*\"GALAXIES: KINEMATICS AND DYNAMICS\" + 0.007*\"GALAXIES: SPIRAL\" + 0.007*\"STARS: CIRCUMSTELLAR MATTER\" + 0.006*\"GALAXIES: FUNDAMENTAL PARAMETERS\" + 0.006*\"STARS: MAGNETIC FIELDS\" + 0.006*\"STARS: FORMATION\" + 0.006*\"GALAXIES: STRUCTURE\"\n",
      "04-May-20 12:45:57 - topic diff=0.126010, rho=0.509053\n",
      "04-May-20 12:45:58 - -7.476 per-word bound, 178.1 perplexity estimate based on a held-out corpus of 1718 documents with 9485 words\n",
      "04-May-20 12:45:58 - PROGRESS: pass 2, dispatched chunk #0 = documents up to #2000/3718, outstanding queue size 1\n",
      "04-May-20 12:45:58 - PROGRESS: pass 2, dispatched chunk #1 = documents up to #3718/3718, outstanding queue size 2\n",
      "04-May-20 12:45:59 - topic #0 (0.333): 0.080*\"Astrophysics\" + 0.013*\"GALAXIES: ACTIVE\" + 0.010*\"Accretion Disks\" + 0.009*\"Accretion\" + 0.009*\"Galaxies: Active\" + 0.009*\"STARS: ABUNDANCES\" + 0.008*\"X-RAYS: STARS\" + 0.007*\"Galaxies: ISM\" + 0.007*\"ACCRETION\" + 0.007*\"X-Rays: Galaxies\"\n",
      "04-May-20 12:45:59 - topic #1 (0.333): 0.026*\"Astrophysics\" + 0.015*\"X-RAYS: STARS\" + 0.009*\"ACCRETION\" + 0.008*\"BINARIES: CLOSE\" + 0.008*\"Stars: Circumstellar Matter\" + 0.008*\"X-Rays: Stars\" + 0.008*\"Stars: Pre-Main-Sequence\" + 0.008*\"ACCRETION DISCS\" + 0.008*\"Gamma Rays\" + 0.008*\"Sun: X-Rays\"\n",
      "04-May-20 12:45:59 - topic #2 (0.333): 0.040*\"Astrophysics\" + 0.009*\"STARS: LATE-TYPE\" + 0.009*\"GALAXIES: EVOLUTION\" + 0.009*\"GALAXIES: KINEMATICS AND DYNAMICS\" + 0.008*\"GALAXIES: SPIRAL\" + 0.008*\"STARS: FORMATION\" + 0.007*\"STARS: CIRCUMSTELLAR MATTER\" + 0.007*\"GALAXIES: FUNDAMENTAL PARAMETERS\" + 0.007*\"GALAXIES: STRUCTURE\" + 0.006*\"GALAXIES: ISM\"\n",
      "04-May-20 12:45:59 - topic diff=0.088933, rho=0.453656\n",
      "04-May-20 12:46:01 - -7.445 per-word bound, 174.3 perplexity estimate based on a held-out corpus of 1718 documents with 9485 words\n",
      "04-May-20 12:46:01 - PROGRESS: pass 3, dispatched chunk #0 = documents up to #2000/3718, outstanding queue size 1\n",
      "04-May-20 12:46:01 - PROGRESS: pass 3, dispatched chunk #1 = documents up to #3718/3718, outstanding queue size 2\n",
      "04-May-20 12:46:02 - topic #0 (0.333): 0.081*\"Astrophysics\" + 0.013*\"GALAXIES: ACTIVE\" + 0.010*\"Accretion Disks\" + 0.009*\"Accretion\" + 0.009*\"Galaxies: Active\" + 0.009*\"STARS: ABUNDANCES\" + 0.008*\"Galaxies: ISM\" + 0.007*\"X-RAYS: STARS\" + 0.007*\"X-Rays: Galaxies\" + 0.007*\"X-RAYS: GALAXIES\"\n",
      "04-May-20 12:46:02 - topic #1 (0.333): 0.024*\"Astrophysics\" + 0.016*\"X-RAYS: STARS\" + 0.009*\"ACCRETION\" + 0.009*\"BINARIES: CLOSE\" + 0.009*\"Stars: Pre-Main-Sequence\" + 0.009*\"Stars: Circumstellar Matter\" + 0.008*\"CATACLYSMIC VARIABLES\" + 0.008*\"ACCRETION DISCS\" + 0.008*\"X-Rays: Stars\" + 0.008*\"Gamma Rays\"\n",
      "04-May-20 12:46:02 - topic #2 (0.333): 0.041*\"Astrophysics\" + 0.010*\"STARS: LATE-TYPE\" + 0.010*\"GALAXIES: EVOLUTION\" + 0.009*\"GALAXIES: KINEMATICS AND DYNAMICS\" + 0.009*\"STARS: FORMATION\" + 0.009*\"GALAXIES: SPIRAL\" + 0.007*\"GALAXIES: FUNDAMENTAL PARAMETERS\" + 0.007*\"GALAXIES: STRUCTURE\" + 0.007*\"STARS: CIRCUMSTELLAR MATTER\" + 0.007*\"GALAXIES: ISM\"\n",
      "04-May-20 12:46:02 - topic diff=0.071797, rho=0.413131\n",
      "04-May-20 12:46:03 - -7.419 per-word bound, 171.2 perplexity estimate based on a held-out corpus of 1718 documents with 9485 words\n",
      "04-May-20 12:46:03 - PROGRESS: pass 4, dispatched chunk #0 = documents up to #2000/3718, outstanding queue size 1\n",
      "04-May-20 12:46:03 - PROGRESS: pass 4, dispatched chunk #1 = documents up to #3718/3718, outstanding queue size 2\n",
      "04-May-20 12:46:04 - topic #0 (0.333): 0.081*\"Astrophysics\" + 0.014*\"GALAXIES: ACTIVE\" + 0.010*\"Accretion Disks\" + 0.010*\"Accretion\" + 0.009*\"Galaxies: Active\" + 0.009*\"STARS: ABUNDANCES\" + 0.008*\"Galaxies: ISM\" + 0.008*\"X-Rays: Galaxies\" + 0.008*\"X-RAYS: GALAXIES\" + 0.007*\"ACCRETION\"\n",
      "04-May-20 12:46:04 - topic #1 (0.333): 0.023*\"Astrophysics\" + 0.017*\"X-RAYS: STARS\" + 0.010*\"BINARIES: CLOSE\" + 0.010*\"ACCRETION\" + 0.010*\"Stars: Pre-Main-Sequence\" + 0.009*\"CATACLYSMIC VARIABLES\" + 0.009*\"Stars: Circumstellar Matter\" + 0.008*\"ACCRETION DISCS\" + 0.008*\"X-Rays: Stars\" + 0.008*\"Gamma Rays\"\n",
      "04-May-20 12:46:04 - topic #2 (0.333): 0.043*\"Astrophysics\" + 0.011*\"STARS: LATE-TYPE\" + 0.010*\"STARS: FORMATION\" + 0.010*\"GALAXIES: EVOLUTION\" + 0.010*\"GALAXIES: KINEMATICS AND DYNAMICS\" + 0.009*\"GALAXIES: SPIRAL\" + 0.008*\"GALAXIES: STRUCTURE\" + 0.008*\"GALAXIES: FUNDAMENTAL PARAMETERS\" + 0.007*\"GALAXIES: ISM\" + 0.007*\"STARS: CIRCUMSTELLAR MATTER\"\n",
      "04-May-20 12:46:04 - topic diff=0.063387, rho=0.381830\n",
      "04-May-20 12:46:05 - -7.398 per-word bound, 168.6 perplexity estimate based on a held-out corpus of 1718 documents with 9485 words\n",
      "04-May-20 12:46:05 - CorpusAccumulator accumulated stats from 1000 documents\n",
      "04-May-20 12:46:05 - CorpusAccumulator accumulated stats from 2000 documents\n",
      "04-May-20 12:46:05 - CorpusAccumulator accumulated stats from 3000 documents\n",
      "04-May-20 12:46:05 - Coherence: -12.154856490844601\n"
     ]
    }
   ],
   "source": [
    "strats = ['textrank', 'rake', 'base', 'tokens', 'keyword']\n",
    "model_dict = {}\n",
    "for s in strats:\n",
    "    model_dict[s] = fe.train_lda(df[s])"
   ]
  },
  {
   "cell_type": "code",
   "execution_count": 34,
   "metadata": {},
   "outputs": [],
   "source": [
    "scores = fe.get_scores(df, model_dict, strats)"
   ]
  },
  {
   "cell_type": "code",
   "execution_count": 35,
   "metadata": {},
   "outputs": [
    {
     "data": {
      "text/html": [
       "<div>\n",
       "<style scoped>\n",
       "    .dataframe tbody tr th:only-of-type {\n",
       "        vertical-align: middle;\n",
       "    }\n",
       "\n",
       "    .dataframe tbody tr th {\n",
       "        vertical-align: top;\n",
       "    }\n",
       "\n",
       "    .dataframe thead th {\n",
       "        text-align: right;\n",
       "    }\n",
       "</style>\n",
       "<table border=\"1\" class=\"dataframe\">\n",
       "  <thead>\n",
       "    <tr style=\"text-align: right;\">\n",
       "      <th></th>\n",
       "      <th>topic</th>\n",
       "      <th>strategy</th>\n",
       "      <th>column</th>\n",
       "      <th>score</th>\n",
       "    </tr>\n",
       "  </thead>\n",
       "  <tbody>\n",
       "    <tr>\n",
       "      <th>21</th>\n",
       "      <td>galax</td>\n",
       "      <td>base</td>\n",
       "      <td>0</td>\n",
       "      <td>0.445277</td>\n",
       "    </tr>\n",
       "    <tr>\n",
       "      <th>22</th>\n",
       "      <td>galax</td>\n",
       "      <td>base</td>\n",
       "      <td>1</td>\n",
       "      <td>0.413325</td>\n",
       "    </tr>\n",
       "    <tr>\n",
       "      <th>23</th>\n",
       "      <td>galax</td>\n",
       "      <td>base</td>\n",
       "      <td>2</td>\n",
       "      <td>0.581696</td>\n",
       "    </tr>\n",
       "    <tr>\n",
       "      <th>36</th>\n",
       "      <td>star</td>\n",
       "      <td>base</td>\n",
       "      <td>0</td>\n",
       "      <td>0.536052</td>\n",
       "    </tr>\n",
       "    <tr>\n",
       "      <th>37</th>\n",
       "      <td>star</td>\n",
       "      <td>base</td>\n",
       "      <td>1</td>\n",
       "      <td>0.591671</td>\n",
       "    </tr>\n",
       "    <tr>\n",
       "      <th>38</th>\n",
       "      <td>star</td>\n",
       "      <td>base</td>\n",
       "      <td>2</td>\n",
       "      <td>0.414097</td>\n",
       "    </tr>\n",
       "    <tr>\n",
       "      <th>6</th>\n",
       "      <td>x-ray</td>\n",
       "      <td>base</td>\n",
       "      <td>0</td>\n",
       "      <td>0.451961</td>\n",
       "    </tr>\n",
       "    <tr>\n",
       "      <th>7</th>\n",
       "      <td>x-ray</td>\n",
       "      <td>base</td>\n",
       "      <td>1</td>\n",
       "      <td>0.413490</td>\n",
       "    </tr>\n",
       "    <tr>\n",
       "      <th>8</th>\n",
       "      <td>x-ray</td>\n",
       "      <td>base</td>\n",
       "      <td>2</td>\n",
       "      <td>0.603450</td>\n",
       "    </tr>\n",
       "    <tr>\n",
       "      <th>27</th>\n",
       "      <td>galax</td>\n",
       "      <td>keyword</td>\n",
       "      <td>0</td>\n",
       "      <td>0.671914</td>\n",
       "    </tr>\n",
       "    <tr>\n",
       "      <th>28</th>\n",
       "      <td>galax</td>\n",
       "      <td>keyword</td>\n",
       "      <td>1</td>\n",
       "      <td>0.285295</td>\n",
       "    </tr>\n",
       "    <tr>\n",
       "      <th>29</th>\n",
       "      <td>galax</td>\n",
       "      <td>keyword</td>\n",
       "      <td>2</td>\n",
       "      <td>0.486430</td>\n",
       "    </tr>\n",
       "    <tr>\n",
       "      <th>42</th>\n",
       "      <td>star</td>\n",
       "      <td>keyword</td>\n",
       "      <td>0</td>\n",
       "      <td>0.389086</td>\n",
       "    </tr>\n",
       "    <tr>\n",
       "      <th>43</th>\n",
       "      <td>star</td>\n",
       "      <td>keyword</td>\n",
       "      <td>1</td>\n",
       "      <td>0.648061</td>\n",
       "    </tr>\n",
       "    <tr>\n",
       "      <th>44</th>\n",
       "      <td>star</td>\n",
       "      <td>keyword</td>\n",
       "      <td>2</td>\n",
       "      <td>0.500021</td>\n",
       "    </tr>\n",
       "    <tr>\n",
       "      <th>12</th>\n",
       "      <td>x-ray</td>\n",
       "      <td>keyword</td>\n",
       "      <td>0</td>\n",
       "      <td>0.552644</td>\n",
       "    </tr>\n",
       "    <tr>\n",
       "      <th>13</th>\n",
       "      <td>x-ray</td>\n",
       "      <td>keyword</td>\n",
       "      <td>1</td>\n",
       "      <td>0.538398</td>\n",
       "    </tr>\n",
       "    <tr>\n",
       "      <th>14</th>\n",
       "      <td>x-ray</td>\n",
       "      <td>keyword</td>\n",
       "      <td>2</td>\n",
       "      <td>0.340387</td>\n",
       "    </tr>\n",
       "    <tr>\n",
       "      <th>18</th>\n",
       "      <td>galax</td>\n",
       "      <td>rake</td>\n",
       "      <td>0</td>\n",
       "      <td>0.485653</td>\n",
       "    </tr>\n",
       "    <tr>\n",
       "      <th>19</th>\n",
       "      <td>galax</td>\n",
       "      <td>rake</td>\n",
       "      <td>1</td>\n",
       "      <td>0.467416</td>\n",
       "    </tr>\n",
       "    <tr>\n",
       "      <th>20</th>\n",
       "      <td>galax</td>\n",
       "      <td>rake</td>\n",
       "      <td>2</td>\n",
       "      <td>0.480072</td>\n",
       "    </tr>\n",
       "    <tr>\n",
       "      <th>33</th>\n",
       "      <td>star</td>\n",
       "      <td>rake</td>\n",
       "      <td>0</td>\n",
       "      <td>0.507294</td>\n",
       "    </tr>\n",
       "    <tr>\n",
       "      <th>34</th>\n",
       "      <td>star</td>\n",
       "      <td>rake</td>\n",
       "      <td>1</td>\n",
       "      <td>0.516370</td>\n",
       "    </tr>\n",
       "    <tr>\n",
       "      <th>35</th>\n",
       "      <td>star</td>\n",
       "      <td>rake</td>\n",
       "      <td>2</td>\n",
       "      <td>0.519064</td>\n",
       "    </tr>\n",
       "    <tr>\n",
       "      <th>3</th>\n",
       "      <td>x-ray</td>\n",
       "      <td>rake</td>\n",
       "      <td>0</td>\n",
       "      <td>0.516033</td>\n",
       "    </tr>\n",
       "    <tr>\n",
       "      <th>4</th>\n",
       "      <td>x-ray</td>\n",
       "      <td>rake</td>\n",
       "      <td>1</td>\n",
       "      <td>0.493491</td>\n",
       "    </tr>\n",
       "    <tr>\n",
       "      <th>5</th>\n",
       "      <td>x-ray</td>\n",
       "      <td>rake</td>\n",
       "      <td>2</td>\n",
       "      <td>0.500982</td>\n",
       "    </tr>\n",
       "    <tr>\n",
       "      <th>15</th>\n",
       "      <td>galax</td>\n",
       "      <td>textrank</td>\n",
       "      <td>0</td>\n",
       "      <td>0.465397</td>\n",
       "    </tr>\n",
       "    <tr>\n",
       "      <th>16</th>\n",
       "      <td>galax</td>\n",
       "      <td>textrank</td>\n",
       "      <td>1</td>\n",
       "      <td>0.460272</td>\n",
       "    </tr>\n",
       "    <tr>\n",
       "      <th>17</th>\n",
       "      <td>galax</td>\n",
       "      <td>textrank</td>\n",
       "      <td>2</td>\n",
       "      <td>0.516035</td>\n",
       "    </tr>\n",
       "    <tr>\n",
       "      <th>30</th>\n",
       "      <td>star</td>\n",
       "      <td>textrank</td>\n",
       "      <td>0</td>\n",
       "      <td>0.527285</td>\n",
       "    </tr>\n",
       "    <tr>\n",
       "      <th>31</th>\n",
       "      <td>star</td>\n",
       "      <td>textrank</td>\n",
       "      <td>1</td>\n",
       "      <td>0.528683</td>\n",
       "    </tr>\n",
       "    <tr>\n",
       "      <th>32</th>\n",
       "      <td>star</td>\n",
       "      <td>textrank</td>\n",
       "      <td>2</td>\n",
       "      <td>0.483212</td>\n",
       "    </tr>\n",
       "    <tr>\n",
       "      <th>0</th>\n",
       "      <td>x-ray</td>\n",
       "      <td>textrank</td>\n",
       "      <td>0</td>\n",
       "      <td>0.478105</td>\n",
       "    </tr>\n",
       "    <tr>\n",
       "      <th>1</th>\n",
       "      <td>x-ray</td>\n",
       "      <td>textrank</td>\n",
       "      <td>1</td>\n",
       "      <td>0.502919</td>\n",
       "    </tr>\n",
       "    <tr>\n",
       "      <th>2</th>\n",
       "      <td>x-ray</td>\n",
       "      <td>textrank</td>\n",
       "      <td>2</td>\n",
       "      <td>0.506423</td>\n",
       "    </tr>\n",
       "    <tr>\n",
       "      <th>24</th>\n",
       "      <td>galax</td>\n",
       "      <td>tokens</td>\n",
       "      <td>0</td>\n",
       "      <td>0.660352</td>\n",
       "    </tr>\n",
       "    <tr>\n",
       "      <th>25</th>\n",
       "      <td>galax</td>\n",
       "      <td>tokens</td>\n",
       "      <td>1</td>\n",
       "      <td>0.298945</td>\n",
       "    </tr>\n",
       "    <tr>\n",
       "      <th>26</th>\n",
       "      <td>galax</td>\n",
       "      <td>tokens</td>\n",
       "      <td>2</td>\n",
       "      <td>0.519401</td>\n",
       "    </tr>\n",
       "    <tr>\n",
       "      <th>39</th>\n",
       "      <td>star</td>\n",
       "      <td>tokens</td>\n",
       "      <td>0</td>\n",
       "      <td>0.397345</td>\n",
       "    </tr>\n",
       "    <tr>\n",
       "      <th>40</th>\n",
       "      <td>star</td>\n",
       "      <td>tokens</td>\n",
       "      <td>1</td>\n",
       "      <td>0.612063</td>\n",
       "    </tr>\n",
       "    <tr>\n",
       "      <th>41</th>\n",
       "      <td>star</td>\n",
       "      <td>tokens</td>\n",
       "      <td>2</td>\n",
       "      <td>0.517820</td>\n",
       "    </tr>\n",
       "    <tr>\n",
       "      <th>9</th>\n",
       "      <td>x-ray</td>\n",
       "      <td>tokens</td>\n",
       "      <td>0</td>\n",
       "      <td>0.246606</td>\n",
       "    </tr>\n",
       "    <tr>\n",
       "      <th>10</th>\n",
       "      <td>x-ray</td>\n",
       "      <td>tokens</td>\n",
       "      <td>1</td>\n",
       "      <td>0.875169</td>\n",
       "    </tr>\n",
       "    <tr>\n",
       "      <th>11</th>\n",
       "      <td>x-ray</td>\n",
       "      <td>tokens</td>\n",
       "      <td>2</td>\n",
       "      <td>0.300990</td>\n",
       "    </tr>\n",
       "  </tbody>\n",
       "</table>\n",
       "</div>"
      ],
      "text/plain": [
       "    topic  strategy  column     score\n",
       "21  galax      base       0  0.445277\n",
       "22  galax      base       1  0.413325\n",
       "23  galax      base       2  0.581696\n",
       "36   star      base       0  0.536052\n",
       "37   star      base       1  0.591671\n",
       "38   star      base       2  0.414097\n",
       "6   x-ray      base       0  0.451961\n",
       "7   x-ray      base       1  0.413490\n",
       "8   x-ray      base       2  0.603450\n",
       "27  galax   keyword       0  0.671914\n",
       "28  galax   keyword       1  0.285295\n",
       "29  galax   keyword       2  0.486430\n",
       "42   star   keyword       0  0.389086\n",
       "43   star   keyword       1  0.648061\n",
       "44   star   keyword       2  0.500021\n",
       "12  x-ray   keyword       0  0.552644\n",
       "13  x-ray   keyword       1  0.538398\n",
       "14  x-ray   keyword       2  0.340387\n",
       "18  galax      rake       0  0.485653\n",
       "19  galax      rake       1  0.467416\n",
       "20  galax      rake       2  0.480072\n",
       "33   star      rake       0  0.507294\n",
       "34   star      rake       1  0.516370\n",
       "35   star      rake       2  0.519064\n",
       "3   x-ray      rake       0  0.516033\n",
       "4   x-ray      rake       1  0.493491\n",
       "5   x-ray      rake       2  0.500982\n",
       "15  galax  textrank       0  0.465397\n",
       "16  galax  textrank       1  0.460272\n",
       "17  galax  textrank       2  0.516035\n",
       "30   star  textrank       0  0.527285\n",
       "31   star  textrank       1  0.528683\n",
       "32   star  textrank       2  0.483212\n",
       "0   x-ray  textrank       0  0.478105\n",
       "1   x-ray  textrank       1  0.502919\n",
       "2   x-ray  textrank       2  0.506423\n",
       "24  galax    tokens       0  0.660352\n",
       "25  galax    tokens       1  0.298945\n",
       "26  galax    tokens       2  0.519401\n",
       "39   star    tokens       0  0.397345\n",
       "40   star    tokens       1  0.612063\n",
       "41   star    tokens       2  0.517820\n",
       "9   x-ray    tokens       0  0.246606\n",
       "10  x-ray    tokens       1  0.875169\n",
       "11  x-ray    tokens       2  0.300990"
      ]
     },
     "execution_count": 35,
     "metadata": {},
     "output_type": "execute_result"
    }
   ],
   "source": [
    "scores.sort_values(['strategy', 'topic', 'column'])"
   ]
  },
  {
   "cell_type": "code",
   "execution_count": 36,
   "metadata": {},
   "outputs": [
    {
     "data": {
      "text/html": [
       "<div>\n",
       "<style scoped>\n",
       "    .dataframe tbody tr th:only-of-type {\n",
       "        vertical-align: middle;\n",
       "    }\n",
       "\n",
       "    .dataframe tbody tr th {\n",
       "        vertical-align: top;\n",
       "    }\n",
       "\n",
       "    .dataframe thead th {\n",
       "        text-align: right;\n",
       "    }\n",
       "</style>\n",
       "<table border=\"1\" class=\"dataframe\">\n",
       "  <thead>\n",
       "    <tr style=\"text-align: right;\">\n",
       "      <th></th>\n",
       "      <th>topic</th>\n",
       "      <th>strategy</th>\n",
       "      <th>column</th>\n",
       "      <th>score</th>\n",
       "    </tr>\n",
       "  </thead>\n",
       "  <tbody>\n",
       "    <tr>\n",
       "      <th>12</th>\n",
       "      <td>x-ray</td>\n",
       "      <td>keyword</td>\n",
       "      <td>0</td>\n",
       "      <td>0.552644</td>\n",
       "    </tr>\n",
       "    <tr>\n",
       "      <th>13</th>\n",
       "      <td>x-ray</td>\n",
       "      <td>keyword</td>\n",
       "      <td>1</td>\n",
       "      <td>0.538398</td>\n",
       "    </tr>\n",
       "    <tr>\n",
       "      <th>14</th>\n",
       "      <td>x-ray</td>\n",
       "      <td>keyword</td>\n",
       "      <td>2</td>\n",
       "      <td>0.340387</td>\n",
       "    </tr>\n",
       "    <tr>\n",
       "      <th>27</th>\n",
       "      <td>galax</td>\n",
       "      <td>keyword</td>\n",
       "      <td>0</td>\n",
       "      <td>0.671914</td>\n",
       "    </tr>\n",
       "    <tr>\n",
       "      <th>28</th>\n",
       "      <td>galax</td>\n",
       "      <td>keyword</td>\n",
       "      <td>1</td>\n",
       "      <td>0.285295</td>\n",
       "    </tr>\n",
       "    <tr>\n",
       "      <th>29</th>\n",
       "      <td>galax</td>\n",
       "      <td>keyword</td>\n",
       "      <td>2</td>\n",
       "      <td>0.486430</td>\n",
       "    </tr>\n",
       "    <tr>\n",
       "      <th>42</th>\n",
       "      <td>star</td>\n",
       "      <td>keyword</td>\n",
       "      <td>0</td>\n",
       "      <td>0.389086</td>\n",
       "    </tr>\n",
       "    <tr>\n",
       "      <th>43</th>\n",
       "      <td>star</td>\n",
       "      <td>keyword</td>\n",
       "      <td>1</td>\n",
       "      <td>0.648061</td>\n",
       "    </tr>\n",
       "    <tr>\n",
       "      <th>44</th>\n",
       "      <td>star</td>\n",
       "      <td>keyword</td>\n",
       "      <td>2</td>\n",
       "      <td>0.500021</td>\n",
       "    </tr>\n",
       "  </tbody>\n",
       "</table>\n",
       "</div>"
      ],
      "text/plain": [
       "    topic strategy  column     score\n",
       "12  x-ray  keyword       0  0.552644\n",
       "13  x-ray  keyword       1  0.538398\n",
       "14  x-ray  keyword       2  0.340387\n",
       "27  galax  keyword       0  0.671914\n",
       "28  galax  keyword       1  0.285295\n",
       "29  galax  keyword       2  0.486430\n",
       "42   star  keyword       0  0.389086\n",
       "43   star  keyword       1  0.648061\n",
       "44   star  keyword       2  0.500021"
      ]
     },
     "execution_count": 36,
     "metadata": {},
     "output_type": "execute_result"
    }
   ],
   "source": [
    "scores.query('strategy == \"keyword\"')"
   ]
  },
  {
   "cell_type": "code",
   "execution_count": 37,
   "metadata": {},
   "outputs": [],
   "source": [
    "# model_dict['textrank'][0].show_topics()"
   ]
  },
  {
   "cell_type": "code",
   "execution_count": 38,
   "metadata": {},
   "outputs": [],
   "source": [
    "from sklearn.metrics import roc_auc_score"
   ]
  },
  {
   "cell_type": "code",
   "execution_count": 39,
   "metadata": {},
   "outputs": [
    {
     "data": {
      "text/plain": [
       "array([0.00855995, 0.9807548 , 0.9904621 , ..., 0.9672887 , 0.00476745,\n",
       "       0.02030173], dtype=float32)"
      ]
     },
     "execution_count": 39,
     "metadata": {},
     "output_type": "execute_result"
    }
   ],
   "source": [
    "model_dict['textrank'][1][:, 0]"
   ]
  },
  {
   "cell_type": "code",
   "execution_count": null,
   "metadata": {},
   "outputs": [],
   "source": []
  },
  {
   "cell_type": "code",
   "execution_count": 176,
   "metadata": {},
   "outputs": [
    {
     "data": {
      "text/plain": [
       "0.5128033387085627"
      ]
     },
     "execution_count": 176,
     "metadata": {},
     "output_type": "execute_result"
    }
   ],
   "source": [
    "roc_auc_score(df['x-ray'], model_dict['rake'][1][:, 2])"
   ]
  },
  {
   "cell_type": "markdown",
   "metadata": {},
   "source": [
    "## Main"
   ]
  },
  {
   "cell_type": "code",
   "execution_count": 51,
   "metadata": {},
   "outputs": [],
   "source": [
    "import yake\n",
    "import RAKE\n",
    "from mrakun import RakunDetector\n",
    "from textacy.ke import textrank\n",
    "from spacy.lang.en.stop_words import STOP_WORDS\n",
    "import spacy\n",
    "from yake.highlight import TextHighlighter\n",
    "from IPython.core.display import HTML\n",
    "import numpy as np\n",
    "from pathlib import Path\n",
    "import pandas as pd\n",
    "from tqdm.notebook import tqdm\n",
    "import json\n",
    "import matplotlib.pyplot as plt\n",
    "from gensim.corpora.dictionary import Dictionary\n",
    "from gensim.models.ldamulticore import LdaMulticore\n",
    "from nltk.stem.porter import PorterStemmer"
   ]
  },
  {
   "cell_type": "code",
   "execution_count": 2,
   "metadata": {},
   "outputs": [],
   "source": [
    "NLP = spacy.load(\"en_core_web_sm\")\n",
    "stemmer = PorterStemmer()"
   ]
  },
  {
   "cell_type": "code",
   "execution_count": 3,
   "metadata": {},
   "outputs": [
    {
     "name": "stderr",
     "output_type": "stream",
     "text": [
      "01-May-20 09:20:49 - Note: NumExpr detected 12 cores but \"NUMEXPR_MAX_THREADS\" not set, so enforcing safe limit of 8.\n",
      "01-May-20 09:20:49 - NumExpr defaulting to 8 threads.\n"
     ]
    },
    {
     "data": {
      "text/plain": [
       "(3718, 4)"
      ]
     },
     "execution_count": 3,
     "metadata": {},
     "output_type": "execute_result"
    },
    {
     "data": {
      "image/png": "[encoded data removed]",
      "text/plain": [
       "<Figure size 432x288 with 1 Axes>"
      ]
     },
     "metadata": {
      "needs_background": "light"
     },
     "output_type": "display_data"
    }
   ],
   "source": [
    "infile = Path(\"../data/full_04_01_2020/kwds.jsonl\")\n",
    "\n",
    "chunks = pd.read_json(infile, orient='records', lines=True, chunksize=10_000)\n",
    "\n",
    "df = next(chunks)\n",
    "vc = df['keyword'].explode().str.lower().value_counts()\n",
    "plt.plot(vc.index[0:11], vc[0:11], 'o')\n",
    "plt.xticks(rotation=90)\n",
    "\n",
    "topics = ['x-ray', 'galax', 'star']\n",
    "\n",
    "topic_inds = {}\n",
    "for t in topics:\n",
    "    b_ind = df[~df['keyword'].isna()]['keyword'].apply(lambda x: sum([True if t in s.lower() else False for s in x]) > 0)\n",
    "    ind = b_ind.index[b_ind].tolist()\n",
    "    topic_inds[t] = ind\n",
    "\n",
    "texts = pd.DataFrame(df['title'] + '. ' + df['abstract']).copy()\n",
    "texts.columns = ['text']\n",
    "\n",
    "for t, ind in topic_inds.items():\n",
    "    texts[t] = np.zeros(texts.shape[0])\n",
    "    texts.loc[ind, t] = 1\n",
    "\n",
    "texts = texts[texts.iloc[:, 1:].sum(axis=1) > 0]\n",
    "texts.shape"
   ]
  },
  {
   "cell_type": "code",
   "execution_count": 4,
   "metadata": {},
   "outputs": [],
   "source": [
    "hyperparameters = {\n",
    "    \"distance_threshold\":2,\n",
    "    \"distance_method\": \"editdistance\",\n",
    "    \"num_keywords\" : 10,\n",
    "    \"pair_diff_length\":2,\n",
    "    \"stopwords\" : STOP_WORDS,\n",
    "    \"bigram_count_threshold\":2,\n",
    "    \"num_tokens\":[1,2],\n",
    "    \"max_similar\" : 3, ## n most similar can show up n times\n",
    "    \"max_occurrence\" : 3 ## maximum frequency overall\n",
    "}"
   ]
  },
  {
   "cell_type": "code",
   "execution_count": 5,
   "metadata": {},
   "outputs": [
    {
     "name": "stderr",
     "output_type": "stream",
     "text": [
      "01-May-20 09:20:50 - Initiated a keyword detector instance.\n"
     ]
    }
   ],
   "source": [
    "rake_extractor = RAKE.Rake(list(STOP_WORDS))\n",
    "yake_extractor = yake.KeywordExtractor()\n",
    "rakun_extractor = RakunDetector(hyperparameters)"
   ]
  },
  {
   "cell_type": "code",
   "execution_count": 6,
   "metadata": {},
   "outputs": [],
   "source": [
    "fl = '0.5'\n",
    "th = TextHighlighter(max_ngram_size=3, highlight_pre=f\"<span class='my_class' style='background-color:yellow; opacity:{fl}' >\", highlight_post=\"</span>\")"
   ]
  },
  {
   "cell_type": "code",
   "execution_count": 11,
   "metadata": {},
   "outputs": [],
   "source": [
    "# text = \"\"\"The Ulysses observations have charted the heliosphere around the minimum in the 11 year cycle of solar activity, revealing the large scale properties of the heliospheric medium and its micro-scale characteristics. This book presents for the first time, a comprehensive review of the results of the Ulysses mission.<BR />The first chapter provides an overview of the region, introducing the heliosphere prior to the Ulysses mission, and the objectives and characteristics of the mission itself. Subsequent chapters discuss in detail specific areas of the heliosphere, including the solar wind, large and small scale features, cosmic rays and energetic particles, and the observations of interstellar gas and cosmic dust. Each of these chapters is written by members of the Ulysses science team, concentrating on their own areas of expertise, and is written in a clear and accessible way.<BR />In this book, the authors aim to summarise our understanding of the heliosphere near solar minimum and to provide the basis for understanding the more complex state of the heliosphere around solar maximum, which will be observed during the next phase of the Ulysses mission. <P />\"\"\"\n",
    "# text = \"\"\"By using the IMAGE magnetometer network data, we compare the geomagnetic variation field B and its time derivative dB/dt in and near the auroral region. We show that although the auroral electrojet is the main reason for large B's, it cannot alone produce large dB/dt's, so smaller-scale current systems are important. This is evidenced by the horizontal field: the geographic north component (X) is clearly larger than the eastward one (Y) in the auroral region, but dX/dt and dY/dt are nearly equal. This result is important when geomagnetic induction risks on man-made conductors are estimated. The key quantity is the horizontal geoelectric field, and contrary to what is often assumed, it can have large values in any direction, not just parallel to the electrojet. <P />\"\"\"\n",
    "# doc = NLP(text)"
   ]
  },
  {
   "cell_type": "code",
   "execution_count": 19,
   "metadata": {},
   "outputs": [],
   "source": [
    "fs = {\n",
    "    'rake': lambda x: rake_extractor.run(x, minFrequency=1, minCharacters=3),\n",
    "#     'yake': lambda x: yake_extractor.extract_keywords(x),\n",
    "#     'rakun': lambda x: rakun_extractor.find_keywords(x, input_type = \"text\"),\n",
    "    'textrank': lambda x: textrank(x, normalize=\"lemma\", topn=999),\n",
    "}"
   ]
  },
  {
   "cell_type": "code",
   "execution_count": 13,
   "metadata": {},
   "outputs": [],
   "source": [
    "# rake_kwds = rake_extractor.run(text, minFrequency=1, minCharacters=3)\n",
    "# yake_kwds = yake_extractor.extract_keywords(text)\n",
    "# rakun_kwds = rakun_extractor.find_keywords(text, input_type = \"text\")\n",
    "# textrank_kwds = textrank(doc, normalize=\"lemma\", topn=999)"
   ]
  },
  {
   "cell_type": "code",
   "execution_count": 20,
   "metadata": {},
   "outputs": [],
   "source": [
    "tqdm.pandas()"
   ]
  },
  {
   "cell_type": "code",
   "execution_count": 21,
   "metadata": {},
   "outputs": [],
   "source": [
    "all_kwds = []\n",
    "for doc in tqdm(NLP.pipe(texts['text'], batch_size=10), total=texts.shape[0]):\n",
    "    kwds = fs['textrank'](doc)\n",
    "    all_kwds.append(kwds)\n",
    "all_kwds_no_vals = [[k[0] for k in kwds] for kwds in all_kwds]\n",
    "texts['textrank'] = all_kwds_no_vals"
   ]
  },
  {
   "cell_type": "code",
   "execution_count": 41,
   "metadata": {},
   "outputs": [],
   "source": [
    "# pbar = tqdm(fs.items())\n",
    "# for s, f in pbar:\n",
    "#     pbar.set_description(s)\n",
    "rake_kwds = texts['text'].progress_apply(fs['rake'])\n",
    "rake_kwds_no_vals = [[k[0] for k in kwds] for kwds in rake_kwds]\n",
    "texts['rake'] = rake_kwds_no_vals"
   ]
  },
  {
   "cell_type": "code",
   "execution_count": 89,
   "metadata": {},
   "outputs": [
    {
     "data": {
      "text/html": [
       "<div>\n",
       "<style scoped>\n",
       "    .dataframe tbody tr th:only-of-type {\n",
       "        vertical-align: middle;\n",
       "    }\n",
       "\n",
       "    .dataframe tbody tr th {\n",
       "        vertical-align: top;\n",
       "    }\n",
       "\n",
       "    .dataframe thead th {\n",
       "        text-align: right;\n",
       "    }\n",
       "</style>\n",
       "<table border=\"1\" class=\"dataframe\">\n",
       "  <thead>\n",
       "    <tr style=\"text-align: right;\">\n",
       "      <th></th>\n",
       "      <th>text</th>\n",
       "      <th>x-ray</th>\n",
       "      <th>galax</th>\n",
       "      <th>star</th>\n",
       "      <th>textrank</th>\n",
       "      <th>rake</th>\n",
       "    </tr>\n",
       "  </thead>\n",
       "  <tbody>\n",
       "    <tr>\n",
       "      <th>0</th>\n",
       "      <td>A Universal Density Profile from Hierarchical ...</td>\n",
       "      <td>0.0</td>\n",
       "      <td>1.0</td>\n",
       "      <td>0.0</td>\n",
       "      <td>[halo density profile, equilibrium density pro...</td>\n",
       "      <td>[use high-resolution n-body simulations, step-...</td>\n",
       "    </tr>\n",
       "    <tr>\n",
       "      <th>2</th>\n",
       "      <td>CHIANTI - an atomic database for emission line...</td>\n",
       "      <td>0.0</td>\n",
       "      <td>0.0</td>\n",
       "      <td>1.0</td>\n",
       "      <td>[CHIANTI atomic database, recent electron exci...</td>\n",
       "      <td>[calculate optically thin synthetic spectra, c...</td>\n",
       "    </tr>\n",
       "    <tr>\n",
       "      <th>3</th>\n",
       "      <td>PEGASE: a UV to NIR spectral evolution model o...</td>\n",
       "      <td>0.0</td>\n",
       "      <td>1.0</td>\n",
       "      <td>0.0</td>\n",
       "      <td>[NIR spectral evolution model, new spectrophot...</td>\n",
       "      <td>[exceptionally large wavelength range, normali...</td>\n",
       "    </tr>\n",
       "    <tr>\n",
       "      <th>4</th>\n",
       "      <td>A Search for ``Dwarf'' Seyfert Nuclei. III. Sp...</td>\n",
       "      <td>0.0</td>\n",
       "      <td>1.0</td>\n",
       "      <td>0.0</td>\n",
       "      <td>[luminosity active galactic nucleus, nearby ga...</td>\n",
       "      <td>[low-luminosity active galactic nuclei, stella...</td>\n",
       "    </tr>\n",
       "    <tr>\n",
       "      <th>5</th>\n",
       "      <td>Spectropolarimetric observations of active sta...</td>\n",
       "      <td>0.0</td>\n",
       "      <td>0.0</td>\n",
       "      <td>1.0</td>\n",
       "      <td>[line T Tauri star V410 Tau, line T Tauri star...</td>\n",
       "      <td>[pre-main-sequence binary hd 155555, new dedic...</td>\n",
       "    </tr>\n",
       "    <tr>\n",
       "      <th>...</th>\n",
       "      <td>...</td>\n",
       "      <td>...</td>\n",
       "      <td>...</td>\n",
       "      <td>...</td>\n",
       "      <td>...</td>\n",
       "      <td>...</td>\n",
       "    </tr>\n",
       "    <tr>\n",
       "      <th>9978</th>\n",
       "      <td>Astrometry of the globular cluster 47 Tucanae ...</td>\n",
       "      <td>1.0</td>\n",
       "      <td>1.0</td>\n",
       "      <td>1.0</td>\n",
       "      <td>[different possible identification, possible o...</td>\n",
       "      <td>[central x-ray sources, x-ray sources found, x...</td>\n",
       "    </tr>\n",
       "    <tr>\n",
       "      <th>9979</th>\n",
       "      <td>A Critical Test of Topological Defect Models: ...</td>\n",
       "      <td>0.0</td>\n",
       "      <td>1.0</td>\n",
       "      <td>0.0</td>\n",
       "      <td>[inflationary cold dark matter model, texture ...</td>\n",
       "      <td>[non-gaussian topological defect-based cosmolo...</td>\n",
       "    </tr>\n",
       "    <tr>\n",
       "      <th>9987</th>\n",
       "      <td>The discovery of very red counterparts to fain...</td>\n",
       "      <td>0.0</td>\n",
       "      <td>1.0</td>\n",
       "      <td>0.0</td>\n",
       "      <td>[narrow emission line galaxy, UK ROSAT Deep Su...</td>\n",
       "      <td>[present deep k-band imaging, faint x-ray sour...</td>\n",
       "    </tr>\n",
       "    <tr>\n",
       "      <th>9994</th>\n",
       "      <td>The ROSAT bright source RX J0222.4+4729: an ac...</td>\n",
       "      <td>1.0</td>\n",
       "      <td>0.0</td>\n",
       "      <td>1.0</td>\n",
       "      <td>[emission radial velocity curve, II H+K line e...</td>\n",
       "      <td>[on-line numerical cross-correlation, ii h+k l...</td>\n",
       "    </tr>\n",
       "    <tr>\n",
       "      <th>9996</th>\n",
       "      <td>Identification of the exciting source of Herbi...</td>\n",
       "      <td>0.0</td>\n",
       "      <td>0.0</td>\n",
       "      <td>1.0</td>\n",
       "      <td>[luminous IRAS source, independent exciting so...</td>\n",
       "      <td>[near-infrared polarimetric imaging, associate...</td>\n",
       "    </tr>\n",
       "  </tbody>\n",
       "</table>\n",
       "<p>3718 rows × 6 columns</p>\n",
       "</div>"
      ],
      "text/plain": [
       "                                                   text  x-ray  galax  star  \\\n",
       "0     A Universal Density Profile from Hierarchical ...    0.0    1.0   0.0   \n",
       "2     CHIANTI - an atomic database for emission line...    0.0    0.0   1.0   \n",
       "3     PEGASE: a UV to NIR spectral evolution model o...    0.0    1.0   0.0   \n",
       "4     A Search for ``Dwarf'' Seyfert Nuclei. III. Sp...    0.0    1.0   0.0   \n",
       "5     Spectropolarimetric observations of active sta...    0.0    0.0   1.0   \n",
       "...                                                 ...    ...    ...   ...   \n",
       "9978  Astrometry of the globular cluster 47 Tucanae ...    1.0    1.0   1.0   \n",
       "9979  A Critical Test of Topological Defect Models: ...    0.0    1.0   0.0   \n",
       "9987  The discovery of very red counterparts to fain...    0.0    1.0   0.0   \n",
       "9994  The ROSAT bright source RX J0222.4+4729: an ac...    1.0    0.0   1.0   \n",
       "9996  Identification of the exciting source of Herbi...    0.0    0.0   1.0   \n",
       "\n",
       "                                               textrank  \\\n",
       "0     [halo density profile, equilibrium density pro...   \n",
       "2     [CHIANTI atomic database, recent electron exci...   \n",
       "3     [NIR spectral evolution model, new spectrophot...   \n",
       "4     [luminosity active galactic nucleus, nearby ga...   \n",
       "5     [line T Tauri star V410 Tau, line T Tauri star...   \n",
       "...                                                 ...   \n",
       "9978  [different possible identification, possible o...   \n",
       "9979  [inflationary cold dark matter model, texture ...   \n",
       "9987  [narrow emission line galaxy, UK ROSAT Deep Su...   \n",
       "9994  [emission radial velocity curve, II H+K line e...   \n",
       "9996  [luminous IRAS source, independent exciting so...   \n",
       "\n",
       "                                                   rake  \n",
       "0     [use high-resolution n-body simulations, step-...  \n",
       "2     [calculate optically thin synthetic spectra, c...  \n",
       "3     [exceptionally large wavelength range, normali...  \n",
       "4     [low-luminosity active galactic nuclei, stella...  \n",
       "5     [pre-main-sequence binary hd 155555, new dedic...  \n",
       "...                                                 ...  \n",
       "9978  [central x-ray sources, x-ray sources found, x...  \n",
       "9979  [non-gaussian topological defect-based cosmolo...  \n",
       "9987  [present deep k-band imaging, faint x-ray sour...  \n",
       "9994  [on-line numerical cross-correlation, ii h+k l...  \n",
       "9996  [near-infrared polarimetric imaging, associate...  \n",
       "\n",
       "[3718 rows x 6 columns]"
      ]
     },
     "execution_count": 89,
     "metadata": {},
     "output_type": "execute_result"
    }
   ],
   "source": [
    "texts.iloc[]"
   ]
  },
  {
   "cell_type": "code",
   "execution_count": 47,
   "metadata": {},
   "outputs": [
    {
     "name": "stderr",
     "output_type": "stream",
     "text": [
      "01-May-20 09:33:00 - adding document #0 to Dictionary(0 unique tokens: [])\n",
      "01-May-20 09:33:01 - built Dictionary(107828 unique tokens: ['allows accurate equilibrium profiles', 'assembled', 'assembly time allows', 'based', 'calculated']...) from 3718 documents (total 229780 corpus positions)\n"
     ]
    }
   ],
   "source": [
    "rake_dct = Dictionary(texts['rake'])"
   ]
  },
  {
   "cell_type": "code",
   "execution_count": 48,
   "metadata": {},
   "outputs": [
    {
     "name": "stderr",
     "output_type": "stream",
     "text": [
      "01-May-20 09:33:11 - adding document #0 to Dictionary(0 unique tokens: [])\n",
      "01-May-20 09:33:12 - built Dictionary(66221 unique tokens: ['Hierarchical Clustering', 'Press', 'Schechter formalism', 'Universal Density Profile', 'assembly time']...) from 3718 documents (total 160946 corpus positions)\n"
     ]
    }
   ],
   "source": [
    "textrank_dct = Dictionary(texts['textrank'])"
   ]
  },
  {
   "cell_type": "code",
   "execution_count": 50,
   "metadata": {},
   "outputs": [],
   "source": [
    "rake_corpus = [rake_dct.doc2bow(t) for t in texts['rake']]\n",
    "textrank_corpus = [textrank_dct.doc2bow(t) for t in texts['textrank']]"
   ]
  },
  {
   "cell_type": "code",
   "execution_count": 64,
   "metadata": {
    "collapsed": true,
    "jupyter": {
     "outputs_hidden": true
    }
   },
   "outputs": [
    {
     "name": "stderr",
     "output_type": "stream",
     "text": [
      "01-May-20 09:38:41 - using symmetric alpha at 0.3333333333333333\n",
      "01-May-20 09:38:41 - using symmetric eta at 0.3333333333333333\n",
      "01-May-20 09:38:41 - using serial LDA version on this node\n",
      "01-May-20 09:38:41 - running online LDA training, 3 topics, 1 passes over the supplied corpus of 3718 documents, updating every 22000 documents, evaluating every ~3718 documents, iterating 50x with a convergence threshold of 0.001000\n",
      "01-May-20 09:38:41 - too few updates, training might not converge; consider increasing the number of passes or iterations to improve accuracy\n",
      "01-May-20 09:38:41 - training LDA model using 11 processes\n",
      "01-May-20 09:38:41 - PROGRESS: pass 0, dispatched chunk #0 = documents up to #2000/3718, outstanding queue size 1\n",
      "01-May-20 09:38:41 - PROGRESS: pass 0, dispatched chunk #1 = documents up to #3718/3718, outstanding queue size 2\n",
      "01-May-20 09:38:45 - topic #0 (0.333): 0.003*\"find\" + 0.002*\"results\" + 0.002*\"present\" + 0.002*\"found\" + 0.002*\"consistent\" + 0.002*\"galaxies\" + 0.002*\"presence\" + 0.002*\"observations\" + 0.001*\"detected\" + 0.001*\"evidence\"\n",
      "01-May-20 09:38:45 - topic #1 (0.333): 0.003*\"find\" + 0.003*\"<p />\" + 0.002*\"stars\" + 0.002*\"observations\" + 0.002*\"found\" + 0.002*\"results\" + 0.002*\"observed\" + 0.001*\"obtained\" + 0.001*\"present\" + 0.001*\"data\"\n",
      "01-May-20 09:38:45 - topic #2 (0.333): 0.002*\"found\" + 0.002*\"present\" + 0.002*\"consistent\" + 0.002*\"find\" + 0.002*\"observations\" + 0.002*\"results\" + 0.002*\"<p />\" + 0.002*\"obtained\" + 0.001*\"galaxies\" + 0.001*\"stars\"\n",
      "01-May-20 09:38:45 - topic diff=1.110557, rho=1.000000\n",
      "01-May-20 09:38:48 - -11.188 per-word bound, 2332.6 perplexity estimate based on a held-out corpus of 1718 documents with 92794 words\n",
      "01-May-20 09:38:48 - using symmetric alpha at 0.3333333333333333\n",
      "01-May-20 09:38:48 - using symmetric eta at 0.3333333333333333\n",
      "01-May-20 09:38:48 - using serial LDA version on this node\n",
      "01-May-20 09:38:48 - running online LDA training, 3 topics, 1 passes over the supplied corpus of 3718 documents, updating every 22000 documents, evaluating every ~3718 documents, iterating 50x with a convergence threshold of 0.001000\n",
      "01-May-20 09:38:48 - too few updates, training might not converge; consider increasing the number of passes or iterations to improve accuracy\n",
      "01-May-20 09:38:48 - training LDA model using 11 processes\n",
      "01-May-20 09:38:48 - PROGRESS: pass 0, dispatched chunk #0 = documents up to #2000/3718, outstanding queue size 1\n",
      "01-May-20 09:38:48 - PROGRESS: pass 0, dispatched chunk #1 = documents up to #3718/3718, outstanding queue size 2\n",
      "01-May-20 09:38:52 - topic #0 (0.333): 0.004*\"result\" + 0.003*\"consistent\" + 0.003*\"observation\" + 0.002*\"evidence\" + 0.002*\"order\" + 0.002*\"time\" + 0.002*\"high\" + 0.002*\"datum\" + 0.002*\"SUB\" + 0.002*\"low\"\n",
      "01-May-20 09:38:52 - topic #1 (0.333): 0.003*\"result\" + 0.002*\"observation\" + 0.002*\"consistent\" + 0.002*\"evidence\" + 0.002*\"case\" + 0.002*\"sample\" + 0.002*\"low\" + 0.002*\"datum\" + 0.002*\"SUB\" + 0.002*\"time\"\n",
      "01-May-20 09:38:52 - topic #2 (0.333): 0.005*\"result\" + 0.003*\"observation\" + 0.002*\"high\" + 0.002*\"consistent\" + 0.002*\"order\" + 0.002*\"presence\" + 0.002*\"SUB\" + 0.002*\"paper\" + 0.002*\"low\" + 0.002*\"object\"\n",
      "01-May-20 09:38:52 - topic diff=1.225288, rho=1.000000\n",
      "01-May-20 09:38:55 - -10.644 per-word bound, 1600.2 perplexity estimate based on a held-out corpus of 1718 documents with 65809 words\n"
     ]
    }
   ],
   "source": [
    "rake_lda = LdaMulticore(rake_corpus, 3, rake_dct)\n",
    "textrank_lda = LdaMulticore(textrank_corpus, 3, textrank_dct)"
   ]
  },
  {
   "cell_type": "code",
   "execution_count": 65,
   "metadata": {},
   "outputs": [],
   "source": [
    "from gensim.models.coherencemodel import CoherenceModel"
   ]
  },
  {
   "cell_type": "code",
   "execution_count": 67,
   "metadata": {},
   "outputs": [
    {
     "name": "stderr",
     "output_type": "stream",
     "text": [
      "01-May-20 09:39:05 - CorpusAccumulator accumulated stats from 1000 documents\n",
      "01-May-20 09:39:05 - CorpusAccumulator accumulated stats from 2000 documents\n",
      "01-May-20 09:39:05 - CorpusAccumulator accumulated stats from 3000 documents\n"
     ]
    }
   ],
   "source": [
    "rake_cm = CoherenceModel(model=rake_lda, corpus=rake_corpus, coherence='u_mass')\n",
    "rake_coherence = rake_cm.get_coherence()"
   ]
  },
  {
   "cell_type": "code",
   "execution_count": 69,
   "metadata": {},
   "outputs": [
    {
     "name": "stderr",
     "output_type": "stream",
     "text": [
      "01-May-20 09:39:17 - CorpusAccumulator accumulated stats from 1000 documents\n",
      "01-May-20 09:39:17 - CorpusAccumulator accumulated stats from 2000 documents\n",
      "01-May-20 09:39:17 - CorpusAccumulator accumulated stats from 3000 documents\n"
     ]
    }
   ],
   "source": [
    "textrank_cm = CoherenceModel(model=textrank_lda, corpus=textrank_corpus, coherence='u_mass')\n",
    "textrank_coherence = textrank_cm.get_coherence()"
   ]
  },
  {
   "cell_type": "code",
   "execution_count": 83,
   "metadata": {},
   "outputs": [
    {
     "data": {
      "text/plain": [
       "[(2, 0.9893132)]"
      ]
     },
     "execution_count": 83,
     "metadata": {},
     "output_type": "execute_result"
    }
   ],
   "source": [
    "rake_lda.get_document_topics(rake_corpus[3])"
   ]
  },
  {
   "cell_type": "code",
   "execution_count": 88,
   "metadata": {},
   "outputs": [
    {
     "data": {
      "text/plain": [
       "[(0, 0.7069969), (1, 0.01675347), (2, 0.27624965)]"
      ]
     },
     "execution_count": 88,
     "metadata": {},
     "output_type": "execute_result"
    }
   ],
   "source": [
    "textrank_lda.get_document_topics(rake_corpus[4])"
   ]
  },
  {
   "cell_type": "code",
   "execution_count": 78,
   "metadata": {},
   "outputs": [
    {
     "data": {
      "text/html": [
       "<div>\n",
       "<style scoped>\n",
       "    .dataframe tbody tr th:only-of-type {\n",
       "        vertical-align: middle;\n",
       "    }\n",
       "\n",
       "    .dataframe tbody tr th {\n",
       "        vertical-align: top;\n",
       "    }\n",
       "\n",
       "    .dataframe thead th {\n",
       "        text-align: right;\n",
       "    }\n",
       "</style>\n",
       "<table border=\"1\" class=\"dataframe\">\n",
       "  <thead>\n",
       "    <tr style=\"text-align: right;\">\n",
       "      <th></th>\n",
       "      <th>text</th>\n",
       "      <th>x-ray</th>\n",
       "      <th>galax</th>\n",
       "      <th>star</th>\n",
       "      <th>textrank</th>\n",
       "      <th>rake</th>\n",
       "    </tr>\n",
       "  </thead>\n",
       "  <tbody>\n",
       "    <tr>\n",
       "      <th>0</th>\n",
       "      <td>A Universal Density Profile from Hierarchical ...</td>\n",
       "      <td>0.0</td>\n",
       "      <td>1.0</td>\n",
       "      <td>0.0</td>\n",
       "      <td>[halo density profile, equilibrium density pro...</td>\n",
       "      <td>[use high-resolution n-body simulations, step-...</td>\n",
       "    </tr>\n",
       "    <tr>\n",
       "      <th>2</th>\n",
       "      <td>CHIANTI - an atomic database for emission line...</td>\n",
       "      <td>0.0</td>\n",
       "      <td>0.0</td>\n",
       "      <td>1.0</td>\n",
       "      <td>[CHIANTI atomic database, recent electron exci...</td>\n",
       "      <td>[calculate optically thin synthetic spectra, c...</td>\n",
       "    </tr>\n",
       "    <tr>\n",
       "      <th>3</th>\n",
       "      <td>PEGASE: a UV to NIR spectral evolution model o...</td>\n",
       "      <td>0.0</td>\n",
       "      <td>1.0</td>\n",
       "      <td>0.0</td>\n",
       "      <td>[NIR spectral evolution model, new spectrophot...</td>\n",
       "      <td>[exceptionally large wavelength range, normali...</td>\n",
       "    </tr>\n",
       "    <tr>\n",
       "      <th>4</th>\n",
       "      <td>A Search for ``Dwarf'' Seyfert Nuclei. III. Sp...</td>\n",
       "      <td>0.0</td>\n",
       "      <td>1.0</td>\n",
       "      <td>0.0</td>\n",
       "      <td>[luminosity active galactic nucleus, nearby ga...</td>\n",
       "      <td>[low-luminosity active galactic nuclei, stella...</td>\n",
       "    </tr>\n",
       "    <tr>\n",
       "      <th>5</th>\n",
       "      <td>Spectropolarimetric observations of active sta...</td>\n",
       "      <td>0.0</td>\n",
       "      <td>0.0</td>\n",
       "      <td>1.0</td>\n",
       "      <td>[line T Tauri star V410 Tau, line T Tauri star...</td>\n",
       "      <td>[pre-main-sequence binary hd 155555, new dedic...</td>\n",
       "    </tr>\n",
       "    <tr>\n",
       "      <th>...</th>\n",
       "      <td>...</td>\n",
       "      <td>...</td>\n",
       "      <td>...</td>\n",
       "      <td>...</td>\n",
       "      <td>...</td>\n",
       "      <td>...</td>\n",
       "    </tr>\n",
       "    <tr>\n",
       "      <th>9978</th>\n",
       "      <td>Astrometry of the globular cluster 47 Tucanae ...</td>\n",
       "      <td>1.0</td>\n",
       "      <td>1.0</td>\n",
       "      <td>1.0</td>\n",
       "      <td>[different possible identification, possible o...</td>\n",
       "      <td>[central x-ray sources, x-ray sources found, x...</td>\n",
       "    </tr>\n",
       "    <tr>\n",
       "      <th>9979</th>\n",
       "      <td>A Critical Test of Topological Defect Models: ...</td>\n",
       "      <td>0.0</td>\n",
       "      <td>1.0</td>\n",
       "      <td>0.0</td>\n",
       "      <td>[inflationary cold dark matter model, texture ...</td>\n",
       "      <td>[non-gaussian topological defect-based cosmolo...</td>\n",
       "    </tr>\n",
       "    <tr>\n",
       "      <th>9987</th>\n",
       "      <td>The discovery of very red counterparts to fain...</td>\n",
       "      <td>0.0</td>\n",
       "      <td>1.0</td>\n",
       "      <td>0.0</td>\n",
       "      <td>[narrow emission line galaxy, UK ROSAT Deep Su...</td>\n",
       "      <td>[present deep k-band imaging, faint x-ray sour...</td>\n",
       "    </tr>\n",
       "    <tr>\n",
       "      <th>9994</th>\n",
       "      <td>The ROSAT bright source RX J0222.4+4729: an ac...</td>\n",
       "      <td>1.0</td>\n",
       "      <td>0.0</td>\n",
       "      <td>1.0</td>\n",
       "      <td>[emission radial velocity curve, II H+K line e...</td>\n",
       "      <td>[on-line numerical cross-correlation, ii h+k l...</td>\n",
       "    </tr>\n",
       "    <tr>\n",
       "      <th>9996</th>\n",
       "      <td>Identification of the exciting source of Herbi...</td>\n",
       "      <td>0.0</td>\n",
       "      <td>0.0</td>\n",
       "      <td>1.0</td>\n",
       "      <td>[luminous IRAS source, independent exciting so...</td>\n",
       "      <td>[near-infrared polarimetric imaging, associate...</td>\n",
       "    </tr>\n",
       "  </tbody>\n",
       "</table>\n",
       "<p>3718 rows × 6 columns</p>\n",
       "</div>"
      ],
      "text/plain": [
       "                                                   text  x-ray  galax  star  \\\n",
       "0     A Universal Density Profile from Hierarchical ...    0.0    1.0   0.0   \n",
       "2     CHIANTI - an atomic database for emission line...    0.0    0.0   1.0   \n",
       "3     PEGASE: a UV to NIR spectral evolution model o...    0.0    1.0   0.0   \n",
       "4     A Search for ``Dwarf'' Seyfert Nuclei. III. Sp...    0.0    1.0   0.0   \n",
       "5     Spectropolarimetric observations of active sta...    0.0    0.0   1.0   \n",
       "...                                                 ...    ...    ...   ...   \n",
       "9978  Astrometry of the globular cluster 47 Tucanae ...    1.0    1.0   1.0   \n",
       "9979  A Critical Test of Topological Defect Models: ...    0.0    1.0   0.0   \n",
       "9987  The discovery of very red counterparts to fain...    0.0    1.0   0.0   \n",
       "9994  The ROSAT bright source RX J0222.4+4729: an ac...    1.0    0.0   1.0   \n",
       "9996  Identification of the exciting source of Herbi...    0.0    0.0   1.0   \n",
       "\n",
       "                                               textrank  \\\n",
       "0     [halo density profile, equilibrium density pro...   \n",
       "2     [CHIANTI atomic database, recent electron exci...   \n",
       "3     [NIR spectral evolution model, new spectrophot...   \n",
       "4     [luminosity active galactic nucleus, nearby ga...   \n",
       "5     [line T Tauri star V410 Tau, line T Tauri star...   \n",
       "...                                                 ...   \n",
       "9978  [different possible identification, possible o...   \n",
       "9979  [inflationary cold dark matter model, texture ...   \n",
       "9987  [narrow emission line galaxy, UK ROSAT Deep Su...   \n",
       "9994  [emission radial velocity curve, II H+K line e...   \n",
       "9996  [luminous IRAS source, independent exciting so...   \n",
       "\n",
       "                                                   rake  \n",
       "0     [use high-resolution n-body simulations, step-...  \n",
       "2     [calculate optically thin synthetic spectra, c...  \n",
       "3     [exceptionally large wavelength range, normali...  \n",
       "4     [low-luminosity active galactic nuclei, stella...  \n",
       "5     [pre-main-sequence binary hd 155555, new dedic...  \n",
       "...                                                 ...  \n",
       "9978  [central x-ray sources, x-ray sources found, x...  \n",
       "9979  [non-gaussian topological defect-based cosmolo...  \n",
       "9987  [present deep k-band imaging, faint x-ray sour...  \n",
       "9994  [on-line numerical cross-correlation, ii h+k l...  \n",
       "9996  [near-infrared polarimetric imaging, associate...  \n",
       "\n",
       "[3718 rows x 6 columns]"
      ]
     },
     "execution_count": 78,
     "metadata": {},
     "output_type": "execute_result"
    }
   ],
   "source": [
    "texts"
   ]
  },
  {
   "cell_type": "code",
   "execution_count": 50,
   "metadata": {},
   "outputs": [],
   "source": [
    "# rake_kwds_lim = [(k, v) for k, v in rake_kwds if v > -10]\n",
    "# yake_kwds_lim = [(k, v) for k, v in yake_kwds if v < 99999]\n",
    "# rakun_kwds_lim = [(k, v) for k, v in yake_kwds if v < 99999]\n",
    "# textrank_kwds_lim = [(k, v) for k, v in textrank_kwds if v < 99999]"
   ]
  },
  {
   "cell_type": "code",
   "execution_count": 51,
   "metadata": {},
   "outputs": [],
   "source": [
    "rake_ht = th.highlight(text, rake_kwds_lim)\n",
    "yake_ht = th.highlight(text, yake_kwds_lim)\n",
    "rakun_ht = th.highlight(text, rakun_kwds_lim)\n",
    "textrank_ht = th.highlight(text, textrank_kwds_lim)"
   ]
  },
  {
   "cell_type": "code",
   "execution_count": 52,
   "metadata": {},
   "outputs": [],
   "source": [
    "vals = np.array([v for k,v in rake_kwds_lim])"
   ]
  },
  {
   "cell_type": "code",
   "execution_count": 53,
   "metadata": {},
   "outputs": [],
   "source": [
    "tvals = (vals - vals.min()) / (vals.max() - vals.min())"
   ]
  },
  {
   "cell_type": "code",
   "execution_count": 54,
   "metadata": {},
   "outputs": [],
   "source": [
    "# i = 0\n",
    "# while True:\n",
    "#     try:\n",
    "#         s = rake_ht.index('FILL_VAL')\n",
    "#     except ValueError:\n",
    "#         break\n",
    "#     print(s)\n",
    "#     rake_ht = rake_ht[:s] + str(tvals[i].round(2)) + rake_ht[s + len(fl):]\n",
    "#     i += 1"
   ]
  },
  {
   "cell_type": "code",
   "execution_count": 55,
   "metadata": {},
   "outputs": [
    {
     "data": {
      "text/html": [
       "By using the IMAGE magnetometer network data, we <span class='my_class' style='background-color:yellow; opacity:0.5' >compare</span> the geomagnetic variation field B and its <span class='my_class' style='background-color:yellow; opacity:0.5' >time derivative db/dt</span> in and <span class='my_class' style='background-color:yellow; opacity:0.5' >near</span> the <span class='my_class' style='background-color:yellow; opacity:0.5' >auroral region</span>. We show that although the <span class='my_class' style='background-color:yellow; opacity:0.5' >auroral electrojet</span> is the <span class='my_class' style='background-color:yellow; opacity:0.5' >main reason</span> for large B's, it cannot alone produce large dB/dt's, so <span class='my_class' style='background-color:yellow; opacity:0.5' >smaller-scale current systems</span> are <span class='my_class' style='background-color:yellow; opacity:0.5' >important</span>. This is <span class='my_class' style='background-color:yellow; opacity:0.5' >evidenced</span> by the <span class='my_class' style='background-color:yellow; opacity:0.5' >horizontal field</span>: the <span class='my_class' style='background-color:yellow; opacity:0.5' >geographic north component</span> (X) is <span class='my_class' style='background-color:yellow; opacity:0.5' >clearly larger</span> than the <span class='my_class' style='background-color:yellow; opacity:0.5' >eastward</span> one (Y) in the <span class='my_class' style='background-color:yellow; opacity:0.5' >auroral region</span>, but <span class='my_class' style='background-color:yellow; opacity:0.5' >dx/dt</span> and <span class='my_class' style='background-color:yellow; opacity:0.5' >dy/dt</span> are <span class='my_class' style='background-color:yellow; opacity:0.5' >nearly equal</span>. This <span class='my_class' style='background-color:yellow; opacity:0.5' >result</span> is <span class='my_class' style='background-color:yellow; opacity:0.5' >important</span> when <span class='my_class' style='background-color:yellow; opacity:0.5' >geomagnetic induction risks</span> on man-made <span class='my_class' style='background-color:yellow; opacity:0.5' >conductors</span> are <span class='my_class' style='background-color:yellow; opacity:0.5' >estimated</span>. The <span class='my_class' style='background-color:yellow; opacity:0.5' >key quantity</span> is the <span class='my_class' style='background-color:yellow; opacity:0.5' >horizontal geoelectric field</span>, and <span class='my_class' style='background-color:yellow; opacity:0.5' >contrary</span> to what is often <span class='my_class' style='background-color:yellow; opacity:0.5' >assumed</span>, it can have <span class='my_class' style='background-color:yellow; opacity:0.5' >large values</span> in any <span class='my_class' style='background-color:yellow; opacity:0.5' >direction</span>, not just <span class='my_class' style='background-color:yellow; opacity:0.5' >parallel</span> to the <span class='my_class' style='background-color:yellow; opacity:0.5' >electrojet</span>. <span class='my_class' style='background-color:yellow; opacity:0.5' ><p /></span>"
      ],
      "text/plain": [
       "<IPython.core.display.HTML object>"
      ]
     },
     "execution_count": 55,
     "metadata": {},
     "output_type": "execute_result"
    }
   ],
   "source": [
    "HTML(rake_ht)"
   ]
  },
  {
   "cell_type": "code",
   "execution_count": 56,
   "metadata": {},
   "outputs": [
    {
     "data": {
      "text/html": [
       "By using the <span class='my_class' style='background-color:yellow; opacity:0.5' >image magnetometer network</span> <span class='my_class' style='background-color:yellow; opacity:0.5' >data</span>, we compare the <span class='my_class' style='background-color:yellow; opacity:0.5' >geomagnetic variation field</span> B and its <span class='my_class' style='background-color:yellow; opacity:0.5' >time derivative</span> dB/dt in and near the <span class='my_class' style='background-color:yellow; opacity:0.5' >auroral region</span>. We show that although the <span class='my_class' style='background-color:yellow; opacity:0.5' >auroral</span> electrojet is the main reason for <span class='my_class' style='background-color:yellow; opacity:0.5' >large</span> B's, it cannot alone produce <span class='my_class' style='background-color:yellow; opacity:0.5' >large</span> dB/dt's, so <span class='my_class' style='background-color:yellow; opacity:0.5' >smaller-scale current systems</span> are important. This is evidenced by the horizontal <span class='my_class' style='background-color:yellow; opacity:0.5' >field</span>: the geographic north component (X) is clearly larger than the eastward one (Y) in the <span class='my_class' style='background-color:yellow; opacity:0.5' >auroral region</span>, but dX/dt and dY/dt are nearly equal. This result is important when geomagnetic induction risks on man-made conductors are estimated. The key quantity is the horizontal geoelectric <span class='my_class' style='background-color:yellow; opacity:0.5' >field</span>, and contrary to what is often assumed, it can have <span class='my_class' style='background-color:yellow; opacity:0.5' >large</span> values in any direction, not just parallel to the electrojet. <P />"
      ],
      "text/plain": [
       "<IPython.core.display.HTML object>"
      ]
     },
     "execution_count": 56,
     "metadata": {},
     "output_type": "execute_result"
    }
   ],
   "source": [
    "HTML(yake_ht)"
   ]
  },
  {
   "cell_type": "code",
   "execution_count": 57,
   "metadata": {},
   "outputs": [
    {
     "data": {
      "text/html": [
       "By using the <span class='my_class' style='background-color:yellow; opacity:0.5' >image magnetometer network</span> <span class='my_class' style='background-color:yellow; opacity:0.5' >data</span>, we compare the <span class='my_class' style='background-color:yellow; opacity:0.5' >geomagnetic variation field</span> B and its <span class='my_class' style='background-color:yellow; opacity:0.5' >time derivative</span> dB/dt in and near the <span class='my_class' style='background-color:yellow; opacity:0.5' >auroral region</span>. We show that although the <span class='my_class' style='background-color:yellow; opacity:0.5' >auroral</span> electrojet is the main reason for <span class='my_class' style='background-color:yellow; opacity:0.5' >large</span> B's, it cannot alone produce <span class='my_class' style='background-color:yellow; opacity:0.5' >large</span> dB/dt's, so <span class='my_class' style='background-color:yellow; opacity:0.5' >smaller-scale current systems</span> are important. This is evidenced by the horizontal <span class='my_class' style='background-color:yellow; opacity:0.5' >field</span>: the geographic north component (X) is clearly larger than the eastward one (Y) in the <span class='my_class' style='background-color:yellow; opacity:0.5' >auroral region</span>, but dX/dt and dY/dt are nearly equal. This result is important when geomagnetic induction risks on man-made conductors are estimated. The key quantity is the horizontal geoelectric <span class='my_class' style='background-color:yellow; opacity:0.5' >field</span>, and contrary to what is often assumed, it can have <span class='my_class' style='background-color:yellow; opacity:0.5' >large</span> values in any direction, not just parallel to the electrojet. <P />"
      ],
      "text/plain": [
       "<IPython.core.display.HTML object>"
      ]
     },
     "execution_count": 57,
     "metadata": {},
     "output_type": "execute_result"
    }
   ],
   "source": [
    "HTML(rakun_ht)"
   ]
  },
  {
   "cell_type": "code",
   "execution_count": 58,
   "metadata": {},
   "outputs": [
    {
     "data": {
      "text/html": [
       "By using the IMAGE magnetometer network data, we compare the geomagnetic variation field B and its time derivative dB/dt in and near the <span class='my_class' style='background-color:yellow; opacity:0.5' >auroral region</span>. We show that although the <span class='my_class' style='background-color:yellow; opacity:0.5' >auroral electrojet</span> is the <span class='my_class' style='background-color:yellow; opacity:0.5' >main reason</span> for large B's, it cannot alone produce large dB/dt's, so smaller-scale current systems are <span class='my_class' style='background-color:yellow; opacity:0.5' >important</span>. This is evidenced by the <span class='my_class' style='background-color:yellow; opacity:0.5' >horizontal field</span>: the <span class='my_class' style='background-color:yellow; opacity:0.5' >geographic north component</span> (X) is clearly larger than the <span class='my_class' style='background-color:yellow; opacity:0.5' >eastward</span> one (Y) in the <span class='my_class' style='background-color:yellow; opacity:0.5' >auroral region</span>, but dX/dt and dY/dt are nearly <span class='my_class' style='background-color:yellow; opacity:0.5' >equal</span>. This <span class='my_class' style='background-color:yellow; opacity:0.5' >result</span> is <span class='my_class' style='background-color:yellow; opacity:0.5' >important</span> when geomagnetic induction risks on man-made conductors are estimated. The <span class='my_class' style='background-color:yellow; opacity:0.5' >key quantity</span> is the <span class='my_class' style='background-color:yellow; opacity:0.5' >horizontal geoelectric field</span>, and <span class='my_class' style='background-color:yellow; opacity:0.5' >contrary</span> to what is often assumed, it can have large values in any <span class='my_class' style='background-color:yellow; opacity:0.5' >direction</span>, not just <span class='my_class' style='background-color:yellow; opacity:0.5' >parallel</span> to the electrojet. <P />"
      ],
      "text/plain": [
       "<IPython.core.display.HTML object>"
      ]
     },
     "execution_count": 58,
     "metadata": {},
     "output_type": "execute_result"
    }
   ],
   "source": [
    "HTML(textrank_ht)"
   ]
  },
  {
   "cell_type": "code",
   "execution_count": null,
   "metadata": {},
   "outputs": [],
   "source": []
  }
 ],
 "metadata": {
  "kernelspec": {
   "display_name": "astro202",
   "language": "python",
   "name": "astro2020"
  },
  "language_info": {
   "codemirror_mode": {
    "name": "ipython",
    "version": 3
   },
   "file_extension": ".py",
   "mimetype": "text/x-python",
   "name": "python",
   "nbconvert_exporter": "python",
   "pygments_lexer": "ipython3",
   "version": "3.7.6"
  }
 },
 "nbformat": 4,
 "nbformat_minor": 4
}
