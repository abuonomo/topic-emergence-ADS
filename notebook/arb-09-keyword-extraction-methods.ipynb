{
 "cells": [
  {
   "cell_type": "code",
   "execution_count": 269,
   "metadata": {
    "collapsed": true,
    "jupyter": {
     "outputs_hidden": true
    }
   },
   "outputs": [
    {
     "name": "stdout",
     "output_type": "stream",
     "text": [
      "Collecting git+https://github.com/LIAAD/yake\n",
      "  Cloning https://github.com/LIAAD/yake to /private/var/folders/m0/7sv6dmqx4xn0n5c2pgc297dw0000gp/T/pip-req-build-7ou4sacq\n",
      "  Running command git clone -q https://github.com/LIAAD/yake /private/var/folders/m0/7sv6dmqx4xn0n5c2pgc297dw0000gp/T/pip-req-build-7ou4sacq\n",
      "Requirement already satisfied (use --upgrade to upgrade): yake==0.4.3 from git+https://github.com/LIAAD/yake in /Users/abuonomo/code/DataSquad/astro2020/venv/lib/python3.7/site-packages\n",
      "Requirement already satisfied: tabulate in /Users/abuonomo/code/DataSquad/astro2020/venv/lib/python3.7/site-packages (from yake==0.4.3) (0.8.7)\n",
      "Requirement already satisfied: click>=6.0 in /Users/abuonomo/code/DataSquad/astro2020/venv/lib/python3.7/site-packages (from yake==0.4.3) (7.0)\n",
      "Requirement already satisfied: numpy in /Users/abuonomo/code/DataSquad/astro2020/venv/lib/python3.7/site-packages (from yake==0.4.3) (1.17.4)\n",
      "Requirement already satisfied: segtok in /Users/abuonomo/code/DataSquad/astro2020/venv/lib/python3.7/site-packages (from yake==0.4.3) (1.5.9)\n",
      "Requirement already satisfied: networkx in /Users/abuonomo/code/DataSquad/astro2020/venv/lib/python3.7/site-packages (from yake==0.4.3) (2.4)\n",
      "Requirement already satisfied: jellyfish in /Users/abuonomo/code/DataSquad/astro2020/venv/lib/python3.7/site-packages (from yake==0.4.3) (0.7.2)\n",
      "Requirement already satisfied: regex in /Users/abuonomo/code/DataSquad/astro2020/venv/lib/python3.7/site-packages (from segtok->yake==0.4.3) (2020.4.4)\n",
      "Requirement already satisfied: decorator>=4.3.0 in /Users/abuonomo/code/DataSquad/astro2020/venv/lib/python3.7/site-packages (from networkx->yake==0.4.3) (4.4.1)\n",
      "Building wheels for collected packages: yake\n",
      "  Building wheel for yake (setup.py) ... \u001b[?25ldone\n",
      "\u001b[?25h  Created wheel for yake: filename=yake-0.4.3-py2.py3-none-any.whl size=67198 sha256=ceaefa9aac873eaa1fbe1e3543dbd167a140657ba282c65f3f98cf92c575dd39\n",
      "  Stored in directory: /private/var/folders/m0/7sv6dmqx4xn0n5c2pgc297dw0000gp/T/pip-ephem-wheel-cache-x0x3k7fm/wheels/be/35/27/e4ebd54b78c1806ed8b0271ce247fcd91e2bedde35889fbc9b\n",
      "Successfully built yake\n",
      "\u001b[33mWARNING: You are using pip version 19.2.3, however version 20.0.2 is available.\n",
      "You should consider upgrading via the 'pip install --upgrade pip' command.\u001b[0m\n",
      "Requirement already satisfied: mrakun in /Users/abuonomo/code/DataSquad/astro2020/venv/lib/python3.7/site-packages (0.41)\n",
      "Requirement already satisfied: networkx in /Users/abuonomo/code/DataSquad/astro2020/venv/lib/python3.7/site-packages (from mrakun) (2.4)\n",
      "Requirement already satisfied: editdistance in /Users/abuonomo/code/DataSquad/astro2020/venv/lib/python3.7/site-packages (from mrakun) (0.5.3)\n",
      "Requirement already satisfied: py3plex in /Users/abuonomo/code/DataSquad/astro2020/venv/lib/python3.7/site-packages (from mrakun) (0.72)\n",
      "Requirement already satisfied: numpy in /Users/abuonomo/code/DataSquad/astro2020/venv/lib/python3.7/site-packages (from mrakun) (1.17.4)\n",
      "Requirement already satisfied: pandas in /Users/abuonomo/code/DataSquad/astro2020/venv/lib/python3.7/site-packages (from mrakun) (0.25.3)\n",
      "Requirement already satisfied: nltk in /Users/abuonomo/code/DataSquad/astro2020/venv/lib/python3.7/site-packages (from mrakun) (3.4.5)\n",
      "Requirement already satisfied: decorator>=4.3.0 in /Users/abuonomo/code/DataSquad/astro2020/venv/lib/python3.7/site-packages (from networkx->mrakun) (4.4.1)\n",
      "Requirement already satisfied: scipy in /Users/abuonomo/code/DataSquad/astro2020/venv/lib/python3.7/site-packages (from py3plex->mrakun) (1.3.3)\n",
      "Requirement already satisfied: rdflib in /Users/abuonomo/code/DataSquad/astro2020/venv/lib/python3.7/site-packages (from py3plex->mrakun) (5.0.0)\n",
      "Requirement already satisfied: pytz>=2017.2 in /Users/abuonomo/code/DataSquad/astro2020/venv/lib/python3.7/site-packages (from pandas->mrakun) (2019.3)\n",
      "Requirement already satisfied: python-dateutil>=2.6.1 in /Users/abuonomo/code/DataSquad/astro2020/venv/lib/python3.7/site-packages (from pandas->mrakun) (2.8.1)\n",
      "Requirement already satisfied: six in /Users/abuonomo/code/DataSquad/astro2020/venv/lib/python3.7/site-packages (from nltk->mrakun) (1.13.0)\n",
      "Requirement already satisfied: pyparsing in /Users/abuonomo/code/DataSquad/astro2020/venv/lib/python3.7/site-packages (from rdflib->py3plex->mrakun) (2.4.5)\n",
      "Requirement already satisfied: isodate in /Users/abuonomo/code/DataSquad/astro2020/venv/lib/python3.7/site-packages (from rdflib->py3plex->mrakun) (0.6.0)\n",
      "\u001b[33mWARNING: You are using pip version 19.2.3, however version 20.0.2 is available.\n",
      "You should consider upgrading via the 'pip install --upgrade pip' command.\u001b[0m\n",
      "Requirement already satisfied: textacy in /Users/abuonomo/code/DataSquad/astro2020/venv/lib/python3.7/site-packages (0.9.1)\n",
      "Requirement already satisfied: jellyfish>=0.7.0 in /Users/abuonomo/code/DataSquad/astro2020/venv/lib/python3.7/site-packages (from textacy) (0.7.2)\n",
      "Requirement already satisfied: requests>=2.10.0 in /Users/abuonomo/code/DataSquad/astro2020/venv/lib/python3.7/site-packages (from textacy) (2.22.0)\n",
      "Requirement already satisfied: numpy>=1.17.0 in /Users/abuonomo/code/DataSquad/astro2020/venv/lib/python3.7/site-packages (from textacy) (1.17.4)\n",
      "Requirement already satisfied: pyemd>=0.5.0 in /Users/abuonomo/code/DataSquad/astro2020/venv/lib/python3.7/site-packages (from textacy) (0.5.1)\n",
      "Requirement already satisfied: scipy>=0.17.0 in /Users/abuonomo/code/DataSquad/astro2020/venv/lib/python3.7/site-packages (from textacy) (1.3.3)\n",
      "Requirement already satisfied: srsly>=0.0.5 in /Users/abuonomo/code/DataSquad/astro2020/venv/lib/python3.7/site-packages (from textacy) (0.2.0)\n",
      "Requirement already satisfied: cytoolz>=0.8.0 in /Users/abuonomo/code/DataSquad/astro2020/venv/lib/python3.7/site-packages (from textacy) (0.10.1)\n",
      "Requirement already satisfied: tqdm>=4.19.6 in /Users/abuonomo/code/DataSquad/astro2020/venv/lib/python3.7/site-packages (from textacy) (4.39.0)\n",
      "Requirement already satisfied: joblib>=0.13.0 in /Users/abuonomo/code/DataSquad/astro2020/venv/lib/python3.7/site-packages (from textacy) (0.14.0)\n",
      "Requirement already satisfied: scikit-learn>=0.19.0 in /Users/abuonomo/code/DataSquad/astro2020/venv/lib/python3.7/site-packages (from textacy) (0.21.3)\n",
      "Requirement already satisfied: pyphen>=0.9.4 in /Users/abuonomo/code/DataSquad/astro2020/venv/lib/python3.7/site-packages (from textacy) (0.9.5)\n",
      "Requirement already satisfied: networkx>=2.0 in /Users/abuonomo/code/DataSquad/astro2020/venv/lib/python3.7/site-packages (from textacy) (2.4)\n",
      "Requirement already satisfied: cachetools>=2.0.1 in /Users/abuonomo/code/DataSquad/astro2020/venv/lib/python3.7/site-packages (from textacy) (3.1.1)\n",
      "Requirement already satisfied: spacy>=2.0.12 in /Users/abuonomo/code/DataSquad/astro2020/venv/lib/python3.7/site-packages (from textacy) (2.2.3)\n",
      "Requirement already satisfied: chardet<3.1.0,>=3.0.2 in /Users/abuonomo/code/DataSquad/astro2020/venv/lib/python3.7/site-packages (from requests>=2.10.0->textacy) (3.0.4)\n",
      "Requirement already satisfied: certifi>=2017.4.17 in /Users/abuonomo/code/DataSquad/astro2020/venv/lib/python3.7/site-packages (from requests>=2.10.0->textacy) (2019.9.11)\n",
      "Requirement already satisfied: urllib3!=1.25.0,!=1.25.1,<1.26,>=1.21.1 in /Users/abuonomo/code/DataSquad/astro2020/venv/lib/python3.7/site-packages (from requests>=2.10.0->textacy) (1.25.7)\n",
      "Requirement already satisfied: idna<2.9,>=2.5 in /Users/abuonomo/code/DataSquad/astro2020/venv/lib/python3.7/site-packages (from requests>=2.10.0->textacy) (2.8)\n",
      "Requirement already satisfied: toolz>=0.8.0 in /Users/abuonomo/code/DataSquad/astro2020/venv/lib/python3.7/site-packages (from cytoolz>=0.8.0->textacy) (0.10.0)\n",
      "Requirement already satisfied: decorator>=4.3.0 in /Users/abuonomo/code/DataSquad/astro2020/venv/lib/python3.7/site-packages (from networkx>=2.0->textacy) (4.4.1)\n",
      "Requirement already satisfied: catalogue<1.1.0,>=0.0.7 in /Users/abuonomo/code/DataSquad/astro2020/venv/lib/python3.7/site-packages (from spacy>=2.0.12->textacy) (0.0.8)\n",
      "Requirement already satisfied: murmurhash<1.1.0,>=0.28.0 in /Users/abuonomo/code/DataSquad/astro2020/venv/lib/python3.7/site-packages (from spacy>=2.0.12->textacy) (1.0.2)\n",
      "Requirement already satisfied: preshed<3.1.0,>=3.0.2 in /Users/abuonomo/code/DataSquad/astro2020/venv/lib/python3.7/site-packages (from spacy>=2.0.12->textacy) (3.0.2)\n",
      "Requirement already satisfied: blis<0.5.0,>=0.4.0 in /Users/abuonomo/code/DataSquad/astro2020/venv/lib/python3.7/site-packages (from spacy>=2.0.12->textacy) (0.4.1)\n",
      "Requirement already satisfied: setuptools in /Users/abuonomo/code/DataSquad/astro2020/venv/lib/python3.7/site-packages (from spacy>=2.0.12->textacy) (41.2.0)\n",
      "Requirement already satisfied: wasabi<1.1.0,>=0.4.0 in /Users/abuonomo/code/DataSquad/astro2020/venv/lib/python3.7/site-packages (from spacy>=2.0.12->textacy) (0.4.0)\n",
      "Requirement already satisfied: cymem<2.1.0,>=2.0.2 in /Users/abuonomo/code/DataSquad/astro2020/venv/lib/python3.7/site-packages (from spacy>=2.0.12->textacy) (2.0.3)\n",
      "Requirement already satisfied: thinc<7.4.0,>=7.3.0 in /Users/abuonomo/code/DataSquad/astro2020/venv/lib/python3.7/site-packages (from spacy>=2.0.12->textacy) (7.3.1)\n",
      "Requirement already satisfied: plac<1.2.0,>=0.9.6 in /Users/abuonomo/code/DataSquad/astro2020/venv/lib/python3.7/site-packages (from spacy>=2.0.12->textacy) (1.1.3)\n",
      "Requirement already satisfied: importlib-metadata>=0.20; python_version < \"3.8\" in /Users/abuonomo/code/DataSquad/astro2020/venv/lib/python3.7/site-packages (from catalogue<1.1.0,>=0.0.7->spacy>=2.0.12->textacy) (0.23)\n",
      "Requirement already satisfied: zipp>=0.5 in /Users/abuonomo/code/DataSquad/astro2020/venv/lib/python3.7/site-packages (from importlib-metadata>=0.20; python_version < \"3.8\"->catalogue<1.1.0,>=0.0.7->spacy>=2.0.12->textacy) (0.6.0)\n",
      "Requirement already satisfied: more-itertools in /Users/abuonomo/code/DataSquad/astro2020/venv/lib/python3.7/site-packages (from zipp>=0.5->importlib-metadata>=0.20; python_version < \"3.8\"->catalogue<1.1.0,>=0.0.7->spacy>=2.0.12->textacy) (7.2.0)\n",
      "\u001b[33mWARNING: You are using pip version 19.2.3, however version 20.0.2 is available.\n",
      "You should consider upgrading via the 'pip install --upgrade pip' command.\u001b[0m\n"
     ]
    }
   ],
   "source": [
    "!pip install git+https://github.com/LIAAD/yake\n",
    "!pip install mrakun\n",
    "!pip install textacy"
   ]
  },
  {
   "cell_type": "code",
   "execution_count": 249,
   "metadata": {},
   "outputs": [
    {
     "name": "stderr",
     "output_type": "stream",
     "text": [
      "[nltk_data] Downloading package punkt to /Users/abuonomo/nltk_data...\n",
      "[nltk_data]   Unzipping tokenizers/punkt.zip.\n"
     ]
    },
    {
     "data": {
      "text/plain": [
       "True"
      ]
     },
     "execution_count": 249,
     "metadata": {},
     "output_type": "execute_result"
    }
   ],
   "source": [
    "import nltk\n",
    "nltk.download('punkt')"
   ]
  },
  {
   "cell_type": "code",
   "execution_count": 272,
   "metadata": {},
   "outputs": [],
   "source": [
    "import yake\n",
    "import RAKE\n",
    "from mrakun import RakunDetector\n",
    "from textacy.ke import textrank\n",
    "from spacy.lang.en.stop_words import STOP_WORDS\n",
    "import spacy\n",
    "from yake.highlight import TextHighlighter\n",
    "from IPython.core.display import HTML\n",
    "import numpy as np"
   ]
  },
  {
   "cell_type": "code",
   "execution_count": 274,
   "metadata": {},
   "outputs": [],
   "source": [
    "NLP = spacy.load(\"en_core_web_sm\")"
   ]
  },
  {
   "cell_type": "code",
   "execution_count": 250,
   "metadata": {},
   "outputs": [],
   "source": [
    "hyperparameters = {\n",
    "    \"distance_threshold\":2,\n",
    "    \"distance_method\": \"editdistance\",\n",
    "    \"num_keywords\" : 10,\n",
    "    \"pair_diff_length\":2,\n",
    "    \"stopwords\" : STOP_WORDS,\n",
    "    \"bigram_count_threshold\":2,\n",
    "    \"num_tokens\":[1,2],\n",
    "    \"max_similar\" : 3, ## n most similar can show up n times\n",
    "    \"max_occurrence\" : 3 ## maximum frequency overall\n",
    "}\n",
    "\n",
    "# keyword_detector = RakunDetector(hyperparameters)\n",
    "# keywords = keyword_detector.find_keywords(blob_of_text, input_type = \"text\")\n",
    "# print(keywords)\n",
    "# keyword_detector.visualize_network()"
   ]
  },
  {
   "cell_type": "code",
   "execution_count": 251,
   "metadata": {},
   "outputs": [
    {
     "name": "stderr",
     "output_type": "stream",
     "text": [
      "30-Apr-20 09:56:48 - Initiated a keyword detector instance.\n"
     ]
    }
   ],
   "source": [
    "rake_extractor = RAKE.Rake(list(STOP_WORDS))\n",
    "yake_extractor = yake.KeywordExtractor()\n",
    "rakun_extractor = RakunDetector(hyperparameters)"
   ]
  },
  {
   "cell_type": "code",
   "execution_count": 252,
   "metadata": {},
   "outputs": [],
   "source": [
    "fl = '0.5'"
   ]
  },
  {
   "cell_type": "code",
   "execution_count": 253,
   "metadata": {},
   "outputs": [],
   "source": [
    "th = TextHighlighter(max_ngram_size=3, highlight_pre=f\"<span class='my_class' style='background-color:yellow; opacity:{fl}' >\", highlight_post=\"</span>\")"
   ]
  },
  {
   "cell_type": "code",
   "execution_count": 254,
   "metadata": {},
   "outputs": [],
   "source": [
    "text = \"\"\"The Ulysses observations have charted the heliosphere around the minimum in the 11 year cycle of solar activity, revealing the large scale properties of the heliospheric medium and its micro-scale characteristics. This book presents for the first time, a comprehensive review of the results of the Ulysses mission.<BR />The first chapter provides an overview of the region, introducing the heliosphere prior to the Ulysses mission, and the objectives and characteristics of the mission itself. Subsequent chapters discuss in detail specific areas of the heliosphere, including the solar wind, large and small scale features, cosmic rays and energetic particles, and the observations of interstellar gas and cosmic dust. Each of these chapters is written by members of the Ulysses science team, concentrating on their own areas of expertise, and is written in a clear and accessible way.<BR />In this book, the authors aim to summarise our understanding of the heliosphere near solar minimum and to provide the basis for understanding the more complex state of the heliosphere around solar maximum, which will be observed during the next phase of the Ulysses mission. <P />\"\"\""
   ]
  },
  {
   "cell_type": "code",
   "execution_count": 255,
   "metadata": {},
   "outputs": [],
   "source": [
    "text = \"\"\"By using the IMAGE magnetometer network data, we compare the geomagnetic variation field B and its time derivative dB/dt in and near the auroral region. We show that although the auroral electrojet is the main reason for large B's, it cannot alone produce large dB/dt's, so smaller-scale current systems are important. This is evidenced by the horizontal field: the geographic north component (X) is clearly larger than the eastward one (Y) in the auroral region, but dX/dt and dY/dt are nearly equal. This result is important when geomagnetic induction risks on man-made conductors are estimated. The key quantity is the horizontal geoelectric field, and contrary to what is often assumed, it can have large values in any direction, not just parallel to the electrojet. <P />\"\"\""
   ]
  },
  {
   "cell_type": "code",
   "execution_count": 276,
   "metadata": {},
   "outputs": [],
   "source": [
    "doc = NLP(text)"
   ]
  },
  {
   "cell_type": "code",
   "execution_count": 282,
   "metadata": {},
   "outputs": [
    {
     "name": "stderr",
     "output_type": "stream",
     "text": [
      "30-Apr-20 10:14:00 - Number of nodes reduced from 44 to 41\n"
     ]
    }
   ],
   "source": [
    "rake_kwds = rake.run(text, minFrequency=1, minCharacters=3)\n",
    "yake_kwds = kw_extractor.extract_keywords(text)\n",
    "rakun_kwds = rakun_extractor.find_keywords(text, input_type = \"text\")\n",
    "textrank_kwds = textrank(doc, normalize=\"lemma\", topn=999)"
   ]
  },
  {
   "cell_type": "code",
   "execution_count": 293,
   "metadata": {},
   "outputs": [],
   "source": [
    "rake_kwds_lim = [(k, v) for k, v in rake_kwds if v > -10]\n",
    "yake_kwds_lim = [(k, v) for k, v in yake_kwds if v < 99999]\n",
    "rakun_kwds_lim = [(k, v) for k, v in yake_kwds if v < 99999]\n",
    "textrank_kwds_lim = [(k, v) for k, v in textrank_kwds if v < 99999]"
   ]
  },
  {
   "cell_type": "code",
   "execution_count": 294,
   "metadata": {},
   "outputs": [],
   "source": [
    "rake_ht = th.highlight(text, rake_kwds_lim)\n",
    "yake_ht = th.highlight(text, yake_kwds_lim)\n",
    "rakun_ht = th.highlight(text, rakun_kwds_lim)\n",
    "textrank_ht = th.highlight(text, textrank_kwds_lim)"
   ]
  },
  {
   "cell_type": "code",
   "execution_count": 295,
   "metadata": {},
   "outputs": [],
   "source": [
    "vals = np.array([v for k,v in rake_kwds_lim])"
   ]
  },
  {
   "cell_type": "code",
   "execution_count": 296,
   "metadata": {},
   "outputs": [],
   "source": [
    "tvals = (vals - vals.min()) / (vals.max() - vals.min())"
   ]
  },
  {
   "cell_type": "code",
   "execution_count": 297,
   "metadata": {},
   "outputs": [],
   "source": [
    "# i = 0\n",
    "# while True:\n",
    "#     try:\n",
    "#         s = rake_ht.index('FILL_VAL')\n",
    "#     except ValueError:\n",
    "#         break\n",
    "#     print(s)\n",
    "#     rake_ht = rake_ht[:s] + str(tvals[i].round(2)) + rake_ht[s + len(fl):]\n",
    "#     i += 1"
   ]
  },
  {
   "cell_type": "code",
   "execution_count": 298,
   "metadata": {},
   "outputs": [
    {
     "data": {
      "text/html": [
       "By using the IMAGE magnetometer network data, we <span class='my_class' style='background-color:yellow; opacity:0.5' >compare</span> the geomagnetic variation field B and its <span class='my_class' style='background-color:yellow; opacity:0.5' >time derivative db/dt</span> in and <span class='my_class' style='background-color:yellow; opacity:0.5' >near</span> the <span class='my_class' style='background-color:yellow; opacity:0.5' >auroral region</span>. We show that although the <span class='my_class' style='background-color:yellow; opacity:0.5' >auroral electrojet</span> is the <span class='my_class' style='background-color:yellow; opacity:0.5' >main reason</span> for large B's, it cannot alone produce large dB/dt's, so <span class='my_class' style='background-color:yellow; opacity:0.5' >smaller-scale current systems</span> are <span class='my_class' style='background-color:yellow; opacity:0.5' >important</span>. This is <span class='my_class' style='background-color:yellow; opacity:0.5' >evidenced</span> by the <span class='my_class' style='background-color:yellow; opacity:0.5' >horizontal field</span>: the <span class='my_class' style='background-color:yellow; opacity:0.5' >geographic north component</span> (X) is <span class='my_class' style='background-color:yellow; opacity:0.5' >clearly larger</span> than the <span class='my_class' style='background-color:yellow; opacity:0.5' >eastward</span> one (Y) in the <span class='my_class' style='background-color:yellow; opacity:0.5' >auroral region</span>, but <span class='my_class' style='background-color:yellow; opacity:0.5' >dx/dt</span> and <span class='my_class' style='background-color:yellow; opacity:0.5' >dy/dt</span> are <span class='my_class' style='background-color:yellow; opacity:0.5' >nearly equal</span>. This <span class='my_class' style='background-color:yellow; opacity:0.5' >result</span> is <span class='my_class' style='background-color:yellow; opacity:0.5' >important</span> when <span class='my_class' style='background-color:yellow; opacity:0.5' >geomagnetic induction risks</span> on man-made <span class='my_class' style='background-color:yellow; opacity:0.5' >conductors</span> are <span class='my_class' style='background-color:yellow; opacity:0.5' >estimated</span>. The <span class='my_class' style='background-color:yellow; opacity:0.5' >key quantity</span> is the <span class='my_class' style='background-color:yellow; opacity:0.5' >horizontal geoelectric field</span>, and <span class='my_class' style='background-color:yellow; opacity:0.5' >contrary</span> to what is often <span class='my_class' style='background-color:yellow; opacity:0.5' >assumed</span>, it can have <span class='my_class' style='background-color:yellow; opacity:0.5' >large values</span> in any <span class='my_class' style='background-color:yellow; opacity:0.5' >direction</span>, not just <span class='my_class' style='background-color:yellow; opacity:0.5' >parallel</span> to the <span class='my_class' style='background-color:yellow; opacity:0.5' >electrojet</span>. <span class='my_class' style='background-color:yellow; opacity:0.5' ><p /></span>"
      ],
      "text/plain": [
       "<IPython.core.display.HTML object>"
      ]
     },
     "execution_count": 298,
     "metadata": {},
     "output_type": "execute_result"
    }
   ],
   "source": [
    "HTML(rake_ht)"
   ]
  },
  {
   "cell_type": "code",
   "execution_count": 299,
   "metadata": {},
   "outputs": [
    {
     "data": {
      "text/html": [
       "By using the <span class='my_class' style='background-color:yellow; opacity:0.5' >image magnetometer network</span> <span class='my_class' style='background-color:yellow; opacity:0.5' >data</span>, we compare the <span class='my_class' style='background-color:yellow; opacity:0.5' >geomagnetic variation field</span> B and its <span class='my_class' style='background-color:yellow; opacity:0.5' >time derivative</span> dB/dt in and near the <span class='my_class' style='background-color:yellow; opacity:0.5' >auroral region</span>. We show that although the <span class='my_class' style='background-color:yellow; opacity:0.5' >auroral</span> electrojet is the main reason for <span class='my_class' style='background-color:yellow; opacity:0.5' >large</span> B's, it cannot alone produce <span class='my_class' style='background-color:yellow; opacity:0.5' >large</span> dB/dt's, so <span class='my_class' style='background-color:yellow; opacity:0.5' >smaller-scale current systems</span> are important. This is evidenced by the horizontal <span class='my_class' style='background-color:yellow; opacity:0.5' >field</span>: the geographic north component (X) is clearly larger than the eastward one (Y) in the <span class='my_class' style='background-color:yellow; opacity:0.5' >auroral region</span>, but dX/dt and dY/dt are nearly equal. This result is important when geomagnetic induction risks on man-made conductors are estimated. The key quantity is the horizontal geoelectric <span class='my_class' style='background-color:yellow; opacity:0.5' >field</span>, and contrary to what is often assumed, it can have <span class='my_class' style='background-color:yellow; opacity:0.5' >large</span> values in any direction, not just parallel to the electrojet. <P />"
      ],
      "text/plain": [
       "<IPython.core.display.HTML object>"
      ]
     },
     "execution_count": 299,
     "metadata": {},
     "output_type": "execute_result"
    }
   ],
   "source": [
    "HTML(yake_ht)"
   ]
  },
  {
   "cell_type": "code",
   "execution_count": 300,
   "metadata": {},
   "outputs": [
    {
     "data": {
      "text/html": [
       "By using the <span class='my_class' style='background-color:yellow; opacity:0.5' >image magnetometer network</span> <span class='my_class' style='background-color:yellow; opacity:0.5' >data</span>, we compare the <span class='my_class' style='background-color:yellow; opacity:0.5' >geomagnetic variation field</span> B and its <span class='my_class' style='background-color:yellow; opacity:0.5' >time derivative</span> dB/dt in and near the <span class='my_class' style='background-color:yellow; opacity:0.5' >auroral region</span>. We show that although the <span class='my_class' style='background-color:yellow; opacity:0.5' >auroral</span> electrojet is the main reason for <span class='my_class' style='background-color:yellow; opacity:0.5' >large</span> B's, it cannot alone produce <span class='my_class' style='background-color:yellow; opacity:0.5' >large</span> dB/dt's, so <span class='my_class' style='background-color:yellow; opacity:0.5' >smaller-scale current systems</span> are important. This is evidenced by the horizontal <span class='my_class' style='background-color:yellow; opacity:0.5' >field</span>: the geographic north component (X) is clearly larger than the eastward one (Y) in the <span class='my_class' style='background-color:yellow; opacity:0.5' >auroral region</span>, but dX/dt and dY/dt are nearly equal. This result is important when geomagnetic induction risks on man-made conductors are estimated. The key quantity is the horizontal geoelectric <span class='my_class' style='background-color:yellow; opacity:0.5' >field</span>, and contrary to what is often assumed, it can have <span class='my_class' style='background-color:yellow; opacity:0.5' >large</span> values in any direction, not just parallel to the electrojet. <P />"
      ],
      "text/plain": [
       "<IPython.core.display.HTML object>"
      ]
     },
     "execution_count": 300,
     "metadata": {},
     "output_type": "execute_result"
    }
   ],
   "source": [
    "HTML(rakun_ht)"
   ]
  },
  {
   "cell_type": "code",
   "execution_count": 302,
   "metadata": {},
   "outputs": [
    {
     "data": {
      "text/html": [
       "By using the IMAGE magnetometer network data, we compare the geomagnetic variation field B and its time derivative dB/dt in and near the <span class='my_class' style='background-color:yellow; opacity:0.5' >auroral region</span>. We show that although the <span class='my_class' style='background-color:yellow; opacity:0.5' >auroral electrojet</span> is the <span class='my_class' style='background-color:yellow; opacity:0.5' >main reason</span> for large B's, it cannot alone produce large dB/dt's, so smaller-scale current systems are <span class='my_class' style='background-color:yellow; opacity:0.5' >important</span>. This is evidenced by the <span class='my_class' style='background-color:yellow; opacity:0.5' >horizontal field</span>: the <span class='my_class' style='background-color:yellow; opacity:0.5' >geographic north component</span> (X) is clearly larger than the <span class='my_class' style='background-color:yellow; opacity:0.5' >eastward</span> one (Y) in the <span class='my_class' style='background-color:yellow; opacity:0.5' >auroral region</span>, but dX/dt and dY/dt are nearly <span class='my_class' style='background-color:yellow; opacity:0.5' >equal</span>. This <span class='my_class' style='background-color:yellow; opacity:0.5' >result</span> is <span class='my_class' style='background-color:yellow; opacity:0.5' >important</span> when geomagnetic induction risks on man-made conductors are estimated. The <span class='my_class' style='background-color:yellow; opacity:0.5' >key quantity</span> is the <span class='my_class' style='background-color:yellow; opacity:0.5' >horizontal geoelectric field</span>, and <span class='my_class' style='background-color:yellow; opacity:0.5' >contrary</span> to what is often assumed, it can have large values in any <span class='my_class' style='background-color:yellow; opacity:0.5' >direction</span>, not just <span class='my_class' style='background-color:yellow; opacity:0.5' >parallel</span> to the electrojet. <P />"
      ],
      "text/plain": [
       "<IPython.core.display.HTML object>"
      ]
     },
     "execution_count": 302,
     "metadata": {},
     "output_type": "execute_result"
    }
   ],
   "source": [
    "HTML(textrank_ht)"
   ]
  },
  {
   "cell_type": "code",
   "execution_count": null,
   "metadata": {},
   "outputs": [],
   "source": []
  }
 ],
 "metadata": {
  "kernelspec": {
   "display_name": "astro202",
   "language": "python",
   "name": "astro2020"
  },
  "language_info": {
   "codemirror_mode": {
    "name": "ipython",
    "version": 3
   },
   "file_extension": ".py",
   "mimetype": "text/x-python",
   "name": "python",
   "nbconvert_exporter": "python",
   "pygments_lexer": "ipython3",
   "version": "3.7.6"
  }
 },
 "nbformat": 4,
 "nbformat_minor": 4
}
