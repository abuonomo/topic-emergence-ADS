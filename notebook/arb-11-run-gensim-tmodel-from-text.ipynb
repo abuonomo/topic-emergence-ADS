{
 "cells": [
  {
   "cell_type": "code",
   "execution_count": 20,
   "metadata": {},
   "outputs": [],
   "source": [
    "import sys\n",
    "sys.path.append(\"../src/\")\n",
    "\n",
    "import gensim\n",
    "import pandas as pd\n",
    "import topic_modeling as tm\n",
    "import extract_keywords as ek\n",
    "from pathlib import Path\n",
    "import dsconcept.model as md"
   ]
  },
  {
   "cell_type": "code",
   "execution_count": 25,
   "metadata": {},
   "outputs": [],
   "source": [
    "infile = Path('../data/full_lim_journal_singlerank_05_05_2020/kwds.jsonl')"
   ]
  },
  {
   "cell_type": "code",
   "execution_count": 30,
   "metadata": {},
   "outputs": [
    {
     "name": "stderr",
     "output_type": "stream",
     "text": [
      "INFO:gensim.corpora.dictionary:adding document #0 to Dictionary(0 unique tokens: [])\n",
      "INFO:gensim.corpora.dictionary:built Dictionary(19465 unique tokens: ['a', 'an', 'and', 'are', 'around']...) from 5719 documents (total 823325 corpus positions)\n",
      "INFO:gensim.corpora.dictionary:discarding 12674 tokens: [('a', 5044), ('and', 5046), ('are', 3078), ('biomes', 3), ('capital', 1), ('for', 3206), ('functioning', 3), ('in', 5027), ('is', 3986), ('market', 1)]...\n",
      "INFO:gensim.corpora.dictionary:keeping 6791 tokens which were in no less than 5 and no more than 2859 (=50.0%) documents\n",
      "DEBUG:gensim.corpora.dictionary:rebuilding dictionary, shrinking gaps\n",
      "INFO:gensim.corpora.dictionary:resulting dictionary: Dictionary(6791 unique tokens: ['an', 'around', 'average', 'based', 'be']...)\n"
     ]
    },
    {
     "data": {
      "text/plain": [
       "<module 'topic_modeling' from '../src/topic_modeling.py'>"
      ]
     },
     "execution_count": 30,
     "metadata": {},
     "output_type": "execute_result"
    }
   ],
   "source": [
    "df = pd.read_json(infile, orient='records', lines=True)\n",
    "texts = df['title'] + '. ' + df['abstract']\n",
    "tokens = texts.apply(lambda x: [v for v in gensim.summarization.textcleaner.tokenize_by_word(x)])\n",
    "\n",
    "dct = gensim.corpora.Dictionary(tokens)\n",
    "dct.filter_extremes(no_below=5, no_above=0.5)\n",
    "corpus = [dct.doc2bow(t) for t in tokens]\n",
    "\n",
    "topic_range = list(range(10, 100, 10))\n",
    "tmodels_dir = Path('./tmodels')\n",
    "\n",
    "import imp; imp.reload(tm)\n",
    "# !export LOGLEVEL=INFO\n",
    "# tm.LOG.level\n",
    "# tm.LOG.setLevel('DEBUG')"
   ]
  },
  {
   "cell_type": "code",
   "execution_count": 55,
   "metadata": {},
   "outputs": [],
   "source": [
    "import imp; imp.reload(tm)\n",
    "topic_range = [10, 20]"
   ]
  },
  {
   "cell_type": "code",
   "execution_count": null,
   "metadata": {},
   "outputs": [
    {
     "name": "stderr",
     "output_type": "stream",
     "text": [
      "\n",
      "\n",
      "\n",
      "\n",
      "\n",
      "\n",
      "\n",
      "\n",
      "\n",
      "  0%|          | 0/2 [00:00<?, ?it/s]\u001b[A\u001b[A\u001b[A\u001b[A\u001b[A\u001b[A\u001b[A\u001b[A\u001b[A\n",
      "\n",
      "\n",
      "\n",
      "\n",
      "\n",
      "\n",
      "\n",
      "\n",
      "n_topics: 10:   0%|          | 0/2 [00:14<?, ?it/s]\u001b[A\u001b[A\u001b[A\u001b[A\u001b[A\u001b[A\u001b[A\u001b[A\u001b[AINFO:gensim.models.ldamodel:using autotuned alpha, starting with [0.1, 0.1, 0.1, 0.1, 0.1, 0.1, 0.1, 0.1, 0.1, 0.1]\n",
      "INFO:gensim.models.ldamodel:using serial LDA version on this node\n",
      "INFO:gensim.models.ldamodel:running online (single-pass) LDA training, 10 topics, 1 passes over the supplied corpus of 5719 documents, updating model once every 2000 documents, evaluating perplexity every 5719 documents, iterating 50x with a convergence threshold of 0.001000\n",
      "WARNING:gensim.models.ldamodel:too few updates, training might not converge; consider increasing the number of passes or iterations to improve accuracy\n",
      "INFO:gensim.models.ldamodel:PROGRESS: pass 0, at document #2000/5719\n",
      "DEBUG:gensim.models.ldamodel:performing inference on a chunk of 2000 documents\n",
      "\n",
      "\n",
      "\n",
      "\n",
      "\n",
      "\n",
      "\n",
      "\n",
      "\n",
      "n_topics: 20:   0%|          | 0/2 [00:14<?, ?it/s]\u001b[A\u001b[A\u001b[A\u001b[A\u001b[A\u001b[A\u001b[A\u001b[A\u001b[AINFO:gensim.models.ldamodel:using autotuned alpha, starting with [0.05, 0.05, 0.05, 0.05, 0.05, 0.05, 0.05, 0.05, 0.05, 0.05, 0.05, 0.05, 0.05, 0.05, 0.05, 0.05, 0.05, 0.05, 0.05, 0.05]\n",
      "INFO:gensim.models.ldamodel:using serial LDA version on this node\n",
      "INFO:gensim.models.ldamodel:running online (single-pass) LDA training, 20 topics, 1 passes over the supplied corpus of 5719 documents, updating model once every 2000 documents, evaluating perplexity every 5719 documents, iterating 50x with a convergence threshold of 0.001000\n",
      "WARNING:gensim.models.ldamodel:too few updates, training might not converge; consider increasing the number of passes or iterations to improve accuracy\n",
      "INFO:gensim.models.ldamodel:PROGRESS: pass 0, at document #2000/5719\n",
      "DEBUG:gensim.models.ldamodel:performing inference on a chunk of 2000 documents\n",
      "DEBUG:gensim.models.ldamodel:82/2000 documents converged within 50 iterations\n",
      "INFO:gensim.models.ldamodel:optimized alpha [0.11469314, 0.11114015, 0.092929885, 0.122303516, 0.0987882, 0.09990568, 0.11623699, 0.11959211, 0.1337267, 0.12939504]\n",
      "DEBUG:gensim.models.ldamodel:updating topics\n",
      "INFO:gensim.models.ldamodel:merging changes from 2000 documents into a model of 5719 documents\n",
      "INFO:gensim.models.ldamodel:topic #2 (0.093): 0.013*\"be\" + 0.012*\"sup\" + 0.011*\"s\" + 0.009*\"sub\" + 0.008*\"at\" + 0.007*\"as\" + 0.007*\"on\" + 0.006*\"an\" + 0.006*\"this\" + 0.005*\"field\"\n",
      "INFO:gensim.models.ldamodel:topic #4 (0.099): 0.011*\"sup\" + 0.010*\"at\" + 0.010*\"s\" + 0.008*\"which\" + 0.007*\"have\" + 0.007*\"earth\" + 0.006*\"be\" + 0.006*\"as\" + 0.006*\"this\" + 0.006*\"on\"\n",
      "INFO:gensim.models.ldamodel:topic #3 (0.122): 0.023*\"sup\" + 0.011*\"at\" + 0.009*\"this\" + 0.009*\"be\" + 0.008*\"as\" + 0.007*\"s\" + 0.007*\"on\" + 0.006*\"mantle\" + 0.006*\"have\" + 0.006*\"an\"\n",
      "INFO:gensim.models.ldamodel:topic #9 (0.129): 0.031*\"sup\" + 0.008*\"on\" + 0.008*\"have\" + 0.007*\"this\" + 0.007*\"at\" + 0.007*\"as\" + 0.006*\"be\" + 0.006*\"an\" + 0.006*\"here\" + 0.006*\"which\"\n",
      "INFO:gensim.models.ldamodel:topic #8 (0.134): 0.056*\"sup\" + 0.024*\"sub\" + 0.012*\"at\" + 0.007*\"s\" + 0.007*\"on\" + 0.007*\"have\" + 0.007*\"as\" + 0.007*\"which\" + 0.007*\"this\" + 0.006*\"be\"\n",
      "INFO:gensim.models.ldamodel:topic diff=3.166768, rho=1.000000\n",
      "INFO:gensim.models.ldamodel:PROGRESS: pass 0, at document #4000/5719\n",
      "DEBUG:gensim.models.ldamodel:performing inference on a chunk of 2000 documents\n",
      "DEBUG:gensim.models.ldamodel:115/2000 documents converged within 50 iterations\n",
      "INFO:gensim.models.ldamodel:optimized alpha [0.048645526, 0.05244242, 0.06148926, 0.051490203, 0.046661235, 0.048836507, 0.062383614, 0.047547724, 0.04953941, 0.043883663, 0.049922865, 0.046173047, 0.06321781, 0.045305684, 0.044782504, 0.050872225, 0.056085236, 0.05062145, 0.050782986, 0.047935005]\n",
      "DEBUG:gensim.models.ldamodel:updating topics\n",
      "INFO:gensim.models.ldamodel:merging changes from 2000 documents into a model of 5719 documents\n",
      "INFO:gensim.models.ldamodel:topic #9 (0.044): 0.016*\"on\" + 0.010*\"sub\" + 0.008*\"at\" + 0.008*\"be\" + 0.008*\"sup\" + 0.007*\"have\" + 0.007*\"an\" + 0.006*\"surface\" + 0.005*\"c\" + 0.005*\"than\"\n",
      "INFO:gensim.models.ldamodel:topic #14 (0.045): 0.017*\"sup\" + 0.011*\"dust\" + 0.008*\"have\" + 0.008*\"at\" + 0.008*\"solar\" + 0.006*\"as\" + 0.006*\"system\" + 0.006*\"ring\" + 0.006*\"an\" + 0.006*\"be\"\n",
      "INFO:gensim.models.ldamodel:topic #2 (0.061): 0.069*\"sup\" + 0.028*\"sub\" + 0.011*\"at\" + 0.009*\"s\" + 0.008*\"have\" + 0.008*\"as\" + 0.007*\"on\" + 0.006*\"be\" + 0.006*\"this\" + 0.006*\"which\"\n",
      "INFO:gensim.models.ldamodel:topic #6 (0.062): 0.055*\"sup\" + 0.011*\"be\" + 0.011*\"as\" + 0.008*\"on\" + 0.007*\"have\" + 0.007*\"this\" + 0.007*\"at\" + 0.006*\"an\" + 0.006*\"these\" + 0.005*\"been\"\n",
      "INFO:gensim.models.ldamodel:topic #12 (0.063): 0.037*\"sup\" + 0.011*\"sub\" + 0.009*\"on\" + 0.008*\"at\" + 0.008*\"an\" + 0.007*\"this\" + 0.007*\"be\" + 0.007*\"x\" + 0.007*\"ray\" + 0.006*\"which\"\n",
      "INFO:gensim.models.ldamodel:topic diff=7.733163, rho=1.000000\n",
      "INFO:gensim.models.ldamodel:PROGRESS: pass 0, at document #4000/5719\n",
      "DEBUG:gensim.models.ldamodel:performing inference on a chunk of 2000 documents\n"
     ]
    }
   ],
   "source": [
    "df = tm.run_gensim_lda_mult_inner(\n",
    "    topic_range,\n",
    "    dct,\n",
    "    tmodels_dir,\n",
    "    c_measures=['u_mass', 'c_v'], \n",
    "    corpus=corpus,\n",
    "    texts=tokens,\n",
    ")"
   ]
  },
  {
   "cell_type": "code",
   "execution_count": 54,
   "metadata": {},
   "outputs": [
    {
     "data": {
      "text/html": [
       "<div>\n",
       "<style scoped>\n",
       "    .dataframe tbody tr th:only-of-type {\n",
       "        vertical-align: middle;\n",
       "    }\n",
       "\n",
       "    .dataframe tbody tr th {\n",
       "        vertical-align: top;\n",
       "    }\n",
       "\n",
       "    .dataframe thead th {\n",
       "        text-align: right;\n",
       "    }\n",
       "</style>\n",
       "<table border=\"1\" class=\"dataframe\">\n",
       "  <thead>\n",
       "    <tr style=\"text-align: right;\">\n",
       "      <th></th>\n",
       "      <th>model</th>\n",
       "      <th>n_topics</th>\n",
       "      <th>u_mass</th>\n",
       "      <th>c_v</th>\n",
       "    </tr>\n",
       "  </thead>\n",
       "  <tbody>\n",
       "    <tr>\n",
       "      <th>0</th>\n",
       "      <td>gensim.models.ldamodel.LdaModel</td>\n",
       "      <td>10</td>\n",
       "      <td>-1.482922</td>\n",
       "      <td>0.303059</td>\n",
       "    </tr>\n",
       "    <tr>\n",
       "      <th>1</th>\n",
       "      <td>gensim.models.ldamodel.LdaModel</td>\n",
       "      <td>20</td>\n",
       "      <td>-1.519469</td>\n",
       "      <td>0.294175</td>\n",
       "    </tr>\n",
       "  </tbody>\n",
       "</table>\n",
       "</div>"
      ],
      "text/plain": [
       "                             model  n_topics    u_mass       c_v\n",
       "0  gensim.models.ldamodel.LdaModel        10 -1.482922  0.303059\n",
       "1  gensim.models.ldamodel.LdaModel        20 -1.519469  0.294175"
      ]
     },
     "execution_count": 54,
     "metadata": {},
     "output_type": "execute_result"
    }
   ],
   "source": [
    "df"
   ]
  },
  {
   "cell_type": "code",
   "execution_count": null,
   "metadata": {},
   "outputs": [],
   "source": []
  }
 ],
 "metadata": {
  "kernelspec": {
   "display_name": "astro202",
   "language": "python",
   "name": "astro2020"
  },
  "language_info": {
   "codemirror_mode": {
    "name": "ipython",
    "version": 3
   },
   "file_extension": ".py",
   "mimetype": "text/x-python",
   "name": "python",
   "nbconvert_exporter": "python",
   "pygments_lexer": "ipython3",
   "version": "3.7.6"
  }
 },
 "nbformat": 4,
 "nbformat_minor": 4
}
