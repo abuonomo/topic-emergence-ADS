{
 "cells": [
  {
   "cell_type": "code",
   "execution_count": 29,
   "metadata": {},
   "outputs": [],
   "source": [
    "import pandas as pd\n",
    "from pathlib import Path\n",
    "import matplotlib.pyplot as plt\n",
    "from tqdm.notebook import tqdm"
   ]
  },
  {
   "cell_type": "code",
   "execution_count": 3,
   "metadata": {},
   "outputs": [],
   "source": [
    "in_data_dir = Path('../data/full_04_01_2020/')"
   ]
  },
  {
   "cell_type": "code",
   "execution_count": 4,
   "metadata": {},
   "outputs": [],
   "source": [
    "kwds_loc = in_data_dir / 'kwds.jsonl'"
   ]
  },
  {
   "cell_type": "code",
   "execution_count": 7,
   "metadata": {},
   "outputs": [],
   "source": [
    "chunks = pd.read_json(kwds_loc, orient='records', lines=True, chunksize=1000)"
   ]
  },
  {
   "cell_type": "code",
   "execution_count": 32,
   "metadata": {},
   "outputs": [
    {
     "data": {
      "application/vnd.jupyter.widget-view+json": {
       "model_id": "8f74bbe061eb4fbc81a7b01df80b60ea",
       "version_major": 2,
       "version_minor": 0
      },
      "text/plain": [
       "HBox(children=(IntProgress(value=1, bar_style='info', max=1), HTML(value='')))"
      ]
     },
     "metadata": {},
     "output_type": "display_data"
    },
    {
     "name": "stdout",
     "output_type": "stream",
     "text": [
      "\n"
     ]
    }
   ],
   "source": [
    "df = pd.DataFrame()\n",
    "for c in tqdm(chunks):\n",
    "    df = pd.concat([df, c['bibstem']])"
   ]
  },
  {
   "cell_type": "code",
   "execution_count": 26,
   "metadata": {},
   "outputs": [],
   "source": [
    "df.columns = ['bibstem']"
   ]
  },
  {
   "cell_type": "code",
   "execution_count": 29,
   "metadata": {},
   "outputs": [
    {
     "data": {
      "text/html": [
       "<div>\n",
       "<style scoped>\n",
       "    .dataframe tbody tr th:only-of-type {\n",
       "        vertical-align: middle;\n",
       "    }\n",
       "\n",
       "    .dataframe tbody tr th {\n",
       "        vertical-align: top;\n",
       "    }\n",
       "\n",
       "    .dataframe thead th {\n",
       "        text-align: right;\n",
       "    }\n",
       "</style>\n",
       "<table border=\"1\" class=\"dataframe\">\n",
       "  <thead>\n",
       "    <tr style=\"text-align: right;\">\n",
       "      <th></th>\n",
       "      <th>bibstem</th>\n",
       "    </tr>\n",
       "  </thead>\n",
       "  <tbody>\n",
       "    <tr>\n",
       "      <th>0</th>\n",
       "      <td>[ApJ, ApJ...490]</td>\n",
       "    </tr>\n",
       "    <tr>\n",
       "      <th>1</th>\n",
       "      <td>[A&amp;A, A&amp;A...323]</td>\n",
       "    </tr>\n",
       "    <tr>\n",
       "      <th>2</th>\n",
       "      <td>[A&amp;AS, A&amp;AS..125]</td>\n",
       "    </tr>\n",
       "    <tr>\n",
       "      <th>3</th>\n",
       "      <td>[A&amp;A, A&amp;A...326]</td>\n",
       "    </tr>\n",
       "    <tr>\n",
       "      <th>4</th>\n",
       "      <td>[ApJS, ApJS..112]</td>\n",
       "    </tr>\n",
       "    <tr>\n",
       "      <th>...</th>\n",
       "      <td>...</td>\n",
       "    </tr>\n",
       "    <tr>\n",
       "      <th>807826</th>\n",
       "      <td>[ESASP, ESASP.686]</td>\n",
       "    </tr>\n",
       "    <tr>\n",
       "      <th>807827</th>\n",
       "      <td>[sf2a, sf2a.conf]</td>\n",
       "    </tr>\n",
       "    <tr>\n",
       "      <th>807828</th>\n",
       "      <td>[AAS, AAS...215]</td>\n",
       "    </tr>\n",
       "    <tr>\n",
       "      <th>807829</th>\n",
       "      <td>[AAS, AAS...215]</td>\n",
       "    </tr>\n",
       "    <tr>\n",
       "      <th>807830</th>\n",
       "      <td>[cosp, cosp...38]</td>\n",
       "    </tr>\n",
       "  </tbody>\n",
       "</table>\n",
       "<p>807831 rows × 1 columns</p>\n",
       "</div>"
      ],
      "text/plain": [
       "                   bibstem\n",
       "0         [ApJ, ApJ...490]\n",
       "1         [A&A, A&A...323]\n",
       "2        [A&AS, A&AS..125]\n",
       "3         [A&A, A&A...326]\n",
       "4        [ApJS, ApJS..112]\n",
       "...                    ...\n",
       "807826  [ESASP, ESASP.686]\n",
       "807827   [sf2a, sf2a.conf]\n",
       "807828    [AAS, AAS...215]\n",
       "807829    [AAS, AAS...215]\n",
       "807830   [cosp, cosp...38]\n",
       "\n",
       "[807831 rows x 1 columns]"
      ]
     },
     "execution_count": 29,
     "metadata": {},
     "output_type": "execute_result"
    }
   ],
   "source": [
    "df"
   ]
  },
  {
   "cell_type": "code",
   "execution_count": 39,
   "metadata": {},
   "outputs": [],
   "source": [
    "counts = df['bibstem'].apply(lambda x: x[0]).value_counts()"
   ]
  },
  {
   "cell_type": "code",
   "execution_count": 48,
   "metadata": {},
   "outputs": [],
   "source": [
    "n_journals = len(counts.index.unique())"
   ]
  },
  {
   "cell_type": "code",
   "execution_count": 51,
   "metadata": {},
   "outputs": [
    {
     "data": {
      "text/plain": [
       "[<matplotlib.lines.Line2D at 0x158984cd0>]"
      ]
     },
     "execution_count": 51,
     "metadata": {},
     "output_type": "execute_result"
    },
    {
     "data": {
      "image/png": "[encoded data removed]",
      "text/plain": [
       "<Figure size 432x288 with 1 Axes>"
      ]
     },
     "metadata": {
      "needs_background": "light"
     },
     "output_type": "display_data"
    }
   ],
   "source": [
    "plt.plot(range(len(counts)), counts)"
   ]
  },
  {
   "cell_type": "code",
   "execution_count": 88,
   "metadata": {},
   "outputs": [
    {
     "data": {
      "text/plain": [
       "([0,\n",
       "  1,\n",
       "  2,\n",
       "  3,\n",
       "  4,\n",
       "  5,\n",
       "  6,\n",
       "  7,\n",
       "  8,\n",
       "  9,\n",
       "  10,\n",
       "  11,\n",
       "  12,\n",
       "  13,\n",
       "  14,\n",
       "  15,\n",
       "  16,\n",
       "  17,\n",
       "  18,\n",
       "  19,\n",
       "  20,\n",
       "  21,\n",
       "  22,\n",
       "  23,\n",
       "  24,\n",
       "  25,\n",
       "  26,\n",
       "  27,\n",
       "  28,\n",
       "  29,\n",
       "  30,\n",
       "  31,\n",
       "  32,\n",
       "  33,\n",
       "  34,\n",
       "  35,\n",
       "  36,\n",
       "  37,\n",
       "  38,\n",
       "  39,\n",
       "  40,\n",
       "  41,\n",
       "  42,\n",
       "  43,\n",
       "  44,\n",
       "  45,\n",
       "  46,\n",
       "  47,\n",
       "  48,\n",
       "  49],\n",
       " <a list of 50 Text xticklabel objects>)"
      ]
     },
     "execution_count": 88,
     "metadata": {},
     "output_type": "execute_result"
    },
    {
     "data": {
      "image/png": "[encoded data removed]",
      "text/plain": [
       "<Figure size 1080x360 with 1 Axes>"
      ]
     },
     "metadata": {
      "needs_background": "light"
     },
     "output_type": "display_data"
    }
   ],
   "source": [
    "t = 50\n",
    "plt.figure(figsize=(15, 5))\n",
    "plt.plot(counts.index[0:t], counts.iloc[0:t])\n",
    "plt.title('Number of Papers Published in Different Journals')\n",
    "plt.xlabel('Journal')\n",
    "plt.ylabel('Number of Papers Published')\n",
    "plt.xticks(rotation=45)"
   ]
  },
  {
   "cell_type": "code",
   "execution_count": 90,
   "metadata": {},
   "outputs": [
    {
     "data": {
      "text/plain": [
       "Index(['ApJ', 'AAS', 'A&A', 'ASPC', 'SPIE', 'LPI', 'ESASP', 'GeoRL', 'MNRAS',\n",
       "       'AIPC',\n",
       "       ...\n",
       "       'papo', 'fds', 'pftl', 'eusl', 'cnmc', 'tiro', 'amrl', 'giim', 'nqp',\n",
       "       'qni'],\n",
       "      dtype='object', length=15192)"
      ]
     },
     "execution_count": 90,
     "metadata": {},
     "output_type": "execute_result"
    }
   ],
   "source": [
    "counts.index"
   ]
  },
  {
   "cell_type": "code",
   "execution_count": 102,
   "metadata": {},
   "outputs": [
    {
     "data": {
      "application/vnd.jupyter.widget-view+json": {
       "model_id": "c987b8ed6c474a17b29635dd5c250cc9",
       "version_major": 2,
       "version_minor": 0
      },
      "text/plain": [
       "HBox(children=(IntProgress(value=0), HTML(value='')))"
      ]
     },
     "metadata": {},
     "output_type": "display_data"
    },
    {
     "name": "stdout",
     "output_type": "stream",
     "text": [
      "\n"
     ]
    }
   ],
   "source": [
    "from pywikiapi import wikipedia\n",
    "\n",
    "site = wikipedia('en')\n",
    "jl = 100\n",
    "t = 10\n",
    "pages = []\n",
    "for c in tqdm(counts.index[0:jl]):\n",
    "    i = 0\n",
    "    for p in site.query(list='search', srsearch=c):\n",
    "        for r in p['search']:\n",
    "            if ' journal ' in r['snippet'].lower():\n",
    "                pages.append(r)\n",
    "                break\n",
    "            elif i > t:\n",
    "                pages.append(None)\n",
    "                break\n",
    "            else:\n",
    "                continue\n",
    "        else:\n",
    "            i += 1\n",
    "            continue\n",
    "        break"
   ]
  },
  {
   "cell_type": "code",
   "execution_count": 99,
   "metadata": {},
   "outputs": [
    {
     "data": {
      "text/plain": [
       "{'ns': 0,\n",
       " 'title': 'Earth',\n",
       " 'pageid': 9228,\n",
       " 'size': 176941,\n",
       " 'wordcount': 16418,\n",
       " 'snippet': 'Heat Loss&quot;. Journal of Geophysical Research. 86 (B12): 11535. Bibcode:1981<span class=\"searchmatch\">JGR</span>....8611535S. doi:10.1029/JB086iB12p11535. Brown, W. K.; Wohletz, K. H. (2005)',\n",
       " 'timestamp': '2020-05-12T14:48:10Z'}"
      ]
     },
     "execution_count": 99,
     "metadata": {},
     "output_type": "execute_result"
    }
   ],
   "source": [
    "pages[5]"
   ]
  },
  {
   "cell_type": "code",
   "execution_count": null,
   "metadata": {},
   "outputs": [],
   "source": []
  }
 ],
 "metadata": {
  "kernelspec": {
   "display_name": "astro202",
   "language": "python",
   "name": "astro2020"
  },
  "language_info": {
   "codemirror_mode": {
    "name": "ipython",
    "version": 3
   },
   "file_extension": ".py",
   "mimetype": "text/x-python",
   "name": "python",
   "nbconvert_exporter": "python",
   "pygments_lexer": "ipython3",
   "version": "3.7.6"
  }
 },
 "nbformat": 4,
 "nbformat_minor": 4
}
