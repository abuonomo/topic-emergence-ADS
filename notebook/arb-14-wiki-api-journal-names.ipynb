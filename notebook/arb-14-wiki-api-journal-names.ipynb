{
 "cells": [
  {
   "cell_type": "code",
   "execution_count": 12,
   "metadata": {
    "collapsed": true,
    "jupyter": {
     "outputs_hidden": true
    }
   },
   "outputs": [
    {
     "name": "stdout",
     "output_type": "stream",
     "text": [
      "Collecting pywikiapi\n",
      "  Downloading https://files.pythonhosted.org/packages/45/5f/4c052162199ab48dc20979e385e2215fb19449b74d0a46bfd032d190fa2a/pywikiapi-4.2.0-py3-none-any.whl\n",
      "Collecting responses (from pywikiapi)\n",
      "  Downloading https://files.pythonhosted.org/packages/01/0c/e4da4191474e27bc41bedab2bf249b27d9261db749f59769d7e7ca8feead/responses-0.10.14-py2.py3-none-any.whl\n",
      "Requirement already satisfied: requests in /Users/abuonomo/code/DataSquad/astro2020/venv/lib/python3.7/site-packages (from pywikiapi) (2.22.0)\n",
      "Requirement already satisfied: six in /Users/abuonomo/code/DataSquad/astro2020/venv/lib/python3.7/site-packages (from responses->pywikiapi) (1.13.0)\n",
      "Requirement already satisfied: certifi>=2017.4.17 in /Users/abuonomo/code/DataSquad/astro2020/venv/lib/python3.7/site-packages (from requests->pywikiapi) (2019.9.11)\n",
      "Requirement already satisfied: chardet<3.1.0,>=3.0.2 in /Users/abuonomo/code/DataSquad/astro2020/venv/lib/python3.7/site-packages (from requests->pywikiapi) (3.0.4)\n",
      "Requirement already satisfied: urllib3!=1.25.0,!=1.25.1,<1.26,>=1.21.1 in /Users/abuonomo/code/DataSquad/astro2020/venv/lib/python3.7/site-packages (from requests->pywikiapi) (1.25.7)\n",
      "Requirement already satisfied: idna<2.9,>=2.5 in /Users/abuonomo/code/DataSquad/astro2020/venv/lib/python3.7/site-packages (from requests->pywikiapi) (2.8)\n",
      "Installing collected packages: responses, pywikiapi\n",
      "Successfully installed pywikiapi-4.2.0 responses-0.10.14\n",
      "\u001b[33mWARNING: You are using pip version 19.2.3, however version 20.1 is available.\n",
      "You should consider upgrading via the 'pip install --upgrade pip' command.\u001b[0m\n"
     ]
    }
   ],
   "source": [
    "!pip install pywikiapi"
   ]
  },
  {
   "cell_type": "code",
   "execution_count": 44,
   "metadata": {},
   "outputs": [],
   "source": [
    "import pandas as pd\n",
    "import requests\n",
    "import json\n",
    "from tqdm.notebook import tqdm"
   ]
  },
  {
   "cell_type": "code",
   "execution_count": 44,
   "metadata": {},
   "outputs": [],
   "source": [
    "from pywikiapi import wikipedia\n",
    "\n",
    "site = wikipedia('en')\n",
    "\n",
    "for p in tqdm(site.query(list='search', srsearch='JGR')):\n",
    "    for r in p['search']:\n",
    "        if ' journal ' in r['snippet'].lower():\n",
    "            print(r)\n",
    "            break\n",
    "    else:\n",
    "        continue\n",
    "    break"
   ]
  },
  {
   "cell_type": "code",
   "execution_count": 2,
   "metadata": {},
   "outputs": [],
   "source": [
    "# base_url = \"https://en.wikipedia.org/w/\"\n",
    "# request_str = f\"{base_url}api.php?action=query&list=search&srwhat=text&srsearch=apj&format=json\"\n",
    "# r = requests.get(request_str)\n",
    "# json.loads(r.content)"
   ]
  },
  {
   "cell_type": "code",
   "execution_count": null,
   "metadata": {},
   "outputs": [],
   "source": []
  }
 ],
 "metadata": {
  "kernelspec": {
   "display_name": "astro202",
   "language": "python",
   "name": "astro2020"
  },
  "language_info": {
   "codemirror_mode": {
    "name": "ipython",
    "version": 3
   },
   "file_extension": ".py",
   "mimetype": "text/x-python",
   "name": "python",
   "nbconvert_exporter": "python",
   "pygments_lexer": "ipython3",
   "version": "3.7.6"
  }
 },
 "nbformat": 4,
 "nbformat_minor": 4
}
