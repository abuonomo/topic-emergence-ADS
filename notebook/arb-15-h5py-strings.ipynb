{
 "cells": [
  {
   "cell_type": "code",
   "execution_count": 120,
   "metadata": {},
   "outputs": [],
   "source": [
    "import h5py\n",
    "import pandas as pd\n",
    "import numpy as np"
   ]
  },
  {
   "cell_type": "code",
   "execution_count": 121,
   "metadata": {},
   "outputs": [],
   "source": [
    "df = pd.read_csv('../reports/viz/full_singlerank_05_12_2020/topic_distribs_to_bibcodes350.csv', index_col=0)"
   ]
  },
  {
   "cell_type": "code",
   "execution_count": 122,
   "metadata": {},
   "outputs": [],
   "source": [
    "outloc = '../reports/viz/full_singlerank_05_12_2020/topic_distribs_to_bibcodes350.hdf5'"
   ]
  },
  {
   "cell_type": "code",
   "execution_count": 123,
   "metadata": {},
   "outputs": [],
   "source": [
    "vals = df.iloc[:, 1:]\n",
    "tmaxes = vals.values.argmax(axis=1)\n",
    "dt = h5py.string_dtype()\n",
    "\n",
    "with h5py.File(outloc, 'w') as f0:\n",
    "    bib_dset = f0.create_dataset(\"bibcodes\", (df.shape[0],), dtype=dt)\n",
    "    bib_dset[:] = df['bibcode']\n",
    "    val_dset = f0.create_dataset(\"topic_distribution\", (vals.shape[0], vals.shape[1]), dtype=np.float64)\n",
    "    val_dset[:] = vals\n",
    "    tmax_dset = f0.create_dataset(\"topic_maxes\", (tmaxes.shape[0], ), dtype=np.int)\n",
    "    tmax_dset[:] = tmaxes"
   ]
  },
  {
   "cell_type": "code",
   "execution_count": 128,
   "metadata": {},
   "outputs": [
    {
     "data": {
      "text/plain": [
       "array([  1,   1,   1, ..., 349, 349, 349])"
      ]
     },
     "execution_count": 128,
     "metadata": {},
     "output_type": "execute_result"
    }
   ],
   "source": [
    "tmaxes"
   ]
  },
  {
   "cell_type": "code",
   "execution_count": 124,
   "metadata": {},
   "outputs": [],
   "source": [
    "t = 274\n",
    "with h5py.File(outloc, 'r') as f0:\n",
    "    b = f0['bibcodes'][3]\n",
    "    mask = f0['topic_maxes'][:] == t\n",
    "    v = f0['topic_distribution'][mask, :]\n",
    "    b = f0['bibcodes'][mask]\n",
    "\n",
    "tmp_df = pd.DataFrame(v)\n",
    "tmp_df.index = b\n",
    "tmps = tmp_df.iloc[:, t]"
   ]
  },
  {
   "cell_type": "code",
   "execution_count": 127,
   "metadata": {},
   "outputs": [],
   "source": [
    "!mv ../reports/viz/full_singlerank_05_12_2020/topic_distribs_to_bibcodes350.h5py ../reports/viz/full_singlerank_05_12_2020/topic_distribs_to_bibcodes350.hdf5"
   ]
  },
  {
   "cell_type": "code",
   "execution_count": 125,
   "metadata": {},
   "outputs": [],
   "source": [
    "df = tmps.reset_index()\n",
    "df.columns = ['bibcode', 'score']"
   ]
  },
  {
   "cell_type": "code",
   "execution_count": 126,
   "metadata": {},
   "outputs": [
    {
     "data": {
      "text/html": [
       "<div>\n",
       "<style scoped>\n",
       "    .dataframe tbody tr th:only-of-type {\n",
       "        vertical-align: middle;\n",
       "    }\n",
       "\n",
       "    .dataframe tbody tr th {\n",
       "        vertical-align: top;\n",
       "    }\n",
       "\n",
       "    .dataframe thead th {\n",
       "        text-align: right;\n",
       "    }\n",
       "</style>\n",
       "<table border=\"1\" class=\"dataframe\">\n",
       "  <thead>\n",
       "    <tr style=\"text-align: right;\">\n",
       "      <th></th>\n",
       "      <th>bibcode</th>\n",
       "      <th>score</th>\n",
       "    </tr>\n",
       "  </thead>\n",
       "  <tbody>\n",
       "    <tr>\n",
       "      <th>0</th>\n",
       "      <td>2008ApJ...683L.191J</td>\n",
       "      <td>0.370185</td>\n",
       "    </tr>\n",
       "    <tr>\n",
       "      <th>1</th>\n",
       "      <td>1990ESASP.315..219M</td>\n",
       "      <td>0.296975</td>\n",
       "    </tr>\n",
       "    <tr>\n",
       "      <th>2</th>\n",
       "      <td>2007ApJ...654L.155P</td>\n",
       "      <td>0.391805</td>\n",
       "    </tr>\n",
       "    <tr>\n",
       "      <th>3</th>\n",
       "      <td>2007atnf.prop..973M</td>\n",
       "      <td>0.360237</td>\n",
       "    </tr>\n",
       "    <tr>\n",
       "      <th>4</th>\n",
       "      <td>2009AAS...21335805E</td>\n",
       "      <td>0.248280</td>\n",
       "    </tr>\n",
       "    <tr>\n",
       "      <th>...</th>\n",
       "      <td>...</td>\n",
       "      <td>...</td>\n",
       "    </tr>\n",
       "    <tr>\n",
       "      <th>2187</th>\n",
       "      <td>2000eso..pres...10.</td>\n",
       "      <td>0.088743</td>\n",
       "    </tr>\n",
       "    <tr>\n",
       "      <th>2188</th>\n",
       "      <td>1999eso..pres....4.</td>\n",
       "      <td>0.108504</td>\n",
       "    </tr>\n",
       "    <tr>\n",
       "      <th>2189</th>\n",
       "      <td>1997eso..pres....7.</td>\n",
       "      <td>0.063904</td>\n",
       "    </tr>\n",
       "    <tr>\n",
       "      <th>2190</th>\n",
       "      <td>2002eso..pres....9.</td>\n",
       "      <td>0.060023</td>\n",
       "    </tr>\n",
       "    <tr>\n",
       "      <th>2191</th>\n",
       "      <td>1999eso..pres....3.</td>\n",
       "      <td>0.034591</td>\n",
       "    </tr>\n",
       "  </tbody>\n",
       "</table>\n",
       "<p>2192 rows × 2 columns</p>\n",
       "</div>"
      ],
      "text/plain": [
       "                  bibcode     score\n",
       "0     2008ApJ...683L.191J  0.370185\n",
       "1     1990ESASP.315..219M  0.296975\n",
       "2     2007ApJ...654L.155P  0.391805\n",
       "3     2007atnf.prop..973M  0.360237\n",
       "4     2009AAS...21335805E  0.248280\n",
       "...                   ...       ...\n",
       "2187  2000eso..pres...10.  0.088743\n",
       "2188  1999eso..pres....4.  0.108504\n",
       "2189  1997eso..pres....7.  0.063904\n",
       "2190  2002eso..pres....9.  0.060023\n",
       "2191  1999eso..pres....3.  0.034591\n",
       "\n",
       "[2192 rows x 2 columns]"
      ]
     },
     "execution_count": 126,
     "metadata": {},
     "output_type": "execute_result"
    }
   ],
   "source": [
    "df"
   ]
  },
  {
   "cell_type": "code",
   "execution_count": 108,
   "metadata": {},
   "outputs": [
    {
     "name": "stdout",
     "output_type": "stream",
     "text": [
      "2.1G\ttmp.hdf5\n"
     ]
    }
   ],
   "source": [
    "!du -sh tmp.hdf5"
   ]
  },
  {
   "cell_type": "code",
   "execution_count": 107,
   "metadata": {},
   "outputs": [
    {
     "name": "stdout",
     "output_type": "stream",
     "text": [
      "3.4G\t../reports/viz/full_singlerank_05_12_2020/topic_distribs_to_bibcodes350.csv\n"
     ]
    }
   ],
   "source": [
    "!du -sh ../reports/viz/full_singlerank_05_12_2020/topic_distribs_to_bibcodes350.csv"
   ]
  },
  {
   "cell_type": "code",
   "execution_count": null,
   "metadata": {},
   "outputs": [],
   "source": []
  }
 ],
 "metadata": {
  "kernelspec": {
   "display_name": "astro202",
   "language": "python",
   "name": "astro2020"
  },
  "language_info": {
   "codemirror_mode": {
    "name": "ipython",
    "version": 3
   },
   "file_extension": ".py",
   "mimetype": "text/x-python",
   "name": "python",
   "nbconvert_exporter": "python",
   "pygments_lexer": "ipython3",
   "version": "3.7.6"
  }
 },
 "nbformat": 4,
 "nbformat_minor": 4
}
