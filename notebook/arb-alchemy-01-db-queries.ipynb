{
 "cells": [
  {
   "cell_type": "code",
   "execution_count": 1,
   "metadata": {
    "pycharm": {
     "is_executing": false
    }
   },
   "outputs": [
    {
     "name": "stderr",
     "output_type": "stream",
     "text": [
      "unable to import 'smart_open.gcs', disabling that module\n",
      "/Users/abuonomo/code/DataSquad/astro2020/venv/lib/python3.7/site-packages/tqdm/std.py:651: FutureWarning: The Panel class is removed from pandas. Accessing it from the top-level namespace will also be removed in the next version\n",
      "  from pandas import Panel\n"
     ]
    }
   ],
   "source": [
    "import sys\n",
    "sys.path.append('../src')\n",
    "from db import *\n",
    "from sqlalchemy import func\n",
    "from sqlalchemy.orm import aliased\n",
    "import numpy as np\n",
    "from sqlalchemy import or_, and_\n",
    "from tqdm import tqdm"
   ]
  },
  {
   "cell_type": "code",
   "execution_count": 2,
   "metadata": {
    "pycharm": {
     "is_executing": false
    }
   },
   "outputs": [],
   "source": [
    "db_loc = '../scratch/test.sqlite'"
   ]
  },
  {
   "cell_type": "code",
   "execution_count": 3,
   "metadata": {
    "pycharm": {
     "is_executing": false
    }
   },
   "outputs": [],
   "source": [
    "engine = create_engine(f\"sqlite:///{db_loc}\")\n",
    "Session = sessionmaker(bind=engine)\n",
    "session = Session()"
   ]
  },
  {
   "cell_type": "code",
   "execution_count": 4,
   "metadata": {},
   "outputs": [],
   "source": [
    "# no_below = 10\n",
    "# no_above = 0.5\n",
    "# min_mean_score = 0.01\n",
    "\n",
    "# corpus_size = session.query(Paper).count()\n",
    "# no_above_abs = int(no_above * corpus_size)\n",
    "# kwd_query = (\n",
    "#     session.query(\n",
    "#         Keyword, func.count(Keyword.id), func.avg(PaperKeywords.score)\n",
    "#     )\n",
    "#     .join(PaperKeywords)\n",
    "#     .join(Paper)\n",
    "#     .group_by(Keyword.id)\n",
    "# #     .order_by(func.count(Keyword.id).desc())\n",
    "# #     .order_by(func.avg(PaperKeywords.score).desc())\n",
    "#     .having(func.count() >= no_below)\n",
    "#     .having(func.count() <= no_above_abs)\n",
    "#     .having(func.avg(PaperKeywords.score) >= min_mean_score)\n",
    "# )\n",
    "# LOG.info(kwd_query)"
   ]
  },
  {
   "cell_type": "code",
   "execution_count": 5,
   "metadata": {},
   "outputs": [],
   "source": [
    "# kwd_query.order_by(func.count(Keyword.id).desc())[0:10]"
   ]
  },
  {
   "cell_type": "code",
   "execution_count": 6,
   "metadata": {},
   "outputs": [],
   "source": [
    "# kwd_query[0:10]"
   ]
  },
  {
   "cell_type": "code",
   "execution_count": 7,
   "metadata": {},
   "outputs": [],
   "source": [
    "po = PaperOrganizer(no_below=10, no_above=0.5, min_mean_score=0.01)"
   ]
  },
  {
   "cell_type": "code",
   "execution_count": 41,
   "metadata": {},
   "outputs": [],
   "source": [
    "year_min = min([y for y, c in po.get_year_counts(session)])"
   ]
  },
  {
   "cell_type": "code",
   "execution_count": 42,
   "metadata": {},
   "outputs": [],
   "source": [
    "year_max = max([y for y, c in po.get_year_counts(session)])"
   ]
  },
  {
   "cell_type": "code",
   "execution_count": 34,
   "metadata": {},
   "outputs": [
    {
     "data": {
      "text/plain": [
       "[(1996, 394),\n",
       " (1997, 407),\n",
       " (1998, 423),\n",
       " (1999, 440),\n",
       " (2000, 427),\n",
       " (2001, 439),\n",
       " (2002, 434),\n",
       " (2003, 488),\n",
       " (2004, 490),\n",
       " (2005, 528),\n",
       " (2006, 559),\n",
       " (2007, 538),\n",
       " (2008, 515),\n",
       " (2009, 577),\n",
       " (2010, 586)]"
      ]
     },
     "execution_count": 34,
     "metadata": {},
     "output_type": "execute_result"
    }
   ],
   "source": [
    "po.get_year_counts(session)"
   ]
  },
  {
   "cell_type": "code",
   "execution_count": 22,
   "metadata": {},
   "outputs": [
    {
     "name": "stdout",
     "output_type": "stream",
     "text": [
      "<Keyword(keyword=\"black hole x-ray binary\")> [(1997, 1), (1998, 1), (1999, 2), (2001, 1), (2005, 2), (2007, 1), (2009, 1), (2010, 1)]\n",
      "<Keyword(keyword=\"dark energy model\")> [(2002, 2), (2003, 1), (2004, 1), (2005, 4), (2006, 2), (2007, 4), (2008, 2), (2009, 1), (2010, 1)]\n",
      "<Keyword(keyword=\"quasar luminosity function\")> [(1997, 1), (2001, 2), (2003, 1), (2004, 1), (2006, 2), (2007, 1), (2008, 2), (2009, 1), (2010, 2)]\n",
      "<Keyword(keyword=\"black hole binary\")> [(1997, 2), (1999, 1), (2000, 1), (2006, 2), (2007, 1), (2009, 1), (2010, 4)]\n",
      "<Keyword(keyword=\"low surface brightness galaxy\")> [(1996, 1), (1997, 5), (1998, 1), (2001, 4), (2002, 2), (2003, 2), (2004, 1), (2005, 2), (2007, 1), (2008, 2), (2009, 1)]\n"
     ]
    }
   ],
   "source": [
    "for k, c, s in po.get_filtered_keywords(session)[0:5]:\n",
    "    ys = po.get_kwd_years(session, k.keyword)\n",
    "    print(k, ys)"
   ]
  },
  {
   "cell_type": "code",
   "execution_count": 37,
   "metadata": {},
   "outputs": [],
   "source": [
    "ys = po.get_kwd_years(session, k.keyword)"
   ]
  },
  {
   "cell_type": "code",
   "execution_count": 56,
   "metadata": {},
   "outputs": [],
   "source": [
    "yd = dict(ys)"
   ]
  },
  {
   "cell_type": "code",
   "execution_count": 57,
   "metadata": {},
   "outputs": [],
   "source": [
    "fy = {}\n",
    "for y in range(year_min, year_max):\n",
    "    if y in yd:\n",
    "        c = yd[y]\n",
    "    else:\n",
    "        c = 0\n",
    "    fy[y] = c"
   ]
  },
  {
   "cell_type": "code",
   "execution_count": 58,
   "metadata": {},
   "outputs": [
    {
     "data": {
      "text/plain": [
       "{1996: 1,\n",
       " 1997: 5,\n",
       " 1998: 1,\n",
       " 1999: 0,\n",
       " 2000: 0,\n",
       " 2001: 4,\n",
       " 2002: 2,\n",
       " 2003: 2,\n",
       " 2004: 1,\n",
       " 2005: 2,\n",
       " 2006: 0,\n",
       " 2007: 1,\n",
       " 2008: 2,\n",
       " 2009: 1}"
      ]
     },
     "execution_count": 58,
     "metadata": {},
     "output_type": "execute_result"
    }
   ],
   "source": [
    "fy"
   ]
  },
  {
   "cell_type": "code",
   "execution_count": 53,
   "metadata": {},
   "outputs": [
    {
     "data": {
      "text/plain": [
       "{1996: 1,\n",
       " 1997: 5,\n",
       " 1998: 1,\n",
       " 2001: 4,\n",
       " 2002: 2,\n",
       " 2003: 2,\n",
       " 2004: 1,\n",
       " 2005: 2,\n",
       " 2007: 1,\n",
       " 2008: 2,\n",
       " 2009: 1}"
      ]
     },
     "execution_count": 53,
     "metadata": {},
     "output_type": "execute_result"
    }
   ],
   "source": [
    "dict(ys)"
   ]
  },
  {
   "cell_type": "code",
   "execution_count": 50,
   "metadata": {},
   "outputs": [
    {
     "data": {
      "text/plain": [
       "(1996, 1997, 1998, 2001, 2002, 2003, 2004, 2005, 2007, 2008, 2009)"
      ]
     },
     "execution_count": 50,
     "metadata": {},
     "output_type": "execute_result"
    }
   ],
   "source": [
    "list(zip(*ys))[0]"
   ]
  },
  {
   "cell_type": "code",
   "execution_count": 51,
   "metadata": {},
   "outputs": [
    {
     "data": {
      "text/plain": [
       "True"
      ]
     },
     "execution_count": 51,
     "metadata": {},
     "output_type": "execute_result"
    }
   ],
   "source": [
    "1996 in list(zip(*ys))[0]"
   ]
  },
  {
   "cell_type": "code",
   "execution_count": 18,
   "metadata": {},
   "outputs": [
    {
     "data": {
      "text/plain": [
       "[(1996, 1),\n",
       " (1997, 5),\n",
       " (1998, 1),\n",
       " (2001, 4),\n",
       " (2002, 2),\n",
       " (2003, 2),\n",
       " (2004, 1),\n",
       " (2005, 2),\n",
       " (2007, 1),\n",
       " (2008, 2),\n",
       " (2009, 1)]"
      ]
     },
     "execution_count": 18,
     "metadata": {},
     "output_type": "execute_result"
    }
   ],
   "source": [
    "ys"
   ]
  },
  {
   "cell_type": "code",
   "execution_count": 11,
   "metadata": {},
   "outputs": [
    {
     "data": {
      "text/plain": [
       "[(1996, 5),\n",
       " (1997, 5),\n",
       " (1998, 4),\n",
       " (1999, 11),\n",
       " (2000, 5),\n",
       " (2001, 4),\n",
       " (2002, 3),\n",
       " (2003, 9),\n",
       " (2004, 9),\n",
       " (2005, 7),\n",
       " (2006, 10),\n",
       " (2007, 7),\n",
       " (2008, 7),\n",
       " (2009, 9),\n",
       " (2010, 11)]"
      ]
     },
     "execution_count": 11,
     "metadata": {},
     "output_type": "execute_result"
    }
   ],
   "source": [
    "po.get_kwd_years(session, \"black hole\")"
   ]
  },
  {
   "cell_type": "code",
   "execution_count": 7,
   "metadata": {},
   "outputs": [
    {
     "name": "stderr",
     "output_type": "stream",
     "text": [
      "INFO:db:SELECT keywords.id AS keywords_id, keywords.keyword AS keywords_keyword, count(keywords.id) AS count_1, avg(paper_keywords.score) AS avg_1 \n",
      "FROM keywords JOIN paper_keywords ON keywords.id = paper_keywords.keyword_id JOIN papers ON papers.bibcode = paper_keywords.paper_bibcode GROUP BY keywords.id \n",
      "HAVING count(*) >= ? AND count(*) <= ? AND avg(paper_keywords.score) >= ? ORDER BY avg(paper_keywords.score) DESC\n"
     ]
    },
    {
     "data": {
      "text/plain": [
       "[(<Keyword(keyword=\"solar neutrino flux\")>, 5, 0.08805533132992653),\n",
       " (<Keyword(keyword=\"black hole solution\")>, 6, 0.06777864170716498),\n",
       " (<Keyword(keyword=\"dark energy perturbation\")>, 5, 0.06457131502763466),\n",
       " (<Keyword(keyword=\"black hole entropy\")>, 8, 0.06441613113808471),\n",
       " (<Keyword(keyword=\"high energy cosmic ray\")>, 5, 0.06031572588700181),\n",
       " (<Keyword(keyword=\"galaxy stellar mass function\")>, 8, 0.05916039950265407),\n",
       " (<Keyword(keyword=\"loop quantum gravity\")>, 5, 0.05704066487378082),\n",
       " (<Keyword(keyword=\"massive star cluster\")>, 6, 0.055648326003086),\n",
       " (<Keyword(keyword=\"Wilkinson Microwave Anisotropy Probe datum\")>,\n",
       "  5,\n",
       "  0.05562826391134331),\n",
       " (<Keyword(keyword=\"black hole mass function\")>, 5, 0.05559822606583661),\n",
       " (<Keyword(keyword=\"neutron star matter\")>, 8, 0.05516433662967057),\n",
       " (<Keyword(keyword=\"standard solar model\")>, 6, 0.05338508508229397),\n",
       " (<Keyword(keyword=\"black hole x-ray binary\")>, 10, 0.051980075023631646),\n",
       " (<Keyword(keyword=\"dark matter density profile\")>, 6, 0.04995669952103208),\n",
       " (<Keyword(keyword=\"dark energy model\")>, 18, 0.04981232004917651),\n",
       " (<Keyword(keyword=\"coronal magnetic field\")>, 9, 0.049671781552657696),\n",
       " (<Keyword(keyword=\"GRB prompt emission\")>, 6, 0.04940309615268811),\n",
       " (<Keyword(keyword=\"conformal field theory\")>, 9, 0.0492702548221983),\n",
       " (<Keyword(keyword=\"interstellar dust grain\")>, 6, 0.04906243496220172),\n",
       " (<Keyword(keyword=\"Kerr black hole\")>, 9, 0.048917546628002136),\n",
       " (<Keyword(keyword=\"LSB galaxy\")>, 6, 0.04846519679877539),\n",
       " (<Keyword(keyword=\"polarization power spectra\")>, 5, 0.04839732782672655),\n",
       " (<Keyword(keyword=\"white dwarf star\")>, 6, 0.047851744574240684),\n",
       " (<Keyword(keyword=\"quasar luminosity function\")>, 13, 0.04734158482248426),\n",
       " (<Keyword(keyword=\"black hole binary\")>, 12, 0.046665358543820944),\n",
       " (<Keyword(keyword=\"turbulent magnetic field\")>, 6, 0.046536656553098965),\n",
       " (<Keyword(keyword=\"young brown dwarf\")>, 5, 0.046338475371889634),\n",
       " (<Keyword(keyword=\"neutron star crust\")>, 5, 0.04627662438723942),\n",
       " (<Keyword(keyword=\"Sloan Digital Sky Survey Commissioning Data\")>,\n",
       "  7,\n",
       "  0.04627454601456208),\n",
       " (<Keyword(keyword=\"dark energy component\")>, 6, 0.046227277537332044),\n",
       " (<Keyword(keyword=\"neutron star structure\")>, 6, 0.046038957750750065),\n",
       " (<Keyword(keyword=\"total cluster mass\")>, 8, 0.04570572973955125),\n",
       " (<Keyword(keyword=\"hierarchical galaxy formation model\")>,\n",
       "  6,\n",
       "  0.045605847114287945),\n",
       " (<Keyword(keyword=\"stellar mass estimate\")>, 5, 0.04547511617448781),\n",
       " (<Keyword(keyword=\"dark energy constraint\")>, 7, 0.0454561371762155),\n",
       " (<Keyword(keyword=\"low surface brightness galaxy\")>,\n",
       "  22,\n",
       "  0.045393991840986796),\n",
       " (<Keyword(keyword=\"intergalactic magnetic field\")>, 5, 0.04508817926745214),\n",
       " (<Keyword(keyword=\"black hole spin\")>, 14, 0.044885753276631114),\n",
       " (<Keyword(keyword=\"black hole physics\")>, 5, 0.04470519631401326),\n",
       " (<Keyword(keyword=\"dark energy density\")>, 9, 0.04455483750925017),\n",
       " (<Keyword(keyword=\"stellar magnetic field\")>, 6, 0.044474758784503056),\n",
       " (<Keyword(keyword=\"halo density profile\")>, 7, 0.0442959044189437),\n",
       " (<Keyword(keyword=\"Degree Angular Scale Interferometer\")>,\n",
       "  5,\n",
       "  0.044284042271607524),\n",
       " (<Keyword(keyword=\"Schwarzschild black hole\")>, 8, 0.04422226632078967),\n",
       " (<Keyword(keyword=\"quantum field theory\")>, 10, 0.044188983927107114),\n",
       " (<Keyword(keyword=\"primordial helium abundance Yp\")>,\n",
       "  5,\n",
       "  0.043983327270730684),\n",
       " (<Keyword(keyword=\"Lorentz violation\")>, 5, 0.04385259031943968),\n",
       " (<Keyword(keyword=\"WR star\")>, 5, 0.04346036165863576),\n",
       " (<Keyword(keyword=\"pulsar polar cap\")>, 5, 0.043338982640538086),\n",
       " (<Keyword(keyword=\"quasar host galaxy\")>, 6, 0.0432387024963525),\n",
       " (<Keyword(keyword=\"black hole growth\")>, 14, 0.04295802210024977),\n",
       " (<Keyword(keyword=\"low mass galaxy\")>, 9, 0.04264169121133023),\n",
       " (<Keyword(keyword=\"black hole horizon\")>, 7, 0.04246792005552171),\n",
       " (<Keyword(keyword=\"magnetic field generation\")>, 5, 0.04239716321310847),\n",
       " (<Keyword(keyword=\"bright cluster galaxy\")>, 22, 0.042387771398658444),\n",
       " (<Keyword(keyword=\"galactic chemical evolution model\")>,\n",
       "  5,\n",
       "  0.04230618730875829),\n",
       " (<Keyword(keyword=\"central black hole mass\")>, 8, 0.04223594477549003),\n",
       " (<Keyword(keyword=\"Wilkinson Microwave Anisotropy Probe Data\")>,\n",
       "  5,\n",
       "  0.042217423331869966),\n",
       " (<Keyword(keyword=\"cosmological constant problem\")>, 8, 0.04204623229918565),\n",
       " (<Keyword(keyword=\"CHIANTI atomic database\")>, 5, 0.041697731061435615),\n",
       " (<Keyword(keyword=\"galaxy stellar mass\")>, 6, 0.041675880857938385),\n",
       " (<Keyword(keyword=\"weak magnetic field\")>, 11, 0.04155953745307803),\n",
       " (<Keyword(keyword=\"supersymmetric dark matter\")>, 7, 0.041498172228329404),\n",
       " (<Keyword(keyword=\"large-scale magnetic field\")>, 11, 0.04146223524928989),\n",
       " (<Keyword(keyword=\"small black hole\")>, 5, 0.04127575597368411),\n",
       " (<Keyword(keyword=\"Sudbury Neutrino Observatory\")>, 6, 0.04126750720488823),\n",
       " (<Keyword(keyword=\"short burst\")>, 10, 0.04119909519431775),\n",
       " (<Keyword(keyword=\"tachyon field\")>, 5, 0.04111674380910915),\n",
       " (<Keyword(keyword=\"reverse shock emission\")>, 5, 0.04110367772200146),\n",
       " (<Keyword(keyword=\"high mass star\")>, 7, 0.04106234179614576),\n",
       " (<Keyword(keyword=\"gas giant planet\")>, 12, 0.04091463637955198),\n",
       " (<Keyword(keyword=\"primordial curvature perturbation\")>,\n",
       "  5,\n",
       "  0.04091295169135174),\n",
       " (<Keyword(keyword=\"recent star formation history\")>, 5, 0.04090488371360529),\n",
       " (<Keyword(keyword=\"broad absorption line quasar\")>, 7, 0.04090217570586894),\n",
       " (<Keyword(keyword=\"additional planet\")>, 6, 0.04082727902639809),\n",
       " (<Keyword(keyword=\"massive early-type galaxy\")>, 11, 0.04034379121068618),\n",
       " (<Keyword(keyword=\"terrestrial planet formation\")>, 5, 0.04025007273180348),\n",
       " (<Keyword(keyword=\"effective cosmological constant\")>,\n",
       "  6,\n",
       "  0.04008293479147317),\n",
       " (<Keyword(keyword=\"quasinormal mode\")>, 6, 0.040034749477369055),\n",
       " (<Keyword(keyword=\"disk model\")>, 5, 0.039946570192184165),\n",
       " (<Keyword(keyword=\"ordinary radio pulsar\")>, 5, 0.03974757282989948),\n",
       " (<Keyword(keyword=\"microwave background anisotropy\")>,\n",
       "  9,\n",
       "  0.03970489742108232),\n",
       " (<Keyword(keyword=\"binary neutron star\")>, 7, 0.039676164476956585),\n",
       " (<Keyword(keyword=\"stellar evolutionary model\")>, 7, 0.039647917322382153),\n",
       " (<Keyword(keyword=\"inner planet\")>, 7, 0.039480054919157424),\n",
       " (<Keyword(keyword=\"M ☉ star\")>, 6, 0.03947471458166518),\n",
       " (<Keyword(keyword=\"binary component\")>, 5, 0.03946298826272991),\n",
       " (<Keyword(keyword=\"transiting planet\")>, 5, 0.039383754970642386),\n",
       " (<Keyword(keyword=\"halo concentration\")>, 9, 0.03923589681542229),\n",
       " (<Keyword(keyword=\"galaxy luminosity function\")>, 20, 0.0391917618984471),\n",
       " (<Keyword(keyword=\"rapid star formation\")>, 6, 0.03912969909923372),\n",
       " (<Keyword(keyword=\"condensed matter physics\")>, 6, 0.03912504680263774),\n",
       " (<Keyword(keyword=\"black hole system\")>, 11, 0.038902391010508235),\n",
       " (<Keyword(keyword=\"thick disk star\")>, 5, 0.03863155643843859),\n",
       " (<Keyword(keyword=\"gravitational wave detector\")>, 11, 0.038574172724897465),\n",
       " (<Keyword(keyword=\"accretion power\")>, 6, 0.038560717816100196),\n",
       " (<Keyword(keyword=\"giant planet formation\")>, 8, 0.03851150313701564),\n",
       " (<Keyword(keyword=\"pre-main sequence star\")>, 6, 0.03849775079868234),\n",
       " (<Keyword(keyword=\"weak energy condition\")>, 5, 0.03825702064709944),\n",
       " (<Keyword(keyword=\"field theory\")>, 9, 0.03824510771689552),\n",
       " (<Keyword(keyword=\"young stellar cluster\")>, 11, 0.038154514260944634),\n",
       " (<Keyword(keyword=\"stellar mass range\")>, 6, 0.038152366883962355),\n",
       " (<Keyword(keyword=\"neutrino oscillation\")>, 11, 0.03814706136153703),\n",
       " (<Keyword(keyword=\"accretion disk model\")>, 8, 0.038144997388893376),\n",
       " (<Keyword(keyword=\"cluster halo\")>, 5, 0.038104577677718986),\n",
       " (<Keyword(keyword=\"starless core\")>, 8, 0.038027563471521156),\n",
       " (<Keyword(keyword=\"strong magnetic field\")>, 29, 0.037995651638981616),\n",
       " (<Keyword(keyword=\"gravity theory\")>, 8, 0.03795440101399228),\n",
       " (<Keyword(keyword=\"electron spectrum\")>, 7, 0.03792563495082082),\n",
       " (<Keyword(keyword=\"star forming region\")>, 5, 0.03790276166081847),\n",
       " (<Keyword(keyword=\"evolution equation\")>, 6, 0.03768623098815409),\n",
       " (<Keyword(keyword=\"global star formation rate\")>, 9, 0.037565938041223525),\n",
       " (<Keyword(keyword=\"Type Ia Supernovae\")>, 8, 0.03755472172214453),\n",
       " (<Keyword(keyword=\"model galaxy\")>, 5, 0.037386043856821),\n",
       " (<Keyword(keyword=\"powerful radio galaxy\")>, 6, 0.03733989851974286),\n",
       " (<Keyword(keyword=\"disk accretion rate\")>, 6, 0.03728532609659027),\n",
       " (<Keyword(keyword=\"classical T Tauri star\")>, 14, 0.037226243761794474),\n",
       " (<Keyword(keyword=\"scalar field φ\")>, 6, 0.037204166371552265),\n",
       " (<Keyword(keyword=\"neutrino energy\")>, 6, 0.03719120896043255),\n",
       " (<Keyword(keyword=\"globular cluster system\")>, 6, 0.037136810208892736),\n",
       " (<Keyword(keyword=\"Sloan Digital Sky Survey Data Release\")>,\n",
       "  22,\n",
       "  0.037054732605723215),\n",
       " (<Keyword(keyword=\"anti-de Sitter space\")>, 5, 0.036992883992152246),\n",
       " (<Keyword(keyword=\"yr sky map\")>, 5, 0.036969233500188575),\n",
       " (<Keyword(keyword=\"classical bulge\")>, 6, 0.0369221331414249),\n",
       " (<Keyword(keyword=\"long-duration γ-ray burst\")>, 8, 0.03691163368534271),\n",
       " (<Keyword(keyword=\"high-mass star formation\")>, 6, 0.036875902467942624),\n",
       " (<Keyword(keyword=\"linear perturbation theory\")>, 6, 0.036803633663316064),\n",
       " (<Keyword(keyword=\"magnetic field line\")>, 19, 0.03674328496703485),\n",
       " (<Keyword(keyword=\"primordial power spectrum\")>, 10, 0.03672768874943261),\n",
       " (<Keyword(keyword=\"galaxy structure\")>, 5, 0.036595040033933726),\n",
       " (<Keyword(keyword=\"diffusive shock acceleration\")>, 8, 0.03654294468120786),\n",
       " (<Keyword(keyword=\"cosmological scaling solution\")>, 5, 0.03641863168686057),\n",
       " (<Keyword(keyword=\"globular cluster star\")>, 10, 0.03625447367954358),\n",
       " (<Keyword(keyword=\"standard model particle\")>, 5, 0.03619481864304667),\n",
       " (<Keyword(keyword=\"intermediate-mass black hole\")>, 12, 0.03618913626471091),\n",
       " (<Keyword(keyword=\"quantum level\")>, 5, 0.03607666357051606),\n",
       " (<Keyword(keyword=\"slow solar wind\")>, 6, 0.036040157415976916),\n",
       " (<Keyword(keyword=\"cluster galaxy\")>, 13, 0.035932290725352506),\n",
       " (<Keyword(keyword=\"dark matter particle\")>, 16, 0.03588567281226632),\n",
       " (<Keyword(keyword=\"quantum theory\")>, 13, 0.03585208320988303),\n",
       " (<Keyword(keyword=\"low luminosity galaxy\")>, 6, 0.035812850741065994),\n",
       " (<Keyword(keyword=\"massive star formation\")>, 24, 0.035647711834609956),\n",
       " (<Keyword(keyword=\"SDSS quasar\")>, 5, 0.03558196372488206),\n",
       " (<Keyword(keyword=\"galaxy power spectrum\")>, 7, 0.03554665133603755),\n",
       " (<Keyword(keyword=\"anti-de Sitter spacetime\")>, 7, 0.035470336174119856),\n",
       " (<Keyword(keyword=\"black hole formation\")>, 14, 0.035363081215959095),\n",
       " (<Keyword(keyword=\"oscillation mode\")>, 5, 0.03533874336004887),\n",
       " (<Keyword(keyword=\"planet mass\")>, 12, 0.03530309314287455),\n",
       " (<Keyword(keyword=\"galactic open cluster\")>, 5, 0.03523678938308529),\n",
       " (<Keyword(keyword=\"cutoff energy\")>, 5, 0.03523420556270558),\n",
       " (<Keyword(keyword=\"magnetic configuration\")>, 5, 0.03512086203391012),\n",
       " (<Keyword(keyword=\"galaxy interaction\")>, 5, 0.035114171770658495),\n",
       " (<Keyword(keyword=\"cluster sample\")>, 14, 0.03510771547403029),\n",
       " (<Keyword(keyword=\"field equation\")>, 9, 0.03509012044919233),\n",
       " (<Keyword(keyword=\"hierarchical galaxy formation\")>, 10, 0.03506725819124413),\n",
       " (<Keyword(keyword=\"high-mass x-ray binary\")>, 6, 0.03504107310773286),\n",
       " (<Keyword(keyword=\"gas accretion rate\")>, 5, 0.035033867051011525),\n",
       " (<Keyword(keyword=\"cluster candidate\")>, 7, 0.03501815951242499),\n",
       " (<Keyword(keyword=\"halo bias\")>, 5, 0.03492379151944984),\n",
       " (<Keyword(keyword=\"cluster star\")>, 11, 0.03490026398156288),\n",
       " (<Keyword(keyword=\"standard initial mass function\")>, 6, 0.03487502111031183),\n",
       " (<Keyword(keyword=\"galaxy formation model\")>, 9, 0.03472691885885699),\n",
       " (<Keyword(keyword=\"stellar evolutionary track\")>, 9, 0.03469454910235664),\n",
       " (<Keyword(keyword=\"planet detection\")>, 6, 0.03465763523508802),\n",
       " (<Keyword(keyword=\"cluster mass\")>, 16, 0.034587719022092914),\n",
       " (<Keyword(keyword=\"shear viscosity\")>, 7, 0.034543942241692646),\n",
       " (<Keyword(keyword=\"low-mass star formation\")>, 10, 0.034437354118342645),\n",
       " (<Keyword(keyword=\"X-ray gas mass fraction\")>, 5, 0.03442426308869365),\n",
       " (<Keyword(keyword=\"probability density function\")>, 5, 0.0343660458780524),\n",
       " (<Keyword(keyword=\"compressible turbulence\")>, 6, 0.034362669850041556),\n",
       " (<Keyword(keyword=\"CMB power spectrum\")>, 20, 0.03435761750971629),\n",
       " (<Keyword(keyword=\"massive galaxy cluster\")>, 8, 0.03431739700333838),\n",
       " (<Keyword(keyword=\"cosmic microwave background anisotropy\")>,\n",
       "  19,\n",
       "  0.03426206865905268),\n",
       " (<Keyword(keyword=\"central supermassive black hole\")>,\n",
       "  13,\n",
       "  0.03425787019798432),\n",
       " (<Keyword(keyword=\"dark matter substructure\")>, 5, 0.034229827068770105),\n",
       " (<Keyword(keyword=\"average magnetic field\")>, 5, 0.03417686775909648),\n",
       " (<Keyword(keyword=\"Centre National de la Recherche Scientifique de France\")>,\n",
       "  11,\n",
       "  0.03408903778832162),\n",
       " (<Keyword(keyword=\"high redshift galaxy\")>, 5, 0.034047216256082986),\n",
       " (<Keyword(keyword=\"jet formation\")>, 5, 0.03401202291092139),\n",
       " (<Keyword(keyword=\"black hole masse\")>, 24, 0.034011881408551894),\n",
       " (<Keyword(keyword=\"type Ia supernovae\")>, 17, 0.03399734964258753),\n",
       " (<Keyword(keyword=\"stellar mass function\")>, 17, 0.0339463106372497),\n",
       " (<Keyword(keyword=\"cosmological smoothed particle hydrodynamic simulation\")>,\n",
       "  5,\n",
       "  0.033891318189621336),\n",
       " (<Keyword(keyword=\"gamma ray burst\")>, 12, 0.03380237413324182),\n",
       " (<Keyword(keyword=\"disc formation\")>, 5, 0.0337742569359892),\n",
       " (<Keyword(keyword=\"cosmic star formation rate\")>, 11, 0.03376363123800124),\n",
       " (<Keyword(keyword=\"dark energy equation\")>, 27, 0.033755037119750815),\n",
       " (<Keyword(keyword=\"host galaxy property\")>, 8, 0.03363194168768787),\n",
       " (<Keyword(keyword=\"bright x-ray source\")>, 5, 0.03362932166152734),\n",
       " (<Keyword(keyword=\"black hole mass\")>, 40, 0.03362613202536998),\n",
       " (<Keyword(keyword=\"near-earth asteroid\")>, 5, 0.03361777682584531),\n",
       " (<Keyword(keyword=\"magnetic field configuration\")>, 5, 0.03361177376100361),\n",
       " (<Keyword(keyword=\"anomalous X-ray pulsar\")>, 5, 0.03360589625032366),\n",
       " (<Keyword(keyword=\"optical afterglow light curve\")>, 5, 0.0335526073345342),\n",
       " (<Keyword(keyword=\"solar variability\")>, 5, 0.033510410936115835),\n",
       " (<Keyword(keyword=\"jet energy\")>, 5, 0.033444578547462515),\n",
       " (<Keyword(keyword=\"Fermi Large Area Telescope\")>, 10, 0.03341679416689787),\n",
       " (<Keyword(keyword=\"angular diameter distance\")>, 7, 0.03341067559521858),\n",
       " (<Keyword(keyword=\"low accretion rate\")>, 9, 0.033395592958939666),\n",
       " (<Keyword(keyword=\"survey image\")>, 5, 0.03336762840023273),\n",
       " (<Keyword(keyword=\"interstellar molecular cloud\")>, 5, 0.03336000887413288),\n",
       " (<Keyword(keyword=\"disk wind\")>, 6, 0.03335285447327879),\n",
       " (<Keyword(keyword=\"cluster luminosity\")>, 8, 0.03334202823062726),\n",
       " (<Keyword(keyword=\"stellar initial mass function\")>,\n",
       "  38,\n",
       "  0.033265297272144057),\n",
       " (<Keyword(keyword=\"standard cold dark matter\")>, 5, 0.033245423943416084),\n",
       " (<Keyword(keyword=\"dark matter distribution\")>, 11, 0.03320324701831769),\n",
       " (<Keyword(keyword=\"observed rotation curve\")>, 7, 0.03317775992671456),\n",
       " (<Keyword(keyword=\"total dust mass\")>, 5, 0.03316703739951115),\n",
       " (<Keyword(keyword=\"internal shock model\")>, 6, 0.033106726151782874),\n",
       " (<Keyword(keyword=\"low star formation efficiency\")>, 5, 0.033103933480591714),\n",
       " (<Keyword(keyword=\"binary pulsar\")>, 5, 0.03309981771337564),\n",
       " (<Keyword(keyword=\"planetary magnetic field\")>, 5, 0.03305231005533391),\n",
       " (<Keyword(keyword=\"large extra dimension\")>, 8, 0.03304853603245356),\n",
       " (<Keyword(keyword=\"constant star formation rate\")>, 7, 0.03304031046649448),\n",
       " (<Keyword(keyword=\"intermediate mass star\")>, 8, 0.03303274124546795),\n",
       " (<Keyword(keyword=\"halo mass function\")>, 14, 0.03301655050435516),\n",
       " (<Keyword(keyword=\"giant elliptical galaxy\")>, 9, 0.0329807217252572),\n",
       " (<Keyword(keyword=\"galaxy color\")>, 6, 0.032973449860500735),\n",
       " (<Keyword(keyword=\"blue galaxy\")>, 14, 0.0329437449755379),\n",
       " (<Keyword(keyword=\"halo mass\")>, 42, 0.03291820378087669),\n",
       " (<Keyword(keyword=\"classical t Tauri star\")>, 5, 0.03287343999079235),\n",
       " (<Keyword(keyword=\"red galaxy\")>, 19, 0.032840164379991835),\n",
       " (<Keyword(keyword=\"characteristic stellar mass\")>, 8, 0.03278609533795769),\n",
       " (<Keyword(keyword=\"gravity model\")>, 10, 0.0327610899099655),\n",
       " (<Keyword(keyword=\"southern extra-solar planet\")>, 5, 0.032688596073763246),\n",
       " (<Keyword(keyword=\"surface mass density\")>, 7, 0.03268544347781043),\n",
       " (<Keyword(keyword=\"x-ray cluster\")>, 11, 0.03261848150839636),\n",
       " (<Keyword(keyword=\"surface magnetic field\")>, 6, 0.03255452137771773),\n",
       " (<Keyword(keyword=\"field galaxy\")>, 18, 0.03253811098658658),\n",
       " (<Keyword(keyword=\"magnetic field measurement\")>, 5, 0.03249209596917684),\n",
       " (<Keyword(keyword=\"galaxy luminosity\")>, 19, 0.032468275834741454),\n",
       " (<Keyword(keyword=\"inflationary cosmology\")>, 7, 0.032454078479656215),\n",
       " (<Keyword(keyword=\"stellar-mass black hole\")>, 10, 0.03244650749864926),\n",
       " (<Keyword(keyword=\"cold dark matter model\")>, 19, 0.03241154699720678),\n",
       " (<Keyword(keyword=\"short gamma-ray burst\")>, 10, 0.0323938780716682),\n",
       " (<Keyword(keyword=\"cosmic star formation history\")>, 9, 0.03236234603093317),\n",
       " (<Keyword(keyword=\"isocurvature perturbation\")>, 7, 0.03235095158185685),\n",
       " (<Keyword(keyword=\"dwarf spheroidal galaxy\")>, 8, 0.032299563247942774),\n",
       " (<Keyword(keyword=\"baryon asymmetry\")>, 8, 0.03229079906777785),\n",
       " (<Keyword(keyword=\"strong bar\")>, 7, 0.032277351357512384),\n",
       " (<Keyword(keyword=\"XRT energy band\")>, 5, 0.032264860784432525),\n",
       " (<Keyword(keyword=\"low-luminosity active galactic nucleus\")>,\n",
       "  6,\n",
       "  0.032245333310895484),\n",
       " (<Keyword(keyword=\"three-point function\")>, 6, 0.03220996430210205),\n",
       " (<Keyword(keyword=\"brown dwarf companion\")>, 5, 0.03217703664383757),\n",
       " (<Keyword(keyword=\"galaxy group\")>, 17, 0.0321711135586269),\n",
       " (<Keyword(keyword=\"extrasolar giant planet\")>, 19, 0.032139936289698016),\n",
       " (<Keyword(keyword=\"open field line\")>, 5, 0.03212253468964845),\n",
       " (<Keyword(keyword=\"black hole candidate\")>, 6, 0.03211030023270294),\n",
       " (<Keyword(keyword=\"standard cold dark matter model\")>,\n",
       "  5,\n",
       "  0.03197281239515136),\n",
       " (<Keyword(keyword=\"old open cluster\")>, 5, 0.0319721199426107),\n",
       " (<Keyword(keyword=\"adiabatic perturbation\")>, 6, 0.03196888214369998),\n",
       " (<Keyword(keyword=\"optical light curve\")>, 10, 0.031963303119742985),\n",
       " (<Keyword(keyword=\"disk structure\")>, 5, 0.03193889084175058),\n",
       " (<Keyword(keyword=\"M theory\")>, 7, 0.03190693096406312),\n",
       " (<Keyword(keyword=\"magnetic field strength\")>, 29, 0.031906428482719476),\n",
       " (<Keyword(keyword=\"stellar atmospheric parameter\")>, 6, 0.03189293634628084),\n",
       " (<Keyword(keyword=\"low mass star\")>, 29, 0.03188943258987614),\n",
       " (<Keyword(keyword=\"cosmic microwave background radiation\")>,\n",
       "  28,\n",
       "  0.03185134777834587),\n",
       " (<Keyword(keyword=\"galaxy image\")>, 5, 0.031841528906337124),\n",
       " (<Keyword(keyword=\"light supersymmetric particle\")>, 7, 0.03180706594272483),\n",
       " (<Keyword(keyword=\"angular power spectrum\")>, 30, 0.03178044435601178),\n",
       " (<Keyword(keyword=\"electroweak baryogenesis\")>, 5, 0.031776775401158794),\n",
       " (<Keyword(keyword=\"close binary system\")>, 13, 0.03172482955800627),\n",
       " (<Keyword(keyword=\"inner disc\")>, 11, 0.03165877299691527),\n",
       " (<Keyword(keyword=\"disk star\")>, 6, 0.03165423222483824),\n",
       " (<Keyword(keyword=\"halo property\")>, 7, 0.031649209020109315),\n",
       " (<Keyword(keyword=\"North America\")>, 5, 0.03163892435262723),\n",
       " (<Keyword(keyword=\"new solution\")>, 5, 0.03161148655784507),\n",
       " (<Keyword(keyword=\"dark matter component\")>, 5, 0.03151260161875834),\n",
       " (<Keyword(keyword=\"galactic black hole\")>, 5, 0.031511692903020264),\n",
       " (<Keyword(keyword=\"organic compound\")>, 5, 0.03147333865250027),\n",
       " (<Keyword(keyword=\"convective star\")>, 5, 0.03140505248697489),\n",
       " (<Keyword(keyword=\"soft x-ray excess\")>, 5, 0.03138889958386571),\n",
       " (<Keyword(keyword=\"nuclear star cluster\")>, 8, 0.031363550945287096),\n",
       " (<Keyword(keyword=\"weak gravitational lensing\")>, 15, 0.03136293875412395),\n",
       " (<Keyword(keyword=\"central surface brightness\")>, 7, 0.03135948822204451),\n",
       " (<Keyword(keyword=\"solar convection zone\")>, 9, 0.031348869351427354),\n",
       " (<Keyword(keyword=\"cluster evolution\")>, 7, 0.03132074887439041),\n",
       " (<Keyword(keyword=\"thermal dust emission\")>, 7, 0.03128588056136148),\n",
       " (<Keyword(keyword=\"Pierre Auger Observatory\")>, 7, 0.03127810350654146),\n",
       " (<Keyword(keyword=\"disk emission\")>, 7, 0.031195878385855826),\n",
       " (<Keyword(keyword=\"star formation process\")>, 16, 0.031150095776753026),\n",
       " (<Keyword(keyword=\"cluster formation\")>, 22, 0.031149053702051788),\n",
       " (<Keyword(keyword=\"stellar mass density\")>, 14, 0.031143639645659183),\n",
       " (<Keyword(keyword=\"galaxy velocity dispersion\")>, 5, 0.031142526969363434),\n",
       " (<Keyword(keyword=\"old globular cluster\")>, 6, 0.031114193624672475),\n",
       " (<Keyword(keyword=\"climate model\")>, 5, 0.03110292603131303),\n",
       " (<Keyword(keyword=\"gas mass fraction\")>, 9, 0.031101001740598305),\n",
       " (<Keyword(keyword=\"long burst\")>, 7, 0.03109227261907877),\n",
       " (<Keyword(keyword=\"disc galaxy\")>, 14, 0.031079880637648456),\n",
       " (<Keyword(keyword=\"specific star formation rate\")>, 12, 0.031053829110721715),\n",
       " (<Keyword(keyword=\"quasar lifetime\")>, 6, 0.031048496294559993),\n",
       " (<Keyword(keyword=\"high star formation rate\")>, 11, 0.031022761216881353),\n",
       " (<Keyword(keyword=\"cluster radius\")>, 5, 0.03101338492483289),\n",
       " (<Keyword(keyword=\"interstellar turbulence\")>, 8, 0.031003531107065836),\n",
       " (<Keyword(keyword=\"radial abundance gradient\")>, 5, 0.03098177203501699),\n",
       " (<Keyword(keyword=\"faint blue galaxy\")>, 6, 0.03097740582793229),\n",
       " (<Keyword(keyword=\"nuclear black hole\")>, 6, 0.030936397550470136),\n",
       " (<Keyword(keyword=\"galaxy disk\")>, 10, 0.030932931659444607),\n",
       " (<Keyword(keyword=\"molecular cloud core\")>, 9, 0.030922093040333148),\n",
       " (<Keyword(keyword=\"star formation rate density\")>, 11, 0.030891717598252065),\n",
       " (<Keyword(keyword=\"stellar mass black hole\")>, 6, 0.030886567083803804),\n",
       " (<Keyword(keyword=\"cosmic string\")>, 9, 0.030870902267377882),\n",
       " (<Keyword(keyword=\"quantum mechanic\")>, 9, 0.030838024013796664),\n",
       " (<Keyword(keyword=\"nearby star-forming galaxy\")>, 5, 0.030774212050500942),\n",
       " (<Keyword(keyword=\"total energy density\")>, 5, 0.030717819223397134),\n",
       " (<Keyword(keyword=\"Cosmic Microwave Background Anisotropy\")>,\n",
       "  5,\n",
       "  0.03070077000604975),\n",
       " (<Keyword(keyword=\"cluster core\")>, 23, 0.030665035620189275),\n",
       " (<Keyword(keyword=\"large cloud\")>, 6, 0.03064619237542283),\n",
       " (<Keyword(keyword=\"new edition\")>, 6, 0.03063906717705231),\n",
       " (<Keyword(keyword=\"solar neutrinos\")>, 6, 0.03063413791652936),\n",
       " (<Keyword(keyword=\"γ-ray source\")>, 6, 0.030629892263563146),\n",
       " (<Keyword(keyword=\"keV energy range\")>, 5, 0.03051876314899286),\n",
       " (<Keyword(keyword=\"young star cluster\")>, 12, 0.03049354055513356),\n",
       " (<Keyword(keyword=\"double neutron star\")>, 5, 0.030478653868061478),\n",
       " (<Keyword(keyword=\"numerical relativity\")>, 7, 0.03046103320564458),\n",
       " (<Keyword(keyword=\"Hubble Space Telescope Key Project\")>,\n",
       "  7,\n",
       "  0.030443512106626606),\n",
       " (<Keyword(keyword=\"cosmological parameter estimation\")>,\n",
       "  7,\n",
       "  0.030400871978088034),\n",
       " (<Keyword(keyword=\"relaxed cluster\")>, 12, 0.03039915670234315),\n",
       " (<Keyword(keyword=\"halo occupation distribution\")>, 7, 0.030370413165580427),\n",
       " (<Keyword(keyword=\"x-ray light curve\")>, 22, 0.030369407871358053),\n",
       " (<Keyword(keyword=\"star formation property\")>, 7, 0.03032068103601592),\n",
       " (<Keyword(keyword=\"disk mass\")>, 15, 0.030315787264530443),\n",
       " (<Keyword(keyword=\"diffuse cloud\")>, 6, 0.030291598972213465),\n",
       " (<Keyword(keyword=\"Trapezium cluster\")>, 5, 0.03028404725364343),\n",
       " (<Keyword(keyword=\"galaxy merger\")>, 16, 0.030272119162331235),\n",
       " (<Keyword(keyword=\"Abell cluster\")>, 6, 0.0302619345658023),\n",
       " (<Keyword(keyword=\"star formation efficiency\")>, 21, 0.03026127338416575),\n",
       " (<Keyword(keyword=\"disk galaxy\")>, 38, 0.030245538739250826),\n",
       " (<Keyword(keyword=\"galaxy property\")>, 30, 0.030225998014647506),\n",
       " (<Keyword(keyword=\"source position\")>, 9, 0.030210558890658688),\n",
       " (<Keyword(keyword=\"black hole accretion\")>, 8, 0.03019552024925845),\n",
       " (<Keyword(keyword=\"complex molecule\")>, 5, 0.030184816245076584),\n",
       " (<Keyword(keyword=\"present status\")>, 9, 0.03017915080192576),\n",
       " (<Keyword(keyword=\"exponential potential\")>, 8, 0.030144274793155703),\n",
       " (<Keyword(keyword=\"International Celestial Reference System\")>,\n",
       "  5,\n",
       "  0.03012692735280495),\n",
       " (<Keyword(keyword=\"holographic principle\")>, 5, 0.03010331619213539),\n",
       " (<Keyword(keyword=\"cosmic microwave background experiment\")>,\n",
       "  8,\n",
       "  0.030092991798314355),\n",
       " (<Keyword(keyword=\"climate change\")>, 5, 0.030083945383160247),\n",
       " (<Keyword(keyword=\"galaxy model\")>, 7, 0.030079073815571716),\n",
       " (<Keyword(keyword=\"curvaton scenario\")>, 6, 0.03004621332256126),\n",
       " (<Keyword(keyword=\"source catalog\")>, 9, 0.030032699505214748),\n",
       " (<Keyword(keyword=\"three-point correlation function\")>,\n",
       "  7,\n",
       "  0.030032423196138518),\n",
       " (<Keyword(keyword=\"special relativity\")>, 11, 0.030022846384114763),\n",
       " (<Keyword(keyword=\"atomic energy level\")>, 5, 0.029972044257458873),\n",
       " (<Keyword(keyword=\"molecular outflow\")>, 9, 0.029967503097718538),\n",
       " (<Keyword(keyword=\"late-type spiral galaxy\")>, 5, 0.0299564168246576),\n",
       " (<Keyword(keyword=\"high accretion rate\")>, 11, 0.029912313000700127),\n",
       " (<Keyword(keyword=\"cosmological perturbation\")>, 25, 0.029871737732094897),\n",
       " (<Keyword(keyword=\"hard x-ray emission\")>, 8, 0.029846474717800806),\n",
       " (<Keyword(keyword=\"planet formation model\")>, 5, 0.029818856793897806),\n",
       " (<Keyword(keyword=\"current star formation rate\")>, 6, 0.029786256947162134),\n",
       " (<Keyword(keyword=\"galaxy type\")>, 18, 0.02977917152997249),\n",
       " (<Keyword(keyword=\"sterile neutrinos\")>, 6, 0.029774637296925015),\n",
       " (<Keyword(keyword=\"new catalogue\")>, 7, 0.029748234199033736),\n",
       " (<Keyword(keyword=\"molecular line emission\")>, 5, 0.029738092887301136),\n",
       " (<Keyword(keyword=\"cosmic microwave background datum\")>,\n",
       "  5,\n",
       "  0.02972995887066332),\n",
       " (<Keyword(keyword=\"stellar population synthesis model\")>,\n",
       "  10,\n",
       "  0.029674532166661965),\n",
       " (<Keyword(keyword=\"weak field\")>, 8, 0.029631220989209235),\n",
       " (<Keyword(keyword=\"relativistic shock\")>, 9, 0.029620283214272743),\n",
       " (<Keyword(keyword=\"x-ray luminosity function\")>, 12, 0.029591344763688826),\n",
       " (<Keyword(keyword=\"disk accretion\")>, 12, 0.029581602487170847),\n",
       " (<Keyword(keyword=\"Lyα galaxy\")>, 5, 0.029568659746329246),\n",
       " (<Keyword(keyword=\"quark matter\")>, 6, 0.029562291917161778),\n",
       " (<Keyword(keyword=\"supermassive black hole\")>, 92, 0.02955504423744959),\n",
       " (<Keyword(keyword=\"extra dimension\")>, 20, 0.02945447487019806),\n",
       " (<Keyword(keyword=\"flow cluster\")>, 7, 0.029433126966392026),\n",
       " (<Keyword(keyword=\"soft x-ray transient\")>, 6, 0.02937157647821947),\n",
       " (<Keyword(keyword=\"nuclear matter\")>, 9, 0.029306373775478407),\n",
       " (<Keyword(keyword=\"small particle\")>, 5, 0.02930276594883229),\n",
       " (<Keyword(keyword=\"disk viscosity\")>, 5, 0.029286897864274707),\n",
       " (<Keyword(keyword=\"cosmic background radiation\")>, 11, 0.029281599077397656),\n",
       " (<Keyword(keyword=\"nearby molecular cloud\")>, 11, 0.029265005837433775),\n",
       " (<Keyword(keyword=\"magnetic structure\")>, 8, 0.029262893102027045),\n",
       " (<Keyword(keyword=\"disk midplane\")>, 6, 0.02922617669327277),\n",
       " (<Keyword(keyword=\"Taurus star-forming region\")>, 7, 0.029176236303702554),\n",
       " (<Keyword(keyword=\"disk radius\")>, 6, 0.029135354517878256),\n",
       " (<Keyword(keyword=\"low-mass x-ray binary\")>, 13, 0.029048849720525065),\n",
       " (<Keyword(keyword=\"total baryonic mass\")>, 5, 0.0290016508271509),\n",
       " (<Keyword(keyword=\"primordial helium abundance\")>, 8, 0.028979431729476757),\n",
       " (<Keyword(keyword=\"Hubble Space Telescope Advanced Camera\")>,\n",
       "  7,\n",
       "  0.028943953191723704),\n",
       " (<Keyword(keyword=\"advection-dominated accretion flow\")>,\n",
       "  7,\n",
       "  0.02892202566442884),\n",
       " (<Keyword(keyword=\"swift Gamma-Ray Burst Explorer\")>, 5, 0.0289048938256392),\n",
       " (<Keyword(keyword=\"gamma-ray energy\")>, 7, 0.028901677135971676),\n",
       " (<Keyword(keyword=\"quantum gravity\")>, 27, 0.028879135940034956),\n",
       " (<Keyword(keyword=\"asymptotic giant branch star\")>, 12, 0.02884127691923188),\n",
       " (<Keyword(keyword=\"massive black hole\")>, 34, 0.02883601044471489),\n",
       " (<Keyword(keyword=\"galaxy bulge\")>, 7, 0.028832052028350496),\n",
       " (<Keyword(keyword=\"transit light curve\")>, 5, 0.028825127786205284),\n",
       " (<Keyword(keyword=\"afterglow observation\")>, 5, 0.028819208249417017),\n",
       " (<Keyword(keyword=\"Sagittarius dwarf galaxy\")>, 6, 0.02880448318962146),\n",
       " (<Keyword(keyword=\"γ-ray burst\")>, 37, 0.02876090985429978),\n",
       " (<Keyword(keyword=\"disk evolution\")>, 6, 0.028736554573747016),\n",
       " (<Keyword(keyword=\"central black hole\")>, 49, 0.028719303980301585),\n",
       " (<Keyword(keyword=\"O-type star\")>, 10, 0.02870827503833876),\n",
       " (<Keyword(keyword=\"Hubble Space Telescope Observations\")>,\n",
       "  6,\n",
       "  0.028689063874036077),\n",
       " (<Keyword(keyword=\"magnetic dipole radiation\")>, 5, 0.0286517566590197),\n",
       " (<Keyword(keyword=\"inner halo\")>, 11, 0.02864559366501328),\n",
       " (<Keyword(keyword=\"neutron star binary\")>, 5, 0.028595884509246716),\n",
       " (<Keyword(keyword=\"rich galaxy cluster\")>, 12, 0.028552073255422635),\n",
       " (<Keyword(keyword=\"excess power\")>, 5, 0.028499486363953934),\n",
       " (<Keyword(keyword=\"disk scale length\")>, 9, 0.02849835518851455),\n",
       " (<Keyword(keyword=\"nearby galaxy cluster\")>, 6, 0.028488189531360102),\n",
       " (<Keyword(keyword=\"cluster age\")>, 10, 0.028460175495330135),\n",
       " (<Keyword(keyword=\"low star formation rate\")>, 6, 0.02845521997308097),\n",
       " (<Keyword(keyword=\"Fermi Gamma-ray Space Telescope\")>,\n",
       "  7,\n",
       "  0.028406539852557828),\n",
       " (<Keyword(keyword=\"normal star-forming galaxy\")>, 11, 0.028396268964596485),\n",
       " (<Keyword(keyword=\"cluster distance\")>, 5, 0.028391072009415534),\n",
       " (<Keyword(keyword=\"jet structure\")>, 5, 0.028389488787886365),\n",
       " (<Keyword(keyword=\"massive planet\")>, 6, 0.028381257875087027),\n",
       " (<Keyword(keyword=\"significant star formation\")>, 5, 0.028352653572288906),\n",
       " (<Keyword(keyword=\"AGB star\")>, 19, 0.02834623125492889),\n",
       " (<Keyword(keyword=\"Spitzer Infrared Nearby Galaxies Survey\")>,\n",
       "  9,\n",
       "  0.02830539268883334),\n",
       " (<Keyword(keyword=\"γ-ray emission\")>, 18, 0.028303378168487388),\n",
       " (<Keyword(keyword=\"galaxy cluster\")>, 80, 0.028301188696529735),\n",
       " (<Keyword(keyword=\"massive galaxy\")>, 104, 0.028283536957511606),\n",
       " (<Keyword(keyword=\"different energy band\")>, 5, 0.028273579530541708),\n",
       " (<Keyword(keyword=\"effective field theory\")>, 12, 0.02826618477054882),\n",
       " (<Keyword(keyword=\"effective theory\")>, 9, 0.028259232394295643),\n",
       " (<Keyword(keyword=\"CMB measurement\")>, 5, 0.02822669998433061),\n",
       " (<Keyword(keyword=\"single star\")>, 28, 0.02820401850867741),\n",
       " (<Keyword(keyword=\"primordial non-gaussianity\")>, 12, 0.028192441657004297),\n",
       " (<Keyword(keyword=\"QSO Redshift Survey\")>, 5, 0.028175981936046868),\n",
       " (<Keyword(keyword=\"massive binary\")>, 10, 0.028168753440219813),\n",
       " (<Keyword(keyword=\"bulge-dominated galaxy\")>, 5, 0.028134385017363157),\n",
       " (<Keyword(keyword=\"scalar-tensor theory\")>, 7, 0.02813317450299255),\n",
       " (<Keyword(keyword=\"radial velocity measurement\")>, 16, 0.02812637064122193),\n",
       " (<Keyword(keyword=\"earth-like planet\")>, 5, 0.02812550656720706),\n",
       " (<Keyword(keyword=\"luminous galaxy\")>, 39, 0.028114676818480178),\n",
       " (<Keyword(keyword=\"binary evolution\")>, 5, 0.028089829834625758),\n",
       " (<Keyword(keyword=\"galaxy bright\")>, 19, 0.028078912733456154),\n",
       " (<Keyword(keyword=\"SDSS galaxy\")>, 7, 0.02805221576394921),\n",
       " (<Keyword(keyword=\"galaxy mass\")>, 26, 0.028010227425491602),\n",
       " (<Keyword(keyword=\"l dwarf\")>, 5, 0.028002875837198977),\n",
       " (<Keyword(keyword=\"string theory\")>, 22, 0.027997708401634215),\n",
       " (<Keyword(keyword=\"dust model\")>, 12, 0.02799250704321864),\n",
       " (<Keyword(keyword=\"degree angular scale\")>, 6, 0.027961770340086154),\n",
       " (<Keyword(keyword=\"compact galaxy\")>, 5, 0.027950854441647015),\n",
       " (<Keyword(keyword=\"galaxy sample\")>, 18, 0.02794182155166051),\n",
       " (<Keyword(keyword=\"x-ray jet\")>, 7, 0.027941224619412616),\n",
       " (<Keyword(keyword=\"Hubble Space Telescope observation\")>,\n",
       "  7,\n",
       "  0.027919029178697898),\n",
       " (<Keyword(keyword=\"afterglow light curve\")>, 13, 0.027826173850998726),\n",
       " (<Keyword(keyword=\"relativistic star\")>, 6, 0.027809788946299967),\n",
       " (<Keyword(keyword=\"M star\")>, 11, 0.027807756627231117),\n",
       " (<Keyword(keyword=\"solar metallicity star\")>, 6, 0.027781175024402766),\n",
       " (<Keyword(keyword=\"mean field\")>, 5, 0.02775556107011596),\n",
       " (<Keyword(keyword=\"Compton Gamma Ray Observatory\")>,\n",
       "  13,\n",
       "  0.027738929305050973),\n",
       " (<Keyword(keyword=\"cluster population\")>, 7, 0.0277386245492748),\n",
       " (<Keyword(keyword=\"T Tauri star\")>, 30, 0.027728126213179712),\n",
       " (<Keyword(keyword=\"solar model\")>, 5, 0.0277175652920415),\n",
       " (<Keyword(keyword=\"metal-deficient star\")>, 5, 0.027717400005837445),\n",
       " (<Keyword(keyword=\"slow-roll inflation\")>, 6, 0.027715270516708055),\n",
       " (<Keyword(keyword=\"giant molecular cloud\")>, 36, 0.02771519767982294),\n",
       " (<Keyword(keyword=\"galaxy redshift survey\")>, 12, 0.02763647674538709),\n",
       " (<Keyword(keyword=\"high Lorentz factor\")>, 5, 0.02762499887390274),\n",
       " (<Keyword(keyword=\"x-ray variability\")>, 6, 0.027617195265584732),\n",
       " (<Keyword(keyword=\"young pulsar\")>, 8, 0.027591181761093608),\n",
       " (<Keyword(keyword=\"young galaxy\")>, 8, 0.027564357407702033),\n",
       " (<Keyword(keyword=\"star formation history\")>, 69, 0.02754105811800295),\n",
       " (<Keyword(keyword=\"low column density\")>, 7, 0.027519822173806),\n",
       " (<Keyword(keyword=\"SNe Ia\")>, 36, 0.027499570317593876),\n",
       " (<Keyword(keyword=\"stress tensor\")>, 5, 0.027499540063245165),\n",
       " (<Keyword(keyword=\"diffuse galactic emission\")>, 6, 0.027485997723058212),\n",
       " (<Keyword(keyword=\"short-period binary\")>, 6, 0.027458167306621328),\n",
       " (<Keyword(keyword=\"Hubble Deep Field North\")>, 10, 0.02744722118604461),\n",
       " (<Keyword(keyword=\"quiescent galaxy\")>, 17, 0.02744287785578371),\n",
       " (<Keyword(keyword=\"gas disk\")>, 14, 0.0274389235073178),\n",
       " (<Keyword(keyword=\"small galaxy\")>, 17, 0.027400647430474382),\n",
       " (<Keyword(keyword=\"Arcminute Cosmology Bolometer Array Receiver\")>,\n",
       "  7,\n",
       "  0.02739290517538603),\n",
       " (<Keyword(keyword=\"electron acceleration\")>, 8, 0.02738704507119791),\n",
       " (<Keyword(keyword=\"new relation\")>, 6, 0.027376773190879816),\n",
       " (<Keyword(keyword=\"proper motion datum\")>, 5, 0.027367747067875137),\n",
       " (<Keyword(keyword=\"thick-disk star\")>, 5, 0.027357680370688475),\n",
       " (<Keyword(keyword=\"metric perturbation\")>, 5, 0.027355912903302332),\n",
       " (<Keyword(keyword=\"Great Observatories Origins Deep Survey\")>,\n",
       "  7,\n",
       "  0.027333288367498283),\n",
       " (<Keyword(keyword=\"Herschel Space Observatory\")>, 8, 0.027315027700679662),\n",
       " (<Keyword(keyword=\"cosmic microwave background observation\")>,\n",
       "  5,\n",
       "  0.027255187528260727),\n",
       " (<Keyword(keyword=\"galactic cosmic ray\")>, 14, 0.027225771348229257),\n",
       " (<Keyword(keyword=\"initial Lorentz factor\")>, 9, 0.027214560939115125),\n",
       " (<Keyword(keyword=\"nearby cluster\")>, 16, 0.02719273119963192),\n",
       " (<Keyword(keyword=\"burst onset\")>, 7, 0.027181124334214286),\n",
       " (<Keyword(keyword=\"bayesian inference\")>, 5, 0.027179988111490083),\n",
       " (<Keyword(keyword=\"radiative transfer model\")>, 6, 0.027173490812235954),\n",
       " (<Keyword(keyword=\"pre-main-sequence star\")>, 11, 0.02715459242789957),\n",
       " (<Keyword(keyword=\"Rossi X-Ray Timing Explorer\")>, 15, 0.027098270448405692),\n",
       " (<Keyword(keyword=\"radio survey\")>, 5, 0.027067914972652252),\n",
       " (<Keyword(keyword=\"primordial star formation\")>, 5, 0.02706089616403861),\n",
       " (<Keyword(keyword=\"emission spectrum\")>, 7, 0.02703947679634468),\n",
       " (<Keyword(keyword=\"rr Lyrae star\")>, 6, 0.027037761790538854),\n",
       " (<Keyword(keyword=\"local galaxy\")>, 24, 0.027026461176327257),\n",
       " (<Keyword(keyword=\"solid particle\")>, 6, 0.027015332446156795),\n",
       " (<Keyword(keyword=\"red giant star\")>, 7, 0.027007746803424687),\n",
       " (<Keyword(keyword=\"interplanetary magnetic field\")>, 9, 0.027002846820999227),\n",
       " (<Keyword(keyword=\"quintessence model\")>, 5, 0.02699526935755684),\n",
       " (<Keyword(keyword=\"CMB temperature\")>, 8, 0.026981658664852318),\n",
       " (<Keyword(keyword=\"lens system\")>, 5, 0.02696873321017635),\n",
       " (<Keyword(keyword=\"stellar population model\")>, 10, 0.02696705137212612),\n",
       " (<Keyword(keyword=\"circumstellar disc\")>, 8, 0.026966241812840498),\n",
       " (<Keyword(keyword=\"outer planet\")>, 10, 0.02695436287629619),\n",
       " (<Keyword(keyword=\"mass scale\")>, 8, 0.026936829321314554),\n",
       " (<Keyword(keyword=\"dust emissivity index\")>, 5, 0.026933809478988262),\n",
       " (<Keyword(keyword=\"average star formation rate\")>, 5, 0.02693163121733787),\n",
       " (<Keyword(keyword=\"dark matter halo\")>, 88, 0.026929154652736542),\n",
       " (<Keyword(keyword=\"simulated halo\")>, 5, 0.02690428950842911),\n",
       " (<Keyword(keyword=\"satellite galaxy\")>, 30, 0.02689038829856408),\n",
       " (<Keyword(keyword=\"magnetic reconnection\")>, 32, 0.02687765039755946),\n",
       " (<Keyword(keyword=\"Cosmic Background Imager\")>, 10, 0.026862944374471058),\n",
       " (<Keyword(keyword=\"low density region\")>, 5, 0.026841365491262835),\n",
       " (<Keyword(keyword=\"dense interstellar cloud\")>, 5, 0.02683453727079909),\n",
       " (<Keyword(keyword=\"Solar Optical Telescope\")>, 8, 0.026833203532866348),\n",
       " (<Keyword(keyword=\"luminous infrared galaxy\")>, 10, 0.02678453917359245),\n",
       " (<Keyword(keyword=\"solar cycle\")>, 16, 0.026752741913237878),\n",
       " (<Keyword(keyword=\"accretion luminosity\")>, 14, 0.026744578066475563),\n",
       " (<Keyword(keyword=\"cluster center\")>, 21, 0.026728315556762916),\n",
       " (<Keyword(keyword=\"National Optical Astronomy Observatory\")>,\n",
       "  22,\n",
       "  0.026725047736326567),\n",
       " (<Keyword(keyword=\"quasar sample\")>, 9, 0.026722149088197027),\n",
       " (<Keyword(keyword=\"tensor perturbation\")>, 5, 0.026693882145726627),\n",
       " (<Keyword(keyword=\"right-handed neutrinos\")>, 5, 0.026664881854878513),\n",
       " (<Keyword(keyword=\"Optical Gravitational Lensing Experiment\")>,\n",
       "  9,\n",
       "  0.02664680052535624),\n",
       " (<Keyword(keyword=\"old cluster\")>, 6, 0.026646244506401285),\n",
       " (<Keyword(keyword=\"w =\")>, 9, 0.026601421410740712),\n",
       " (<Keyword(keyword=\"disk property\")>, 6, 0.026595652376814206),\n",
       " (<Keyword(keyword=\"external magnetic field\")>, 6, 0.026594558934147486),\n",
       " (<Keyword(keyword=\"gas-rich galaxy\")>, 14, 0.026592801457786815),\n",
       " (<Keyword(keyword=\"active star\")>, 13, 0.0265813744716424),\n",
       " (<Keyword(keyword=\"long orbital period\")>, 6, 0.026580141011087965),\n",
       " (<Keyword(keyword=\"bulge mass\")>, 5, 0.02655345115912606),\n",
       " (<Keyword(keyword=\"slow wind\")>, 5, 0.02654759519355322),\n",
       " (<Keyword(keyword=\"dense molecular gas\")>, 6, 0.026540620581363198),\n",
       " (<Keyword(keyword=\"μm spectra\")>, 6, 0.026523289581966314),\n",
       " (<Keyword(keyword=\"WMAP datum\")>, 36, 0.0265154257742226),\n",
       " (<Keyword(keyword=\"old galaxy\")>, 8, 0.026511115146208575),\n",
       " (<Keyword(keyword=\"nearby spiral galaxy\")>, 7, 0.02650708207627343),\n",
       " (<Keyword(keyword=\"luminous red galaxy\")>, 13, 0.02648846471868499),\n",
       " (<Keyword(keyword=\"Markov Chain Monte Carlo method\")>,\n",
       "  5,\n",
       "  0.02648376349732289),\n",
       " (<Keyword(keyword=\"giant flare\")>, 8, 0.02647628152562002),\n",
       " (<Keyword(keyword=\"Friedmann equation\")>, 9, 0.02644985417486055),\n",
       " (<Keyword(keyword=\"mass accretion rate\")>, 37, 0.026438405557706775),\n",
       " (<Keyword(keyword=\"binary star\")>, 18, 0.02640641053586963),\n",
       " (<Keyword(keyword=\"achromatic break\")>, 5, 0.02640422634199695),\n",
       " (<Keyword(keyword=\"S0 galaxy\")>, 20, 0.026372474609938072),\n",
       " (<Keyword(keyword=\"COBE Differential Microwave Radiometer\")>,\n",
       "  6,\n",
       "  0.026358026483514523),\n",
       " (<Keyword(keyword=\"swift burst\")>, 6, 0.02635450992958652),\n",
       " (<Keyword(keyword=\"stellar evolution model\")>, 25, 0.026323353031788392),\n",
       " (<Keyword(keyword=\"galaxy formation\")>, 122, 0.02631893458344025),\n",
       " (<Keyword(keyword=\"individual cluster\")>, 7, 0.026315195504749613),\n",
       " (<Keyword(keyword=\"Meridiani Planum\")>, 5, 0.026296688337084227),\n",
       " (<Keyword(keyword=\"Spanish Observatorio del Roque de los Muchachos\")>,\n",
       "  5,\n",
       "  0.026295256905094416),\n",
       " (<Keyword(keyword=\"cluster centre\")>, 14, 0.026290389559432754),\n",
       " (<Keyword(keyword=\"Milky Way satellite\")>, 6, 0.026278605499891267),\n",
       " (<Keyword(keyword=\"inverse Compton emission\")>, 12, 0.026248050995264175),\n",
       " (<Keyword(keyword=\"Hawking radiation\")>, 6, 0.026234385102165497),\n",
       " (<Keyword(keyword=\"carbon-oxygen white dwarf\")>, 7, 0.026231493686906537),\n",
       " (<Keyword(keyword=\"satellite population\")>, 6, 0.026223441188981424),\n",
       " (<Keyword(keyword=\"spiral galaxy\")>, 87, 0.02618691507004443),\n",
       " (<Keyword(keyword=\"jet power\")>, 10, 0.026182461928915823),\n",
       " (<Keyword(keyword=\"jet opening angle\")>, 10, 0.0261803310702887),\n",
       " (<Keyword(keyword=\"cold dust\")>, 8, 0.026149425390941047),\n",
       " (<Keyword(keyword=\"galaxy morphology\")>, 15, 0.02613446638671745),\n",
       " (<Keyword(keyword=\"broad emission line\")>, 14, 0.0261032974977105),\n",
       " (<Keyword(keyword=\"free-free emission\")>, 9, 0.02610270202266807),\n",
       " (<Keyword(keyword=\"disc material\")>, 5, 0.02608921894900801),\n",
       " (<Keyword(keyword=\"matter power spectrum\")>, 18, 0.02606408685137064),\n",
       " (<Keyword(keyword=\"star formation law\")>, 6, 0.02605584200144781),\n",
       " (<Keyword(keyword=\"luminous star\")>, 9, 0.026055076043594822),\n",
       " (<Keyword(keyword=\"line flux\")>, 5, 0.026043177449718413),\n",
       " (<Keyword(keyword=\"turbulent molecular cloud\")>, 6, 0.0260284406527475),\n",
       " (<Keyword(keyword=\"cold dark matter universe\")>, 7, 0.026027931113714566),\n",
       " (<Keyword(keyword=\"precise radial velocity measurement\")>,\n",
       "  6,\n",
       "  0.02602101591287742),\n",
       " (<Keyword(keyword=\"attractor solution\")>, 5, 0.026009970169885682),\n",
       " (<Keyword(keyword=\"soft gamma-ray repeater\")>, 5, 0.02600625160284481),\n",
       " (<Keyword(keyword=\"Swift Burst Alert Telescope\")>, 7, 0.025982305509841114),\n",
       " (<Keyword(keyword=\"bolometric light curve\")>, 5, 0.02593527108242822),\n",
       " (<Keyword(keyword=\"low-mass galaxy\")>, 20, 0.02593293358795115),\n",
       " (<Keyword(keyword=\"γ-ray spectrum\")>, 5, 0.025932416358004078),\n",
       " (<Keyword(keyword=\"stellar photometry\")>, 6, 0.02592415288004497),\n",
       " (<Keyword(keyword=\"stellar progenitor\")>, 6, 0.02591750882363598),\n",
       " (<Keyword(keyword=\"halo profile\")>, 6, 0.025903432873168725),\n",
       " (<Keyword(keyword=\"dark matter candidate\")>, 5, 0.02587788066109366),\n",
       " (<Keyword(keyword=\"strong field\")>, 10, 0.025874176307536738),\n",
       " (<Keyword(keyword=\"smoothed particle hydrodynamic simulation\")>,\n",
       "  5,\n",
       "  0.025864667535642483),\n",
       " (<Keyword(keyword=\"heavy element abundance\")>, 5, 0.02586396658420368),\n",
       " (<Keyword(keyword=\"new model\")>, 50, 0.025847825505489818),\n",
       " (<Keyword(keyword=\"mass loss rate\")>, 12, 0.025830059639459443),\n",
       " (<Keyword(keyword=\"submillimeter source\")>, 7, 0.02582882950046555),\n",
       " (<Keyword(keyword=\"merger remnant\")>, 12, 0.025827103181057288),\n",
       " (<Keyword(keyword=\"distant red galaxy\")>, 5, 0.025825692711360072),\n",
       " (<Keyword(keyword=\"toroidal field\")>, 9, 0.02582371779945279),\n",
       " (<Keyword(keyword=\"galaxy spectra\")>, 10, 0.0257749034655551),\n",
       " (<Keyword(keyword=\"Lyα emission line\")>, 6, 0.0257438200050619),\n",
       " (<Keyword(keyword=\"standard star\")>, 5, 0.025741355763339836),\n",
       " (<Keyword(keyword=\"low magnetic field\")>, 6, 0.025738908688604106),\n",
       " (<Keyword(keyword=\"x-ray source\")>, 31, 0.025731457448092045),\n",
       " (<Keyword(keyword=\"cold dark matter\")>, 73, 0.025729527411403563),\n",
       " (<Keyword(keyword=\"radio-loud active galactic nucleus\")>,\n",
       "  10,\n",
       "  0.02572736289467593),\n",
       " (<Keyword(keyword=\"low mantle\")>, 5, 0.025712237313365315),\n",
       " (<Keyword(keyword=\"present-day galaxy\")>, 12, 0.025701720159658076),\n",
       " (<Keyword(keyword=\"CMB anisotropy\")>, 26, 0.025700101025705056),\n",
       " (<Keyword(keyword=\"anisotropic velocity distribution\")>,\n",
       "  5,\n",
       "  0.02569645537846959),\n",
       " (<Keyword(keyword=\"accretion disc\")>, 16, 0.025673998040954757),\n",
       " (<Keyword(keyword=\"potential energy\")>, 5, 0.025661753728362692),\n",
       " (<Keyword(keyword=\"x-ray flare\")>, 11, 0.025659631342161204),\n",
       " (<Keyword(keyword=\"neutrino mass\")>, 8, 0.025654916832617808),\n",
       " (<Keyword(keyword=\"afterglow emission\")>, 17, 0.025626032631310993),\n",
       " (<Keyword(keyword=\"primary galaxy\")>, 6, 0.025625806495504524),\n",
       " (<Keyword(keyword=\"nonthermal emission\")>, 5, 0.02562320895750255),\n",
       " (<Keyword(keyword=\"disk masse\")>, 7, 0.025622214614151127),\n",
       " (<Keyword(keyword=\"high-mass star\")>, 20, 0.025605969317336923),\n",
       " (<Keyword(keyword=\"sample star\")>, 9, 0.025599474992230076),\n",
       " (<Keyword(keyword=\"electroweak scale\")>, 5, 0.025576597026877347),\n",
       " (<Keyword(keyword=\"stellar evolution calculation\")>, 8, 0.025539827692860104),\n",
       " (<Keyword(keyword=\"mantle source\")>, 5, 0.02552468270849758),\n",
       " (<Keyword(keyword=\"galaxy population\")>, 38, 0.025514545733008317),\n",
       " (<Keyword(keyword=\"large galaxy\")>, 19, 0.025489193289723783),\n",
       " (<Keyword(keyword=\"radio pulsar\")>, 29, 0.025459158465431415),\n",
       " (<Keyword(keyword=\"lens model\")>, 6, 0.025458422604679076),\n",
       " (<Keyword(keyword=\"mass ratio distribution\")>, 8, 0.025444327895346678),\n",
       " (<Keyword(keyword=\"extrasolar planetary system\")>, 5, 0.025435536443797556),\n",
       " (<Keyword(keyword=\"magnetic energy\")>, 26, 0.025424181966596328),\n",
       " (<Keyword(keyword=\"disk lifetime\")>, 6, 0.025421323832290715),\n",
       " (<Keyword(keyword=\"cluster potential\")>, 5, 0.025414066098040616),\n",
       " (<Keyword(keyword=\"termination shock\")>, 6, 0.025392587332215544),\n",
       " (<Keyword(keyword=\"solar activity\")>, 12, 0.025380052423269402),\n",
       " (<Keyword(keyword=\"galactic globular cluster\")>, 23, 0.02533247360230982),\n",
       " (<Keyword(keyword=\"total infrared luminosity\")>, 6, 0.02531372451379559),\n",
       " (<Keyword(keyword=\"later spectral type\")>, 5, 0.02529549445073399),\n",
       " (<Keyword(keyword=\"galaxy bias\")>, 14, 0.025216906412764997),\n",
       " (<Keyword(keyword=\"short orbital period\")>, 7, 0.025208942262705474),\n",
       " (<Keyword(keyword=\"WMAP map\")>, 5, 0.02520116169942485),\n",
       " (<Keyword(keyword=\"AGB evolution\")>, 6, 0.02516900215044117),\n",
       " (<Keyword(keyword=\"low mass object\")>, 10, 0.02514461165174748),\n",
       " (<Keyword(keyword=\"fainter star\")>, 5, 0.025137501031489696),\n",
       " (<Keyword(keyword=\"low-mass star\")>, 56, 0.02513163424300811),\n",
       " (<Keyword(keyword=\"high magnetic field\")>, 5, 0.025122694526829536),\n",
       " (<Keyword(keyword=\"long grb\")>, 19, 0.025103672553025265),\n",
       " (<Keyword(keyword=\"primordial density fluctuation\")>,\n",
       "  7,\n",
       "  0.025101902030537238),\n",
       " (<Keyword(keyword=\"Swift X-Ray Telescope\")>, 7, 0.025081753642402376),\n",
       " (<Keyword(keyword=\"white dwarf progenitor\")>, 6, 0.025074642270281097),\n",
       " (<Keyword(keyword=\"Laser Interferometer Space Antenna\")>,\n",
       "  5,\n",
       "  0.025071255726148146),\n",
       " (<Keyword(keyword=\"parametric resonance\")>, 5, 0.025062761181939737),\n",
       " (<Keyword(keyword=\"relativistic jet\")>, 39, 0.0250609805036732),\n",
       " (<Keyword(keyword=\"cold spot\")>, 6, 0.02504897330167774),\n",
       " (<Keyword(keyword=\"host cluster\")>, 5, 0.02504610917198651),\n",
       " (<Keyword(keyword=\"source type\")>, 6, 0.02502597656348243),\n",
       " (<Keyword(keyword=\"mass power spectrum\")>, 8, 0.02502317165229824),\n",
       " (<Keyword(keyword=\"Λ cold dark matter cosmology\")>, 5, 0.025004025607494713),\n",
       " (<Keyword(keyword=\"early model\")>, 8, 0.02499486204517843),\n",
       " (<Keyword(keyword=\"central galaxy\")>, 23, 0.024986810537355766),\n",
       " (<Keyword(keyword=\"Milky Way halo\")>, 10, 0.02495288229592008),\n",
       " (<Keyword(keyword=\"radio lobe\")>, 10, 0.02493607123490064),\n",
       " (<Keyword(keyword=\"Chandra Deep Field South\")>, 8, 0.024924297242417636),\n",
       " (<Keyword(keyword=\"Monte Carlo technique\")>, 7, 0.024921843014404733),\n",
       " (<Keyword(keyword=\"core masse\")>, 6, 0.024889024880899127),\n",
       " (<Keyword(keyword=\"exact solution\")>, 6, 0.024857979817666603),\n",
       " (<Keyword(keyword=\"x-ray afterglow\")>, 26, 0.024857726111278875),\n",
       " (<Keyword(keyword=\"total stellar mass\")>, 16, 0.024832782956608294),\n",
       " (<Keyword(keyword=\"bright galaxy\")>, 32, 0.024827783165877464),\n",
       " (<Keyword(keyword=\"Hawking temperature\")>, 5, 0.02481908949946275),\n",
       " (<Keyword(keyword=\"short grb\")>, 21, 0.02481443306188011),\n",
       " (<Keyword(keyword=\"variable star\")>, 11, 0.024806628699552),\n",
       " (<Keyword(keyword=\"hard x-ray band\")>, 6, 0.024773345927713974),\n",
       " (<Keyword(keyword=\"gas surface density\")>, 8, 0.024732468113309893),\n",
       " (<Keyword(keyword=\"distant cluster\")>, 20, 0.0246974892469605),\n",
       " (<Keyword(keyword=\"solar atmosphere\")>, 15, 0.024688917402710543),\n",
       " (<Keyword(keyword=\"standard cosmological model\")>, 5, 0.024665415318273886),\n",
       " (<Keyword(keyword=\"long-duration grb\")>, 9, 0.024641586092114347),\n",
       " (<Keyword(keyword=\"central dark mass\")>, 6, 0.024639575205101735),\n",
       " (<Keyword(keyword=\"star formation rate\")>, 148, 0.024625837265168503),\n",
       " (<Keyword(keyword=\"Alfvén wave\")>, 8, 0.02456503886530548),\n",
       " (<Keyword(keyword=\"irregular galaxy\")>, 16, 0.02454108774371031),\n",
       " (<Keyword(keyword=\"protoplanetary disc\")>, 6, 0.024538635342187212),\n",
       " (<Keyword(keyword=\"DM Tau\")>, 5, 0.02453095452049116),\n",
       " (<Keyword(keyword=\"massive cluster\")>, 32, 0.024499614499306623),\n",
       " (<Keyword(keyword=\"disk formation\")>, 7, 0.02446202665117751),\n",
       " (<Keyword(keyword=\"star-forming molecular cloud\")>, 5, 0.024461161320311477),\n",
       " (<Keyword(keyword=\"polar coronal hole\")>, 7, 0.02444035982604569),\n",
       " (<Keyword(keyword=\"scale-invariant spectrum\")>, 9, 0.024431437711198857),\n",
       " (<Keyword(keyword=\"bright cluster\")>, 5, 0.02442266207228664),\n",
       " (<Keyword(keyword=\"redshift survey\")>, 11, 0.024410517064109814),\n",
       " (<Keyword(keyword=\"lens galaxy\")>, 10, 0.024408334553836963),\n",
       " (<Keyword(keyword=\"protostellar core\")>, 6, 0.02437935015093201),\n",
       " (<Keyword(keyword=\"Type Ia supernova\")>, 8, 0.024378796881461648),\n",
       " (<Keyword(keyword=\"galaxy harassment\")>, 7, 0.02437599860361144),\n",
       " (<Keyword(keyword=\"outer disc\")>, 7, 0.02437182375320603),\n",
       " (<Keyword(keyword=\"cosmological datum\")>, 10, 0.024370157939803096),\n",
       " (<Keyword(keyword=\"absolute mass scale\")>, 5, 0.02435040380226523),\n",
       " (<Keyword(keyword=\"phase diagram\")>, 5, 0.02434254435217243),\n",
       " (<Keyword(keyword=\"stellar halo\")>, 9, 0.02434013356041787),\n",
       " (<Keyword(keyword=\"flat ΛCDM model\")>, 8, 0.024335861708894298),\n",
       " (<Keyword(keyword=\"metallicity gradient\")>, 7, 0.024321525965705974),\n",
       " (<Keyword(keyword=\"new version\")>, 15, 0.0243195993423363),\n",
       " (<Keyword(keyword=\"pure luminosity evolution\")>, 6, 0.02431829598679029),\n",
       " (<Keyword(keyword=\"Centre National de la Recherche Scientifique\")>,\n",
       "  16,\n",
       "  0.024299605153672695),\n",
       " (<Keyword(keyword=\"halo star\")>, 18, 0.024295358338315882),\n",
       " (<Keyword(keyword=\"passive galaxy\")>, 6, 0.024279814893776296),\n",
       " (<Keyword(keyword=\"early-type galaxy\")>, 71, 0.024231865565463317),\n",
       " (<Keyword(keyword=\"primordial binary\")>, 5, 0.024210136284336728),\n",
       " (<Keyword(keyword=\"stochastic background\")>, 7, 0.02420375012059552),\n",
       " (<Keyword(keyword=\"unstable mode\")>, 5, 0.024198644041412327),\n",
       " (<Keyword(keyword=\"foreground galaxy\")>, 5, 0.024166066148075486),\n",
       " (<Keyword(keyword=\"host halo\")>, 8, 0.02414579575612832),\n",
       " (<Keyword(keyword=\"velocity dispersion profile\")>, 7, 0.02414509229723654),\n",
       " (<Keyword(keyword=\"halo model\")>, 13, 0.02412900186951285),\n",
       " (<Keyword(keyword=\"late-type galaxy\")>, 23, 0.02412646404788901),\n",
       " (<Keyword(keyword=\"radio source\")>, 26, 0.024122272201401698),\n",
       " (<Keyword(keyword=\"μm emission\")>, 16, 0.02411551489573644),\n",
       " (<Keyword(keyword=\"magnetic energy density\")>, 6, 0.024111748887211976),\n",
       " (<Keyword(keyword=\"inflaton potential\")>, 7, 0.024110341672914908),\n",
       " (<Keyword(keyword=\"late-type star\")>, 20, 0.024098007748112556),\n",
       " (<Keyword(keyword=\"dust masse\")>, 7, 0.024096321514103885),\n",
       " (<Keyword(keyword=\"new library\")>, 5, 0.024091918409191677),\n",
       " (<Keyword(keyword=\"thick disc\")>, 6, 0.024085046752591877),\n",
       " (<Keyword(keyword=\"good model\")>, 10, 0.024064463535280113),\n",
       " (<Keyword(keyword=\"w-r star\")>, 9, 0.024044837754023766),\n",
       " (<Keyword(keyword=\"intense burst\")>, 7, 0.024011197977491534),\n",
       " (<Keyword(keyword=\"star HD\")>, 7, 0.024004116628938144),\n",
       " (<Keyword(keyword=\"direct Urca process\")>, 5, 0.024001960464805926),\n",
       " (<Keyword(keyword=\"magnetic flux\")>, 10, 0.02398897176328436),\n",
       " (<Keyword(keyword=\"small halo\")>, 7, 0.023983472012524248),\n",
       " (<Keyword(keyword=\"large angular scale\")>, 21, 0.023968879356029982),\n",
       " (<Keyword(keyword=\"outer disk\")>, 18, 0.02395371215141847),\n",
       " (<Keyword(keyword=\"SNe Iowa\")>, 10, 0.023950124368801135),\n",
       " (<Keyword(keyword=\"cool star\")>, 21, 0.023949011204021233),\n",
       " (<Keyword(keyword=\"recent star formation\")>, 19, 0.023946602816205503),\n",
       " (<Keyword(keyword=\"μm flux density\")>, 8, 0.023929097481880955),\n",
       " (<Keyword(keyword=\"program star\")>, 6, 0.023928397640891552),\n",
       " (<Keyword(keyword=\"radio emission\")>, 47, 0.023925116816411247),\n",
       " (<Keyword(keyword=\"K-band luminosity function\")>, 8, 0.023917041414552708),\n",
       " (<Keyword(keyword=\"ESA Hubble Space Telescope\")>, 160, 0.02391652399872721),\n",
       " (<Keyword(keyword=\"halo centre\")>, 5, 0.02391421538655223),\n",
       " (<Keyword(keyword=\"young star\")>, 76, 0.0239127568114405),\n",
       " (<Keyword(keyword=\"wolf-rayet star\")>, 21, 0.02390286415144462),\n",
       " (<Keyword(keyword=\"faint galaxy\")>, 19, 0.023899837372407834),\n",
       " (<Keyword(keyword=\"luminous matter\")>, 5, 0.023895616127311902),\n",
       " (<Keyword(keyword=\"neutrino masse\")>, 18, 0.023893061727571153),\n",
       " (<Keyword(keyword=\"core mass\")>, 9, 0.02389270439814942),\n",
       " (<Keyword(keyword=\"Crab pulsar\")>, 6, 0.023851297846570935),\n",
       " (<Keyword(keyword=\"local interstellar medium\")>, 13, 0.023846635809760604),\n",
       " (<Keyword(keyword=\"positive cosmological constant\")>, 5, 0.02384160786257863),\n",
       " (<Keyword(keyword=\"upper mass limit\")>, 12, 0.02382749662826543),\n",
       " (<Keyword(keyword=\"galaxy evolution\")>, 39, 0.02382232192091237),\n",
       " (<Keyword(keyword=\"accurate photometric redshift\")>, 7, 0.023819097444183646),\n",
       " (<Keyword(keyword=\"elliptical galaxy\")>, 66, 0.02381879786715367),\n",
       " (<Keyword(keyword=\"interstellar cloud\")>, 11, 0.023807722249469553),\n",
       " (<Keyword(keyword=\"solar abundance\")>, 22, 0.02379715728691821),\n",
       " (<Keyword(keyword=\"molecular line datum\")>, 5, 0.023797047536444182),\n",
       " (<Keyword(keyword=\"atmosphere model\")>, 6, 0.02377952675384623),\n",
       " (<Keyword(keyword=\"lenticular galaxy\")>, 10, 0.02376690577963453),\n",
       " (<Keyword(keyword=\"Early-Type galaxy\")>, 9, 0.02376448773192026),\n",
       " (<Keyword(keyword=\"μm range\")>, 5, 0.023757923564686458),\n",
       " (<Keyword(keyword=\"Kitt Peak National Observatory\")>,\n",
       "  28,\n",
       "  0.02375242517181403),\n",
       " (<Keyword(keyword=\"ongoing star formation\")>, 13, 0.023750228055613744),\n",
       " (<Keyword(keyword=\"radio luminosity\")>, 20, 0.02371837886726517),\n",
       " (<Keyword(keyword=\"event rate\")>, 11, 0.023681364675593716),\n",
       " (<Keyword(keyword=\"first-year Wilkinson Microwave Anisotropy Probe\")>,\n",
       "  6,\n",
       "  0.023666300595738887),\n",
       " (<Keyword(keyword=\"maximum mass\")>, 6, 0.023664361825785917),\n",
       " (<Keyword(keyword=\"low-mass halo\")>, 10, 0.023640915129580033),\n",
       " (<Keyword(keyword=\"line ratio\")>, 6, 0.02363297410796861),\n",
       " (<Keyword(keyword=\"stellar atmosphere model\")>, 8, 0.02362822187778656),\n",
       " (<Keyword(keyword=\"warm neutral medium\")>, 7, 0.023626268582033403),\n",
       " (<Keyword(keyword=\"Monte Carlo method\")>, 9, 0.023607072550227846),\n",
       " (<Keyword(keyword=\"internal shock\")>, 13, 0.02354815539825795),\n",
       " (<Keyword(keyword=\"X-ray flare\")>, 5, 0.023543373839583447),\n",
       " (<Keyword(keyword=\"intermediate-mass star\")>, 24, 0.023534969240955952),\n",
       " (<Keyword(keyword=\"dusty disk\")>, 8, 0.023528699090992027),\n",
       " (<Keyword(keyword=\"cluster datum\")>, 5, 0.023511769438688063),\n",
       " (<Keyword(keyword=\"kinetic energy density\")>, 5, 0.023509530723029703),\n",
       " (<Keyword(keyword=\"initial value\")>, 5, 0.023497083451851548),\n",
       " (<Keyword(keyword=\"narrow field instrument\")>, 6, 0.023488633134794986),\n",
       " (<Keyword(keyword=\"gas mass\")>, 16, 0.023477985059344973),\n",
       " (<Keyword(keyword=\"late type\")>, 6, 0.02347296254625432),\n",
       " (<Keyword(keyword=\"CMB photon\")>, 7, 0.023468515525087642),\n",
       " (<Keyword(keyword=\"magnetic process\")>, 5, 0.02346682874663587),\n",
       " (<Keyword(keyword=\"disk component\")>, 7, 0.023458748788197252),\n",
       " (<Keyword(keyword=\"Local Group galaxy\")>, 5, 0.02345383109784376),\n",
       " (<Keyword(keyword=\"Institut National des Sciences de l'Univers\")>,\n",
       "  5,\n",
       "  0.023453362304331062),\n",
       " (<Keyword(keyword=\"column density distribution\")>, 13, 0.023446640573798264),\n",
       " (<Keyword(keyword=\"energy spectrum\")>, 26, 0.023443877265927435),\n",
       " (<Keyword(keyword=\"halo population\")>, 6, 0.02343223097809907),\n",
       " (<Keyword(keyword=\"period distribution\")>, 7, 0.023425423176496426),\n",
       " (<Keyword(keyword=\"Population III star\")>, 7, 0.023425421069468634),\n",
       " (<Keyword(keyword=\"emission region\")>, 10, 0.0234000089561142),\n",
       " (<Keyword(keyword=\"linear power spectrum\")>, 5, 0.023396245241738327),\n",
       " (<Keyword(keyword=\"coincidence problem\")>, 6, 0.023378768240081737),\n",
       " (<Keyword(keyword=\"large scale structure\")>, 12, 0.02337365385056805),\n",
       " (<Keyword(keyword=\"flat Universe\")>, 5, 0.023369068714487913),\n",
       " (<Keyword(keyword=\"sample galaxy\")>, 13, 0.02336145114472336),\n",
       " (<Keyword(keyword=\"small cluster\")>, 9, 0.023352939314308072),\n",
       " (<Keyword(keyword=\"multiple-planet system\")>, 5, 0.023330193364031648),\n",
       " (<Keyword(keyword=\"h ratio\")>, 6, 0.0232914590987878),\n",
       " (<Keyword(keyword=\"quantum effect\")>, 8, 0.023271427322961377),\n",
       " (<Keyword(keyword=\"central charge\")>, 5, 0.023269422548146828),\n",
       " (<Keyword(keyword=\"periodic signal\")>, 5, 0.023260974613754475),\n",
       " (<Keyword(keyword=\"merger rate\")>, 5, 0.023257419796975508),\n",
       " (<Keyword(keyword=\"high surface brightness\")>, 6, 0.02325201493806875),\n",
       " (<Keyword(keyword=\"neutron star surface\")>, 8, 0.023249134425300105),\n",
       " (<Keyword(keyword=\"density inhomogeneity\")>, 5, 0.023246076805115895),\n",
       " (<Keyword(keyword=\"synchrotron model\")>, 5, 0.023228029042923714),\n",
       " (<Keyword(keyword=\"energy density\")>, 42, 0.023225758295888764),\n",
       " (<Keyword(keyword=\"soft x-ray emission\")>, 7, 0.02322531960231914),\n",
       " (<Keyword(keyword=\"low-redshift galaxy\")>, 7, 0.023219868899317733),\n",
       " (<Keyword(keyword=\"bayesian evidence\")>, 5, 0.023202536041204744),\n",
       " (<Keyword(keyword=\"star formation activity\")>, 28, 0.023195798204596108),\n",
       " (<Keyword(keyword=\"jet model\")>, 6, 0.02317533163926527),\n",
       " (<Keyword(keyword=\"disk material\")>, 10, 0.023135993258543756),\n",
       " (<Keyword(keyword=\"line-of-sight velocity distribution\")>,\n",
       "  9,\n",
       "  0.023127417077716386),\n",
       " (<Keyword(keyword=\"individual star\")>, 21, 0.02312427297548859),\n",
       " (<Keyword(keyword=\"H II region\")>, 44, 0.023114508270844804),\n",
       " (<Keyword(keyword=\"massive halo\")>, 26, 0.0231026327691688),\n",
       " (<Keyword(keyword=\"CMB map\")>, 12, 0.023092003426938845),\n",
       " (<Keyword(keyword=\"NRAO VLA Sky Survey\")>, 12, 0.023089921168852206),\n",
       " (<Keyword(keyword=\"distant supernovae\")>, 9, 0.02308935312407599),\n",
       " (<Keyword(keyword=\"sea surface temperature\")>, 5, 0.02308603636387104),\n",
       " (<Keyword(keyword=\"Gamma-Ray burst\")>, 10, 0.023062158956048122),\n",
       " (<Keyword(keyword=\"gravitational waveform\")>, 7, 0.023049967825157707),\n",
       " (<Keyword(keyword=\"turbulent convection\")>, 10, 0.023015053492463956),\n",
       " (<Keyword(keyword=\"angular momentum loss\")>, 9, 0.022976044512349806),\n",
       " (<Keyword(keyword=\"lyman-break galaxy\")>, 8, 0.0229657253612396),\n",
       " (<Keyword(keyword=\"high-redshift galaxy\")>, 49, 0.0229626312643637),\n",
       " (<Keyword(keyword=\"metal-poor star\")>, 49, 0.022952538865532918),\n",
       " (<Keyword(keyword=\"chondritic meteorite\")>, 6, 0.02295077819551893),\n",
       " (<Keyword(keyword=\"stellar mass-to-light ratio\")>, 19, 0.022935877991299692),\n",
       " (<Keyword(keyword=\"large flare\")>, 6, 0.022925675752427006),\n",
       " (<Keyword(keyword=\"Institut National des Science de l'Univers\")>,\n",
       "  6,\n",
       "  0.02291990606166451),\n",
       " (<Keyword(keyword=\"warm dark matter\")>, 9, 0.022912934447788618),\n",
       " (<Keyword(keyword=\"active star formation\")>, 9, 0.022911325133021933),\n",
       " (<Keyword(keyword=\"inner galactic plane\")>, 5, 0.022893420648529096),\n",
       " (<Keyword(keyword=\"eccentricity growth\")>, 5, 0.022890570297174864),\n",
       " (<Keyword(keyword=\"dark halo\")>, 44, 0.022880321793152646),\n",
       " (<Keyword(keyword=\"wind model\")>, 8, 0.022879247653387617),\n",
       " (<Keyword(keyword=\"solar minimum\")>, 7, 0.022879191158747727),\n",
       " (<Keyword(keyword=\"Hα emission line\")>, 5, 0.02287214168206714),\n",
       " (<Keyword(keyword=\"Type Ia supernovae\")>, 64, 0.022861772735561735),\n",
       " (<Keyword(keyword=\"blue star\")>, 5, 0.02286125291196547),\n",
       " (<Keyword(keyword=\"break time\")>, 6, 0.022859332961442238),\n",
       " (<Keyword(keyword=\"massive star\")>, 195, 0.022856549203212468),\n",
       " (<Keyword(keyword=\"simple analytic model\")>, 10, 0.022845881272740683),\n",
       " (<Keyword(keyword=\"cosmic acceleration\")>, 25, 0.02284063952974722),\n",
       " (<Keyword(keyword=\"cosmological N-body simulation\")>,\n",
       "  11,\n",
       "  0.022834369959008293),\n",
       " (<Keyword(keyword=\"Space Telescope Science Institute\")>,\n",
       "  143,\n",
       "  0.02282803123705946),\n",
       " (<Keyword(keyword=\"gas accretion\")>, 27, 0.022812757012666163),\n",
       " (<Keyword(keyword=\"phantom divide\")>, 5, 0.022803044559753245),\n",
       " (<Keyword(keyword=\"solar interior\")>, 8, 0.022797090010108094),\n",
       " (<Keyword(keyword=\"high density region\")>, 7, 0.022761077198924617),\n",
       " (<Keyword(keyword=\"x-ray binary\")>, 23, 0.02276078337146237),\n",
       " (<Keyword(keyword=\"dark energy equation-of-state parameter\")>,\n",
       "  5,\n",
       "  0.022747159576511446),\n",
       " (<Keyword(keyword=\"hard state\")>, 14, 0.022746481237553646),\n",
       " (<Keyword(keyword=\"CMB datum\")>, 12, 0.022745402390591102),\n",
       " (<Keyword(keyword=\"Faraday rotation measure\")>, 5, 0.02271623878331949),\n",
       " (<Keyword(keyword=\"strong emission line\")>, 15, 0.022704186770326925),\n",
       " (<Keyword(keyword=\"dust formation\")>, 8, 0.022684718329139625),\n",
       " (<Keyword(keyword=\"early afterglow\")>, 8, 0.022661898608011728),\n",
       " (<Keyword(keyword=\"wide binary\")>, 5, 0.022661562483687482),\n",
       " (<Keyword(keyword=\"CDM model\")>, 15, 0.022654996203565297),\n",
       " (<Keyword(keyword=\"lepton number\")>, 5, 0.02264700606367783),\n",
       " (<Keyword(keyword=\"h II region\")>, 10, 0.022635277729925234),\n",
       " (<Keyword(keyword=\"gravitational lense\")>, 7, 0.022632973930468286),\n",
       " (<Keyword(keyword=\"galaxy distribution\")>, 16, 0.022632183304307395),\n",
       " (<Keyword(keyword=\"new era\")>, 6, 0.02262862991577998),\n",
       " (<Keyword(keyword=\"Big Bang Nucleosynthesis\")>, 7, 0.022612862080366815),\n",
       " (<Keyword(keyword=\"magnetic helicity\")>, 5, 0.022607721590149683),\n",
       " (<Keyword(keyword=\"second order\")>, 17, 0.022580079775716314),\n",
       " (<Keyword(keyword=\"neutrino flux\")>, 9, 0.022572031281782572),\n",
       " (<Keyword(keyword=\"solar surface\")>, 9, 0.022553022502317124),\n",
       " (<Keyword(keyword=\"adaptive mesh refinement\")>, 10, 0.02255151687700915),\n",
       " (<Keyword(keyword=\"real galaxy\")>, 5, 0.022545282157868565),\n",
       " (<Keyword(keyword=\"giant planet\")>, 38, 0.022539286502132973),\n",
       " (<Keyword(keyword=\"scalar field\")>, 48, 0.022537869852281903),\n",
       " (<Keyword(keyword=\"dust particle\")>, 7, 0.022523885446275732),\n",
       " (<Keyword(keyword=\"young stellar population\")>, 24, 0.022518590775810837),\n",
       " (<Keyword(keyword=\"interplanetary dust particle\")>, 6, 0.02251517889500923),\n",
       " (<Keyword(keyword=\"radio spectrum\")>, 7, 0.022492146419221),\n",
       " (<Keyword(keyword=\"early-type star\")>, 13, 0.022489918819048525),\n",
       " (<Keyword(keyword=\"infrared-luminous galaxy\")>, 5, 0.022486094840730154),\n",
       " (<Keyword(keyword=\"large-scale structure datum\")>, 7, 0.02246921175373592),\n",
       " (<Keyword(keyword=\"distant galaxy\")>, 41, 0.022457289555711562),\n",
       " (<Keyword(keyword=\"C II\")>, 11, 0.02243633457011943),\n",
       " (<Keyword(keyword=\"extrasolar planet\")>, 46, 0.022435604762290354),\n",
       " (<Keyword(keyword=\"warm ionized medium\")>, 5, 0.022429135114921207),\n",
       " (<Keyword(keyword=\"Gamma-ray burst\")>, 9, 0.022424396734342576),\n",
       " (<Keyword(keyword=\"BH masse\")>, 6, 0.022414723844622286),\n",
       " (<Keyword(keyword=\"stellar velocity dispersion\")>, 17, 0.022408992959159723),\n",
       " (<Keyword(keyword=\"young supernova remnant\")>, 9, 0.022394302326753907),\n",
       " (<Keyword(keyword=\"Hubble Ultra Deep field\")>, 7, 0.02239422960553005),\n",
       " (<Keyword(keyword=\"modern astrophysic\")>, 5, 0.02239155108751863),\n",
       " (<Keyword(keyword=\"instrument calibration\")>, 5, 0.022386728556943666),\n",
       " (<Keyword(keyword=\"core size\")>, 5, 0.022384657089255754),\n",
       " (<Keyword(keyword=\"broad emission-line region\")>, 6, 0.022383147667096037),\n",
       " (<Keyword(keyword=\"TeV energy\")>, 6, 0.022382054578810127),\n",
       " (<Keyword(keyword=\"high-energy photon\")>, 7, 0.022378559228301936),\n",
       " (<Keyword(keyword=\"Hubble Space Telescope image\")>, 9, 0.022367851268258965),\n",
       " (<Keyword(keyword=\"rate coefficient\")>, 5, 0.022353910696397347),\n",
       " (<Keyword(keyword=\"Sloan Digital Sky Survey\")>, 198, 0.022346212524475717),\n",
       " (<Keyword(keyword=\"companion star\")>, 14, 0.022333391363108586),\n",
       " (<Keyword(keyword=\"soft gamma repeater\")>, 5, 0.022312802385343004),\n",
       " (<Keyword(keyword=\"inflationary model\")>, 15, 0.022309426559934474),\n",
       " (<Keyword(keyword=\"Cassini spacecraft\")>, 7, 0.022304840484301782),\n",
       " (<Keyword(keyword=\"l sun\")>, 6, 0.02229726195138254),\n",
       " (<Keyword(keyword=\"pulsar magnetosphere\")>, 9, 0.022294384149314547),\n",
       " (<Keyword(keyword=\"circular polarization\")>, 5, 0.02228756423767718),\n",
       " (<Keyword(keyword=\"Cepheid distance\")>, 8, 0.022286744752778528),\n",
       " (<Keyword(keyword=\"protoplanetary disk\")>, 51, 0.02227875674177941),\n",
       " (<Keyword(keyword=\"sound wave\")>, 5, 0.02227086080426417),\n",
       " (<Keyword(keyword=\"Lyman break galaxy\")>, 9, 0.022268495605762252),\n",
       " (<Keyword(keyword=\"γ-ray flux\")>, 9, 0.022266778710574874),\n",
       " (<Keyword(keyword=\"large column density\")>, 6, 0.022264506021193706),\n",
       " (<Keyword(keyword=\"Einstein equation\")>, 6, 0.022256654075477427),\n",
       " (<Keyword(keyword=\"nearby galaxy\")>, 81, 0.02225136935645946),\n",
       " (<Keyword(keyword=\"gravitational field\")>, 18, 0.022225510341469815),\n",
       " (<Keyword(keyword=\"star-forming galaxy\")>, 110, 0.02221975755116749),\n",
       " (<Keyword(keyword=\"optical afterglow\")>, 22, 0.02220539630122523),\n",
       " (<Keyword(keyword=\"two-point correlation function\")>,\n",
       "  18,\n",
       "  0.022197614154672852),\n",
       " (<Keyword(keyword=\"soft state\")>, 11, 0.02218968428667192),\n",
       " (<Keyword(keyword=\"Salpeter initial mass function\")>,\n",
       "  14,\n",
       "  0.022187001006894646),\n",
       " (<Keyword(keyword=\"radio afterglow\")>, 7, 0.022177704886156134),\n",
       " (<Keyword(keyword=\"star cluster\")>, 26, 0.022177350090986682),\n",
       " (<Keyword(keyword=\"survey datum\")>, 11, 0.022169316305566757),\n",
       " (<Keyword(keyword=\"Wilkinson Microwave Anisotropy Probe Observations\")>,\n",
       "  7,\n",
       "  0.022169071455823284),\n",
       " (<Keyword(keyword=\"deep x-ray survey\")>, 6, 0.022154525998435346),\n",
       " (<Keyword(keyword=\"simulated galaxy\")>, 10, 0.022151749632986193),\n",
       " (<Keyword(keyword=\"year datum\")>, 8, 0.0221444006536224),\n",
       " (<Keyword(keyword=\"wind velocity\")>, 8, 0.022132855345706054),\n",
       " (<Keyword(keyword=\"SDSS Data Release\")>, 10, 0.02213225799392159),\n",
       " (<Keyword(keyword=\"radio-loud object\")>, 5, 0.022128287299430838),\n",
       " (<Keyword(keyword=\"CPT violation\")>, 7, 0.022122124589266153),\n",
       " (<Keyword(keyword=\"stellar population property\")>, 6, 0.02212091515555496),\n",
       " (<Keyword(keyword=\"main cluster\")>, 8, 0.02211884469245675),\n",
       " (<Keyword(keyword=\"energy resolution\")>, 10, 0.02211860627093183),\n",
       " (<Keyword(keyword=\"high spectral resolution\")>, 10, 0.022118497650223716),\n",
       " (<Keyword(keyword=\"hot cluster\")>, 6, 0.02210937746588554),\n",
       " (<Keyword(keyword=\"high surface density\")>, 6, 0.02210886475142869),\n",
       " (<Keyword(keyword=\"mass profile\")>, 18, 0.02209793745281541),\n",
       " (<Keyword(keyword=\"Australia Telescope Compact Array\")>,\n",
       "  8,\n",
       "  0.022089746521308736),\n",
       " (<Keyword(keyword=\"spheroidal galaxy\")>, 11, 0.02208544771558807),\n",
       " (<Keyword(keyword=\"simple scenario\")>, 5, 0.022082928752184917),\n",
       " (<Keyword(keyword=\"nw m-2 sr-1\")>, 7, 0.02207876271785968),\n",
       " (<Keyword(keyword=\"millisecond pulsar\")>, 24, 0.022077303585751357),\n",
       " (<Keyword(keyword=\"optical detection\")>, 6, 0.022061174819905004),\n",
       " (<Keyword(keyword=\"Λ cold dark matter\")>, 9, 0.022043478426327017),\n",
       " (<Keyword(keyword=\"high optical depth\")>, 5, 0.02204292529137645),\n",
       " (<Keyword(keyword=\"Seyfert galaxy\")>, 28, 0.022022848689377466),\n",
       " (<Keyword(keyword=\"main-sequence star\")>, 43, 0.021981021345328103),\n",
       " (<Keyword(keyword=\"strong line\")>, 6, 0.0219797087670465),\n",
       " (<Keyword(keyword=\"impact crater\")>, 7, 0.021962236715233934),\n",
       " (<Keyword(keyword=\"energy spectra\")>, 10, 0.021957059000633616),\n",
       " (<Keyword(keyword=\"faint source\")>, 9, 0.021954121226964204),\n",
       " (<Keyword(keyword=\"mass fluctuation\")>, 7, 0.021949353140456648),\n",
       " (<Keyword(keyword=\"stellar IMF\")>, 12, 0.021939397525680356),\n",
       " (<Keyword(keyword=\"cosmological mass density\")>, 5, 0.021938905558219056),\n",
       " (<Keyword(keyword=\"new code\")>, 13, 0.02193661655241452),\n",
       " (<Keyword(keyword=\"radio-quiet quasar\")>, 10, 0.02190668538385832),\n",
       " (<Keyword(keyword=\"stellar population age\")>, 5, 0.021901994501674866),\n",
       " (<Keyword(keyword=\"Dark Energy Survey\")>, 5, 0.02189864793187642),\n",
       " (<Keyword(keyword=\"grain surface\")>, 10, 0.021898321255234963),\n",
       " (<Keyword(keyword=\"redshift bins\")>, 6, 0.021896055998407812),\n",
       " (<Keyword(keyword=\"primordial gas\")>, 10, 0.021894664167280944),\n",
       " (<Keyword(keyword=\"μm feature\")>, 5, 0.02189436468117258),\n",
       " (<Keyword(keyword=\"Chandra X-Ray Observatory\")>, 17, 0.021892243584225275),\n",
       " (<Keyword(keyword=\"type II supernovae\")>, 9, 0.021889922835385458),\n",
       " (<Keyword(keyword=\"planetary orbit\")>, 5, 0.021845564407671703),\n",
       " (<Keyword(keyword=\"dust emission\")>, 24, 0.0218403631362139),\n",
       " (<Keyword(keyword=\"interstellar dust\")>, 24, 0.021834180672294104),\n",
       " (<Keyword(keyword=\"Wilkinson Microwave Anisotropy Probe\")>,\n",
       "  68,\n",
       "  0.021832860764077523),\n",
       " (<Keyword(keyword=\"software package\")>, 7, 0.0218257262215682),\n",
       " (<Keyword(keyword=\"molecular line\")>, 11, 0.02182257167355296),\n",
       " (<Keyword(keyword=\"old stellar population\")>, 28, 0.02179495465776211),\n",
       " (<Keyword(keyword=\"CMB sky\")>, 5, 0.02179488859868935),\n",
       " (<Keyword(keyword=\"experimental test\")>, 5, 0.021785675369974562),\n",
       " (<Keyword(keyword=\"horizontal branch morphology\")>, 6, 0.02177588011245682),\n",
       " (<Keyword(keyword=\"source luminosity\")>, 8, 0.021775246873623155),\n",
       " (<Keyword(keyword=\"rapid communication\")>, 5, 0.021763017516279896),\n",
       " (<Keyword(keyword=\"dust coagulation\")>, 5, 0.021762557406582426),\n",
       " (<Keyword(keyword=\"energy range\")>, 33, 0.021762244912527966),\n",
       " (<Keyword(keyword=\"bulge luminosity\")>, 7, 0.021747852176750092),\n",
       " (<Keyword(keyword=\"GHz map\")>, 5, 0.021741506586080497),\n",
       " (<Keyword(keyword=\"Planck scale\")>, 17, 0.021740102854139694),\n",
       " (<Keyword(keyword=\"GRB fireball\")>, 5, 0.021739582946895035),\n",
       " (<Keyword(keyword=\"dark matter structure\")>, 7, 0.021708828290624944),\n",
       " (<Keyword(keyword=\"Space Telescope Imaging Spectrograph\")>,\n",
       "  11,\n",
       "  0.02170658888842811),\n",
       " (<Keyword(keyword=\"small crater\")>, 5, 0.02170572101884843),\n",
       " (<Keyword(keyword=\"angular power spectra\")>, 7, 0.021705425555031566),\n",
       " (<Keyword(keyword=\"chemical process\")>, 8, 0.021704267270332492),\n",
       " (<Keyword(keyword=\"north galactic cap\")>, 5, 0.02169628868140045),\n",
       " (<Keyword(keyword=\"angular momentum transport\")>, 19, 0.021693619038878523),\n",
       " (<Keyword(keyword=\"x-ray datum\")>, 18, 0.021679869511795832),\n",
       " (<Keyword(keyword=\"source list\")>, 7, 0.021679063722913377),\n",
       " (<Keyword(keyword=\"different model\")>, 19, 0.02167374477055687),\n",
       " (<Keyword(keyword=\"starburst galaxy\")>, 43, 0.02164973751624877),\n",
       " (<Keyword(keyword=\"previous model\")>, 20, 0.02164271495850841),\n",
       " (<Keyword(keyword=\"t dwarf\")>, 8, 0.021636722823761875),\n",
       " (<Keyword(keyword=\"Wide Field Planetary Camera\")>, 9, 0.021624561523314916),\n",
       " (<Keyword(keyword=\"disk population\")>, 5, 0.021612522734926733),\n",
       " (<Keyword(keyword=\"prompt emission\")>, 35, 0.021611035319563387),\n",
       " (<Keyword(keyword=\"solar-mass star\")>, 7, 0.021592259052123815),\n",
       " (<Keyword(keyword=\"stellar disc\")>, 5, 0.021584815641943072),\n",
       " (<Keyword(keyword=\"hierarchy problem\")>, 9, 0.02157744981050936),\n",
       " (<Keyword(keyword=\"pre-stellar core\")>, 6, 0.021572607381082493),\n",
       " (<Keyword(keyword=\"Magorrian et al\")>, 5, 0.021568117580945685),\n",
       " (<Keyword(keyword=\"reconnection process\")>, 6, 0.021562196994924208),\n",
       " (<Keyword(keyword=\"constant dark energy equation\")>, 6, 0.02155376916824976),\n",
       " ...]"
      ]
     },
     "execution_count": 7,
     "metadata": {},
     "output_type": "execute_result"
    }
   ],
   "source": [
    "nlp = get_spacy_nlp()\n",
    "\n",
    "pm = PaperMiner(nlp)\n",
    "\n",
    "pm.get_filtered_keywords(session)"
   ]
  },
  {
   "cell_type": "code",
   "execution_count": null,
   "metadata": {},
   "outputs": [],
   "source": []
  },
  {
   "cell_type": "code",
   "execution_count": 25,
   "metadata": {
    "pycharm": {
     "is_executing": false
    }
   },
   "outputs": [],
   "source": [
    "# session.query(PaperKeywords).join(Paper).filter(PaperKeywords.raw_keyword == \"gamma\").all()"
   ]
  },
  {
   "cell_type": "code",
   "execution_count": 26,
   "metadata": {
    "pycharm": {
     "is_executing": false
    }
   },
   "outputs": [],
   "source": [
    "year_counts = session.query(Paper.year, func.count(Paper.year)).group_by(Paper.year).all()\n",
    "\n",
    "session.query(Keyword).filter(Keyword.keyword == \"black hole\").first().get_years(session)\n",
    "\n",
    "session.query(Paper.year, func.count(Paper.year)) \\\n",
    "    .join(PaperKeywords) \\\n",
    "    .join(Keyword) \\\n",
    "    .filter(Keyword.keyword.ilike('mars')) \\\n",
    "    .group_by(Paper.year) \\\n",
    "    .all()\n",
    "\n",
    "session.query(Keyword).filter(Keyword.keyword.ilike('universe'))[0].papers[1].paper.get_feature_text()\n",
    "\n",
    "!pip install snakeviz\n",
    "\n",
    "%load_ext snakeviz\n",
    "\n",
    "paper_kwd = session.query(PaperKeywords).join(Keyword).filter(Keyword.keyword==\"measurement\").first()\n",
    "\n",
    "%%timeit -n 1 -r 1\n",
    "added = 0\n",
    "q = (\n",
    "    session.query(Paper)\n",
    "    .filter(~Paper.keywords.any(PaperKeywords.keyword_id == paper_kwd.keyword_id))\n",
    "    .filter(\n",
    "        or_(\n",
    "            Paper.title.contains(paper_kwd.raw_keyword), \n",
    "            Paper.abstract.contains(paper_kwd.raw_keyword)\n",
    "        )\n",
    "    ).update\n",
    ")\n",
    "# %%timeit\n",
    "# papers = q.all()\n",
    "# with session.no_autoflush:\n",
    "#     for p in papers:\n",
    "#     #     with session.no_autoflush:\n",
    "#         assoc = PaperKeywords(raw_keyword=paper_kwd.raw_keyword, score=np.nan)\n",
    "#         assoc.keyword = paper_kwd.keyword\n",
    "#         p.keywords.append(assoc)\n",
    "#         added += 1\n",
    "# session.rollback()"
   ]
  },
  {
   "cell_type": "code",
   "execution_count": 201,
   "metadata": {},
   "outputs": [
    {
     "data": {
      "text/plain": [
       "133320"
      ]
     },
     "execution_count": 201,
     "metadata": {},
     "output_type": "execute_result"
    }
   ],
   "source": [
    "session.query(Keyword).count()"
   ]
  },
  {
   "cell_type": "code",
   "execution_count": 237,
   "metadata": {},
   "outputs": [],
   "source": [
    "session.rollback()"
   ]
  },
  {
   "cell_type": "code",
   "execution_count": 242,
   "metadata": {},
   "outputs": [],
   "source": [
    "def get_pk_dict(p, paper_kwd):\n",
    "    d = {\n",
    "    'raw_keyword': paper_kwd.raw_keyword,\n",
    "    'keyword_id': paper_kwd.keyword.id,\n",
    "    'paper_bibcode': p.bibcode,\n",
    "    }\n",
    "    return d"
   ]
  },
  {
   "cell_type": "code",
   "execution_count": 11,
   "metadata": {},
   "outputs": [
    {
     "data": {
      "text/plain": [
       "<PaperKeywords(paper_bibcode=\"1997ApJ...486..665P\", keyword.keyword=\"+\")>"
      ]
     },
     "execution_count": 11,
     "metadata": {},
     "output_type": "execute_result"
    }
   ],
   "source": [
    "session.query(PaperKeywords).group_by(PaperKeywords.raw_keyword).first()"
   ]
  },
  {
   "cell_type": "code",
   "execution_count": 1,
   "metadata": {},
   "outputs": [
    {
     "ename": "NameError",
     "evalue": "name 'session' is not defined",
     "output_type": "error",
     "traceback": [
      "\u001b[0;31m---------------------------------------------------------------------------\u001b[0m",
      "\u001b[0;31mNameError\u001b[0m                                 Traceback (most recent call last)",
      "\u001b[0;32m<ipython-input-1-87466bd8d8e1>\u001b[0m in \u001b[0;36m<module>\u001b[0;34m\u001b[0m\n\u001b[1;32m      3\u001b[0m \u001b[0mt\u001b[0m \u001b[0;34m=\u001b[0m \u001b[0;36m100\u001b[0m\u001b[0;34m\u001b[0m\u001b[0;34m\u001b[0m\u001b[0m\n\u001b[1;32m      4\u001b[0m \u001b[0mall_records\u001b[0m \u001b[0;34m=\u001b[0m \u001b[0;34m[\u001b[0m\u001b[0;34m]\u001b[0m\u001b[0;34m\u001b[0m\u001b[0;34m\u001b[0m\u001b[0m\n\u001b[0;32m----> 5\u001b[0;31m \u001b[0;32mwith\u001b[0m \u001b[0msession\u001b[0m\u001b[0;34m.\u001b[0m\u001b[0mno_autoflush\u001b[0m\u001b[0;34m:\u001b[0m\u001b[0;34m\u001b[0m\u001b[0;34m\u001b[0m\u001b[0m\n\u001b[0m\u001b[1;32m      6\u001b[0m     \u001b[0mpbar\u001b[0m \u001b[0;34m=\u001b[0m \u001b[0mtqdm\u001b[0m\u001b[0;34m(\u001b[0m\u001b[0msession\u001b[0m\u001b[0;34m.\u001b[0m\u001b[0mquery\u001b[0m\u001b[0;34m(\u001b[0m\u001b[0mPaperKeywords\u001b[0m\u001b[0;34m)\u001b[0m\u001b[0;34m[\u001b[0m\u001b[0;36m100\u001b[0m\u001b[0;34m:\u001b[0m\u001b[0;36m100\u001b[0m\u001b[0;34m+\u001b[0m\u001b[0mt\u001b[0m\u001b[0;34m]\u001b[0m\u001b[0;34m,\u001b[0m \u001b[0mtotal\u001b[0m\u001b[0;34m=\u001b[0m\u001b[0mt\u001b[0m\u001b[0;34m)\u001b[0m\u001b[0;34m\u001b[0m\u001b[0;34m\u001b[0m\u001b[0m\n\u001b[1;32m      7\u001b[0m     \u001b[0;32mfor\u001b[0m \u001b[0mpaper_kwd\u001b[0m \u001b[0;32min\u001b[0m \u001b[0mpbar\u001b[0m\u001b[0;34m:\u001b[0m\u001b[0;34m\u001b[0m\u001b[0;34m\u001b[0m\u001b[0m\n",
      "\u001b[0;31mNameError\u001b[0m: name 'session' is not defined"
     ]
    }
   ],
   "source": [
    "# %%timeit -n 1 -r 1\n",
    "added = 0\n",
    "t = 100\n",
    "all_records = []\n",
    "with session.no_autoflush:\n",
    "    pbar = tqdm(session.query(PaperKeywords)[100:100+t], total=t)\n",
    "    for paper_kwd in pbar:\n",
    "        pbar.set_description(paper_kwd.raw_keyword)\n",
    "        q = (\n",
    "            session.query(Paper)\n",
    "            .filter(~Paper.keywords.any(PaperKeywords.keyword_id == paper_kwd.keyword_id))\n",
    "            .filter(\n",
    "                or_(\n",
    "                    Paper.title.contains(paper_kwd.raw_keyword), \n",
    "                    Paper.abstract.contains(paper_kwd.raw_keyword)\n",
    "                )\n",
    "            )\n",
    "        )\n",
    "        papers = q.all()\n",
    "        for p in papers:\n",
    "            d = get_pk_dict(p, paper_kwd)\n",
    "            all_records.append(d)\n",
    "            added += 1"
   ]
  },
  {
   "cell_type": "code",
   "execution_count": 255,
   "metadata": {},
   "outputs": [
    {
     "data": {
      "text/plain": [
       "11830"
      ]
     },
     "execution_count": 255,
     "metadata": {},
     "output_type": "execute_result"
    }
   ],
   "source": [
    "len(all_records)"
   ]
  },
  {
   "cell_type": "code",
   "execution_count": 256,
   "metadata": {},
   "outputs": [
    {
     "name": "stdout",
     "output_type": "stream",
     "text": [
      "280 ms ± 0 ns per loop (mean ± std. dev. of 1 run, 1 loop each)\n"
     ]
    }
   ],
   "source": [
    "%%timeit -n 1 -r 1\n",
    "engine.execute(\n",
    "    PaperKeywords.__table__.insert(),\n",
    "    all_records,\n",
    ")"
   ]
  },
  {
   "cell_type": "code",
   "execution_count": 18,
   "metadata": {},
   "outputs": [
    {
     "data": {
      "text/plain": [
       "1133"
      ]
     },
     "execution_count": 18,
     "metadata": {},
     "output_type": "execute_result"
    }
   ],
   "source": [
    "session.query(PaperKeywords).join(Keyword).filter(Keyword.keyword == 'measurement').count()"
   ]
  },
  {
   "cell_type": "code",
   "execution_count": 13,
   "metadata": {},
   "outputs": [
    {
     "name": "stdout",
     "output_type": "stream",
     "text": [
      "SELECT paper_keywords.paper_bibcode AS paper_keywords_paper_bibcode, paper_keywords.keyword_id AS paper_keywords_keyword_id, paper_keywords.score AS paper_keywords_score, paper_keywords.raw_keyword AS paper_keywords_raw_keyword \n",
      "FROM paper_keywords JOIN keywords ON keywords.id = paper_keywords.keyword_id \n",
      "WHERE keywords.keyword = ?\n"
     ]
    }
   ],
   "source": [
    "print(session.query(PaperKeywords).join(Keyword).filter(Keyword.keyword == 'measurement'))"
   ]
  },
  {
   "cell_type": "code",
   "execution_count": 222,
   "metadata": {},
   "outputs": [
    {
     "data": {
      "text/plain": [
       "Engine(sqlite:///../scratch/test.sqlite)"
      ]
     },
     "execution_count": 222,
     "metadata": {},
     "output_type": "execute_result"
    }
   ],
   "source": [
    "engine"
   ]
  },
  {
   "cell_type": "code",
   "execution_count": 216,
   "metadata": {},
   "outputs": [],
   "source": [
    "session.flush()"
   ]
  },
  {
   "cell_type": "code",
   "execution_count": 150,
   "metadata": {},
   "outputs": [
    {
     "data": {
      "text/plain": [
       "307"
      ]
     },
     "execution_count": 150,
     "metadata": {},
     "output_type": "execute_result"
    }
   ],
   "source": [
    "session.query(PaperKeywords).join(Keyword).filter(Keyword.keyword == 'measurement').count()"
   ]
  },
  {
   "cell_type": "code",
   "execution_count": 148,
   "metadata": {},
   "outputs": [
    {
     "data": {
      "text/plain": [
       "15513"
      ]
     },
     "execution_count": 148,
     "metadata": {},
     "output_type": "execute_result"
    }
   ],
   "source": [
    "added"
   ]
  },
  {
   "cell_type": "code",
   "execution_count": 14,
   "metadata": {},
   "outputs": [],
   "source": [
    "# session.rollback()\n",
    "session.close()"
   ]
  },
  {
   "cell_type": "code",
   "execution_count": 71,
   "metadata": {},
   "outputs": [
    {
     "data": {
      "text/plain": [
       "('2010MNRAS.409..531R')"
      ]
     },
     "execution_count": 71,
     "metadata": {},
     "output_type": "execute_result"
    }
   ],
   "source": [
    "q.first()"
   ]
  },
  {
   "cell_type": "code",
   "execution_count": 52,
   "metadata": {},
   "outputs": [],
   "source": [
    "KeywordAlias = aliased(Keyword)\n",
    "q = (\n",
    " session.query(Keyword, func.count(Keyword.id))\n",
    "    .join(PaperKeywords)\n",
    "    .join(Paper)\n",
    "    .group_by(Keyword.id)\n",
    "#     .filter(Paper.year == 2010)\n",
    "    .order_by(func.count(Keyword.id).desc())\n",
    "    .having(func.count() > 10)\n",
    "    .having(funct.count() < )\n",
    ")"
   ]
  },
  {
   "cell_type": "code",
   "execution_count": 50,
   "metadata": {},
   "outputs": [
    {
     "name": "stdout",
     "output_type": "stream",
     "text": [
      "SELECT keywords.id AS keywords_id, keywords.keyword AS keywords_keyword, count(keywords.id) AS count_1 \n",
      "FROM keywords JOIN paper_keywords ON keywords.id = paper_keywords.keyword_id JOIN papers ON papers.bibcode = paper_keywords.paper_bibcode GROUP BY keywords.id \n",
      "HAVING count(*) > ? ORDER BY count(keywords.id) DESC\n"
     ]
    }
   ],
   "source": [
    "print(q)"
   ]
  },
  {
   "cell_type": "code",
   "execution_count": 51,
   "metadata": {},
   "outputs": [
    {
     "data": {
      "text/plain": [
       "3225"
      ]
     },
     "execution_count": 51,
     "metadata": {},
     "output_type": "execute_result"
    }
   ],
   "source": [
    "q.count()"
   ]
  },
  {
   "cell_type": "code",
   "execution_count": 11,
   "metadata": {},
   "outputs": [
    {
     "data": {
      "text/plain": [
       "7245"
      ]
     },
     "execution_count": 11,
     "metadata": {},
     "output_type": "execute_result"
    }
   ],
   "source": [
    "session.query(Paper).count()"
   ]
  },
  {
   "cell_type": "code",
   "execution_count": 37,
   "metadata": {},
   "outputs": [],
   "source": [
    "# q[0:100]"
   ]
  },
  {
   "cell_type": "code",
   "execution_count": 12,
   "metadata": {},
   "outputs": [],
   "source": [
    "tokens = ([pk.keyword.keyword for pk in paper.keywords] for paper in session.query(Paper).all())"
   ]
  },
  {
   "cell_type": "code",
   "execution_count": 14,
   "metadata": {},
   "outputs": [],
   "source": [
    "nlp = get_spacy_nlp()"
   ]
  },
  {
   "cell_type": "code",
   "execution_count": 22,
   "metadata": {},
   "outputs": [],
   "source": [
    "pm = PaperMiner(nlp)"
   ]
  },
  {
   "cell_type": "code",
   "execution_count": 23,
   "metadata": {},
   "outputs": [],
   "source": [
    "pm.get_dictionary(session)"
   ]
  },
  {
   "cell_type": "code",
   "execution_count": 32,
   "metadata": {},
   "outputs": [],
   "source": [
    "corpus = pm.get_corpus(session)"
   ]
  },
  {
   "cell_type": "code",
   "execution_count": 70,
   "metadata": {},
   "outputs": [],
   "source": [
    "session.rollback()"
   ]
  },
  {
   "cell_type": "code",
   "execution_count": 71,
   "metadata": {},
   "outputs": [],
   "source": [
    "session.close()"
   ]
  }
 ],
 "metadata": {
  "kernelspec": {
   "display_name": "astro202",
   "language": "python",
   "name": "astro2020"
  },
  "language_info": {
   "codemirror_mode": {
    "name": "ipython",
    "version": 3
   },
   "file_extension": ".py",
   "mimetype": "text/x-python",
   "name": "python",
   "nbconvert_exporter": "python",
   "pygments_lexer": "ipython3",
   "version": "3.7.6"
  },
  "pycharm": {
   "stem_cell": {
    "cell_type": "raw",
    "metadata": {
     "collapsed": false
    },
    "source": []
   }
  }
 },
 "nbformat": 4,
 "nbformat_minor": 4
}
