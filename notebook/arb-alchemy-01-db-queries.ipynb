{
 "cells": [
  {
   "cell_type": "code",
   "execution_count": 1,
   "metadata": {},
   "outputs": [
    {
     "name": "stderr",
     "output_type": "stream",
     "text": [
      "/Users/abuonomo/code/DataSquad/astro2020/venv/lib/python3.7/site-packages/tqdm/std.py:651: FutureWarning: The Panel class is removed from pandas. Accessing it from the top-level namespace will also be removed in the next version\n",
      "  from pandas import Panel\n",
      "WARNING:smart_open.transport:unable to import 'smart_open.gcs', disabling that module\n"
     ]
    }
   ],
   "source": [
    "import sys\n",
    "sys.path.append('../src')\n",
    "from db import *\n",
    "from sqlalchemy import func\n",
    "from sqlalchemy.orm import aliased\n",
    "import numpy as np\n",
    "from sqlalchemy import or_, and_"
   ]
  },
  {
   "cell_type": "code",
   "execution_count": 2,
   "metadata": {},
   "outputs": [],
   "source": [
    "db_loc = '../scratch/test.sqlite'"
   ]
  },
  {
   "cell_type": "code",
   "execution_count": 3,
   "metadata": {},
   "outputs": [],
   "source": [
    "engine = create_engine(f\"sqlite:///{db_loc}\")\n",
    "Session = sessionmaker(bind=engine)\n",
    "session = Session()"
   ]
  },
  {
   "cell_type": "code",
   "execution_count": 4,
   "metadata": {},
   "outputs": [],
   "source": [
    "# session.query(PaperKeywords).join(Paper).filter(PaperKeywords.raw_keyword == \"gamma\").all()"
   ]
  },
  {
   "cell_type": "code",
   "execution_count": 5,
   "metadata": {},
   "outputs": [],
   "source": [
    "year_counts = session.query(Paper.year, func.count(Paper.year)).group_by(Paper.year).all()"
   ]
  },
  {
   "cell_type": "code",
   "execution_count": 6,
   "metadata": {},
   "outputs": [
    {
     "data": {
      "text/plain": [
       "[(1996, 5),\n",
       " (1997, 5),\n",
       " (1998, 4),\n",
       " (1999, 11),\n",
       " (2000, 5),\n",
       " (2001, 4),\n",
       " (2002, 3),\n",
       " (2003, 9),\n",
       " (2004, 9),\n",
       " (2005, 7),\n",
       " (2006, 10),\n",
       " (2007, 7),\n",
       " (2008, 7),\n",
       " (2009, 9),\n",
       " (2010, 11)]"
      ]
     },
     "execution_count": 6,
     "metadata": {},
     "output_type": "execute_result"
    }
   ],
   "source": [
    "session.query(Keyword).filter(Keyword.keyword == \"black hole\").first().get_years(session)"
   ]
  },
  {
   "cell_type": "code",
   "execution_count": 7,
   "metadata": {},
   "outputs": [
    {
     "data": {
      "text/plain": [
       "[(1996, 2),\n",
       " (1997, 1),\n",
       " (1998, 2),\n",
       " (1999, 1),\n",
       " (2001, 6),\n",
       " (2002, 3),\n",
       " (2004, 3),\n",
       " (2005, 6),\n",
       " (2006, 1),\n",
       " (2007, 1),\n",
       " (2009, 1),\n",
       " (2010, 3)]"
      ]
     },
     "execution_count": 7,
     "metadata": {},
     "output_type": "execute_result"
    }
   ],
   "source": [
    "session.query(Paper.year, func.count(Paper.year)) \\\n",
    "    .join(PaperKeywords) \\\n",
    "    .join(Keyword) \\\n",
    "    .filter(Keyword.keyword.ilike('mars')) \\\n",
    "    .group_by(Paper.year) \\\n",
    "    .all()"
   ]
  },
  {
   "cell_type": "code",
   "execution_count": 8,
   "metadata": {},
   "outputs": [
    {
     "data": {
      "text/plain": [
       "\"Electromagnetic counterparts of compact object mergers powered by the radioactive decay of r-process nuclei. The most promising astrophysical sources of kHz gravitational waves (GWs) are the inspiral and merger of binary neutron star(NS)/black hole systems. Maximizing the scientific return of a GW detection will require identifying a coincident electromagnetic (EM) counterpart. One of the most likely sources of isotropic EM emission from compact object mergers is a supernova-like transient powered by the radioactive decay of heavy elements synthesized in ejecta from the merger. We present the first calculations of the optical transients from compact object mergers that self-consistently determine the radioactive heating by means of a nuclear reaction network; using this heating rate, we model the light curve with a one-dimensional Monte Carlo radiation transfer calculation. For an ejecta mass ~10-2Msolar (10-3Msolar) the resulting light-curve peaks on a time-scale ~1d at a V-band luminosity νLν ~ 3 × 1041 (1041)ergs-1 [MV = -15(-14)] this corresponds to an effective `f' parameter ~3 × 10-6 in the Li-Paczynski toy model. We argue that these results are relatively insensitive to uncertainties in the relevant nuclear physics and to the precise early-time dynamics and ejecta composition. Since NS merger transients peak at a luminosity that is a factor of ~103 higher than a typical nova, we propose naming these events `kilo-novae'. Because of the rapid evolution and low luminosity of NS merger transients, EM counterpart searches triggered by GW detections will require close collaboration between the GW and astronomical communities. NS merger transients may also be detectable following a short-duration gamma-ray burst or `blindly' with present or upcoming optical transient surveys. Because the emission produced by NS merger ejecta is powered by the formation of rare r-process elements, current optical transient surveys can directly constrain the unknown origin of the heaviest elements in the Universe.\""
      ]
     },
     "execution_count": 8,
     "metadata": {},
     "output_type": "execute_result"
    }
   ],
   "source": [
    "session.query(Keyword).filter(Keyword.keyword.ilike('universe'))[0].papers[1].paper.get_feature_text()"
   ]
  },
  {
   "cell_type": "code",
   "execution_count": 9,
   "metadata": {},
   "outputs": [],
   "source": [
    "paper_kwd = session.query(PaperKeywords).join(Keyword).filter(Keyword.keyword.ilike('black hole')).first()"
   ]
  },
  {
   "cell_type": "code",
   "execution_count": 10,
   "metadata": {},
   "outputs": [],
   "source": [
    "# q = (\n",
    "#     session.query(Paper).join(PaperKeywords).join(Keyword)\n",
    "#     .filter(\n",
    "#         or_(\n",
    "#             Paper.title.contains(paper_kwd.raw_keyword), \n",
    "#             Paper.abstract.contains(paper_kwd.raw_keyword)\n",
    "#         )\n",
    "#     )\n",
    "#     .filter(PaperKeywords != paper_kwd)\n",
    "# )"
   ]
  },
  {
   "cell_type": "code",
   "execution_count": 11,
   "metadata": {},
   "outputs": [],
   "source": [
    "# q.first().get_feature_text()"
   ]
  },
  {
   "cell_type": "code",
   "execution_count": 12,
   "metadata": {},
   "outputs": [],
   "source": [
    "# session.query(PaperKeywords)[0]"
   ]
  },
  {
   "cell_type": "code",
   "execution_count": 13,
   "metadata": {},
   "outputs": [],
   "source": [
    "# all_added = 0\n",
    "# for paper_kwd in session.query(PaperKeywords)[0:10]:\n",
    "#     added = 0\n",
    "#     q = (\n",
    "#         session.query(Paper).join(PaperKeywords)\n",
    "#         .filter(\n",
    "#             or_(\n",
    "#                 Paper.title.contains(paper_kwd.raw_keyword), \n",
    "#                 Paper.abstract.contains(paper_kwd.raw_keyword)\n",
    "#             )\n",
    "#         )\n",
    "#         .filter(PaperKeywords != paper_kwd)\n",
    "#     )\n",
    "#     papers = q.all()\n",
    "#     print(len(papers))\n",
    "#     for p in papers:\n",
    "#         if paper_kwd.keyword not in [pk.keyword for pk in p.keywords]:\n",
    "#             with session.no_autoflush:\n",
    "#                 assoc = PaperKeywords(raw_keyword=paper_kwd.raw_keyword, score=np.nan)\n",
    "#                 assoc.keyword = paper_kwd.keyword\n",
    "#                 p.keywords.append(assoc)\n",
    "#             added += 1\n",
    "#     print(added)"
   ]
  },
  {
   "cell_type": "code",
   "execution_count": 14,
   "metadata": {},
   "outputs": [
    {
     "name": "stdout",
     "output_type": "stream",
     "text": [
      "<PaperKeywords(paper_bibcode=\"2010AJ....140.1868W\", keyword.keyword=\"sky survey\")>\n"
     ]
    }
   ],
   "source": [
    "paper_kwd = session.query(PaperKeywords)[0]\n",
    "print(paper_kwd)"
   ]
  },
  {
   "cell_type": "code",
   "execution_count": 15,
   "metadata": {},
   "outputs": [],
   "source": [
    "# session.query(PaperKeywords).join(Keyword).filter(Keyword.keyword == \"black hole\").all()"
   ]
  },
  {
   "cell_type": "code",
   "execution_count": 16,
   "metadata": {},
   "outputs": [
    {
     "name": "stdout",
     "output_type": "stream",
     "text": [
      "<PaperKeywords(paper_bibcode=\"2010MNRAS.409..531R\", keyword.keyword=\"black hole\")>\n"
     ]
    }
   ],
   "source": [
    "paper_kwd = session.query(PaperKeywords).join(Keyword).filter(Keyword.keyword == \"black hole\")[0]\n",
    "print(paper_kwd)"
   ]
  },
  {
   "cell_type": "code",
   "execution_count": 52,
   "metadata": {},
   "outputs": [
    {
     "name": "stdout",
     "output_type": "stream",
     "text": [
      "935\n"
     ]
    }
   ],
   "source": [
    "print(paper_kwd.keyword_id)"
   ]
  },
  {
   "cell_type": "code",
   "execution_count": 115,
   "metadata": {},
   "outputs": [],
   "source": [
    "q = (\n",
    "    session.query(PaperKeywords)\n",
    "    .join(Paper)\n",
    "    .filter(PaperKeywords.keyword_id != paper_kwd.keyword_id)\n",
    "    .filter(or_(Paper.title.contains(paper_kwd.raw_keyword), Paper.abstract.contains(paper_kwd.raw_keyword)))\n",
    ")"
   ]
  },
  {
   "cell_type": "code",
   "execution_count": 116,
   "metadata": {},
   "outputs": [
    {
     "data": {
      "text/plain": [
       "28884"
      ]
     },
     "execution_count": 116,
     "metadata": {},
     "output_type": "execute_result"
    }
   ],
   "source": [
    "q.count()"
   ]
  },
  {
   "cell_type": "code",
   "execution_count": 46,
   "metadata": {},
   "outputs": [],
   "source": [
    "bibs = [r.bibcode for r in q.all()]"
   ]
  },
  {
   "cell_type": "code",
   "execution_count": 47,
   "metadata": {},
   "outputs": [],
   "source": [
    "# bibs"
   ]
  },
  {
   "cell_type": "code",
   "execution_count": 106,
   "metadata": {},
   "outputs": [],
   "source": [
    "q2 = (\n",
    "    session.query(PaperKeywords)\n",
    "    .join(Paper)\n",
    "#     .filter(PaperKeywords.keyword_id != paper_kwd.keyword_id)\n",
    "    .filter(or_(Paper.abstract.contains(paper_kwd.raw_keyword), Paper.title.contains(paper_kwd.raw_keyword)))\n",
    ")"
   ]
  },
  {
   "cell_type": "code",
   "execution_count": 107,
   "metadata": {},
   "outputs": [
    {
     "name": "stdout",
     "output_type": "stream",
     "text": [
      "SELECT paper_keywords.paper_bibcode AS paper_keywords_paper_bibcode, paper_keywords.keyword_id AS paper_keywords_keyword_id, paper_keywords.score AS paper_keywords_score, paper_keywords.raw_keyword AS paper_keywords_raw_keyword \n",
      "FROM paper_keywords JOIN papers ON papers.bibcode = paper_keywords.paper_bibcode \n",
      "WHERE (papers.abstract LIKE '%' || ? || '%') OR (papers.title LIKE '%' || ? || '%')\n"
     ]
    }
   ],
   "source": [
    "print(q2)"
   ]
  },
  {
   "cell_type": "code",
   "execution_count": 108,
   "metadata": {},
   "outputs": [
    {
     "data": {
      "text/plain": [
       "28990"
      ]
     },
     "execution_count": 108,
     "metadata": {},
     "output_type": "execute_result"
    }
   ],
   "source": [
    "q2.count()"
   ]
  },
  {
   "cell_type": "code",
   "execution_count": 96,
   "metadata": {},
   "outputs": [
    {
     "data": {
      "text/plain": [
       "647"
      ]
     },
     "execution_count": 96,
     "metadata": {},
     "output_type": "execute_result"
    }
   ],
   "source": [
    "len(q2.all())"
   ]
  },
  {
   "cell_type": "code",
   "execution_count": 49,
   "metadata": {},
   "outputs": [],
   "source": [
    "bibs2 = [r.bibcode for r in q2.all()]"
   ]
  },
  {
   "cell_type": "code",
   "execution_count": 50,
   "metadata": {},
   "outputs": [
    {
     "data": {
      "text/plain": [
       "106"
      ]
     },
     "execution_count": 50,
     "metadata": {},
     "output_type": "execute_result"
    }
   ],
   "source": [
    "len(set(bibs2).intersection(set(bibs)))"
   ]
  },
  {
   "cell_type": "code",
   "execution_count": 51,
   "metadata": {},
   "outputs": [
    {
     "data": {
      "text/plain": [
       "106"
      ]
     },
     "execution_count": 51,
     "metadata": {},
     "output_type": "execute_result"
    }
   ],
   "source": [
    "len(bibs2)"
   ]
  },
  {
   "cell_type": "code",
   "execution_count": null,
   "metadata": {},
   "outputs": [],
   "source": []
  },
  {
   "cell_type": "code",
   "execution_count": 29,
   "metadata": {},
   "outputs": [],
   "source": [
    "session.rollback()"
   ]
  },
  {
   "cell_type": "code",
   "execution_count": null,
   "metadata": {},
   "outputs": [],
   "source": []
  },
  {
   "cell_type": "code",
   "execution_count": 51,
   "metadata": {},
   "outputs": [
    {
     "data": {
      "text/plain": [
       "<Keyword(keyword=\"black hole\")>"
      ]
     },
     "execution_count": 51,
     "metadata": {},
     "output_type": "execute_result"
    }
   ],
   "source": [
    "paper_kwd.keyword"
   ]
  },
  {
   "cell_type": "code",
   "execution_count": 116,
   "metadata": {},
   "outputs": [
    {
     "data": {
      "text/plain": [
       "321083"
      ]
     },
     "execution_count": 116,
     "metadata": {},
     "output_type": "execute_result"
    }
   ],
   "source": [
    "session.query(Paper).join(PaperKeywords).join(Keyword).filter(Keyword.keyword != \"black hole\").count()"
   ]
  },
  {
   "cell_type": "code",
   "execution_count": 105,
   "metadata": {},
   "outputs": [],
   "source": [
    "q = (\n",
    "    session.query(Paper).join(PaperKeywords).join(Keyword)\n",
    "    .filter(\n",
    "        or_(\n",
    "            Paper.title.contains(paper_kwd.raw_keyword), \n",
    "            Paper.abstract.contains(paper_kwd.raw_keyword)\n",
    "        )\n",
    "    )\n",
    "#     .filter(Keyword.id != paper_kwd.keyword.id)\n",
    ")"
   ]
  },
  {
   "cell_type": "code",
   "execution_count": 107,
   "metadata": {},
   "outputs": [
    {
     "data": {
      "text/plain": [
       "647"
      ]
     },
     "execution_count": 107,
     "metadata": {},
     "output_type": "execute_result"
    }
   ],
   "source": [
    "len(q.all())"
   ]
  },
  {
   "cell_type": "code",
   "execution_count": 112,
   "metadata": {},
   "outputs": [
    {
     "ename": "AttributeError",
     "evalue": "'Session' object has no attribute 'insert'",
     "output_type": "error",
     "traceback": [
      "\u001b[0;31m---------------------------------------------------------------------------\u001b[0m",
      "\u001b[0;31mAttributeError\u001b[0m                            Traceback (most recent call last)",
      "\u001b[0;32m<ipython-input-112-731e7b228469>\u001b[0m in \u001b[0;36m<module>\u001b[0;34m\u001b[0m\n\u001b[0;32m----> 1\u001b[0;31m \u001b[0msession\u001b[0m\u001b[0;34m.\u001b[0m\u001b[0minsert\u001b[0m\u001b[0;34m(\u001b[0m\u001b[0mPaper\u001b[0m\u001b[0;34m)\u001b[0m\u001b[0;34m\u001b[0m\u001b[0;34m\u001b[0m\u001b[0m\n\u001b[0m",
      "\u001b[0;31mAttributeError\u001b[0m: 'Session' object has no attribute 'insert'"
     ]
    }
   ],
   "source": [
    "session.insert(Paper)"
   ]
  },
  {
   "cell_type": "code",
   "execution_count": 120,
   "metadata": {},
   "outputs": [
    {
     "data": {
      "text/plain": [
       "<sqlalchemy.orm.query.Query at 0x1409e0410>"
      ]
     },
     "execution_count": 120,
     "metadata": {},
     "output_type": "execute_result"
    }
   ],
   "source": [
    "session.query(Paper).join(PaperKeywords).join(Keyword)"
   ]
  },
  {
   "cell_type": "code",
   "execution_count": 6,
   "metadata": {},
   "outputs": [],
   "source": [
    "# added = 0\n",
    "# for paper_kwd in session.query(PaperKeywords)[0:10]:\n",
    "#     print(paper_kwd)\n",
    "#     q = (\n",
    "#         session.query(Paper).join(PaperKeywords).join(Keyword)\n",
    "#         .filter(\n",
    "#             or_(\n",
    "#                 Paper.title.contains(paper_kwd.raw_keyword), \n",
    "#                 Paper.abstract.contains(paper_kwd.raw_keyword)\n",
    "#             )\n",
    "#         )\n",
    "#         .filter(Keyword.id != paper_kwd.keyword.id)\n",
    "#     )\n",
    "#     papers = q.all()\n",
    "#     print(len(papers))\n",
    "#     for p in papers:\n",
    "# #         if paper_kwd.keyword not in [pk.keyword for pk in p.keywords]:\n",
    "#         with session.no_autoflush:\n",
    "#             assoc = PaperKeywords(raw_keyword=paper_kwd.raw_keyword, score=np.nan)\n",
    "#             print()\n",
    "# #             assoc.keyword = paper_kwd.keyword\n",
    "# #             p.keywords.append(assoc)\n",
    "#             import ipdb; ipdb.set_trace()\n",
    "#         added += 1"
   ]
  },
  {
   "cell_type": "code",
   "execution_count": 14,
   "metadata": {},
   "outputs": [
    {
     "data": {
      "text/plain": [
       "573"
      ]
     },
     "execution_count": 14,
     "metadata": {},
     "output_type": "execute_result"
    }
   ],
   "source": [
    "added"
   ]
  },
  {
   "cell_type": "code",
   "execution_count": 5,
   "metadata": {},
   "outputs": [],
   "source": [
    "session.rollback()\n",
    "# session.close()"
   ]
  },
  {
   "cell_type": "code",
   "execution_count": 71,
   "metadata": {},
   "outputs": [
    {
     "data": {
      "text/plain": [
       "('2010MNRAS.409..531R')"
      ]
     },
     "execution_count": 71,
     "metadata": {},
     "output_type": "execute_result"
    }
   ],
   "source": [
    "q.first()"
   ]
  },
  {
   "cell_type": "code",
   "execution_count": 52,
   "metadata": {},
   "outputs": [],
   "source": [
    "KeywordAlias = aliased(Keyword)\n",
    "q = (\n",
    " session.query(Keyword, func.count(Keyword.id))\n",
    "    .join(PaperKeywords)\n",
    "    .join(Paper)\n",
    "    .group_by(Keyword.id)\n",
    "#     .filter(Paper.year == 2010)\n",
    "    .order_by(func.count(Keyword.id).desc())\n",
    "    .having(func.count() > 10)\n",
    "    .having(funct.count() < )\n",
    ")"
   ]
  },
  {
   "cell_type": "code",
   "execution_count": 50,
   "metadata": {},
   "outputs": [
    {
     "name": "stdout",
     "output_type": "stream",
     "text": [
      "SELECT keywords.id AS keywords_id, keywords.keyword AS keywords_keyword, count(keywords.id) AS count_1 \n",
      "FROM keywords JOIN paper_keywords ON keywords.id = paper_keywords.keyword_id JOIN papers ON papers.bibcode = paper_keywords.paper_bibcode GROUP BY keywords.id \n",
      "HAVING count(*) > ? ORDER BY count(keywords.id) DESC\n"
     ]
    }
   ],
   "source": [
    "print(q)"
   ]
  },
  {
   "cell_type": "code",
   "execution_count": 51,
   "metadata": {},
   "outputs": [
    {
     "data": {
      "text/plain": [
       "3225"
      ]
     },
     "execution_count": 51,
     "metadata": {},
     "output_type": "execute_result"
    }
   ],
   "source": [
    "q.count()"
   ]
  },
  {
   "cell_type": "code",
   "execution_count": 11,
   "metadata": {},
   "outputs": [
    {
     "data": {
      "text/plain": [
       "7245"
      ]
     },
     "execution_count": 11,
     "metadata": {},
     "output_type": "execute_result"
    }
   ],
   "source": [
    "session.query(Paper).count()"
   ]
  },
  {
   "cell_type": "code",
   "execution_count": 37,
   "metadata": {},
   "outputs": [],
   "source": [
    "# q[0:100]"
   ]
  },
  {
   "cell_type": "code",
   "execution_count": 12,
   "metadata": {},
   "outputs": [],
   "source": [
    "tokens = ([pk.keyword.keyword for pk in paper.keywords] for paper in session.query(Paper).all())"
   ]
  },
  {
   "cell_type": "code",
   "execution_count": 14,
   "metadata": {},
   "outputs": [],
   "source": [
    "nlp = get_spacy_nlp()"
   ]
  },
  {
   "cell_type": "code",
   "execution_count": 22,
   "metadata": {},
   "outputs": [],
   "source": [
    "pm = PaperMiner(nlp)"
   ]
  },
  {
   "cell_type": "code",
   "execution_count": 23,
   "metadata": {},
   "outputs": [],
   "source": [
    "pm.get_dictionary(session)"
   ]
  },
  {
   "cell_type": "code",
   "execution_count": 32,
   "metadata": {},
   "outputs": [],
   "source": [
    "corpus = pm.get_corpus(session)"
   ]
  },
  {
   "cell_type": "code",
   "execution_count": 70,
   "metadata": {},
   "outputs": [],
   "source": [
    "session.rollback()"
   ]
  },
  {
   "cell_type": "code",
   "execution_count": 71,
   "metadata": {},
   "outputs": [],
   "source": [
    "session.close()"
   ]
  }
 ],
 "metadata": {
  "kernelspec": {
   "display_name": "astro202",
   "language": "python",
   "name": "astro2020"
  },
  "language_info": {
   "codemirror_mode": {
    "name": "ipython",
    "version": 3
   },
   "file_extension": ".py",
   "mimetype": "text/x-python",
   "name": "python",
   "nbconvert_exporter": "python",
   "pygments_lexer": "ipython3",
   "version": "3.7.6"
  }
 },
 "nbformat": 4,
 "nbformat_minor": 4
}
