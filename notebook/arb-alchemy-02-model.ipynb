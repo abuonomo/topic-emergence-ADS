{
 "cells": [
  {
   "cell_type": "code",
   "execution_count": 1,
   "metadata": {},
   "outputs": [],
   "source": [
    "import sys\n",
    "sys.path.append(\"../src\")"
   ]
  },
  {
   "cell_type": "code",
   "execution_count": 2,
   "metadata": {},
   "outputs": [
    {
     "name": "stderr",
     "output_type": "stream",
     "text": [
      "/Users/abuonomo/code/DataSquad/astro2020/venv/lib/python3.7/site-packages/_pytest/mark/structures.py:380: DeprecationWarning: The usage of `cmp` is deprecated and will be removed on or after 2021-06-01.  Please use `eq` and `order` instead.\n",
      "  @attr.s(cmp=False, hash=False)\n"
     ]
    }
   ],
   "source": [
    "from pathlib import Path\n",
    "from collections import defaultdict\n",
    "\n",
    "from gensim.corpora import MmCorpus, Dictionary\n",
    "from gensim.models.ldamodel import LdaModel\n",
    "import h5py\n",
    "\n",
    "from sqlalchemy import Column, Integer, String, ForeignKey, Boolean, Float\n",
    "from sqlalchemy import create_engine, func\n",
    "from sqlalchemy.ext.declarative import declarative_base\n",
    "from sqlalchemy.orm import relationship\n",
    "from sqlalchemy.orm import sessionmaker\n",
    "\n",
    "from tqdm.notebook import tqdm\n",
    "import numpy as np\n",
    "import pandas as pd\n",
    "import pyLDAvis.gensim"
   ]
  },
  {
   "cell_type": "code",
   "execution_count": 3,
   "metadata": {},
   "outputs": [
    {
     "name": "stderr",
     "output_type": "stream",
     "text": [
      "/Users/abuonomo/code/DataSquad/astro2020/venv/lib/python3.7/site-packages/nltk/decorators.py:68: DeprecationWarning: `formatargspec` is deprecated since Python 3.5. Use `signature` and the `Signature` object directly\n",
      "  regargs, varargs, varkwargs, defaults, formatvalue=lambda value: \"\"\n",
      "/Users/abuonomo/code/DataSquad/astro2020/venv/lib/python3.7/site-packages/nltk/lm/counter.py:15: DeprecationWarning: Using or importing the ABCs from 'collections' instead of from 'collections.abc' is deprecated since Python 3.3,and in 3.9 it will stop working\n",
      "  from collections import Sequence, defaultdict\n",
      "/Users/abuonomo/code/DataSquad/astro2020/venv/lib/python3.7/site-packages/tqdm/std.py:651: FutureWarning: The Panel class is removed from pandas. Accessing it from the top-level namespace will also be removed in the next version\n",
      "  from pandas import Panel\n"
     ]
    }
   ],
   "source": [
    "import db"
   ]
  },
  {
   "cell_type": "code",
   "execution_count": 4,
   "metadata": {},
   "outputs": [
    {
     "data": {
      "text/plain": [
       "<module 'db' from '../src/db.py'>"
      ]
     },
     "execution_count": 4,
     "metadata": {},
     "output_type": "execute_result"
    }
   ],
   "source": [
    "import imp; imp.reload(db)"
   ]
  },
  {
   "cell_type": "code",
   "execution_count": 5,
   "metadata": {},
   "outputs": [],
   "source": [
    "# prepared_data_dir = Path(\"../scratch/prepared_data/\")\n",
    "\n",
    "# # corpus = MmCorpus('../scratch/prepared_data/corpus.mm')\n",
    "# # dictionary = Dictionary.load(\"../scratch/prepared_data/dct.mm\")\n",
    "# corpus, dictionary, corp2paper, dct2kwd = db.read_from_prepared_data(prepared_data_dir)\n",
    "# mdir = Path('../scratch/tmodels/')\n",
    "# n_topics = 20\n",
    "# tmodel_loc = mdir / f'topic_model{n_topics}'\n",
    "\n",
    "# lda_model = LdaModel.load(str(tmodel_loc))\n",
    "# tm = db.TopicModeler(dictionary, corpus)\n",
    "# embedding = tm.get_inference(lda_model)\n",
    "# coh_per_topic = tm.get_coherence_model(lda_model).get_coherence_per_topic()\n",
    "\n",
    "# viz_data = pyLDAvis.gensim.prepare(lda_model, tm.corpus, tm.dictionary, doc_topic_dist=np.matrix(embedding), sort_topics=False, mds=\"mmds\", start_index=0)\n",
    "\n",
    "# # pyLDAvis.save_html(viz_data, str(viz_loc))\n",
    "\n",
    "# db_loc = '../scratch/test.sqlite'\n",
    "\n",
    "\n",
    "# corp2paper_dct = {c: p for c, p in corp2paper}\n",
    "# dct2kwd_dct = {d: k for d, k in dct2kwd}\n",
    "\n",
    "# corpus_inds, paper_inds = zip(*corp2paper)\n",
    "\n",
    "# # engine = create_engine(f\"sqlite:///{db_loc}\")\n",
    "# # Session = sessionmaker(bind=engine)\n",
    "# # session = Session()\n",
    "\n",
    "# # session.query(db.Paper.id).count()\n",
    "# # paper2bibcodeode = session.query(db.Paper.id, db.Paper.bibcode).all()\n",
    "\n",
    "# # q = (\n",
    "# #     session.query(db.Paper.bibcode)\n",
    "# #     .filter(db.Paper.id.in_([p for _, p in corp2paper]))\n",
    "# # )\n",
    "# # bibs = [q[0] for q in q.all()]\n",
    "\n",
    "# # bibs = [[c, paper2bibcode_dct[p]] for c, p in corp2paper]\n",
    "\n",
    "# # bibs = [paper2bibcode_dct[p] for c, p in corp2paper]\n",
    "\n",
    "# embedding_df = pd.DataFrame(embedding)\n",
    "# embedding_df.index = paper_inds\n",
    "\n",
    "# db_loc = '../scratch/test.sqlite'\n",
    "\n",
    "# embedding_df\n",
    "\n",
    "# engine = create_engine(f\"sqlite:///{db_loc}\")\n",
    "# Session = sessionmaker(bind=engine)\n",
    "# session = Session()\n",
    "\n",
    "# session.query(db.Paper.id).count()\n",
    "# # paper2bibcode = session.query(db.Paper.id, db.Paper.bibcode).all()\n",
    "\n",
    "# st = session.query(db.Paper.id, db.Paper.bibcode, db.Paper.year).statement\n",
    "\n",
    "# viz_data[2].to_hdf('test.hdf', key='kwd2topic')\n",
    "\n",
    "# pd.read_sql(st, con=engine).to_hdf('test.hdf', key='id2bibcode2year', format='table')\n",
    "\n",
    "# embedding_df.to_hdf('test.hdf', key='embedding')\n",
    "\n",
    "# pd.read_hdf('test.hdf', key='embedding')"
   ]
  },
  {
   "cell_type": "code",
   "execution_count": 6,
   "metadata": {},
   "outputs": [],
   "source": [
    "# with h5py.File('test.hdf', 'r') as f0:\n",
    "#     print(f0['id2bibcode2year'].keys())\n",
    "#     pby = f0['id2bibcode2year']['table'][:]\n",
    "#     pby2 = f0['id2bibcode2year']['_i_table']\n",
    "#     print(pby2['index'])\n",
    "#     print(pby['table'][:])"
   ]
  },
  {
   "cell_type": "code",
   "execution_count": 7,
   "metadata": {},
   "outputs": [],
   "source": [
    "# pby\n",
    "\n",
    "# pby[]"
   ]
  },
  {
   "cell_type": "code",
   "execution_count": 8,
   "metadata": {},
   "outputs": [],
   "source": [
    "# pby.name\n",
    "\n",
    "# pd.read_hdf('test.hdf', key='id2bibcode2year')"
   ]
  },
  {
   "cell_type": "markdown",
   "metadata": {},
   "source": [
    "# Get Keyword Time Series as well"
   ]
  },
  {
   "cell_type": "markdown",
   "metadata": {},
   "source": [
    "# Get Topic Years"
   ]
  },
  {
   "cell_type": "code",
   "execution_count": 9,
   "metadata": {},
   "outputs": [],
   "source": [
    "from tsfresh import extract_features\n",
    "import numpy as np"
   ]
  },
  {
   "cell_type": "code",
   "execution_count": 10,
   "metadata": {},
   "outputs": [],
   "source": [
    "thresh = 0.3\n",
    "\n",
    "year_min = 1997\n",
    "year_max = 2010"
   ]
  },
  {
   "cell_type": "code",
   "execution_count": 12,
   "metadata": {},
   "outputs": [],
   "source": [
    "# get all papers to years and keep in memory. Filter on the fly"
   ]
  },
  {
   "cell_type": "code",
   "execution_count": 13,
   "metadata": {},
   "outputs": [],
   "source": [
    "vis_data_loc = '../scratch/vis_data.hdf5'\n",
    "\n",
    "with h5py.File(vis_data_loc, 'r') as f0:\n",
    "    embedding = f0['embedding'][:]\n",
    "    topic_coherences = f0['topic_coherences'][:]\n",
    "    paper_inds = f0['paper_inds'][:]\n",
    "#         f0.create_dataset(\"embedding\", dtype=np.float, data=embedding)\n",
    "#     f0.create_dataset(\"topic_coherences\", dtype=np.float, data=coh_per_topic)\n",
    "#     f0.create_dataset(\"paper_inds\", dtype=np.int, data=paper_inds)\n",
    "pyLDAvis_features = pd.read_hdf(vis_data_loc, key='pyLDAvis_features')\n",
    "pby = pd.read_hdf(vis_data_loc, key='paper2bibcode2year')\n",
    "\n",
    "embedding_df = pd.DataFrame(embedding)\n",
    "embedding_df.index = paper_inds\n",
    "\n",
    "all_time_series = []\n",
    "for topic in tqdm(embedding_df.columns):\n",
    "    ids_in_topic = embedding_df.index[embedding_df.loc[:, topic] > thresh].tolist() # function to include options with argmax as well?\n",
    "    year_counts = pby.loc[(pby['id'].isin(ids_in_topic)) & (pby['year'] >= year_min) & (pby['year'] <= year_max)].groupby('year').count()['id']\n",
    "    year_counts = year_counts.reset_index().to_records()\n",
    "    ycd = defaultdict(int, {y:c for _, y, c in year_counts})\n",
    "    topic_time_series = [{\"topic\": topic, \"year\": y, \"count\": ycd[y]} for y in range(year_min, year_max)]\n",
    "    all_time_series = all_time_series + topic_time_series\n",
    "\n",
    "ts_df_long = pd.DataFrame(all_time_series)\n",
    "ts_df = ts_df_long.pivot(index='topic', columns=\"year\", values=\"count\")\n",
    "\n",
    "features_df = extract_features(ts_df_long, column_id='topic', column_sort='year')\n",
    "features_df['coherence_score'] = topic_coherences\n",
    "\n",
    "def cagr(x_row):\n",
    "    x = x_row.values\n",
    "    nz_inds = np.nonzero(x)[0]\n",
    "    if len(nz_inds) == 0:  # If all are 0, set CAGR to 0\n",
    "        return 0\n",
    "    else:\n",
    "        first_nonzero_index = nz_inds[0]\n",
    "        x = x[first_nonzero_index:]  # Not valid if starts with 0. Becomes inf\n",
    "        x = x[~np.isnan(x)]  # For normalized time series, NaNs before any occurrence of kwd\n",
    "    if len(x) < 2:  # If no periods, set CAGR to 0\n",
    "        return 0\n",
    "    else:\n",
    "        ys = x_row.index\n",
    "        period = max(ys) - min(ys)\n",
    "        return (x[-1] / x[0]) ** (1 / period) - 1\n",
    "\n",
    "features_df['CAGR'] = ts_df.apply(cagr, axis=1)"
   ]
  },
  {
   "cell_type": "code",
   "execution_count": 52,
   "metadata": {
    "collapsed": true,
    "jupyter": {
     "outputs_hidden": true
    }
   },
   "outputs": [
    {
     "name": "stderr",
     "output_type": "stream",
     "text": [
      "/Users/abuonomo/code/DataSquad/astro2020/venv/lib/python3.7/site-packages/ipyvolume/transferfunction.py:46: DeprecationWarning: Traits should be given as instances, not types (for example, `Int()`, not `Int`). Passing types is deprecated in traitlets 4.1.\n",
      "  levels = traitlets.List(traitlets.CFloat, default_value=[0.1, 0.5, 0.8]).tag(sync=True)\n",
      "/Users/abuonomo/code/DataSquad/astro2020/venv/lib/python3.7/site-packages/ipyvolume/transferfunction.py:47: DeprecationWarning: Traits should be given as instances, not types (for example, `Int()`, not `Int`). Passing types is deprecated in traitlets 4.1.\n",
      "  opacities = traitlets.List(traitlets.CFloat, default_value=[0.01, 0.05, 0.1]).tag(sync=True)\n",
      "/Users/abuonomo/code/DataSquad/astro2020/venv/lib/python3.7/site-packages/ipyvolume/transferfunction.py:48: DeprecationWarning: Traits should be given as instances, not types (for example, `Int()`, not `Int`). Passing types is deprecated in traitlets 4.1.\n",
      "  widths = traitlets.List(traitlets.CFloat, default_value=[0.1, 0.1, 0.1]).tag(sync=True)\n",
      "/Users/abuonomo/code/DataSquad/astro2020/venv/lib/python3.7/site-packages/ipyvolume/widgets.py:43: DeprecationWarning: Traits should be given as instances, not types (for example, `Int()`, not `Int`). Passing types is deprecated in traitlets 4.1.\n",
      "  traitlets.List(Unicode, [], allow_none=True),\n",
      "/Users/abuonomo/code/DataSquad/astro2020/venv/lib/python3.7/site-packages/ipyvolume/widgets.py:102: DeprecationWarning: Traits should be given as instances, not types (for example, `Int()`, not `Int`). Passing types is deprecated in traitlets 4.1.\n",
      "  traitlets.List(Unicode, [], allow_none=True),\n",
      "/Users/abuonomo/code/DataSquad/astro2020/venv/lib/python3.7/site-packages/ipyvolume/widgets.py:213: DeprecationWarning: Traits should be given as instances, not types (for example, `Int()`, not `Int`). Passing types is deprecated in traitlets 4.1.\n",
      "  camera_center = traitlets.List(traitlets.CFloat, default_value=[0, 0, 0]).tag(sync=True)\n",
      "/Users/abuonomo/code/DataSquad/astro2020/venv/lib/python3.7/site-packages/ipyvolume/widgets.py:239: DeprecationWarning: Traits should be given as instances, not types (for example, `Int()`, not `Int`). Passing types is deprecated in traitlets 4.1.\n",
      "  xlim = traitlets.List(traitlets.CFloat, default_value=[0, 1], minlen=2, maxlen=2).tag(sync=True)\n",
      "/Users/abuonomo/code/DataSquad/astro2020/venv/lib/python3.7/site-packages/ipyvolume/widgets.py:240: DeprecationWarning: Traits should be given as instances, not types (for example, `Int()`, not `Int`). Passing types is deprecated in traitlets 4.1.\n",
      "  ylim = traitlets.List(traitlets.CFloat, default_value=[0, 1], minlen=2, maxlen=2).tag(sync=True)\n",
      "/Users/abuonomo/code/DataSquad/astro2020/venv/lib/python3.7/site-packages/ipyvolume/widgets.py:241: DeprecationWarning: Traits should be given as instances, not types (for example, `Int()`, not `Int`). Passing types is deprecated in traitlets 4.1.\n",
      "  zlim = traitlets.List(traitlets.CFloat, default_value=[0, 1], minlen=2, maxlen=2).tag(sync=True)\n",
      "/Users/abuonomo/code/DataSquad/astro2020/venv/lib/python3.7/site-packages/ipyvolume/widgets.py:243: DeprecationWarning: Traits should be given as instances, not types (for example, `Int()`, not `Int`). Passing types is deprecated in traitlets 4.1.\n",
      "  matrix_projection = traitlets.List(traitlets.CFloat, default_value=[0] * 16, allow_none=True, minlen=16, maxlen=16).tag(sync=True)\n",
      "/Users/abuonomo/code/DataSquad/astro2020/venv/lib/python3.7/site-packages/ipyvolume/widgets.py:244: DeprecationWarning: Traits should be given as instances, not types (for example, `Int()`, not `Int`). Passing types is deprecated in traitlets 4.1.\n",
      "  matrix_world = traitlets.List(traitlets.CFloat, default_value=[0] * 16, allow_none=True, minlen=16, maxlen=16).tag(sync=True)\n"
     ]
    }
   ],
   "source": [
    "import dtw_time_analysis as dtw\n",
    "import imp; imp.reload(dtw)\n",
    "from analyze_keyword_time_series import yellow_plot_kmd"
   ]
  },
  {
   "cell_type": "code",
   "execution_count": 53,
   "metadata": {},
   "outputs": [
    {
     "name": "stderr",
     "output_type": "stream",
     "text": [
      "INFO:dtw_time_analysis:Computing dynamic time warping between keywords.\n",
      "INFO:dtw_time_analysis:window: 1.\n"
     ]
    }
   ],
   "source": [
    "dtw_df = dtw.dtw_kwds(ts_df)"
   ]
  },
  {
   "cell_type": "code",
   "execution_count": 55,
   "metadata": {},
   "outputs": [
    {
     "name": "stderr",
     "output_type": "stream",
     "text": [
      "INFO:analyze_keyword_time_series:Trying kmeans n_clusters from 2 to 20\n",
      "INFO:analyze_keyword_time_series:Writing elbow to None.\n"
     ]
    },
    {
     "data": {
      "image/png": "[encoded data removed]",
      "text/plain": [
       "<Figure size 576x396 with 2 Axes>"
      ]
     },
     "metadata": {},
     "output_type": "display_data"
    }
   ],
   "source": [
    "visualizer = yellow_plot_kmd(dtw_df)"
   ]
  },
  {
   "cell_type": "code",
   "execution_count": 56,
   "metadata": {},
   "outputs": [],
   "source": [
    "from analyze_keyword_time_series import dtw_to_tboard, dtw_to_manifold"
   ]
  },
  {
   "cell_type": "code",
   "execution_count": 57,
   "metadata": {},
   "outputs": [],
   "source": [
    "n_clusters = visualizer.elbow_value_"
   ]
  },
  {
   "cell_type": "code",
   "execution_count": 58,
   "metadata": {},
   "outputs": [
    {
     "name": "stderr",
     "output_type": "stream",
     "text": [
      "INFO:analyze_keyword_time_series:Performing kmeans with 8 clusters.\n",
      "INFO:analyze_keyword_time_series:Computing tsne manifold.\n"
     ]
    },
    {
     "data": {
      "image/png": "[encoded data removed]",
      "text/plain": [
       "<Figure size 576x396 with 1 Axes>"
      ]
     },
     "metadata": {},
     "output_type": "display_data"
    }
   ],
   "source": [
    "kmeans = dtw_to_tboard(ts_df, dtw_df, c=n_clusters)  # c taken from elbow viz\n",
    "dtw_man = dtw_to_manifold(dtw_df)"
   ]
  },
  {
   "cell_type": "code",
   "execution_count": 59,
   "metadata": {},
   "outputs": [
    {
     "data": {
      "text/plain": [
       "array([[ 247.25104 ,  -90.13529 ],\n",
       "       [-436.23248 ,  190.75902 ],\n",
       "       [ 486.12115 , -134.1303  ],\n",
       "       [-210.49738 ,  104.46882 ],\n",
       "       [ 145.43713 ,  332.59753 ],\n",
       "       [ 243.33751 ,  125.321785],\n",
       "       [-350.5686  , -340.42874 ],\n",
       "       [ 485.4688  ,  122.518456],\n",
       "       [ 381.85147 ,  378.73666 ],\n",
       "       [  12.842705, -110.08366 ],\n",
       "       [ 139.81805 , -293.2926  ],\n",
       "       [-289.07437 ,  418.29407 ],\n",
       "       [ -85.189125,  294.80228 ],\n",
       "       [  65.232346, -531.4616  ],\n",
       "       [   8.207455,  541.28815 ],\n",
       "       [-104.932335, -340.7562  ],\n",
       "       [-204.72101 , -115.0054  ],\n",
       "       [  22.947538,   97.1475  ],\n",
       "       [-446.21582 ,  -73.40713 ],\n",
       "       [ 366.99673 , -374.63455 ]], dtype=float32)"
      ]
     },
     "execution_count": 59,
     "metadata": {},
     "output_type": "execute_result"
    }
   ],
   "source": [
    "dtw_man # add manifold points to features dataframe"
   ]
  },
  {
   "cell_type": "code",
   "execution_count": null,
   "metadata": {},
   "outputs": [],
   "source": []
  }
 ],
 "metadata": {
  "kernelspec": {
   "display_name": "astro202",
   "language": "python",
   "name": "astro2020"
  },
  "language_info": {
   "codemirror_mode": {
    "name": "ipython",
    "version": 3
   },
   "file_extension": ".py",
   "mimetype": "text/x-python",
   "name": "python",
   "nbconvert_exporter": "python",
   "pygments_lexer": "ipython3",
   "version": "3.7.6"
  }
 },
 "nbformat": 4,
 "nbformat_minor": 4
}
