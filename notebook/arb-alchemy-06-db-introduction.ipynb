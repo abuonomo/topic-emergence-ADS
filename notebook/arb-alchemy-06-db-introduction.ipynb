{
 "cells": [
  {
   "cell_type": "markdown",
   "metadata": {},
   "source": [
    "# Using the ads_metadata.sqlite database"
   ]
  },
  {
   "cell_type": "markdown",
   "metadata": {},
   "source": [
    "The ads_metadata.sqlite database connects papers and their keywords. "
   ]
  },
  {
   "cell_type": "code",
   "execution_count": 1,
   "metadata": {},
   "outputs": [],
   "source": [
    "from sqlalchemy import Column, Integer, String, ForeignKey, Boolean, Float\n",
    "from sqlalchemy import create_engine, func\n",
    "from sqlalchemy.ext.declarative import declarative_base\n",
    "from sqlalchemy.orm import relationship\n",
    "from sqlalchemy.orm import sessionmaker"
   ]
  },
  {
   "cell_type": "markdown",
   "metadata": {},
   "source": [
    "Using the sqlalchemy commands depends on the table definitions in [../src/db.py](../src/db.py). We import these defintions here.\n",
    "You can see how these tables/objects are connected by looking at the for Paper, Keyword, and PaperKeywords classes in this file."
   ]
  },
  {
   "cell_type": "code",
   "execution_count": 9,
   "metadata": {},
   "outputs": [],
   "source": [
    "import sys\n",
    "sys.path.append('../src/')\n",
    "\n",
    "import db"
   ]
  },
  {
   "cell_type": "code",
   "execution_count": 2,
   "metadata": {},
   "outputs": [],
   "source": [
    "db_loc = \"../data/example_experiment/ads_metadata.sqlite\" # Fill with your ads_metadata.sqlite database"
   ]
  },
  {
   "cell_type": "code",
   "execution_count": 4,
   "metadata": {},
   "outputs": [],
   "source": [
    "engine = create_engine(f\"sqlite:///{db_loc}\")\n",
    "\n",
    "Session = sessionmaker(bind=engine)\n",
    "session = Session()"
   ]
  },
  {
   "cell_type": "code",
   "execution_count": 13,
   "metadata": {},
   "outputs": [
    {
     "data": {
      "text/plain": [
       "<Keyword(keyword=\"sky survey\")>"
      ]
     },
     "execution_count": 13,
     "metadata": {},
     "output_type": "execute_result"
    }
   ],
   "source": [
    "k = session.query(db.Keyword).first()\n",
    "k"
   ]
  },
  {
   "cell_type": "code",
   "execution_count": 48,
   "metadata": {},
   "outputs": [
    {
     "data": {
      "text/plain": [
       "<PaperKeywords(paper_id=\"1\", keyword.keyword=\"sky survey\")>"
      ]
     },
     "execution_count": 48,
     "metadata": {},
     "output_type": "execute_result"
    }
   ],
   "source": [
    "paper_keywords = k.papers # These are objects which associate papers with keywords, each contains the count\n",
    "pk = paper_keywords[0] # Here is an example\n",
    "pk"
   ]
  },
  {
   "cell_type": "code",
   "execution_count": 45,
   "metadata": {},
   "outputs": [
    {
     "data": {
      "text/plain": [
       "0.034075579281897264"
      ]
     },
     "execution_count": 45,
     "metadata": {},
     "output_type": "execute_result"
    }
   ],
   "source": [
    "pk.score # The PaperKeyword contains the SingleRank score for the given keyword in the given document"
   ]
  },
  {
   "cell_type": "code",
   "execution_count": 46,
   "metadata": {},
   "outputs": [
    {
     "data": {
      "text/plain": [
       "2"
      ]
     },
     "execution_count": 46,
     "metadata": {},
     "output_type": "execute_result"
    }
   ],
   "source": [
    "pk.count # It also contains the number of times this keyword occurs in the text"
   ]
  },
  {
   "cell_type": "code",
   "execution_count": 51,
   "metadata": {},
   "outputs": [],
   "source": [
    "p = pk.paper # You can also get the paper from the PaperKeywords object"
   ]
  },
  {
   "cell_type": "code",
   "execution_count": 52,
   "metadata": {},
   "outputs": [
    {
     "data": {
      "text/plain": [
       "'the wide-field infrared survey explorer ( wise ) : mission description and initial on-orbit performance . the all sky survey do by the palomar observatory schmidt , the european southern observatory schmidt , and the united kingdom schmidt , the infrared astronomical satellite , and the two micron all sky survey have prove to be extremely useful tool for astronomy with value that last for decade . the wide-field infrared survey explorer ( wise ) be map the whole sky follow -pron- launch on 2009 december 14 . wise begin survey the sky on 2010 january 14 and complete -pron- first full coverage of the sky on july 17 . the survey will continue to cover the sky a second time until the cryogen be exhaust ( anticipate in 2010 november ) . wise be achieve 5σ point source sensitivitie well than 0.08 , 0.11 , 1 , and 6 mjy in unconfused region on the ecliptic in band center at wavelength of 3.4 , 4.6 , 12 , and 22 μm . sensitivity improve toward the ecliptic pole due to denser coverage and low zodiacal background . the angular resolution be 6farcs1 , 6farcs4 , 6farcs5 , and 12farcs0 at 3.4 , 4.6 , 12 , and 22 μm , and the astrometric precision for high signal-to-noise source be well than 0farcs15 .'"
      ]
     },
     "execution_count": 52,
     "metadata": {},
     "output_type": "execute_result"
    }
   ],
   "source": [
    "p.lemma_text # You then might want to look at the lemmatized text, for example"
   ]
  },
  {
   "cell_type": "code",
   "execution_count": null,
   "metadata": {},
   "outputs": [],
   "source": []
  }
 ],
 "metadata": {
  "kernelspec": {
   "display_name": "topic-emergence-ADS",
   "language": "python",
   "name": "topic-emergence-ads"
  },
  "language_info": {
   "codemirror_mode": {
    "name": "ipython",
    "version": 3
   },
   "file_extension": ".py",
   "mimetype": "text/x-python",
   "name": "python",
   "nbconvert_exporter": "python",
   "pygments_lexer": "ipython3",
   "version": "3.8.2"
  }
 },
 "nbformat": 4,
 "nbformat_minor": 4
}
