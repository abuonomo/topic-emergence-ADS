{
 "cells": [
  {
   "cell_type": "code",
   "execution_count": 77,
   "metadata": {},
   "outputs": [],
   "source": [
    "import sys\n",
    "sys.path.append('../src')\n",
    "\n",
    "from pathlib import Path\n",
    "\n",
    "import pandas as pd \n",
    "import gensim\n",
    "import tomotopy as tp\n",
    "from model import read_from_prepared_data"
   ]
  },
  {
   "cell_type": "code",
   "execution_count": 6,
   "metadata": {},
   "outputs": [],
   "source": [
    "in_dir = Path('../data/example_experiment/lda_prep_data/')"
   ]
  },
  {
   "cell_type": "code",
   "execution_count": 8,
   "metadata": {},
   "outputs": [
    {
     "name": "stderr",
     "output_type": "stream",
     "text": [
      "INFO:gensim.corpora.indexedcorpus:loaded corpus index from ../data/example_experiment/lda_prep_data/corpus.mm.index\n",
      "INFO:gensim.corpora._mmreader:initializing cython corpus reader from ../data/example_experiment/lda_prep_data/corpus.mm\n",
      "INFO:gensim.corpora._mmreader:accepted corpus with 6015 documents, 64 features, 14181 non-zero entries\n",
      "INFO:gensim.utils:loading Dictionary object from ../data/example_experiment/lda_prep_data/dct.mm\n",
      "INFO:gensim.utils:loaded ../data/example_experiment/lda_prep_data/dct.mm\n"
     ]
    }
   ],
   "source": [
    "corpus, dictionary, _, _ = read_from_prepared_data(in_dir)"
   ]
  },
  {
   "cell_type": "code",
   "execution_count": 72,
   "metadata": {},
   "outputs": [],
   "source": [
    "tc = tp.utils.Corpus()"
   ]
  },
  {
   "cell_type": "code",
   "execution_count": 73,
   "metadata": {},
   "outputs": [],
   "source": [
    "for doc in corpus:\n",
    "    term_lists = [[dictionary[t]] * int(n) for t, n in doc]\n",
    "    terms = [t for tl in term_lists for t in tl]\n",
    "    tc.add_doc(terms)"
   ]
  },
  {
   "cell_type": "code",
   "execution_count": 74,
   "metadata": {},
   "outputs": [],
   "source": [
    "hlda = tp.HLDAModel(corpus=tc)"
   ]
  },
  {
   "cell_type": "code",
   "execution_count": 75,
   "metadata": {},
   "outputs": [],
   "source": [
    "hlda.train()"
   ]
  },
  {
   "cell_type": "code",
   "execution_count": 76,
   "metadata": {},
   "outputs": [
    {
     "name": "stdout",
     "output_type": "stream",
     "text": [
      "<Basic Info>\n",
      "| HLDAModel (current version: 0.9.1)\n",
      "| 6015 docs, 21759 words\n",
      "| Total Vocabs: 64, Used Vocabs: 64\n",
      "| Entropy of words: -3.93525\n",
      "| Removed Vocabs: <NA>\n",
      "|\n",
      "<Training Info>\n",
      "| Iterations: 10, Burn-in steps: 0\n",
      "| Optimization Interval: 10\n",
      "| Log-likelihood per word: -4.54399\n",
      "|\n",
      "<Initial Parameters>\n",
      "| tw: TermWeight.ONE\n",
      "| min_cf: 0 (minimum collection frequency of words)\n",
      "| min_df: 0 (minimum document frequency of words)\n",
      "| rm_top: 0 (the number of top words to be removed)\n",
      "| depth: 2 (the maximum depth level of hierarchy between 2 ~ 32767)\n",
      "| alpha: 0.1 (hyperparameter of Dirichlet distribution for document-depth level)\n",
      "| eta: 0.01 (hyperparameter of Dirichlet distribution for topic-word)\n",
      "| gamma: 0.1 (concentration coeficient of Dirichlet Process)\n",
      "| seed: 4103804462 (random seed)\n",
      "| trained in version 0.9.1\n",
      "|\n",
      "<Parameters>\n",
      "| alpha (Dirichlet prior on the per-document depth level distributions)\n",
      "|  [0.09383806 0.12252749]\n",
      "| eta (Dirichlet prior on the per-topic word distribution)\n",
      "|  0.01\n",
      "| gamma (concentration coeficient of Dirichlet Process)\n",
      "|  0.1\n",
      "| Number of Topics: 58\n",
      "|\n",
      "<Topics>\n",
      "| #0 (8103) : magnetic field release code neutron star stellar mass\n",
      "|   #8 (3185) : stellar mass stellar population star-forming galaxy star formation rate z =\n",
      "|   #9 (512) : release sloan digital sky survey stellar parameter code galactic plane\n",
      "|   #10 (202) : stellar population early-type galaxy elliptical galaxy star formation history galaxy formation\n",
      "|   #11 (692) : neutron star magnetic field binary system gamma-ray burst massive star\n",
      "|   #12 (226) : massive star initial mass function galactic plane gamma-ray burst accretion rate\n",
      "|   #13 (85) : host star stellar parameter code planet formation theoretical model\n",
      "|   #14 (403) : molecular gas star formation rate molecular cloud z = stellar mass\n",
      "|   #15 (589) : magnetic field molecular cloud gamma-ray burst spiral galaxy galactic plane\n",
      "|   #16 (374) : active galactic nucleus supermassive black hole accretion rate accretion disk x-ray emission\n",
      "|   #17 (324) : gamma-ray burst neutron star magnetic field code release\n",
      "|   #18 (129) : galactic plane galactic disk molecular cloud release spectral energy distribution\n",
      "|   #19 (203) : dwarf galaxy cold dark matter galaxy formation stellar population star formation history\n",
      "|   #20 (238) : protoplanetary disk planet formation young star spectral energy distribution host star\n",
      "|   #21 (247) : sloan digital sky survey release z = hubble space telescope x-ray emission\n",
      "|   #22 (397) : code release cosmic microwave background stellar evolution standard model\n",
      "|   #23 (894) : dark energy cosmic microwave background cosmological constant type ia supernova hubble space telescope\n",
      "|   #24 (547) : z = stellar mass star-forming galaxy star formation rate massive galaxy\n",
      "|   #25 (62) : cosmic microwave background magnetic field release neutron star code\n",
      "|   #26 (86) : type ia supernova solar masse stellar population early-type galaxy binary system\n",
      "|   #27 (108) : elliptical galaxy spiral galaxy galaxy formation nearby galaxy stellar population\n",
      "|   #28 (319) : cosmological constant cosmic microwave background cold dark matter cosmological model standard model\n",
      "|   #29 (917) : stellar mass halo mass z = stellar masse massive galaxy\n",
      "|   #30 (78) : stellar wind massive star stellar parameter spectral energy distribution molecular gas\n",
      "|   #31 (31) : low-mass star initial mass function stellar wind young star magnetic field\n",
      "|   #32 (180) : mass loss massive star stellar wind stellar evolution gamma-ray burst\n",
      "|   #33 (75) : accretion disk binary system neutron star release code\n",
      "|   #34 (338) : molecular cloud magnetic field massive star molecular gas star formation rate\n",
      "|   #35 (109) : magnetic field spectral energy distribution accretion disk code large scale\n",
      "|   #36 (32) : x-ray emission young star stellar parameter neutron star code\n",
      "|   #37 (90) : mass distribution initial mass function molecular cloud stellar mass mass loss\n",
      "|   #38 (157) : mass loss stellar evolution massive star code stellar population\n",
      "|   #39 (59) : spiral galaxy star formation rate galaxy cluster galactic disk mass distribution\n",
      "|   #40 (201) : galaxy cluster z = magnetic field cosmological model massive galaxy\n",
      "|   #41 (39) : solar masse dwarf galaxy supermassive black hole mass loss massive star\n",
      "|   #42 (35) : z = mass loss total mass halo mass mass distribution\n",
      "|   #43 (46) : early-type galaxy massive galaxy molecular gas z = galaxy formation\n",
      "|   #44 (30) : planet formation young star stellar mass theoretical model code\n",
      "|   #45 (52) : early-type galaxy hubble space telescope halo mass space telescope science institute esa hubble space telescope\n",
      "|   #46 (114) : stellar mass halo mass sloan digital sky survey galaxy formation mass range\n",
      "|   #47 (79) : x-ray emission gamma-ray burst host galaxy standard model release\n",
      "|   #48 (59) : general relativity cosmological model molecular gas neutron star code\n",
      "|   #49 (17) : host galaxy gamma-ray burst space telescope science institute neutron star code\n",
      "|   #50 (29) : supermassive black hole general relativity binary system accretion disk code\n",
      "|   #51 (77) : stellar population stellar evolution release spectral energy distribution type ia supernova\n",
      "|   #52 (26) : solar masse massive star star-forming galaxy neutron star code\n",
      "|   #53 (291) : halo mass galaxy formation cold dark matter galaxy cluster large scale\n",
      "|   #54 (9) : mass range solar masse release neutron star code\n",
      "|   #55 (129) : z = release active galactic nucleus host galaxy mass range\n",
      "|   #56 (54) : z = solar masse stellar evolution massive star code\n",
      "|   #57 (27) : binary system theoretical model release neutron star code\n",
      "|   #58 (23) : accretion rate accretion disk release neutron star code\n",
      "|   #59 (318) : hubble space telescope esa hubble space telescope space telescope science institute stellar population host galaxy\n",
      "|   #60 (16) : elliptical galaxy supermassive black hole solar masse galaxy cluster massive galaxy\n",
      "|   #61 (28) : stellar parameter mass loss galactic disk galaxy evolution solar masse\n",
      "|   #62 (19) : code stellar mass massive galaxy neutron star release\n",
      "|   #63 (25) : sloan digital sky survey star formation history stellar parameter neutron star code\n",
      "|   #64 (25) : stellar mass stellar population stellar evolution neutron star code\n",
      "|\n",
      "\n"
     ]
    }
   ],
   "source": [
    "hlda.summary()"
   ]
  },
  {
   "cell_type": "code",
   "execution_count": null,
   "metadata": {},
   "outputs": [],
   "source": []
  }
 ],
 "metadata": {
  "kernelspec": {
   "display_name": "topic-emergence-ADS",
   "language": "python",
   "name": "topic-emergence-ads"
  },
  "language_info": {
   "codemirror_mode": {
    "name": "ipython",
    "version": 3
   },
   "file_extension": ".py",
   "mimetype": "text/x-python",
   "name": "python",
   "nbconvert_exporter": "python",
   "pygments_lexer": "ipython3",
   "version": "3.8.2"
  }
 },
 "nbformat": 4,
 "nbformat_minor": 4
}
