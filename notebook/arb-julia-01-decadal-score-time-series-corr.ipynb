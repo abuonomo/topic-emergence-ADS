{
 "cells": [
  {
   "cell_type": "code",
   "execution_count": 170,
   "metadata": {},
   "outputs": [],
   "source": [
    "using DataFrames\n",
    "using CSV\n",
    "using Statistics"
   ]
  },
  {
   "cell_type": "code",
   "execution_count": 172,
   "metadata": {},
   "outputs": [
    {
     "data": {
      "text/html": [
       "<table class=\"data-frame\"><thead><tr><th></th><th>characteristic</th><th>correlation</th></tr><tr><th></th><th>String</th><th>Float64</th></tr></thead><tbody><p>283 rows × 2 columns</p><tr><th>1</th><td>large_standard_deviation__r_0.35000000000000003</td><td>0.104372</td></tr><tr><th>2</th><td>kmeans_cluster</td><td>0.0964378</td></tr><tr><th>3</th><td>number_cwt_peaks__n_1</td><td>0.0725384</td></tr><tr><th>4</th><td>cwt_coefficients__widths_(2, 5, 10, 20)__coeff_8__w_2</td><td>0.0702235</td></tr><tr><th>5</th><td>change_quantiles__f_agg_\"mean\"__isabs_False__qh_0.6__ql_0.2</td><td>0.0675718</td></tr><tr><th>6</th><td>approximate_entropy__m_2__r_0.5</td><td>0.0670711</td></tr><tr><th>7</th><td>approximate_entropy__m_2__r_0.1</td><td>0.0658872</td></tr><tr><th>8</th><td>cwt_coefficients__widths_(2, 5, 10, 20)__coeff_7__w_2</td><td>0.065274</td></tr><tr><th>9</th><td>agg_linear_trend__f_agg_\"mean\"__chunk_len_5__attr_\"stderr\"</td><td>0.0597719</td></tr><tr><th>10</th><td>agg_linear_trend__f_agg_\"min\"__chunk_len_5__attr_\"stderr\"</td><td>0.0537784</td></tr><tr><th>11</th><td>cwt_coefficients__widths_(2, 5, 10, 20)__coeff_9__w_2</td><td>0.0508696</td></tr><tr><th>12</th><td>large_standard_deviation__r_0.30000000000000004</td><td>0.0504528</td></tr><tr><th>13</th><td>change_quantiles__f_agg_\"var\"__isabs_True__qh_0.4__ql_0.0</td><td>0.0497583</td></tr><tr><th>14</th><td>approximate_entropy__m_2__r_0.3</td><td>0.0492872</td></tr><tr><th>15</th><td>change_quantiles__f_agg_\"var\"__isabs_False__qh_0.4__ql_0.0</td><td>0.0461354</td></tr><tr><th>16</th><td>change_quantiles__f_agg_\"var\"__isabs_True__qh_1.0__ql_0.6</td><td>0.0434192</td></tr><tr><th>17</th><td>change_quantiles__f_agg_\"mean\"__isabs_False__qh_0.4__ql_0.2</td><td>0.0423074</td></tr><tr><th>18</th><td>change_quantiles__f_agg_\"mean\"__isabs_False__qh_0.8__ql_0.4</td><td>0.0419215</td></tr><tr><th>19</th><td>cwt_coefficients__widths_(2, 5, 10, 20)__coeff_6__w_2</td><td>0.040055</td></tr><tr><th>20</th><td>number_peaks__n_3</td><td>0.0385431</td></tr><tr><th>21</th><td>spkt_welch_density__coeff_2</td><td>0.0382225</td></tr><tr><th>22</th><td>change_quantiles__f_agg_\"var\"__isabs_False__qh_0.6__ql_0.0</td><td>0.0381954</td></tr><tr><th>23</th><td>change_quantiles__f_agg_\"var\"__isabs_True__qh_0.8__ql_0.2</td><td>0.0374979</td></tr><tr><th>24</th><td>change_quantiles__f_agg_\"var\"__isabs_True__qh_1.0__ql_0.4</td><td>0.0368205</td></tr><tr><th>25</th><td>fft_coefficient__coeff_4__attr_\"real\"</td><td>0.0365938</td></tr><tr><th>26</th><td>fft_coefficient__coeff_2__attr_\"real\"</td><td>0.0350087</td></tr><tr><th>27</th><td>change_quantiles__f_agg_\"mean\"__isabs_True__qh_0.6__ql_0.0</td><td>0.0328684</td></tr><tr><th>28</th><td>agg_linear_trend__f_agg_\"min\"__chunk_len_5__attr_\"intercept\"</td><td>0.0320472</td></tr><tr><th>29</th><td>linear_trend__attr_\"stderr\"</td><td>0.0317112</td></tr><tr><th>30</th><td>agg_linear_trend__f_agg_\"max\"__chunk_len_5__attr_\"stderr\"</td><td>0.0315594</td></tr><tr><th>&vellip;</th><td>&vellip;</td><td>&vellip;</td></tr></tbody></table>"
      ],
      "text/latex": [
       "\\begin{tabular}{r|cc}\n",
       "\t& characteristic & correlation\\\\\n",
       "\t\\hline\n",
       "\t& String & Float64\\\\\n",
       "\t\\hline\n",
       "\t1 & large\\_standard\\_deviation\\_\\_r\\_0.35000000000000003 & 0.104372 \\\\\n",
       "\t2 & kmeans\\_cluster & 0.0964378 \\\\\n",
       "\t3 & number\\_cwt\\_peaks\\_\\_n\\_1 & 0.0725384 \\\\\n",
       "\t4 & cwt\\_coefficients\\_\\_widths\\_(2, 5, 10, 20)\\_\\_coeff\\_8\\_\\_w\\_2 & 0.0702235 \\\\\n",
       "\t5 & change\\_quantiles\\_\\_f\\_agg\\_\"mean\"\\_\\_isabs\\_False\\_\\_qh\\_0.6\\_\\_ql\\_0.2 & 0.0675718 \\\\\n",
       "\t6 & approximate\\_entropy\\_\\_m\\_2\\_\\_r\\_0.5 & 0.0670711 \\\\\n",
       "\t7 & approximate\\_entropy\\_\\_m\\_2\\_\\_r\\_0.1 & 0.0658872 \\\\\n",
       "\t8 & cwt\\_coefficients\\_\\_widths\\_(2, 5, 10, 20)\\_\\_coeff\\_7\\_\\_w\\_2 & 0.065274 \\\\\n",
       "\t9 & agg\\_linear\\_trend\\_\\_f\\_agg\\_\"mean\"\\_\\_chunk\\_len\\_5\\_\\_attr\\_\"stderr\" & 0.0597719 \\\\\n",
       "\t10 & agg\\_linear\\_trend\\_\\_f\\_agg\\_\"min\"\\_\\_chunk\\_len\\_5\\_\\_attr\\_\"stderr\" & 0.0537784 \\\\\n",
       "\t11 & cwt\\_coefficients\\_\\_widths\\_(2, 5, 10, 20)\\_\\_coeff\\_9\\_\\_w\\_2 & 0.0508696 \\\\\n",
       "\t12 & large\\_standard\\_deviation\\_\\_r\\_0.30000000000000004 & 0.0504528 \\\\\n",
       "\t13 & change\\_quantiles\\_\\_f\\_agg\\_\"var\"\\_\\_isabs\\_True\\_\\_qh\\_0.4\\_\\_ql\\_0.0 & 0.0497583 \\\\\n",
       "\t14 & approximate\\_entropy\\_\\_m\\_2\\_\\_r\\_0.3 & 0.0492872 \\\\\n",
       "\t15 & change\\_quantiles\\_\\_f\\_agg\\_\"var\"\\_\\_isabs\\_False\\_\\_qh\\_0.4\\_\\_ql\\_0.0 & 0.0461354 \\\\\n",
       "\t16 & change\\_quantiles\\_\\_f\\_agg\\_\"var\"\\_\\_isabs\\_True\\_\\_qh\\_1.0\\_\\_ql\\_0.6 & 0.0434192 \\\\\n",
       "\t17 & change\\_quantiles\\_\\_f\\_agg\\_\"mean\"\\_\\_isabs\\_False\\_\\_qh\\_0.4\\_\\_ql\\_0.2 & 0.0423074 \\\\\n",
       "\t18 & change\\_quantiles\\_\\_f\\_agg\\_\"mean\"\\_\\_isabs\\_False\\_\\_qh\\_0.8\\_\\_ql\\_0.4 & 0.0419215 \\\\\n",
       "\t19 & cwt\\_coefficients\\_\\_widths\\_(2, 5, 10, 20)\\_\\_coeff\\_6\\_\\_w\\_2 & 0.040055 \\\\\n",
       "\t20 & number\\_peaks\\_\\_n\\_3 & 0.0385431 \\\\\n",
       "\t21 & spkt\\_welch\\_density\\_\\_coeff\\_2 & 0.0382225 \\\\\n",
       "\t22 & change\\_quantiles\\_\\_f\\_agg\\_\"var\"\\_\\_isabs\\_False\\_\\_qh\\_0.6\\_\\_ql\\_0.0 & 0.0381954 \\\\\n",
       "\t23 & change\\_quantiles\\_\\_f\\_agg\\_\"var\"\\_\\_isabs\\_True\\_\\_qh\\_0.8\\_\\_ql\\_0.2 & 0.0374979 \\\\\n",
       "\t24 & change\\_quantiles\\_\\_f\\_agg\\_\"var\"\\_\\_isabs\\_True\\_\\_qh\\_1.0\\_\\_ql\\_0.4 & 0.0368205 \\\\\n",
       "\t25 & fft\\_coefficient\\_\\_coeff\\_4\\_\\_attr\\_\"real\" & 0.0365938 \\\\\n",
       "\t26 & fft\\_coefficient\\_\\_coeff\\_2\\_\\_attr\\_\"real\" & 0.0350087 \\\\\n",
       "\t27 & change\\_quantiles\\_\\_f\\_agg\\_\"mean\"\\_\\_isabs\\_True\\_\\_qh\\_0.6\\_\\_ql\\_0.0 & 0.0328684 \\\\\n",
       "\t28 & agg\\_linear\\_trend\\_\\_f\\_agg\\_\"min\"\\_\\_chunk\\_len\\_5\\_\\_attr\\_\"intercept\" & 0.0320472 \\\\\n",
       "\t29 & linear\\_trend\\_\\_attr\\_\"stderr\" & 0.0317112 \\\\\n",
       "\t30 & agg\\_linear\\_trend\\_\\_f\\_agg\\_\"max\"\\_\\_chunk\\_len\\_5\\_\\_attr\\_\"stderr\" & 0.0315594 \\\\\n",
       "\t$\\dots$ & $\\dots$ & $\\dots$ \\\\\n",
       "\\end{tabular}\n"
      ],
      "text/plain": [
       "283×2 DataFrame. Omitted printing of 1 columns\n",
       "│ Row │ characteristic                                              │\n",
       "│     │ \u001b[90mString\u001b[39m                                                      │\n",
       "├─────┼─────────────────────────────────────────────────────────────┤\n",
       "│ 1   │ large_standard_deviation__r_0.35000000000000003             │\n",
       "│ 2   │ kmeans_cluster                                              │\n",
       "│ 3   │ number_cwt_peaks__n_1                                       │\n",
       "│ 4   │ cwt_coefficients__widths_(2, 5, 10, 20)__coeff_8__w_2       │\n",
       "│ 5   │ change_quantiles__f_agg_\"mean\"__isabs_False__qh_0.6__ql_0.2 │\n",
       "│ 6   │ approximate_entropy__m_2__r_0.5                             │\n",
       "│ 7   │ approximate_entropy__m_2__r_0.1                             │\n",
       "│ 8   │ cwt_coefficients__widths_(2, 5, 10, 20)__coeff_7__w_2       │\n",
       "│ 9   │ agg_linear_trend__f_agg_\"mean\"__chunk_len_5__attr_\"stderr\"  │\n",
       "│ 10  │ agg_linear_trend__f_agg_\"min\"__chunk_len_5__attr_\"stderr\"   │\n",
       "⋮\n",
       "│ 273 │ change_quantiles__f_agg_\"mean\"__isabs_True__qh_1.0__ql_0.6  │\n",
       "│ 274 │ agg_linear_trend__f_agg_\"var\"__chunk_len_10__attr_\"slope\"   │\n",
       "│ 275 │ symmetry_looking__r_0.05                                    │\n",
       "│ 276 │ ratio_beyond_r_sigma__r_2                                   │\n",
       "│ 277 │ change_quantiles__f_agg_\"mean\"__isabs_False__qh_1.0__ql_0.8 │\n",
       "│ 278 │ manifold_y                                                  │\n",
       "│ 279 │ change_quantiles__f_agg_\"mean\"__isabs_False__qh_0.2__ql_0.0 │\n",
       "│ 280 │ fft_coefficient__coeff_1__attr_\"real\"                       │\n",
       "│ 281 │ skewness                                                    │\n",
       "│ 282 │ agg_autocorrelation__f_agg_\"var\"__maxlag_40                 │\n",
       "│ 283 │ augmented_dickey_fuller__autolag_\"AIC\"__attr_\"usedlag\"      │"
      ]
     },
     "execution_count": 172,
     "metadata": {},
     "output_type": "execute_result"
    }
   ],
   "source": [
    "in_ts_file = \"../data/arb-1997to2010/topic_model425/time_series_characteristics.csv\"\n",
    "in_ds_file = \"../data/arb-1997to2010/topic_model425/topic_distributions_decadal2010_panel_reports_12_425_0.075.csv\"\n",
    "\n",
    "ts_df = DataFrame(CSV.File(in_ts_file))\n",
    "ds_df = DataFrame(CSV.File(in_ds_file))\n",
    "\n",
    "decadal_sums = [sum(ds_df[i]) for i in names(ds_df[2:end])]\n",
    "\n",
    "cors = []\n",
    "for col in eachcol(ts_df[3:end])\n",
    "    if eltype(col) <: Number\n",
    "        v = cor(decadal_sums, col)\n",
    "    else\n",
    "        v = NaN\n",
    "    end\n",
    "    t = eltype(col)\n",
    "    append!(cors, v)\n",
    "end\n",
    "\n",
    "cors = convert(Array{Float64,1}, cors)\n",
    "cc_df = DataFrame(characteristic=names(ts_df[3:end]), correlation=cors)\n",
    "scc_df = cc_df[.!isnan.(cc_df[2]), :]\n",
    "\n",
    "sort(scc_df, [:correlation], rev=true)"
   ]
  },
  {
   "cell_type": "code",
   "execution_count": null,
   "metadata": {},
   "outputs": [],
   "source": []
  }
 ],
 "metadata": {
  "kernelspec": {
   "display_name": "Julia 1.5.2",
   "language": "julia",
   "name": "julia-1.5"
  },
  "language_info": {
   "file_extension": ".jl",
   "mimetype": "application/julia",
   "name": "julia",
   "version": "1.5.2"
  }
 },
 "nbformat": 4,
 "nbformat_minor": 4
}
